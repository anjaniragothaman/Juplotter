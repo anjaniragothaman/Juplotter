{
 "cells": [
  {
   "cell_type": "markdown",
   "metadata": {},
   "source": [
    "## Graph creator for lab"
   ]
  },
  {
   "cell_type": "code",
   "execution_count": null,
   "metadata": {
    "collapsed": true,
    "scrolled": true
   },
   "outputs": [],
   "source": [
    "import os.path\n",
    "import numpy as np\n",
    "import pandas as pd\n",
    "from pandas.api.types import is_numeric_dtype\n",
    "from scipy.stats import spearmanr, pearsonr, mannwhitneyu, boxcox\n",
    "\n",
    "import seaborn as sns\n",
    "np.random.seed(sum(map(ord, \"aesthetics\")))\n",
    "\n",
    "import matplotlib.pyplot as plt\n",
    "%matplotlib inline\n",
    "\n",
    "from ipywidgets import interact, interactive, Output, HBox, VBox, Dropdown, SelectMultiple, Checkbox, Text\n",
    "import ipywidgets as widgets\n",
    "\n",
    "#===========================\n",
    "\n",
    "def get_filename():\n",
    "    while True:\n",
    "        try:\n",
    "            value = input('Enter filename: ')\n",
    "            file = os.getcwd() + '/' + value\n",
    "        except ValueError:\n",
    "            print('Sorry, not a valid entry')\n",
    "            continue\n",
    "        if (os.path.exists(file))== False: #file not present\n",
    "            print('Sorry, File not present in folder')\n",
    "            continue\n",
    "        else:\n",
    "            break\n",
    "    return value\n",
    "    \n",
    "#===========================\n",
    "\n",
    "def plot_hist(data, plot2, fname, save):\n",
    "    nrows, ncols = 1, len(plot2)\n",
    "    dx, dy = 1, 1\n",
    "    fs = plt.figaspect(float(dy * nrows) / float(dx * ncols))\n",
    "    fig, axes = plt.subplots(1, ncols, figsize=fs)\n",
    "    if (ncols > 1):\n",
    "        for i in range(ncols):\n",
    "            h = sns.distplot(data[plot2[i]],ax=axes[i]);\n",
    "    else:\n",
    "        h = sns.distplot(data[plot2[0]]);\n",
    "    fig.tight_layout()\n",
    "    if save:\n",
    "        fig.savefig(fname + '+histogram.pdf')\n",
    "    \n",
    "#===========================\n",
    "    \n",
    "def plot_graph(data, x, kind, fname, hue_by, save):\n",
    "    hue_len = len(data[hue_by].unique())\n",
    "    #if False and (kind=='violin' and hue_len==2):\n",
    "    if (kind=='violin' and hue_len==2):\n",
    "        g = sns.factorplot(x=x, y='value', hue=hue_by, col='Measure', size=5, aspect=1,\n",
    "                       kind=kind, data=data, sharey=False, split=True)\n",
    "    else:\n",
    "        g = sns.factorplot(x=x, y='value', hue=hue_by, col='Measure', size=5, aspect=1,\n",
    "                       kind=kind, data=data, sharey=False)\n",
    "    if save:\n",
    "        g.savefig(fname + '.pdf')\n",
    "\n",
    "#===========================\n",
    "\n",
    "def create_graph(plot_type, group_by, group, hue_by, plot2, stat_fn=None, save=False):\n",
    "    \n",
    "    n = len(plot2)\n",
    "    grp = len(group)\n",
    "    \n",
    "    data2 = data.dropna(subset=list(plot2))\n",
    "    num_subj = data2.shape[0]\n",
    "    num_subj_counts_per_grp = dict(data2[group_by].value_counts())\n",
    "    print('Number of subjects without NaN: ',num_subj)\n",
    "    \n",
    "    # Make figures folder in current directory of the script to save figures\n",
    "    current_dir = os.getcwd()\n",
    "    fig_dir = os.path.join(current_dir,r'Juplotter_figures')\n",
    "    if not os.path.exists(fig_dir): os.makedirs(fig_dir)\n",
    "    \n",
    "    #select data for the chosen Dx group\n",
    "    id_var = data2.select_dtypes(include=['category','object']).columns\n",
    "    if (grp > 1):\n",
    "        data_chosen_group = data2.loc[data[group_by].isin(group)]\n",
    "        print('Number of subjects after group selection: ', data_chosen_group.shape[0])\n",
    "        num_subj_counts_per_grp = dict(data_chosen_group[group_by].value_counts())\n",
    "        print('Number of subjects per group:\\n',num_subj_counts_per_grp)\n",
    "        hue_len = data_chosen_group[hue_by].unique()\n",
    "        print('Hue by: ', hue_len)\n",
    "        data_rearranged = pd.melt(data_chosen_group, id_vars=id_var, value_vars=plot2, var_name='Measure')\n",
    "        filename = fig_dir + os.sep + plot_type + '+' + 'N' + str(num_subj)+ '+' + '+'.join(map(str,plot2)) + \\\n",
    "        '+hueBy-' + hue_by + '+' + '_'.join(map(str,group))\n",
    "    else:\n",
    "        data_chosen_group = data2\n",
    "        num_subj_counts_per_grp = dict(data_chosen_group[group_by].value_counts())\n",
    "        print('Number of subjects per group:\\n',num_subj_counts_per_grp)\n",
    "        data_rearranged = pd.melt(data2, id_vars=id_var, value_vars=plot2, var_name='Measure')\n",
    "        hue_len = len(data_rearranged[hue_by].unique())\n",
    "        filename = fig_dir + os.sep + plot_type + '+' + 'N' + str(num_subj)+ '+' + '+'.join(map(str,plot2)) + \\\n",
    "        '+hueBy-' + hue_by\n",
    "    \n",
    "    #------------------------------\n",
    "        \n",
    "    if plot_type == 'swarmplot':\n",
    "        print('Grouping by: ', group_by, '| Plotting: ', plot2)\n",
    "        plot_hist(data_chosen_group, plot2, filename, save)\n",
    "        plot_graph(data_rearranged, group_by, 'swarm', filename, hue_by, save)\n",
    "        \n",
    "    #------------------------------\n",
    "        \n",
    "    elif plot_type == 'boxplot':\n",
    "        print('Grouping by: ', group_by, '| Plotting: ', plot2)\n",
    "        plot_hist(data_chosen_group, plot2, filename, save)\n",
    "        plot_graph(data_rearranged, group_by, 'box', filename, hue_by, save)\n",
    "        \n",
    "    #------------------------------\n",
    "        \n",
    "    elif plot_type == 'violinplot': # combines boxplot with kernel density estimation\n",
    "        print('Grouping by: ', group_by, '| Plotting: ', plot2)\n",
    "        plot_hist(data_chosen_group, plot2, filename, save)\n",
    "        plot_graph(data_rearranged, group_by, 'violin', filename, hue_by, save)\n",
    "        \n",
    "    #------------------------------\n",
    "            \n",
    "    elif plot_type == 'pairplot':\n",
    "        print('Grouping by: ', group_by, '| Plotting: ', plot2)\n",
    "        if (n == 1):\n",
    "            print('\\nPairplot makes sense with at least 2 variables')\n",
    "        else:\n",
    "            plot_hist(data_chosen_group, plot2, filename, save)\n",
    "            if grp > 1:\n",
    "                g = sns.pairplot(data_chosen_group, vars=plot2, hue=hue_by , diag_kind='kde', size=4, aspect=1); # pairplot\n",
    "            else:\n",
    "                g = sns.pairplot(data2, vars=plot2, hue=hue_by , diag_kind='kde', size=4, aspect=1); # pairplot\n",
    "            if save:\n",
    "                g.savefig(filename + '.pdf')\n",
    "                \n",
    "    #------------------------------\n",
    "    \n",
    "    elif plot_type == 'linearModel':\n",
    "        if (n == 1):\n",
    "            print('\\nlinear model requires at least 2 continuous variables')\n",
    "        else:\n",
    "            print('Grouping by: ', group_by, '| Plotting: ', plot2[0], ',', plot2[1])\n",
    "            plot_hist(data_chosen_group, plot2, filename, save)\n",
    "            if (grp > 1):\n",
    "                lm1 = sns.jointplot(x=plot2[0], y=plot2[1], data=data_chosen_group, kind='reg', annot_kws=dict(stat=stat_fn), size=6)    \n",
    "                lm2 = sns.pairplot(data_chosen_group, x_vars=plot2[0], y_vars=plot2[1], hue=hue_by, kind='reg', size=6, aspect=1)\n",
    "                lm3 = sns.lmplot(x=plot2[0], y=plot2[1],data=data_chosen_group,col=group_by, hue=hue_by, size=6)\n",
    "            else:\n",
    "                lm1 = sns.jointplot(x=plot2[0], y=plot2[1], data=data2, kind='reg', annot_kws=dict(stat=stat_fn), size=6)    \n",
    "                lm2 = sns.pairplot(data2, x_vars=plot2[0], y_vars=plot2[1], hue=hue_by, kind='reg', size=6, aspect=1)\n",
    "                lm3 = sns.lmplot(x=plot2[0], y=plot2[1],data=data2,col=group_by, hue=hue_by, size=6)\n",
    "\n",
    "            if save:\n",
    "                lm1.savefig(filename + '+stat-' + stat_fn +'+LM1.pdf')\n",
    "                lm2.savefig(filename + '+LM2.pdf')\n",
    "                lm3.savefig(filename + '+LM3.pdf')\n",
    "    else:\n",
    "        f\"Plot type {plot_type} is not an option\"\n"
   ]
  },
  {
   "cell_type": "code",
   "execution_count": null,
   "metadata": {},
   "outputs": [],
   "source": [
    "# main code starts from here\n",
    "\n",
    "# input your file name and sheet name here\n",
    "# Get input filename and sheet name from user\n",
    "input_data_file = 'Example_input_data.xlsx'\n",
    "sheet = 'Sheet1';\n",
    "#input_data_file = get_filename()\n",
    "#sheet = input('Enter excel sheet name: ')\n",
    "data = pd.read_excel(input_data_file,sheet_name=sheet,header=0)\n",
    "print('Input data shape: ', data.shape)\n",
    "#data = data.dropna() # missing data rows will be dropped\n",
    "\n",
    "if (is_numeric_dtype(data['Dx']) ):\n",
    "    dx = data['Dx'].unique()\n",
    "    names = [\"\" for x in range(len(dx))]\n",
    "    print('Current Dx column values: ', set(dx))\n",
    "    '''for i in dx: #check why the sequence changes\n",
    "        s='Diagnosis name for {}: '.format(dx[i])\n",
    "        print(s)\n",
    "        names[i] = input(' ')'''\n",
    "    names = input('Enter diagnosis names in ascending order of Dx without spaces\\n Eg: For{0, 1, 2} type DX1,Dx2,Dx3 : ' )\n",
    "    data[\"Dx_names\"] = data[\"Dx\"].astype(\"category\")\n",
    "    data[\"Dx_names\"].cat.categories = names.split(',')\n",
    "    data['Dx_names'] = data['Dx_names'].astype('object')\n",
    "\n",
    "data['Dx'] = data['Dx'].astype('object')\n",
    "print('Input data shape after dropping missing value rows and adding Dx_names column: ', data.shape)\n",
    "#data.Dx_names\n",
    "#data.dtypes"
   ]
  },
  {
   "cell_type": "markdown",
   "metadata": {},
   "source": [
    "### Interactive Plot"
   ]
  },
  {
   "cell_type": "code",
   "execution_count": null,
   "metadata": {
    "scrolled": false
   },
   "outputs": [],
   "source": [
    "# style to have long descriptions display properly\n",
    "style = {'description_width': 'initial'}\n",
    "\n",
    "# choose what to plot: x-axis\n",
    "# show only categorical columns\n",
    "gb = widgets.Dropdown(options=data.select_dtypes(include=['category','object']).columns,\n",
    "                      value=data.columns[-1],\n",
    "                      description='Group by:',\n",
    "                      disabled=False)\n",
    "\n",
    "# -------------------------------------------------------------------\n",
    "\n",
    "# choose what to distinguish: Hue by\n",
    "# show only categorical columns\n",
    "hb = widgets.Dropdown(options=data.select_dtypes(include=['category','object']).columns,\n",
    "                      value=data.columns[-1],\n",
    "                      description='Hue by:',\n",
    "                      disabled=False)\n",
    "\n",
    "# -------------------------------------------------------------------\n",
    "\n",
    "# choose plot type\n",
    "pt = widgets.ToggleButtons(options=['boxplot', 'swarmplot', 'violinplot', 'pairplot', 'linearModel'],\n",
    "                           value='boxplot',\n",
    "                           description='Plot type:',\n",
    "                           disabled=False)\n",
    "\n",
    "# -------------------------------------------------------------------\n",
    "\n",
    "# When the group_by variable is changes, update the groub_by values\n",
    "def on_change(change):\n",
    "    if change['type'] == 'change' and change['name'] == 'value':\n",
    "        #print(\"changed to %s\" % change['new'])\n",
    "        gb_val.options = data[change['new']].unique()\n",
    "gb.observe(on_change)\n",
    "\n",
    "# choose group\n",
    "gb_val = widgets.SelectMultiple(options=data[gb.value].unique(),\n",
    "                                #value=tuple(data[gb.value].unique()),\n",
    "                                description='Group:',\n",
    "                                disabled=False)\n",
    "\n",
    "# -------------------------------------------------------------------\n",
    "\n",
    "# choose what to plot: y-axis columns\n",
    "# show only float and int value columns\n",
    "cols = data.select_dtypes(exclude=['category','object']).columns\n",
    "p = widgets.SelectMultiple(options=cols,\n",
    "                            value=[cols[-1], cols[-2]],\n",
    "                            description='Plot:',\n",
    "                            disabled=False)\n",
    "\n",
    "# -------------------------------------------------------------------\n",
    "\n",
    "# save figures only on button click\n",
    "sf = widgets.ToggleButton(value=False, description=\"Save figure\")\n",
    "\n",
    "def on_change(change):\n",
    "    sf.value = False\n",
    "\n",
    "sf.observe(on_change)\n",
    "\n",
    "# -------------------------------------------------------------------\n",
    "\n",
    "stat_fn = widgets.RadioButtons(\n",
    "                options=['pearsonr', 'spearmanr', 'mannwhitneyu', 'boxcox'],\n",
    "                value='pearsonr',\n",
    "                description='Stats function for linear model:',\n",
    "                disabled=False,\n",
    "                style=style)\n",
    "\n",
    "# -------------------------------------------------------------------\n",
    "\n",
    "interactive_plot = interactive(create_graph, plot_type=pt, group_by=gb, \\\n",
    "                               group=gb_val, hue_by=hb, plot2=p, save=sf, stat_fn=stat_fn)\n",
    "\n",
    "# avoid flickering\n",
    "output = interactive_plot.children[-1]\n",
    "output.layout.height = '300dpi'\n",
    "interactive_plot"
   ]
  },
  {
   "cell_type": "code",
   "execution_count": null,
   "metadata": {
    "collapsed": true
   },
   "outputs": [],
   "source": []
  }
 ],
 "metadata": {
  "kernelspec": {
   "display_name": "Python 3",
   "language": "python",
   "name": "python3"
  },
  "language_info": {
   "codemirror_mode": {
    "name": "ipython",
    "version": 3
   },
   "file_extension": ".py",
   "mimetype": "text/x-python",
   "name": "python",
   "nbconvert_exporter": "python",
   "pygments_lexer": "ipython3",
   "version": "3.6.4"
  },
  "widgets": {
   "application/vnd.jupyter.widget-state+json": {
    "state": {
     "007dd5fc048f42ac9055c48912458d95": {
      "model_module": "@jupyter-widgets/controls",
      "model_module_version": "1.0.0",
      "model_name": "DescriptionStyleModel",
      "state": {
       "description_width": ""
      }
     },
     "00ae012350c5462fb5f0e84ae925fcdf": {
      "model_module": "@jupyter-widgets/controls",
      "model_module_version": "1.0.0",
      "model_name": "DropdownModel",
      "state": {
       "_options_labels": [
        "SubjID",
        "Dx",
        "Gait - Lower Limb - Gait Speed L (m/s) [mean]",
        "Gait - Lower Limb - Gait Speed R (m/s) [mean]",
        "GaitSpeed_LRmean_2minWalk",
        "GaitSpeed_LRstd_2minWalk",
        "Gait - Lower Limb - Stride Length L (m) [mean]",
        "Gait - Lower Limb - Stride Length R (m) [mean]",
        "StrideLength_LRmean_2minWalk",
        "StrideLength_LRstd_2minWalk",
        "Gait - Lower Limb - Double Support L (%GCT) [mean]",
        "Gait - Lower Limb - Double Support R (%GCT) [mean]",
        "DoubleSupportTime_LRmean_2minWalk",
        "DoubleSupportTime_LRstd_2minWalk",
        "Gait - Lower Limb - Foot Strike Angle L (degrees) [mean]",
        "Gait - Lower Limb - Foot Strike Angle R (degrees) [mean]",
        "FootStrikeAngle_LRmean_2minWalk",
        "FootStrikeAngle_LRstd_2minWalk",
        "Turn_Velocity_mean_2minWalk",
        "Steps_in_Turn_mean_2minWalk",
        "Gait - Lower Limb - Gait Speed L (m/s) [mean].1",
        "Gait - Lower Limb - Gait Speed R (m/s) [mean].1",
        "GaitSpeed_LRmean_1minDT",
        "GaitSpeed_LRstd_1minDT",
        "Gait - Lower Limb - Stride Length L (m) [mean].1",
        "Gait - Lower Limb - Stride Length R (m) [mean].1",
        "StrideLength_LRmean_1minDT",
        "StrideLength_LRstd_1minDT",
        "Gait - Lower Limb - Double Support L (%GCT) [mean].1",
        "Gait - Lower Limb - Double Support R (%GCT) [mean].1",
        "DoubleSupportTime_LRmean_1minDT",
        "DoubleSupportTime_LRstd_1minDT",
        "Gait - Lower Limb - Foot Strike Angle L (degrees) [mean].1",
        "Gait - Lower Limb - Foot Strike Angle R (degrees) [mean].1",
        "FootStrikeAngle_LRmean_1minDT",
        "FootStrikeAngle_LRstd_1minDT",
        "Turn_Velocity_mean_1minDT",
        "Steps_in_Turn_mean_1minDT",
        "GaitSpeed",
        "StrideLength",
        "DoubleSupportTime",
        "FootStrikeAngle",
        "TurnVelocity",
        "StepsInTurn",
        "Seated",
        "Longwalk",
        "Cog_DTC",
        "Dx_name"
       ],
       "description": "Group by:",
       "index": 47,
       "layout": "IPY_MODEL_90444afff0b344a2b11a6d0ad683066d",
       "style": "IPY_MODEL_ab3fe2d3bd3d4252a5b49605745698e8"
      }
     },
     "01a4f41af43e4181a500d1f3255e6f50": {
      "model_module": "@jupyter-widgets/base",
      "model_module_version": "1.0.0",
      "model_name": "LayoutModel",
      "state": {
       "height": "800dpi"
      }
     },
     "0282d426db39480c9ce9dbd383a0cbb1": {
      "model_module": "@jupyter-widgets/controls",
      "model_module_version": "1.0.0",
      "model_name": "DescriptionStyleModel",
      "state": {
       "description_width": ""
      }
     },
     "02e3cbc4d5cc42cb857571877b828cf6": {
      "model_module": "@jupyter-widgets/base",
      "model_module_version": "1.0.0",
      "model_name": "LayoutModel",
      "state": {}
     },
     "02ffecc9481143e1a9b2e936a3b7dc1b": {
      "model_module": "@jupyter-widgets/base",
      "model_module_version": "1.0.0",
      "model_name": "LayoutModel",
      "state": {}
     },
     "0382316e24b845e3be51412e750f5be5": {
      "model_module": "@jupyter-widgets/base",
      "model_module_version": "1.0.0",
      "model_name": "LayoutModel",
      "state": {}
     },
     "0461df71617c4a1aaabd9fb6eb301226": {
      "model_module": "@jupyter-widgets/controls",
      "model_module_version": "1.0.0",
      "model_name": "DropdownModel",
      "state": {
       "_options_labels": [
        "SubjID",
        "Dx",
        "Gait - Lower Limb - Gait Speed L (m/s) [mean]",
        "Gait - Lower Limb - Gait Speed R (m/s) [mean]",
        "GaitSpeed_LRmean_2minWalk",
        "GaitSpeed_LRstd_2minWalk",
        "Gait - Lower Limb - Stride Length L (m) [mean]",
        "Gait - Lower Limb - Stride Length R (m) [mean]",
        "StrideLength_LRmean_2minWalk",
        "StrideLength_LRstd_2minWalk",
        "Gait - Lower Limb - Double Support L (%GCT) [mean]",
        "Gait - Lower Limb - Double Support R (%GCT) [mean]",
        "DoubleSupportTime_LRmean_2minWalk",
        "DoubleSupportTime_LRstd_2minWalk",
        "Gait - Lower Limb - Foot Strike Angle L (degrees) [mean]",
        "Gait - Lower Limb - Foot Strike Angle R (degrees) [mean]",
        "FootStrikeAngle_LRmean_2minWalk",
        "FootStrikeAngle_LRstd_2minWalk",
        "Turn_Velocity_mean_2minWalk",
        "Steps_in_Turn_mean_2minWalk",
        "Gait - Lower Limb - Gait Speed L (m/s) [mean].1",
        "Gait - Lower Limb - Gait Speed R (m/s) [mean].1",
        "GaitSpeed_LRmean_1minDT",
        "GaitSpeed_LRstd_1minDT",
        "Gait - Lower Limb - Stride Length L (m) [mean].1",
        "Gait - Lower Limb - Stride Length R (m) [mean].1",
        "StrideLength_LRmean_1minDT",
        "StrideLength_LRstd_1minDT",
        "Gait - Lower Limb - Double Support L (%GCT) [mean].1",
        "Gait - Lower Limb - Double Support R (%GCT) [mean].1",
        "DoubleSupportTime_LRmean_1minDT",
        "DoubleSupportTime_LRstd_1minDT",
        "Gait - Lower Limb - Foot Strike Angle L (degrees) [mean].1",
        "Gait - Lower Limb - Foot Strike Angle R (degrees) [mean].1",
        "FootStrikeAngle_LRmean_1minDT",
        "FootStrikeAngle_LRstd_1minDT",
        "Turn_Velocity_mean_1minDT",
        "Steps_in_Turn_mean_1minDT",
        "GaitSpeed",
        "StrideLength",
        "DoubleSupportTime",
        "FootStrikeAngle",
        "TurnVelocity",
        "StepsInTurn",
        "Seated",
        "Longwalk",
        "Cog_DTC",
        "Dx_name"
       ],
       "description": "Group by:",
       "index": 47,
       "layout": "IPY_MODEL_33a04c2e700540a1891d63d971b7eae6",
       "style": "IPY_MODEL_67a20f83ab284f3d902c9d8c8e3d2c86"
      }
     },
     "063ecfc01a4940d4ad3b0e1bb7bd143f": {
      "model_module": "@jupyter-widgets/base",
      "model_module_version": "1.0.0",
      "model_name": "LayoutModel",
      "state": {}
     },
     "07470c2ecac84925b9fbbcdf45f28033": {
      "model_module": "@jupyter-widgets/base",
      "model_module_version": "1.0.0",
      "model_name": "LayoutModel",
      "state": {
       "height": "300dpi"
      }
     },
     "0888eddec24546cab6bcfca37e6228ce": {
      "model_module": "@jupyter-widgets/base",
      "model_module_version": "1.0.0",
      "model_name": "LayoutModel",
      "state": {}
     },
     "08e33e8d2fb34e3e853397ce9dfa7682": {
      "model_module": "@jupyter-widgets/base",
      "model_module_version": "1.0.0",
      "model_name": "LayoutModel",
      "state": {}
     },
     "0935e03769984393b21aeda69dfb95aa": {
      "model_module": "@jupyter-widgets/base",
      "model_module_version": "1.0.0",
      "model_name": "LayoutModel",
      "state": {}
     },
     "0a3bdf0002e54324bbb09436e14614cd": {
      "model_module": "@jupyter-widgets/base",
      "model_module_version": "1.0.0",
      "model_name": "LayoutModel",
      "state": {}
     },
     "0a53c103d264479583d171cb58c36420": {
      "model_module": "@jupyter-widgets/controls",
      "model_module_version": "1.0.0",
      "model_name": "SelectMultipleModel",
      "state": {
       "_options_labels": [
        "SubjID",
        "Dx",
        "Gait - Lower Limb - Gait Speed L (m/s) [mean]",
        "Gait - Lower Limb - Gait Speed R (m/s) [mean]",
        "GaitSpeed_LRmean_2minWalk",
        "GaitSpeed_LRstd_2minWalk",
        "Gait - Lower Limb - Stride Length L (m) [mean]",
        "Gait - Lower Limb - Stride Length R (m) [mean]",
        "StrideLength_LRmean_2minWalk",
        "StrideLength_LRstd_2minWalk",
        "Gait - Lower Limb - Double Support L (%GCT) [mean]",
        "Gait - Lower Limb - Double Support R (%GCT) [mean]",
        "DoubleSupportTime_LRmean_2minWalk",
        "DoubleSupportTime_LRstd_2minWalk",
        "Gait - Lower Limb - Foot Strike Angle L (degrees) [mean]",
        "Gait - Lower Limb - Foot Strike Angle R (degrees) [mean]",
        "FootStrikeAngle_LRmean_2minWalk",
        "FootStrikeAngle_LRstd_2minWalk",
        "Turn_Velocity_mean_2minWalk",
        "Steps_in_Turn_mean_2minWalk",
        "Gait - Lower Limb - Gait Speed L (m/s) [mean].1",
        "Gait - Lower Limb - Gait Speed R (m/s) [mean].1",
        "GaitSpeed_LRmean_1minDT",
        "GaitSpeed_LRstd_1minDT",
        "Gait - Lower Limb - Stride Length L (m) [mean].1",
        "Gait - Lower Limb - Stride Length R (m) [mean].1",
        "StrideLength_LRmean_1minDT",
        "StrideLength_LRstd_1minDT",
        "Gait - Lower Limb - Double Support L (%GCT) [mean].1",
        "Gait - Lower Limb - Double Support R (%GCT) [mean].1",
        "DoubleSupportTime_LRmean_1minDT",
        "DoubleSupportTime_LRstd_1minDT",
        "Gait - Lower Limb - Foot Strike Angle L (degrees) [mean].1",
        "Gait - Lower Limb - Foot Strike Angle R (degrees) [mean].1",
        "FootStrikeAngle_LRmean_1minDT",
        "FootStrikeAngle_LRstd_1minDT",
        "Turn_Velocity_mean_1minDT",
        "Steps_in_Turn_mean_1minDT",
        "GaitSpeed",
        "StrideLength",
        "DoubleSupportTime",
        "FootStrikeAngle",
        "TurnVelocity",
        "StepsInTurn",
        "Seated",
        "Longwalk",
        "Cog_DTC",
        "Dx_name"
       ],
       "description": "Plot:",
       "index": [
        46,
        45
       ],
       "layout": "IPY_MODEL_d6d4274e368949aabb67eea0cb45ebbc",
       "rows": 5,
       "style": "IPY_MODEL_eb97c05f092d458fb0bf70d53d24fdf0"
      }
     },
     "0c89047f90b64a3786ccadd3c27a654f": {
      "model_module": "@jupyter-widgets/base",
      "model_module_version": "1.0.0",
      "model_name": "LayoutModel",
      "state": {}
     },
     "0d2ac8788a9947d4b0881150df6b3224": {
      "model_module": "@jupyter-widgets/controls",
      "model_module_version": "1.0.0",
      "model_name": "ToggleButtonsStyleModel",
      "state": {
       "_model_module": "@jupyter-widgets/controls",
       "button_width": ""
      }
     },
     "0df194c16b4044ad816f3b5e8b62a8ac": {
      "model_module": "@jupyter-widgets/base",
      "model_module_version": "1.0.0",
      "model_name": "LayoutModel",
      "state": {}
     },
     "0e66965572bb467fb47cf09c847f28da": {
      "model_module": "@jupyter-widgets/controls",
      "model_module_version": "1.0.0",
      "model_name": "ToggleButtonsModel",
      "state": {
       "_options_labels": [
        "boxplot",
        "swarmplot",
        "violinplot",
        "pairplot",
        "linear model"
       ],
       "button_style": "",
       "description": "Plot type:",
       "icons": [],
       "index": 0,
       "layout": "IPY_MODEL_72a50efdd97c472fa62eecf6c88c8c4e",
       "style": "IPY_MODEL_4eb4715398f64c26b0ae09b4131b9f8d",
       "tooltips": []
      }
     },
     "0ead637cbd2746798c860d766479347f": {
      "model_module": "@jupyter-widgets/base",
      "model_module_version": "1.0.0",
      "model_name": "LayoutModel",
      "state": {}
     },
     "0f4f726346f3426780169cca083ab6c3": {
      "model_module": "@jupyter-widgets/controls",
      "model_module_version": "1.0.0",
      "model_name": "SelectMultipleModel",
      "state": {
       "_options_labels": [
        "SubjID",
        "Dx",
        "Gait - Lower Limb - Gait Speed L (m/s) [mean]",
        "Gait - Lower Limb - Gait Speed R (m/s) [mean]",
        "GaitSpeed_LRmean_2minWalk",
        "GaitSpeed_LRstd_2minWalk",
        "Gait - Lower Limb - Stride Length L (m) [mean]",
        "Gait - Lower Limb - Stride Length R (m) [mean]",
        "StrideLength_LRmean_2minWalk",
        "StrideLength_LRstd_2minWalk",
        "Gait - Lower Limb - Double Support L (%GCT) [mean]",
        "Gait - Lower Limb - Double Support R (%GCT) [mean]",
        "DoubleSupportTime_LRmean_2minWalk",
        "DoubleSupportTime_LRstd_2minWalk",
        "Gait - Lower Limb - Foot Strike Angle L (degrees) [mean]",
        "Gait - Lower Limb - Foot Strike Angle R (degrees) [mean]",
        "FootStrikeAngle_LRmean_2minWalk",
        "FootStrikeAngle_LRstd_2minWalk",
        "Turn_Velocity_mean_2minWalk",
        "Steps_in_Turn_mean_2minWalk",
        "Gait - Lower Limb - Gait Speed L (m/s) [mean].1",
        "Gait - Lower Limb - Gait Speed R (m/s) [mean].1",
        "GaitSpeed_LRmean_1minDT",
        "GaitSpeed_LRstd_1minDT",
        "Gait - Lower Limb - Stride Length L (m) [mean].1",
        "Gait - Lower Limb - Stride Length R (m) [mean].1",
        "StrideLength_LRmean_1minDT",
        "StrideLength_LRstd_1minDT",
        "Gait - Lower Limb - Double Support L (%GCT) [mean].1",
        "Gait - Lower Limb - Double Support R (%GCT) [mean].1",
        "DoubleSupportTime_LRmean_1minDT",
        "DoubleSupportTime_LRstd_1minDT",
        "Gait - Lower Limb - Foot Strike Angle L (degrees) [mean].1",
        "Gait - Lower Limb - Foot Strike Angle R (degrees) [mean].1",
        "FootStrikeAngle_LRmean_1minDT",
        "FootStrikeAngle_LRstd_1minDT",
        "Turn_Velocity_mean_1minDT",
        "Steps_in_Turn_mean_1minDT",
        "GaitSpeed",
        "StrideLength",
        "DoubleSupportTime",
        "FootStrikeAngle",
        "TurnVelocity",
        "StepsInTurn",
        "Seated",
        "Longwalk",
        "Cog_DTC",
        "Dx_name"
       ],
       "description": "Plot:",
       "index": [
        46,
        45
       ],
       "layout": "IPY_MODEL_aaae874d9f774022922c7f237f3d920e",
       "rows": 5,
       "style": "IPY_MODEL_1fce754a573a4d18916f29af400fb10f"
      }
     },
     "11072339fc004ccf84bdf5ae6fb3c141": {
      "model_module": "@jupyter-widgets/controls",
      "model_module_version": "1.0.0",
      "model_name": "VBoxModel",
      "state": {
       "_dom_classes": [
        "widget-interact"
       ],
       "children": [
        "IPY_MODEL_ecc363f759854b53a1c20f369f4009d1",
        "IPY_MODEL_eca000a92683405d8ea329f91d05fddb",
        "IPY_MODEL_87bb6ec6ce204ff9afae36e0b27077eb",
        "IPY_MODEL_0a53c103d264479583d171cb58c36420",
        "IPY_MODEL_f3055ad2474442df98ff4fe22750959d"
       ],
       "layout": "IPY_MODEL_393abcd404ad4f228780896f2eb7b445"
      }
     },
     "124afef7c72a4776bf687575f5764daf": {
      "model_module": "@jupyter-widgets/controls",
      "model_module_version": "1.0.0",
      "model_name": "DescriptionStyleModel",
      "state": {
       "description_width": ""
      }
     },
     "1283d49bff844f26ae7508abcd7b4675": {
      "model_module": "@jupyter-widgets/base",
      "model_module_version": "1.0.0",
      "model_name": "LayoutModel",
      "state": {}
     },
     "13d65717b3c14a8e8dd55e2e9def3235": {
      "model_module": "@jupyter-widgets/base",
      "model_module_version": "1.0.0",
      "model_name": "LayoutModel",
      "state": {
       "height": "300dpi"
      }
     },
     "17250d7f7c2f40dab2f2b46b673b5830": {
      "model_module": "@jupyter-widgets/controls",
      "model_module_version": "1.0.0",
      "model_name": "SelectMultipleModel",
      "state": {
       "_options_labels": [
        "PD",
        "FGD",
        "Control"
       ],
       "description": "Select:",
       "index": [],
       "layout": "IPY_MODEL_f5058266bcc84b1d9b83baa459b27cc3",
       "rows": 5,
       "style": "IPY_MODEL_0282d426db39480c9ce9dbd383a0cbb1"
      }
     },
     "1789194ee9d147aab762c8d09bfdc455": {
      "model_module": "@jupyter-widgets/base",
      "model_module_version": "1.0.0",
      "model_name": "LayoutModel",
      "state": {}
     },
     "181b0115a3a84ccc8c62b0602d1cefc5": {
      "model_module": "@jupyter-widgets/output",
      "model_module_version": "1.0.0",
      "model_name": "OutputModel",
      "state": {
       "layout": "IPY_MODEL_82a737624fe74328a62e5c3982b7d29a",
       "outputs": [
        {
         "name": "stdout",
         "output_type": "stream",
         "text": "{'Longwalk', 'Cog_DTC'}\n"
        },
        {
         "ename": "NameError",
         "evalue": "name 'group' is not defined",
         "output_type": "error",
         "traceback": [
          "\u001b[0;31m---------------------------------------------------------------------------\u001b[0m",
          "\u001b[0;31mNameError\u001b[0m                                 Traceback (most recent call last)",
          "\u001b[0;32m~/anaconda3/lib/python3.6/site-packages/ipywidgets/widgets/interaction.py\u001b[0m in \u001b[0;36mupdate\u001b[0;34m(self, *args)\u001b[0m\n\u001b[1;32m    248\u001b[0m                     \u001b[0mvalue\u001b[0m \u001b[0;34m=\u001b[0m \u001b[0mwidget\u001b[0m\u001b[0;34m.\u001b[0m\u001b[0mget_interact_value\u001b[0m\u001b[0;34m(\u001b[0m\u001b[0;34m)\u001b[0m\u001b[0;34m\u001b[0m\u001b[0m\n\u001b[1;32m    249\u001b[0m                     \u001b[0mself\u001b[0m\u001b[0;34m.\u001b[0m\u001b[0mkwargs\u001b[0m\u001b[0;34m[\u001b[0m\u001b[0mwidget\u001b[0m\u001b[0;34m.\u001b[0m\u001b[0m_kwarg\u001b[0m\u001b[0;34m]\u001b[0m \u001b[0;34m=\u001b[0m \u001b[0mvalue\u001b[0m\u001b[0;34m\u001b[0m\u001b[0m\n\u001b[0;32m--> 250\u001b[0;31m                 \u001b[0mself\u001b[0m\u001b[0;34m.\u001b[0m\u001b[0mresult\u001b[0m \u001b[0;34m=\u001b[0m \u001b[0mself\u001b[0m\u001b[0;34m.\u001b[0m\u001b[0mf\u001b[0m\u001b[0;34m(\u001b[0m\u001b[0;34m**\u001b[0m\u001b[0mself\u001b[0m\u001b[0;34m.\u001b[0m\u001b[0mkwargs\u001b[0m\u001b[0;34m)\u001b[0m\u001b[0;34m\u001b[0m\u001b[0m\n\u001b[0m\u001b[1;32m    251\u001b[0m                 \u001b[0mshow_inline_matplotlib_plots\u001b[0m\u001b[0;34m(\u001b[0m\u001b[0;34m)\u001b[0m\u001b[0;34m\u001b[0m\u001b[0m\n\u001b[1;32m    252\u001b[0m                 \u001b[0;32mif\u001b[0m \u001b[0mself\u001b[0m\u001b[0;34m.\u001b[0m\u001b[0mauto_display\u001b[0m \u001b[0;32mand\u001b[0m \u001b[0mself\u001b[0m\u001b[0;34m.\u001b[0m\u001b[0mresult\u001b[0m \u001b[0;32mis\u001b[0m \u001b[0;32mnot\u001b[0m \u001b[0;32mNone\u001b[0m\u001b[0;34m:\u001b[0m\u001b[0;34m\u001b[0m\u001b[0m\n",
          "\u001b[0;32m<ipython-input-62-a63970576052>\u001b[0m in \u001b[0;36mcreate_graph\u001b[0;34m(plot_type, group_by, plot2)\u001b[0m\n\u001b[1;32m      3\u001b[0m     \u001b[0mdata_rearranged\u001b[0m \u001b[0;34m=\u001b[0m \u001b[0mpd\u001b[0m\u001b[0;34m.\u001b[0m\u001b[0mmelt\u001b[0m\u001b[0;34m(\u001b[0m\u001b[0mdata\u001b[0m\u001b[0;34m,\u001b[0m \u001b[0mid_vars\u001b[0m\u001b[0;34m=\u001b[0m\u001b[0;34m[\u001b[0m\u001b[0;34m'SubjID'\u001b[0m\u001b[0;34m,\u001b[0m\u001b[0;34m'Dx'\u001b[0m\u001b[0;34m,\u001b[0m\u001b[0;34m'Dx_name'\u001b[0m\u001b[0;34m]\u001b[0m\u001b[0;34m,\u001b[0m \u001b[0mvalue_vars\u001b[0m\u001b[0;34m=\u001b[0m\u001b[0mplot2\u001b[0m\u001b[0;34m,\u001b[0m \u001b[0mvar_name\u001b[0m\u001b[0;34m=\u001b[0m\u001b[0;34m'Measure'\u001b[0m\u001b[0;34m)\u001b[0m\u001b[0;34m\u001b[0m\u001b[0m\n\u001b[1;32m      4\u001b[0m     \u001b[0mprint\u001b[0m\u001b[0;34m(\u001b[0m\u001b[0mset\u001b[0m\u001b[0;34m(\u001b[0m\u001b[0mdata_rearranged\u001b[0m\u001b[0;34m.\u001b[0m\u001b[0mMeasure\u001b[0m\u001b[0;34m)\u001b[0m\u001b[0;34m)\u001b[0m\u001b[0;34m\u001b[0m\u001b[0m\n\u001b[0;32m----> 5\u001b[0;31m     \u001b[0mprint\u001b[0m\u001b[0;34m(\u001b[0m\u001b[0mgroup\u001b[0m\u001b[0;34m)\u001b[0m\u001b[0;34m\u001b[0m\u001b[0m\n\u001b[0m\u001b[1;32m      6\u001b[0m     \u001b[0mprint\u001b[0m\u001b[0;34m(\u001b[0m\u001b[0mgroup_by\u001b[0m\u001b[0;34m)\u001b[0m\u001b[0;34m\u001b[0m\u001b[0m\n\u001b[1;32m      7\u001b[0m \u001b[0;34m\u001b[0m\u001b[0m\n",
          "\u001b[0;31mNameError\u001b[0m: name 'group' is not defined"
         ]
        }
       ]
      }
     },
     "187b113e123845619a1d701c46e565cd": {
      "model_module": "@jupyter-widgets/base",
      "model_module_version": "1.0.0",
      "model_name": "LayoutModel",
      "state": {
       "height": "800dpi"
      }
     },
     "192d46e847e242b6b4eafe173c5dddd4": {
      "model_module": "@jupyter-widgets/base",
      "model_module_version": "1.0.0",
      "model_name": "LayoutModel",
      "state": {}
     },
     "1af1b9f993374c24951a28be96bf2b67": {
      "model_module": "@jupyter-widgets/base",
      "model_module_version": "1.0.0",
      "model_name": "LayoutModel",
      "state": {}
     },
     "1b1d49f8c2bb492dad94daa1c6c41fbd": {
      "model_module": "@jupyter-widgets/controls",
      "model_module_version": "1.0.0",
      "model_name": "SelectMultipleModel",
      "state": {
       "_options_labels": [
        "SubjID",
        "Dx",
        "Gait - Lower Limb - Gait Speed L (m/s) [mean]",
        "Gait - Lower Limb - Gait Speed R (m/s) [mean]",
        "GaitSpeed_LRmean_2minWalk",
        "GaitSpeed_LRstd_2minWalk",
        "Gait - Lower Limb - Stride Length L (m) [mean]",
        "Gait - Lower Limb - Stride Length R (m) [mean]",
        "StrideLength_LRmean_2minWalk",
        "StrideLength_LRstd_2minWalk",
        "Gait - Lower Limb - Double Support L (%GCT) [mean]",
        "Gait - Lower Limb - Double Support R (%GCT) [mean]",
        "DoubleSupportTime_LRmean_2minWalk",
        "DoubleSupportTime_LRstd_2minWalk",
        "Gait - Lower Limb - Foot Strike Angle L (degrees) [mean]",
        "Gait - Lower Limb - Foot Strike Angle R (degrees) [mean]",
        "FootStrikeAngle_LRmean_2minWalk",
        "FootStrikeAngle_LRstd_2minWalk",
        "Turn_Velocity_mean_2minWalk",
        "Steps_in_Turn_mean_2minWalk",
        "Gait - Lower Limb - Gait Speed L (m/s) [mean].1",
        "Gait - Lower Limb - Gait Speed R (m/s) [mean].1",
        "GaitSpeed_LRmean_1minDT",
        "GaitSpeed_LRstd_1minDT",
        "Gait - Lower Limb - Stride Length L (m) [mean].1",
        "Gait - Lower Limb - Stride Length R (m) [mean].1",
        "StrideLength_LRmean_1minDT",
        "StrideLength_LRstd_1minDT",
        "Gait - Lower Limb - Double Support L (%GCT) [mean].1",
        "Gait - Lower Limb - Double Support R (%GCT) [mean].1",
        "DoubleSupportTime_LRmean_1minDT",
        "DoubleSupportTime_LRstd_1minDT",
        "Gait - Lower Limb - Foot Strike Angle L (degrees) [mean].1",
        "Gait - Lower Limb - Foot Strike Angle R (degrees) [mean].1",
        "FootStrikeAngle_LRmean_1minDT",
        "FootStrikeAngle_LRstd_1minDT",
        "Turn_Velocity_mean_1minDT",
        "Steps_in_Turn_mean_1minDT",
        "GaitSpeed",
        "StrideLength",
        "DoubleSupportTime",
        "FootStrikeAngle",
        "TurnVelocity",
        "StepsInTurn",
        "Seated",
        "Longwalk",
        "Cog_DTC",
        "Dx_name"
       ],
       "description": "Plot:",
       "index": [
        46,
        45
       ],
       "layout": "IPY_MODEL_f541ccdfb7b74925a319a7d10bbe4f6b",
       "rows": 5,
       "style": "IPY_MODEL_af2d8f61f4bd464e9a4ac9cedf59080b"
      }
     },
     "1cec39ae135447bbbce54f14abfcfdef": {
      "model_module": "@jupyter-widgets/controls",
      "model_module_version": "1.0.0",
      "model_name": "DescriptionStyleModel",
      "state": {
       "description_width": ""
      }
     },
     "1d353f2533d349d8978b3575095575d3": {
      "model_module": "@jupyter-widgets/controls",
      "model_module_version": "1.0.0",
      "model_name": "SelectMultipleModel",
      "state": {
       "_options_labels": [
        "PD",
        "FGD",
        "Control"
       ],
       "description": "Select:",
       "index": [],
       "layout": "IPY_MODEL_6b7e8c4c13fe470a9d7a59ae7f1dcc19",
       "rows": 5,
       "style": "IPY_MODEL_3e6f059e787b48188e2a5d68a7e54e12"
      }
     },
     "1e02b7c2586140b0b17417957e3e302e": {
      "model_module": "@jupyter-widgets/base",
      "model_module_version": "1.0.0",
      "model_name": "LayoutModel",
      "state": {
       "height": "1200px"
      }
     },
     "1fce754a573a4d18916f29af400fb10f": {
      "model_module": "@jupyter-widgets/controls",
      "model_module_version": "1.0.0",
      "model_name": "DescriptionStyleModel",
      "state": {
       "description_width": ""
      }
     },
     "21382a5ff6864def9524880b1ee3e4cd": {
      "model_module": "@jupyter-widgets/base",
      "model_module_version": "1.0.0",
      "model_name": "LayoutModel",
      "state": {}
     },
     "227fb171f6a44fc6a13b3151b5a08dfa": {
      "model_module": "@jupyter-widgets/controls",
      "model_module_version": "1.0.0",
      "model_name": "DropdownModel",
      "state": {
       "_options_labels": [
        "SubjID",
        "Dx",
        "Gait - Lower Limb - Gait Speed L (m/s) [mean]",
        "Gait - Lower Limb - Gait Speed R (m/s) [mean]",
        "GaitSpeed_LRmean_2minWalk",
        "GaitSpeed_LRstd_2minWalk",
        "Gait - Lower Limb - Stride Length L (m) [mean]",
        "Gait - Lower Limb - Stride Length R (m) [mean]",
        "StrideLength_LRmean_2minWalk",
        "StrideLength_LRstd_2minWalk",
        "Gait - Lower Limb - Double Support L (%GCT) [mean]",
        "Gait - Lower Limb - Double Support R (%GCT) [mean]",
        "DoubleSupportTime_LRmean_2minWalk",
        "DoubleSupportTime_LRstd_2minWalk",
        "Gait - Lower Limb - Foot Strike Angle L (degrees) [mean]",
        "Gait - Lower Limb - Foot Strike Angle R (degrees) [mean]",
        "FootStrikeAngle_LRmean_2minWalk",
        "FootStrikeAngle_LRstd_2minWalk",
        "Turn_Velocity_mean_2minWalk",
        "Steps_in_Turn_mean_2minWalk",
        "Gait - Lower Limb - Gait Speed L (m/s) [mean].1",
        "Gait - Lower Limb - Gait Speed R (m/s) [mean].1",
        "GaitSpeed_LRmean_1minDT",
        "GaitSpeed_LRstd_1minDT",
        "Gait - Lower Limb - Stride Length L (m) [mean].1",
        "Gait - Lower Limb - Stride Length R (m) [mean].1",
        "StrideLength_LRmean_1minDT",
        "StrideLength_LRstd_1minDT",
        "Gait - Lower Limb - Double Support L (%GCT) [mean].1",
        "Gait - Lower Limb - Double Support R (%GCT) [mean].1",
        "DoubleSupportTime_LRmean_1minDT",
        "DoubleSupportTime_LRstd_1minDT",
        "Gait - Lower Limb - Foot Strike Angle L (degrees) [mean].1",
        "Gait - Lower Limb - Foot Strike Angle R (degrees) [mean].1",
        "FootStrikeAngle_LRmean_1minDT",
        "FootStrikeAngle_LRstd_1minDT",
        "Turn_Velocity_mean_1minDT",
        "Steps_in_Turn_mean_1minDT",
        "GaitSpeed",
        "StrideLength",
        "DoubleSupportTime",
        "FootStrikeAngle",
        "TurnVelocity",
        "StepsInTurn",
        "Seated",
        "Longwalk",
        "Cog_DTC",
        "Dx_name"
       ],
       "description": "Group by:",
       "index": 47,
       "layout": "IPY_MODEL_bd05e583d8b84993bac1769f0aa50f03",
       "style": "IPY_MODEL_e1ac2ff7579143148c227755ac3c8fdc"
      }
     },
     "2364ecf2b82f419b874ccb8c1341bb65": {
      "model_module": "@jupyter-widgets/output",
      "model_module_version": "1.0.0",
      "model_name": "OutputModel",
      "state": {
       "layout": "IPY_MODEL_badb33eb8fc64528a86005ea612bc8cf",
       "outputs": [
        {
         "name": "stdout",
         "output_type": "stream",
         "text": "{'Cog_DTC', 'StepsInTurn', 'Longwalk'}\n('PD', 'Control')\nGrouping by:  ('PD', 'Control') | Plotting:  ('StepsInTurn', 'Longwalk', 'Cog_DTC')\n"
        },
        {
         "ename": "NameError",
         "evalue": "name 'plot1' is not defined",
         "output_type": "error",
         "traceback": [
          "\u001b[0;31m---------------------------------------------------------------------------\u001b[0m",
          "\u001b[0;31mNameError\u001b[0m                                 Traceback (most recent call last)",
          "\u001b[0;32m~/anaconda3/lib/python3.6/site-packages/ipywidgets/widgets/interaction.py\u001b[0m in \u001b[0;36mupdate\u001b[0;34m(self, *args)\u001b[0m\n\u001b[1;32m    248\u001b[0m                     \u001b[0mvalue\u001b[0m \u001b[0;34m=\u001b[0m \u001b[0mwidget\u001b[0m\u001b[0;34m.\u001b[0m\u001b[0mget_interact_value\u001b[0m\u001b[0;34m(\u001b[0m\u001b[0;34m)\u001b[0m\u001b[0;34m\u001b[0m\u001b[0m\n\u001b[1;32m    249\u001b[0m                     \u001b[0mself\u001b[0m\u001b[0;34m.\u001b[0m\u001b[0mkwargs\u001b[0m\u001b[0;34m[\u001b[0m\u001b[0mwidget\u001b[0m\u001b[0;34m.\u001b[0m\u001b[0m_kwarg\u001b[0m\u001b[0;34m]\u001b[0m \u001b[0;34m=\u001b[0m \u001b[0mvalue\u001b[0m\u001b[0;34m\u001b[0m\u001b[0m\n\u001b[0;32m--> 250\u001b[0;31m                 \u001b[0mself\u001b[0m\u001b[0;34m.\u001b[0m\u001b[0mresult\u001b[0m \u001b[0;34m=\u001b[0m \u001b[0mself\u001b[0m\u001b[0;34m.\u001b[0m\u001b[0mf\u001b[0m\u001b[0;34m(\u001b[0m\u001b[0;34m**\u001b[0m\u001b[0mself\u001b[0m\u001b[0;34m.\u001b[0m\u001b[0mkwargs\u001b[0m\u001b[0;34m)\u001b[0m\u001b[0;34m\u001b[0m\u001b[0m\n\u001b[0m\u001b[1;32m    251\u001b[0m                 \u001b[0mshow_inline_matplotlib_plots\u001b[0m\u001b[0;34m(\u001b[0m\u001b[0;34m)\u001b[0m\u001b[0;34m\u001b[0m\u001b[0m\n\u001b[1;32m    252\u001b[0m                 \u001b[0;32mif\u001b[0m \u001b[0mself\u001b[0m\u001b[0;34m.\u001b[0m\u001b[0mauto_display\u001b[0m \u001b[0;32mand\u001b[0m \u001b[0mself\u001b[0m\u001b[0;34m.\u001b[0m\u001b[0mresult\u001b[0m \u001b[0;32mis\u001b[0m \u001b[0;32mnot\u001b[0m \u001b[0;32mNone\u001b[0m\u001b[0;34m:\u001b[0m\u001b[0;34m\u001b[0m\u001b[0m\n",
          "\u001b[0;32m<ipython-input-5-e09b50dbccaf>\u001b[0m in \u001b[0;36mcreate_graph\u001b[0;34m(plot_type, group_by, group, plot2)\u001b[0m\n\u001b[1;32m     25\u001b[0m         \u001b[0mplot_hist\u001b[0m\u001b[0;34m(\u001b[0m\u001b[0mplot2\u001b[0m\u001b[0;34m)\u001b[0m\u001b[0;34m\u001b[0m\u001b[0m\n\u001b[1;32m     26\u001b[0m         \u001b[0;32mif\u001b[0m \u001b[0;34m(\u001b[0m\u001b[0mlen\u001b[0m\u001b[0;34m(\u001b[0m\u001b[0mgroup_by\u001b[0m\u001b[0;34m)\u001b[0m \u001b[0;34m==\u001b[0m \u001b[0;36m2\u001b[0m\u001b[0;34m)\u001b[0m\u001b[0;34m:\u001b[0m \u001b[0;31m# hasn't been tested\u001b[0m\u001b[0;34m\u001b[0m\u001b[0m\n\u001b[0;32m---> 27\u001b[0;31m             \u001b[0msns\u001b[0m\u001b[0;34m.\u001b[0m\u001b[0mviolinplot\u001b[0m\u001b[0;34m(\u001b[0m\u001b[0mx\u001b[0m\u001b[0;34m=\u001b[0m\u001b[0mgroup_by\u001b[0m\u001b[0;34m,\u001b[0m\u001b[0my\u001b[0m\u001b[0;34m=\u001b[0m\u001b[0mplot1\u001b[0m\u001b[0;34m,\u001b[0m \u001b[0mhue\u001b[0m\u001b[0;34m=\u001b[0m\u001b[0mgroup_by\u001b[0m\u001b[0;34m,\u001b[0m \u001b[0mdata\u001b[0m\u001b[0;34m=\u001b[0m\u001b[0mdata\u001b[0m\u001b[0;34m,\u001b[0m \u001b[0msplit\u001b[0m\u001b[0;34m=\u001b[0m\u001b[0;32mTrue\u001b[0m\u001b[0;34m)\u001b[0m\u001b[0;34m\u001b[0m\u001b[0m\n\u001b[0m\u001b[1;32m     28\u001b[0m         \u001b[0;32melse\u001b[0m\u001b[0;34m:\u001b[0m\u001b[0;34m\u001b[0m\u001b[0m\n\u001b[1;32m     29\u001b[0m             \u001b[0mplot_graph\u001b[0m\u001b[0;34m(\u001b[0m\u001b[0mdata_rearranged\u001b[0m\u001b[0;34m,\u001b[0m \u001b[0mgroup_by\u001b[0m\u001b[0;34m,\u001b[0m \u001b[0;34m'violin'\u001b[0m\u001b[0;34m)\u001b[0m\u001b[0;34m\u001b[0m\u001b[0m\n",
          "\u001b[0;31mNameError\u001b[0m: name 'plot1' is not defined"
         ]
        }
       ]
      }
     },
     "23927778c86e4786ac144bfd54e4f8ac": {
      "model_module": "@jupyter-widgets/controls",
      "model_module_version": "1.0.0",
      "model_name": "ToggleButtonsModel",
      "state": {
       "_options_labels": [
        "boxplot",
        "swarmplot",
        "violinplot",
        "pairplot",
        "linear model"
       ],
       "button_style": "",
       "description": "Plot type:",
       "icons": [],
       "index": 0,
       "layout": "IPY_MODEL_884dd9fa76cc4da593c16746e9feee71",
       "style": "IPY_MODEL_8d928eeff943401b8afae37126c665e2",
       "tooltips": []
      }
     },
     "23b33fece37b44cb9e86a11786a4fb77": {
      "model_module": "@jupyter-widgets/controls",
      "model_module_version": "1.0.0",
      "model_name": "DropdownModel",
      "state": {
       "_options_labels": [
        "SubjID",
        "Dx",
        "Gait - Lower Limb - Gait Speed L (m/s) [mean]",
        "Gait - Lower Limb - Gait Speed R (m/s) [mean]",
        "GaitSpeed_LRmean_2minWalk",
        "GaitSpeed_LRstd_2minWalk",
        "Gait - Lower Limb - Stride Length L (m) [mean]",
        "Gait - Lower Limb - Stride Length R (m) [mean]",
        "StrideLength_LRmean_2minWalk",
        "StrideLength_LRstd_2minWalk",
        "Gait - Lower Limb - Double Support L (%GCT) [mean]",
        "Gait - Lower Limb - Double Support R (%GCT) [mean]",
        "DoubleSupportTime_LRmean_2minWalk",
        "DoubleSupportTime_LRstd_2minWalk",
        "Gait - Lower Limb - Foot Strike Angle L (degrees) [mean]",
        "Gait - Lower Limb - Foot Strike Angle R (degrees) [mean]",
        "FootStrikeAngle_LRmean_2minWalk",
        "FootStrikeAngle_LRstd_2minWalk",
        "Turn_Velocity_mean_2minWalk",
        "Steps_in_Turn_mean_2minWalk",
        "Gait - Lower Limb - Gait Speed L (m/s) [mean].1",
        "Gait - Lower Limb - Gait Speed R (m/s) [mean].1",
        "GaitSpeed_LRmean_1minDT",
        "GaitSpeed_LRstd_1minDT",
        "Gait - Lower Limb - Stride Length L (m) [mean].1",
        "Gait - Lower Limb - Stride Length R (m) [mean].1",
        "StrideLength_LRmean_1minDT",
        "StrideLength_LRstd_1minDT",
        "Gait - Lower Limb - Double Support L (%GCT) [mean].1",
        "Gait - Lower Limb - Double Support R (%GCT) [mean].1",
        "DoubleSupportTime_LRmean_1minDT",
        "DoubleSupportTime_LRstd_1minDT",
        "Gait - Lower Limb - Foot Strike Angle L (degrees) [mean].1",
        "Gait - Lower Limb - Foot Strike Angle R (degrees) [mean].1",
        "FootStrikeAngle_LRmean_1minDT",
        "FootStrikeAngle_LRstd_1minDT",
        "Turn_Velocity_mean_1minDT",
        "Steps_in_Turn_mean_1minDT",
        "GaitSpeed",
        "StrideLength",
        "DoubleSupportTime",
        "FootStrikeAngle",
        "TurnVelocity",
        "StepsInTurn",
        "Seated",
        "Longwalk",
        "Cog_DTC",
        "Dx_name"
       ],
       "description": "Group by:",
       "index": 47,
       "layout": "IPY_MODEL_9ce501c42aea4cd99dc548bb222a1d27",
       "style": "IPY_MODEL_85994bd1196043e287e66b84cd582c4e"
      }
     },
     "242ed4785c8443f5b579aaa42d81a64b": {
      "model_module": "@jupyter-widgets/controls",
      "model_module_version": "1.0.0",
      "model_name": "SelectMultipleModel",
      "state": {
       "_options_labels": [
        "SubjID",
        "Dx",
        "Gait - Lower Limb - Gait Speed L (m/s) [mean]",
        "Gait - Lower Limb - Gait Speed R (m/s) [mean]",
        "GaitSpeed_LRmean_2minWalk",
        "GaitSpeed_LRstd_2minWalk",
        "Gait - Lower Limb - Stride Length L (m) [mean]",
        "Gait - Lower Limb - Stride Length R (m) [mean]",
        "StrideLength_LRmean_2minWalk",
        "StrideLength_LRstd_2minWalk",
        "Gait - Lower Limb - Double Support L (%GCT) [mean]",
        "Gait - Lower Limb - Double Support R (%GCT) [mean]",
        "DoubleSupportTime_LRmean_2minWalk",
        "DoubleSupportTime_LRstd_2minWalk",
        "Gait - Lower Limb - Foot Strike Angle L (degrees) [mean]",
        "Gait - Lower Limb - Foot Strike Angle R (degrees) [mean]",
        "FootStrikeAngle_LRmean_2minWalk",
        "FootStrikeAngle_LRstd_2minWalk",
        "Turn_Velocity_mean_2minWalk",
        "Steps_in_Turn_mean_2minWalk",
        "Gait - Lower Limb - Gait Speed L (m/s) [mean].1",
        "Gait - Lower Limb - Gait Speed R (m/s) [mean].1",
        "GaitSpeed_LRmean_1minDT",
        "GaitSpeed_LRstd_1minDT",
        "Gait - Lower Limb - Stride Length L (m) [mean].1",
        "Gait - Lower Limb - Stride Length R (m) [mean].1",
        "StrideLength_LRmean_1minDT",
        "StrideLength_LRstd_1minDT",
        "Gait - Lower Limb - Double Support L (%GCT) [mean].1",
        "Gait - Lower Limb - Double Support R (%GCT) [mean].1",
        "DoubleSupportTime_LRmean_1minDT",
        "DoubleSupportTime_LRstd_1minDT",
        "Gait - Lower Limb - Foot Strike Angle L (degrees) [mean].1",
        "Gait - Lower Limb - Foot Strike Angle R (degrees) [mean].1",
        "FootStrikeAngle_LRmean_1minDT",
        "FootStrikeAngle_LRstd_1minDT",
        "Turn_Velocity_mean_1minDT",
        "Steps_in_Turn_mean_1minDT",
        "GaitSpeed",
        "StrideLength",
        "DoubleSupportTime",
        "FootStrikeAngle",
        "TurnVelocity",
        "StepsInTurn",
        "Seated",
        "Longwalk",
        "Cog_DTC",
        "Dx_name"
       ],
       "description": "Plot:",
       "index": [
        46,
        45
       ],
       "layout": "IPY_MODEL_063ecfc01a4940d4ad3b0e1bb7bd143f",
       "rows": 5,
       "style": "IPY_MODEL_4a2ae91a520d43dd9a4f02cbd2483f72"
      }
     },
     "24826e094db148d497eefeb002bd2a4a": {
      "model_module": "@jupyter-widgets/controls",
      "model_module_version": "1.0.0",
      "model_name": "DescriptionStyleModel",
      "state": {
       "description_width": ""
      }
     },
     "24d6e152191f4be58872d114e4a4bd73": {
      "model_module": "@jupyter-widgets/controls",
      "model_module_version": "1.0.0",
      "model_name": "DescriptionStyleModel",
      "state": {
       "description_width": ""
      }
     },
     "2501f02df54e48849c24024e3287fc6d": {
      "model_module": "@jupyter-widgets/controls",
      "model_module_version": "1.0.0",
      "model_name": "SelectMultipleModel",
      "state": {
       "_options_labels": [
        "PD",
        "FGD",
        "Control"
       ],
       "description": "Select:",
       "index": [],
       "layout": "IPY_MODEL_fb48cb62d6e94f268c4fe87e680c3d69",
       "rows": 5,
       "style": "IPY_MODEL_b917a9adc8e542319ff9922ef0827713"
      }
     },
     "2640b39a7f144b6fb2e981ad047abe41": {
      "model_module": "@jupyter-widgets/controls",
      "model_module_version": "1.0.0",
      "model_name": "SelectMultipleModel",
      "state": {
       "_options_labels": [
        "PD",
        "FGD",
        "Control"
       ],
       "description": "Select:",
       "index": [],
       "layout": "IPY_MODEL_bfb06cc4052941b7822f3ce64a3f7469",
       "rows": 5,
       "style": "IPY_MODEL_4b11e171776d4a44a1f998baf15f58a2"
      }
     },
     "26a0011b363940158e5b80e02687e52c": {
      "model_module": "@jupyter-widgets/controls",
      "model_module_version": "1.0.0",
      "model_name": "ToggleButtonsStyleModel",
      "state": {
       "_model_module": "@jupyter-widgets/controls",
       "button_width": ""
      }
     },
     "27b35f614dae4d1893cbc7c0a8c0e207": {
      "model_module": "@jupyter-widgets/base",
      "model_module_version": "1.0.0",
      "model_name": "LayoutModel",
      "state": {}
     },
     "28c983351a8b492fa4c2bf834af2ed79": {
      "model_module": "@jupyter-widgets/controls",
      "model_module_version": "1.0.0",
      "model_name": "ToggleButtonsStyleModel",
      "state": {
       "_model_module": "@jupyter-widgets/controls",
       "button_width": ""
      }
     },
     "2aaa938d8c364cbba6ed700f038faf49": {
      "model_module": "@jupyter-widgets/output",
      "model_module_version": "1.0.0",
      "model_name": "OutputModel",
      "state": {
       "layout": "IPY_MODEL_07470c2ecac84925b9fbbcdf45f28033",
       "outputs": [
        {
         "name": "stdout",
         "output_type": "stream",
         "text": "{'Longwalk', 'Cog_DTC'}\n()\nDx_name\nGrouping by:  Dx_name | Plotting:  ('Cog_DTC', 'Longwalk')\n"
        },
        {
         "data": {
          "image/png": "iVBORw0KGgoAAAANSUhEUgAAAjgAAAEYCAYAAABRMYxdAAAABHNCSVQICAgIfAhkiAAAAAlwSFlz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\nRU5ErkJggg==\n",
          "text/plain": "<matplotlib.figure.Figure at 0x1a12866278>"
         },
         "metadata": {},
         "output_type": "display_data"
        },
        {
         "data": {
          "image/png": "iVBORw0KGgoAAAANSUhEUgAAAsgAAAFgCAYAAACmDI9oAAAABHNCSVQICAgIfAhkiAAAAAlwSFlz\nAAALEgAACxIB0t1+/AAAADl0RVh0U29mdHdhcmUAbWF0cGxvdGxpYiB2ZXJzaW9uIDIuMS4yLCBo\ndHRwOi8vbWF0cGxvdGxpYi5vcmcvNQv5yAAAIABJREFUeJzt3X2YXWV56P/vnYliIOLLGCgdiBEn\nWlEUaKD4WpXEM1oFPcXjS48ZLZehHkxiWn8tYq9T21oPHnvUJNranEqZ+POI+FbBEwcTBN9+FYyA\nhDdlhAAZAsTxBTAxOJP798deA4swM9lJ9uy1Z+/v57r2NWs961nPvvfsmWfuefaznhWZiSRJkqSa\nWVUHIEmSJLUSE2RJkiSpxARZkiRJKjFBliRJkkpMkCVJkqQSE2RJkiSpxARZkqQZKCIyIj5T2p8d\nETsi4mtVxtVIEXFhRJxZdRx7i4gFEXFDsf32iPhE1TGpsUyQ1RSd0JEDRMR7I+KWiLghIn4UEUsb\n2Pbbi+/ZtRFxa0RcFhEvKo59MiKui4ibImJXsX3d+B+W6YxLUmV+DTwvIuYU+0uA4SoCiYjZVTyv\nNF1MkNUsbd+RR8SfUXtdp2Tm84CXAdHgp/l8Zp6YmQuB84EvR8RzMvOczDwBeA3w08w8oXh8sUlx\nSarG14E/KrbfAnxu/EBEHBYRF0TED4p/rM8oyhdExHci4priMf6P9lER8e3in+sbIuKlRfmDpTbP\njIgLi+0LI+KjEXEF8OHJnq/RouYjRYxbIuJNRfnLI+LKiPhiMSDw2YiI4thrirLvRsSa8cGZ4vwn\nF22OjA8eRMRnImLxZN+rKWL7o4j4j4h42nS8djWPCbKaqd078vOA/5aZ9wNk5q8yc6B4/tOK59lS\nPO8hRfmEnXY9MvMKYB2w7EDjkjTjXQS8OSKeADwfuKp07P3ANzPzZOAVwEci4jDgPmBJZp4EvAlY\nU9R/K3BZ8c/2C4Dr6nj+ZwGLM/Mvpni+h0XEE0ufcO39OK7O1/yfgfEYFxfPc1Rx7ETgPcBxwLHA\ni4vvzb8Ar87MlwDzSm19D3gx8FzgNuClRfmpwPeZ/Hv1GBHxBuBc4DWZ+bM6X4talB+JqJkuAv57\nkQQ+H7iARzqj8Y71TyPiycDVEbGJRzqn30TEQmpJ9SIe6cj/ISK6gEPreP7xjnwsIj400fNl5q/H\nK0fEE4HvTNLWWzPzpr3qPjEzf7p3xaJzvhA4LTN/EhHrgXdFxKeoddovy8zbI+Jze59bh2uAsyc7\nOFVckma+zLw+IhZQG3TYsNfhVwGnR8R7i/0nAPOBu4FPRMQJwBi1vhHgB8AFEfE44N8zs54E+QuZ\nObaP57u5FO8D1JLbg/ES4HPF894bEd8CTgbuB67OzG0AEXEdsAB4ELgtM28vzv8cjwwsfIfap2p3\nAP8MLIuIHuDnmflgRDyJib9Xe3sFtb9NrxofjNDMZoKspmnzjjyAnOTYs4HbM/Mnxf4AcA5wJZN3\n2vXa11SJqeKS1B4uAf4ReDnQXSoP4I8z88flyhHxAeBeaiOws4DfAGTmtyPiZdQ+6ftMRHwkM9fz\n6D7kCXs9969L2xM+317PXffAwxSm6vd2l7bHqOU5U9X/NrX+eD61gZo3AGeWYlzFBN+rCdxGbcT6\nWcDmqcPXTOAUCzXbeEe+92jpeMc6Pnd2fmbezKM7p0XA46HWkVP7r3+YWkc+ftHZ/nbkez/fIxX2\n46PAYsTg1xFx7ASvebLOuRHzgE+klNTvbR9xSWoPFwB/l5lb9iq/DFhemod7YlH+JGB7Zu4B3gZ0\nFcefDtyXmf8b+DRwUlH/3oh4TkTMopZATmay53tYZj5Q6nf3ftSTHEMtqX1TRHRFxDxqfwuunqL+\nLcCxxQAN1KZKjMdzF/A0YGFm3gZ8F3gvjyTIE36vJnAHtakf6yPiuXW+DrUwE2Q1Wzt35P8D+GRE\nHF60eXhELKPWOS+IiN6i3tuAbzFFp12PiPhDaiPO/3sfVSeLS1IbyMxtmbl6gkN/DzwOuD5qS5L9\nfVH+T0B/RHyf2ojn+ODBy4HrIuJa4I+B8TbPBb4GfBPYPkUokz3fwfqXiNhWPP4D+ApwPfCjIqa/\nzMx7Jjs5M3cB/w0YjIjvUht0+VWpylXA+Cd83wF6qCXKMPn3aqLn+THwJ8AXIuKZ+/8y1Uoi009f\nNf0i4sHMnLtX2cuB92bma6O2usXHgRdRG1ndWpQvBL4E7ASuAJZn5tyI6Af+H+C31OaXLS3m8Z4J\nfBi4C7gBmJuZby8u1vtaZn6xeO4Jn+8gX2MUMZ1VxPVb4H9l5v8bEadRGzmfTW16yLsyc3dEvA74\nCPAzaiMgR2bmn0zS/tuLusPU5lzfTu2fje+V6iwoXufz6onrYF6vJM0UETG3mFMcwCeBWzPzY1XH\npdZlgixVyE5bkqZfRKwC+qlN07sWeGdm7qw2KrUyE2SpQnbakiS1HhNkqcVExDuAlXsVfy8zz6ki\nHkmSOo0JsiRJklTSFusg9/X15eDgYNVhSFIjtcTtwO1fJbWZuvrWtljm7Wc/846OkjQd7F8ldaK2\nSJAlSZKkRjFBliRJkkpMkCVJkqQSE2RJkiSpxARZkiRJKjFBliRJkkpMkCVJkqQSE2RJkiSpxAT5\nIIyMjLBixQpGRkaqDkWS1GT+DZDalwnyQVi3bh3XX38969atqzoUSVKTDQwMsGXLFtavX191KJIa\nzAT5AI2MjLBx40YANm7c6AiCJHWQkZERBgcHyUwGBwf9GyC1GRPkA7Ru3Tr27NkDwJ49exxFlqQO\nMjAw8PDfgLGxMUeRpTZjgnyALr/88in3JUnta9OmTYyOjgIwOjr68CeKktqDCfIByswp9yVJ7Wvx\n4sXMnj0bgNmzZ7NkyZKKI5LUSCbIB+i000571P7ixYsrikSS1Gz9/f3MmlX7E9rV1cXSpUsrjkhS\nI5kgH6Czzz774c5x1qxZLFu2rOKIJEnN0t3dTV9fHxFBX18f3d3dVYckqYFMkA9Qd3f3w6PGS5Ys\nsXOUpA7T39/P8ccf7+ix1IZmVx3ATHb22Wdzzz33OHosSR2ou7ubNWvWVB2GpGlggnwQ7BwlSZLa\nj1MsJEmSpBITZEmSJKnEBFmSJEkqMUGWJEmSSkyQJUmSpBJXsdCMsnbtWoaGhvZZb3h4GICenp59\n1u3t7WX58uUHHZskSWoPJshqS7t27ao6BEmSNEOZIGtGqXekd+XKlQCsXr16OsORJEltyDnIktRm\nIuLZEXFd6XF/RLwnIp4aERsj4tbi61OqjlWSWpEJsiS1mcz8cWaekJknAL8P7AS+ApwLXJ6ZC4HL\ni31J0l5MkCWpvZ0G/DQz7wDOAAaK8gHg9ZVFJUktzARZktrbm4HPFdtHZuZ2gOLrEROdEBHLImJz\nRGzesWNHk8KUpNZhgixJbSoiHg+cDnxhf87LzHWZuSgzF82bN296gpOkFmaCLEnt69XANZl5b7F/\nb0QcBVB8va+yyCSphZkgS1L7eguPTK8AuAToL7b7ga82PSJJmgFMkCWpDUXEocAS4Mul4vOBJRFx\na3Hs/Cpik6RW541CJKkNZeZOoHuvshFqq1pIkqbgCLIkSZJUYoIsSZIklZggS5IkSSWVJcgRcUxE\nXBERN0fEjRGxsih/akRsjIhbi69PqSpGSZIkdZ4qR5BHgb/IzOcApwLnRMRxwLnA5Zm5ELi82Jck\nSZKaorIEOTO3Z+Y1xfYDwM1AD3AGMFBUGwBeX02EkiRJ6kQtMQc5IhYAJwJXAUdm5naoJdHAEZOc\nsywiNkfE5h07djQrVEmSJLW5yhPkiJgLfAl4T2beX+95mbkuMxdl5qJ58+ZNX4CSJEnqKJUmyBHx\nOGrJ8Wczc/xuT/dGxFHF8aOA+6qKT5IkSZ2nylUsAvg0cHNmfrR06BKgv9juB77a7NgkSZLUuaq8\n1fSLgbcBWyLiuqLsPOB84OKIOAu4E3hjRfFJkiSpA1WWIGfmd4GY5PBpzYxFkiRJGlflCHLLWrt2\nLUNDQ/usNzw8DEBPT88+6/b29rJ8+fKDjk2SJEnTywT5IOzatavqECRJktRgJsgTqHekd+XKlQCs\nXr16OsORJElSE1W+DrIkSZLUSkyQJUmSpBITZEmSJKnEBFmSJEkqMUGWJEmSSkyQJUmSpBITZEmS\nJKnEBFmSJEkqMUGWJEmSSkyQJUmSpBITZEmSJKnEBFmSJEkqMUGWJEmSSkyQJakNRcSTI+KLEXFL\nRNwcES+MiKdGxMaIuLX4+pSq45SkVjS76gAktYe1a9cyNDS0z3rDw8MA9PT01NVub28vy5cvP6jY\nOtRqYDAzz4yIxwOHAucBl2fm+RFxLnAu8FdVBilJrcgRZElNtWvXLnbt2lV1GG0tIg4HXgZ8GiAz\nH8rMXwJnAANFtQHg9dVEKEmtzRFkSQ1R7yjvypUrAVi9evV0htPpjgV2AP8WES8AfgisBI7MzO0A\nmbk9Io6Y6OSIWAYsA5g/f35zIpakFuIIsiS1n9nAScA/Z+aJwK+pTaeoS2auy8xFmblo3rx50xWj\nJLUsE2RJaj/bgG2ZeVWx/0VqCfO9EXEUQPH1vorik6SWZoIsSW0mM+8B7oqIZxdFpwE3AZcA/UVZ\nP/DVCsKTpJbnHGRJak/Lgc8WK1jcBryD2qDIxRFxFnAn8MYK45OklmWCLEltKDOvAxZNcOi0Zsci\nSTONCbJaQr1r6NZrvK3xFRMaxTV5JUlqfybIaglDQ0Ncd8PNjB361Ia0N+uhBOCHt93bkPYAunb+\nvGFtSZKk1mWCrJYxduhT2fV7r6k6jEnNuWVD1SFIkqQmcBULSZIkqcQEWZIkSSoxQZYkSZJKOmoO\n8kxYKcFVEiRJkqrVUQlyq6+U4CoJkiRJ1euoBBlae6UEV0mQJEmqnnOQJUmSpBITZEmSJKmkZRPk\niOiLiB9HxFBEnFt1PJIkSeoMLZkgR0QX8Eng1cBxwFsi4rhqo5IkSdLBGBkZYcWKFYyMjFQdypRa\n9SK9U4ChzLwNICIuAs4Abqo0KqkDzYTlEcElEiVpJhgYGGDLli2sX7+eVatWVR3OpFo1Qe4B7irt\nbwP+oFwhIpYBywDmz5/fvMikDtPqyyOCSyRK0kwwMjLC4OAgmcng4CBLly6lu7u76rAm1KoJckxQ\nlo/ayVwHrANYtGhRTlD/MYaHh+na+auWXU6ta+cIw8OjVYchPUYrL48ILpEoSTPBwMAAe/bsAWBs\nbKylR5Fbcg4ytRHjY0r7RwN3VxSLJEmSDtKmTZsYHa0NBI6OjrJx48aKI5pcq44g/wBYGBHPAIaB\nNwNvPdhGe3p6uGf37JYdCZtzywZ6eo6sOgxJkqSGW7x4MRs2bGB0dJTZs2ezZMmSqkOaVEuOIGfm\nKPBu4DLgZuDizLyx2qgkSZJ0oPr7+5k1q5Z6dnV1sXTp0oojmlyrjiCTmRsAJxZKkpqq3pVbhoeH\ngdqnk/viKisSdHd309fXx6WXXkpfX1/LXqAHLZwgq7O0+gWU4EWUkh5t165dVYcgzTj9/f1s3bq1\npUePwQRZkqRHqXekd3wt79WrV09nOFJb6e7uZs2aNVWHsU8myGoJrX4BJXgRpSRJnaIlL9KTJEmS\nqmKCLEmSJJU4xULSlLyAUpLUaRxBliRJkkocQZY0JS+glCR1GhNkSWpDEbEVeAAYA0Yzc1FEPBX4\nPLAA2Ar8l8z8RVUxSlKrcoqFJLWvV2TmCZm5qNg/F7g8MxcClxf7kqS9dNwIctfOnzfsYqNZv7kf\ngD1POLwh7XXt/Dngx8SSps0ZwMuL7QHgSuCvqgpGklpVRyXIvb29DW1vaOiBWrvHNiqpPbLhMUrq\nWAl8IyIS+JfMXAccmZnbATJze0QcMdGJEbEMWAYwf/78ZsUrSS2joxLkem8fWi9vM6pO0cqfvICf\nvkzixZl5d5EEb4yIW+o9sUim1wEsWrQopytASWpVHZUgS9p/rf/JC/jpy2Nl5t3F1/si4ivAKcC9\nEXFUMXp8FHBfpUFKUosyQZY0JT95mXki4jBgVmY+UGy/Cvg74BKgHzi/+PrV6qKUpNZlgixJ7edI\n4CsRAbV+/v9k5mBE/AC4OCLOAu4E3lhhjJLUskyQJanNZOZtwAsmKB8BTmt+RJI0s7gOsiRJklRi\ngixJkiSVmCBLkiRJJSbIkiRJUokJsiRJklRigixJkiSVmCBLkiRJJSbIkiRJUok3CpEkSdJBWbt2\nLUNDQ/usNzw8DEBPT88+6/b29rJ8+fKDju1AmCCrZXTt/DlzbtnQkLZm/eZ+APY84fCGtAe1+Gp3\n8JUkSQdi165dVYdQFxNktYTe3t6Gtjc09ECt3WMbmdAe2fA4JUlqB/WO9K5cuRKA1atXT2c4B80E\nWS2h0R+hzJRfQEmS1Hq8SE+SJEkqMUGWJEmSSkyQJUmSpBITZEmSJKnEi/QmUO9afuN1xi8Im0qV\na/lJkiSpfibIB2HOnDlVhyC1jOn4xxL851KS1HwmyBPwj7E0ffzHUpLU6kyQJTWE/1hKktpFJQly\nRHwEeB3wEPBT4B2Z+cvi2PuAs4AxYEVmXlZFjGpNzg+XJEnTrapVLDYCz8vM5wM/Ad4HEBHHAW8G\nngv0Af8UEV0VxagZbM6cOX6UL0mSDkglI8iZ+Y3S7veBM4vtM4CLMnM3cHtEDAGnAP/R5BDVohzp\nlSRJ060V1kH+U+DrxXYPcFfp2Lai7DEiYllEbI6IzTt27JjmECVJktQp9pkgR8SREfHpiPh6sX9c\nRJxVx3mbIuKGCR5nlOq8HxgFPjteNEFTOVH7mbkuMxdl5qJ58+btKxxJkiSpLvVMsbgQ+Dfg/cX+\nT4DPA5+e6qTMXDzV8YjoB14LnJaZ40nwNuCYUrWjgbvriFGSJElqiHqmWDwtMy8G9gBk5ii1FSYO\nWET0AX8FnJ6ZO0uHLgHeHBGHRMQzgIXA1QfzXJIkSdL+qCdB/nVEdFNMdYiIU4FfHeTzfgJ4IrAx\nIq6LiE8BZOaNwMXATcAgcE5mHlQyPp1GRkZYsWIFIyMjVYciSZKkBqknQf5zaiO7z4yI7wHrgYNa\nSiAzezPzmMw8oXj8WenYP2TmMzPz2Zn59anaqdrAwABbtmxh/fr1VYciSY8REV0RcW1EfK3Yf0ZE\nXBURt0bE5yPi8VXHKEmtaJ8JcmZeA/wh8CLgbOC5mXn9dAfW6kZGRhgcHCQzGRwcdBRZUitaCdxc\n2v8w8LHMXAj8gtpNmSRJe6lnFYulwFuB3wdOAt5SlHW0gYEB9uzZA8DY2JijyJJaSkQcDfwR8K/F\nfgCvBL5YVBkAXl9NdJLU2uqZYnFy6fFS4APA6dMY04ywadMmRkdHARgdHWXjxo0VRyRJj/Jx4C8p\nLrAGuoFfFhdag+vMS9Kk6plisbz0eCdwItDx89YWL17M7Nm1VfJmz57NkiVLKo5Imhm8uHX6RcRr\ngfsy84fl4gmqus68JE3gQO6kt5Pa8msdrb+/n1mzat++rq4uli7t+FknUl28uLUpXgycHhFbgYuo\nTa34OPDkiBhf/9515iVpEvXMQb40Ii4pHl8Dfgx8dfpDa23d3d286EUvAuCFL3wh3d3dFUcktT4v\nbm2OzHxfZh6dmQuANwPfzMw/Aa4Aziyq9WNfLkkTqudOev9Y2h4F7sjMbdMUz4wyNDT0qK+SpjYw\nMMDYWG1p89HRUdavX8+qVasqjqqj/BVwUUR8ELiWfdwRVZI6VT1zkL9VenzP5LhmaGiIbdtq34pt\n27aZJEt12LRp08MJ8tjYmBe3NkFmXpmZry22b8vMU4q16N+Ymburjk+SWtGkI8gR8QATX8ARQGbm\n4dMW1QzwwQ9+8DH7F154YTXBSDPES17yEr7xjW88vP/Sl760wmgkSfuydu3ahg4Cjre1cuXKhrXZ\n29vL8uUHdQ+7x5g0Qc7MJzb0mdrM1q1bp9yX9Fi1pXglSTPF0NAQt954LfPnjjWkvcf/tjZ5Yfcd\nmxvS3p0PdjWknb3VMwcZgIg4AnjC+H5m3jktEc0QCxYseFRSvGDBgspikWaK73znO4/Zf9/73ldR\nNJKkesyfO8Z5J91fdRgT+tA10zOhoZ5VLE6PiFuB24FvAVuBr09LNDPIX//1X0+5L+mxXD9ckjQT\n1LMO8t8DpwI/ycxnAKcB35vWqGaA3t5e5s6dC8DcuXPp7e2tOCKp9bl+uCRpJqgnQf5tZo4AsyJi\nVmZeAZwwzXG1vJGREXbvrl0Avnv3btdzlerQ3d1NX18fEUFfX5/rh0uSWlI9CfIvI2Iu8B3gsxGx\nmtp6yB1tYGCAzNoiH5npXcGkOp1++ukceuihvO51r6s6FEmSJlRPgvxt4MnASmAQ+CnQ8X/ZNm3a\nxOho7f+E0dFR13OV6nTJJZewc+dOLr300qpDkSRpQvUkyAFcBlwJzAU+X0y56GhebCTtP281LUma\nCeq5k97fZuZzgXOA3wW+FRGbpj2yFtff38+ePXsA2LNnjxcbSXUYGBh4+PdmbGzMqUmSpJZUzwjy\nuPuAe4AR4IjpCUdSO3NqkiRpJtjnjUIi4l3Am4B5wBeBd2bmTdMdWKsbGBh4+K5gEcH69etZtWpV\nxVFJrW3x4sVs2LCB0dFRpyap6Tr1lrntpN73cHh4GICenp591vV7ronUcye9pwPvyczrpjuYmWTT\npk2MjdVuuzg2NsbGjRtNkKV96O/vZ3BwEHAdZDVfp94ytxPt2rWr6hA0w+0zQc7Mc5sRyEzjSJi0\n/8bXQb700ktdB1mV6MRb5raTekd6x0f1V69ePZ3hqI3tzxxklXhHMOnA9Pf3c/zxx/s7I0lqWfVM\nsdAEHAmTDkx3dzdr1qypOgxJUh2Gh4f59QNdLfsJxx0PdHFYMee8kUyQD0J/fz9bt251JEySJKmN\nmCAfBEfCJElSO+vp6WH36PaWnrt/SB2rlewv5yBLkiRJJSbIkiRJUokJsiRJklRigixJkiSVmCBL\nkiRJJSbIkiRJUokJsiRJklRigixJkiSVmCBLkiRJJSbIkiRJUkmlCXJEvDciMiKeVuxHRKyJiKGI\nuD4iTqoyPkmaiSLiCRFxdUT8KCJujIi/LcqfERFXRcStEfH5iHh81bFKUiuqLEGOiGOAJcCdpeJX\nAwuLxzLgnysITZJmut3AKzPzBcAJQF9EnAp8GPhYZi4EfgGcVWGMktSyZlf43B8D/hL4aqnsDGB9\nZibw/Yh4ckQclZnbK4lQkmagog99sNh9XPFI4JXAW4vyAeADdNBAxPDwML9+oIsPXXN41aFM6I4H\nujhseLjqMKTHuPPBxv3e3LuzNjZ75KF7GtLenQ92sbAhLT1aJQlyRJwODGfmjyKifKgHuKu0v60o\ne0yCHBHLqI0yM3/+/OkLVpJmoIjoAn4I9AKfBH4K/DIzR4sq4/3rROfav0oCoLe3t6HtPTQ0BMAh\nT29MuwtpfIwwjQlyRGwCfmeCQ+8HzgNeNdFpE5TlRO1n5jpgHcCiRYsmrCNJnSozx4ATIuLJwFeA\n50xUbZJz27J/7enpYffods476f6qQ5nQh645nEN6JvyfRarM8uXLG9reypUrAVi9enVD2220aUuQ\nM3PxROURcTzwDGB89Pho4JqIOIXaiMYxpepHA3dPV4yS1O4y85cRcSVwKvDkiJhdjCLbv0rSJJp+\nkV5mbsnMIzJzQWYuoJYUn5SZ9wCXAEuL1SxOBX7l/GNJ2j8RMa8YOSYi5gCLgZuBK4Azi2r9PPoa\nEElSocqL9CayAXgNMATsBN5RbTiSNCMdBQwU85BnARdn5tci4ibgooj4IHAt8Okqg5SkVlV5glyM\nIo9vJ3BOddFI0syXmdcDJ05QfhtwSvMjkqSZxTvpSZIkSSUmyJIkSVKJCbIkSZJUYoIsSZIklZgg\nS5IkSSUmyJIkSVJJ5cu8SZKkzrZ27VqGhoYa1t54W+O3NW6E3t7eht92Wa3LBFmSJFVqaGiIW2+8\nlvlzxxrS3uN/W/uAfPcdmxvS3p0PdjWkHc0cJsiSJKly8+eOcd5J91cdxoQ+dM3hVYegJnMOsiRJ\nklRigixJkiSVOMVCkiRVanh4mF8/0NWyUxnueKCLw4aHqw5DTeQIsiRJklTiCLIkSapUT08Pu0e3\nt/RFeof09FQdhprIEWRJkiSpxARZkiRJKjFBliRJkkpMkCVJkqQSE2RJkiSpxFUsJEkd484HG7fW\n7r07a2NMRx66pyHt3flgFwsb0pKkg2WCLEnqCL29vQ1t76GhIQAOeXpj2l1I42OUdGBMkCVJHWH5\n8uUNbW/lypUArF69uqHtSqqeCbIkSZIOytq1axkqPlWZynid8X8wp9Lb29vwf2zrZYIsSZKkppgz\nZ07VIdTFBFmSJEkHpaqR3uniMm+SJElSiQmyJEmSVGKCLEmSJJWYIEtSm4mIYyLiioi4OSJujIiV\nRflTI2JjRNxafH1K1bFKUisyQZak9jMK/EVmPgc4FTgnIo4DzgUuz8yFwOXFviRpLybIktRmMnN7\nZl5TbD8A3Az0AGcAA0W1AeD11UQoSa3NBFmS2lhELABOBK4CjszM7VBLooEjJjlnWURsjojNO3bs\naFaoktQyTJAlqU1FxFzgS8B7MvP+es/LzHWZuSgzF82bN2/6ApSkFmWCLEltKCIeRy05/mxmfrko\nvjcijiqOHwXcV1V8ktTKTJAlqc1ERACfBm7OzI+WDl0C9Bfb/cBXmx2bJM0E3mpaktrPi4G3AVsi\n4rqi7DzgfODiiDgLuBN4Y0XxSVJLM0GWpDaTmd8FYpLDpzUzFkmaiSqbYhERyyPix8Ui9v+zVP6+\niBgqjv2nquKTJElSZ6pkBDkiXkFtPc7nZ+buiDiiKD8OeDPwXOB3gU0R8azMHKsiTkmSJHWeqkaQ\n3wWcn5m7ATJz/ErqM4CLMnN3Zt4ODAGnVBSjJEmSOlBVCfKzgJdGxFUR8a2IOLko7wHuKtXbVpQ9\nhgvZS5IkaTpM2xSLiNgE/M4Eh95fPO9TgFOBk6ldVX0sE19UkhO1n5nrgHUAixYtmrCOJEmStL+m\nLUHOzMWTHYuIdwFfzswEro6IPcDTqI0YH1OqejRw93TFKEmSJO2tqikW/w68EiAingU8HvgZtUXs\n3xwRh0TEM4CFwNUVxShJkqQIqhkrAAAM0klEQVQOVNU6yBcAF0TEDcBDQH8xmnxjRFwM3ASMAue4\ngoUkSZKaqZIEOTMfAv7rJMf+AfiH5kYkSZIk1VR2oxBJkiSpFZkgS5IkSSUmyJIkSVKJCbIkSZKa\nYmRkhBUrVjAyMlJ1KFMyQZYkSVJTDAwMsGXLFtavX191KFMyQZYkSdK0GxkZYXBwkMxkcHCwpUeR\nq1oHWZIk6WF3PtjFh645vCFt3buzNv535KF7GtLenQ92sbAhLXW2gYEB9uypvSdjY2OsX7+eVatW\nVRzVxEyQJUlSpXp7exva3kNDQwAc8vTGtLuQxsfYiTZt2sTo6CgAo6OjbNy40QRZkiRpIsuXL29o\neytXrgRg9erVDW1XB2fx4sVceumlZCYRwZIlS6oOaVLOQZYkSdK0O/3008lMADKT173udRVHNDlH\nkCVJKlm7di1DxUf0UxmvMz5aOZXe3t6Gj5JKM80ll1xCRDw8gnzppZe27BQLR5AlSToAc+bMYc6c\nOVWHIc0YmzZtetQI8saNGyuOaHKOIEuSVOJIrzQ9Fi9ezIYNGxgdHWX27NnOQZYkSVJn6+/vZ9as\nWurZ1dXF0qVLK45ocibIkiRJmnbd3d309fUREfT19dHd3V11SJNyioUkSZKaor+/n61bt7b06DGY\nIEuSJKlJuru7WbNmTdVh7JNTLCRJkqQSE2RJkiSpxARZktpMRFwQEfdFxA2lsqdGxMaIuLX4+pQq\nY5SkVmaCLEnt50Kgb6+yc4HLM3MhcHmxL0magAmyJLWZzPw28PO9is8ABortAeD1TQ1KkmYQE2RJ\n6gxHZuZ2gOLrEZNVjIhlEbE5Ijbv2LGjaQFKUqswQZYkPUpmrsvMRZm5aN68eVWHI0lNZ4IsSZ3h\n3og4CqD4el/F8UhSyzJBlqTOcAnQX2z3A1+tMBZJamkmyJLUZiLic8B/AM+OiG0RcRZwPrAkIm4F\nlhT7kqQJeKtpSWozmfmWSQ6d1tRAJGmGcgRZkiRJKjFBliRJkkpMkCVJkqQSE2RJkiSpxARZkiRJ\nKjFBliRJkkpMkCVJkqQSE2RJkiSppJIEOSJOiIjvR8R1EbE5Ik4pyiMi1kTEUERcHxEnVRGfJEmS\nOldVI8j/E/jbzDwB+O/FPsCrgYXFYxnwz9WEJ0mSpE5VVYKcwOHF9pOAu4vtM4D1WfN94MkRcVQV\nAUqSJKkzza7oed8DXBYR/0gtSX9RUd4D3FWqt60o2753AxGxjNooM/Pnz5/WYCVJktQ5pi1BjohN\nwO9McOj9wGnAqsz8UkT8F+DTwGIgJqifE7WfmeuAdQCLFi2asI4kSZK0v6YtQc7MxZMdi4j1wMpi\n9wvAvxbb24BjSlWP5pHpF5IkSdK0q2oO8t3AHxbbrwRuLbYvAZYWq1mcCvwqMx8zvUKSJEmaLlXN\nQX4nsDoiZgO/oZhLDGwAXgMMATuBd1QTniRJkjpVJSPImfndzPz9zHxBZv5BZv6wKM/MPCczn5mZ\nx2fm5iri08w3MjLCihUrGBkZqToUSZI0w3gnPbWlgYEBtmzZwvr166sORZIkzTAmyGo7IyMjDA4O\nkpkMDg46iixJkvZLVXOQpWkzMDDAnj17ABgbG2P9+vWsWrWq4qgkSQdr7dq1DA0N7bPeeJ2VK1fu\noyb09vayfPnyg45N7cURZLWdTZs2MTo6CsDo6CgbN26sOCJJUjPNmTOHOXPmVB2GZjBHkNV2Fi9e\nzIYNGxgdHWX27NksWbKk6pAkSQ3gSK+axRFktZ3+/n5mzar9aHd1dbF06dKKI5IkSTOJCbLaTnd3\nN319fUQEfX19dHd3Vx2SJEmaQZxiobbU39/P1q1bHT2WJEn7zQRZbam7u5s1a9ZUHYYkSZqBnGIh\nSZIklZggS1IHiYi+iPhxRAxFxLlVxyNJrcgEWZI6RER0AZ8EXg0cB7wlIo6rNipJaj0myJLUOU4B\nhjLztsx8CLgIOKPimCSp5ZggS1Ln6AHuKu1vK8okSSUmyJLUOWKCsnxMpYhlEbE5Ijbv2LGjCWFJ\nUmsxQZakzrENOKa0fzRw996VMnNdZi7KzEXz5s1rWnCS1Coi8zGDBzNOROwA7qg6jgZ6GvCzqoPQ\nhHxvWle7vTc/y8y+RjYYEbOBnwCnAcPAD4C3ZuaNU5zTTv1ru/2MtBPfm9bWTu9PXX1rW9woJDPb\naogjIjZn5qKq49Bj+d60Lt+bfcvM0Yh4N3AZ0AVcMFVyXJzTNv2rPyOty/emtXXi+9MWCbIkqT6Z\nuQHYUHUcktTKnIMsSZIklZggt6Z1VQegSfnetC7fG+2LPyOty/emtXXc+9MWF+lJkiRJjeIIsiRJ\nklRigixJkiSVmCBXKCLGIuK6iLghIr4QEYfuVX5jRPwoIv48InyvplHpez7+WFCUnxIRV0bErRFx\nTUT834g4vjj2gYgYLurfGhFfjojjqnwdM1lE/E5EXBQRP42ImyJiQ0Q86wDaec/479J+nndlRHTU\nMkbtyr61tdi/Vsu+9cDYMVRrV2aekJnPAx4C/myv8ucCS4DXAH9TVZAdYvx7Pv7YGhFHAhcD52Xm\nwsw8CfgfwDNL532sqL8Q+DzwzYhom3VjmyUiAvgKcGVmPjMzjwPOA448gObeA0zYiUdE14FHqRnE\nvrW12L9WxL71wJkgt47vAL17F2bmfcAy4N3FD7qa593AQGb+f+MFmfndzPz3iSpn5ueBbwBvbVJ8\n7eQVwG8z81PjBZl5HfDdiPhIMRK4JSLeBBARLy9GJb4YEbdExGejZgXwu8AVEXFFUffBiPi7iLgK\neGFEnBYR1xbtXRARh1TwetU89q2tyf61OexbD5AJcguI2u1fXw1smeh4Zt5G7b06oplxdZg5pY//\nvlKUPRe4Zj/buQb4vcaG1hGeB/xwgvL/DJwAvABYDHwkIo4qjp1IbUTjOOBY4MWZuQa4G3hFZr6i\nqHcYcENm/gGwGbgQeFNmHk/tZknvmpZXpMrZt7YM+9fq2LceIBPkas2JiOuo/WDdCXx6irqOcEyv\n8keAb5ioQkRcFRE3R8TqKdrxfWqslwCfy8yxzLwX+BZwcnHs6szclpl7gOuABZO0MQZ8qdh+NnB7\nZv6k2B8AXjYtkatK9q2txf619di37oO3mq7Wrsw8YV+VIuJYaj+I901/SCq5ETgJ+CpAZv5BRJwJ\nvHaKc06k9kdZ++dG4MwJyqf6g7i7tD3G5P3ZbzJzrI721D7sW1uf/Wtz2LceIEeQW1xxQcKngE+k\nd3Vptk8Cb4+IF5XKJr2CNyL+GHgV8LnpDqwNfRM4JCLeOV4QEScDvwDeFBFdxe/Cy4Cr99HWA8AT\nJzl2C7AgIsbnpL6N2siJOox9a+XsX5vDvvUAOYLcmsY/HnwcMAp8BvhotSF1nsy8p7hw4cMR0UNt\nlOlnwN+Vqq2KiP9KMRcLeGVm7mh+tDNbZmZEvAH4eEScC/wG2EptHtxc4EdAAn9ZvC9TzUNcB3w9\nIraX5sqNP89vIuIdwBeK+ak/oJYkqTPYt7YI+9fmsG89cN5qWpIkSSpxioUkSZJUYoIsSZIklZgg\nS5IkSSUmyJIkSVKJCbIkSZJUYoIsSZIklbgOstpSRIwBW3hkvdMB4OPFrTMlSQfAvlWdwgRZ7erh\nW81GxBHA/wGeBPxNpVFJ0sxm36qO4BQLtb3MvA9YBrw7av48Ii4AiIjjI+KGiJjwFqcR8YGIuCAi\nroyI2yJiRenYv0fEDyPixohYVip/MCI+XBzbFBGnlM4/vajTFREfiYgfRMT1EXH29H4XJKmx7FvV\nzkyQ1REy8zZqP+9HAB8Heovbb/4bcHZm7pzi9N8D/hNwCvA3EfG4ovxPM/P3gUXAiojoLsoPA64s\njj0AfBBYAryBR26jehbwq8w8GTgZeGdEPKMxr1aSmsO+Ve3KKRbqJAGQmXsi4u3A9cC/ZOb39nHe\n/83M3cDuiLgPOBLYRq3jfkNR5xhgITACPAQMFuVbgN2Z+duI2AIsKMpfBTw/Is4s9p9UnH/7wb1E\nSWo6+1a1HRNkdYSIOBYYA+4rihYCDwK/W8fpu0vbY8DsiHg5sBh4YWbujIgrgScUdX6bmVls7xk/\nv/jjMf47F8DyzLzswF6RJFXPvlXtyikWansRMQ/4FPCJzMyIeBKwGngZ0F0aadgfTwJ+UXTgvwec\nup/nXwa8a/wjxYh4VkQcdgBxSFIl7FvVzhxBVruaExHX8chSRJ8BPloc+xjwT5n5k4g4C7giIr5d\nXHBSr0HgzyLieuDHwPf3M75/pfaR4DUREcAO4PX72YYkNZt9qzpCPPJphSRJkiSnWEiSJEklTrGQ\ngIh4B7Byr+LvZeY5VcQjSe3AvlUzlVMsJEmSpBKnWEiSJEklJsiSJElSiQmyJEmSVGKCLEmSJJX8\n/9dGKkrb2AkfAAAAAElFTkSuQmCC\n",
          "text/plain": "<matplotlib.figure.Figure at 0x1a132bb128>"
         },
         "metadata": {},
         "output_type": "display_data"
        }
       ]
      }
     },
     "2bf18074452b4a9fa3d4c76d4f632e76": {
      "model_module": "@jupyter-widgets/controls",
      "model_module_version": "1.0.0",
      "model_name": "ToggleButtonsModel",
      "state": {
       "_options_labels": [
        "boxplot",
        "swarmplot",
        "violinplot",
        "pairplot",
        "linear model"
       ],
       "button_style": "",
       "description": "Plot type:",
       "icons": [],
       "index": 2,
       "layout": "IPY_MODEL_50d6c2ed460e41e685a46b3a4c5c8d06",
       "style": "IPY_MODEL_8e455697d54a4208a40b0bd0d4f7298f",
       "tooltips": []
      }
     },
     "2cd171440077477f99fb6af7f5fba0c7": {
      "model_module": "@jupyter-widgets/base",
      "model_module_version": "1.0.0",
      "model_name": "LayoutModel",
      "state": {}
     },
     "2d9f594dfac14853898077a9804c3748": {
      "model_module": "@jupyter-widgets/controls",
      "model_module_version": "1.0.0",
      "model_name": "DropdownModel",
      "state": {
       "_options_labels": [
        "SubjID",
        "Dx",
        "Gait - Lower Limb - Gait Speed L (m/s) [mean]",
        "Gait - Lower Limb - Gait Speed R (m/s) [mean]",
        "GaitSpeed_LRmean_2minWalk",
        "GaitSpeed_LRstd_2minWalk",
        "Gait - Lower Limb - Stride Length L (m) [mean]",
        "Gait - Lower Limb - Stride Length R (m) [mean]",
        "StrideLength_LRmean_2minWalk",
        "StrideLength_LRstd_2minWalk",
        "Gait - Lower Limb - Double Support L (%GCT) [mean]",
        "Gait - Lower Limb - Double Support R (%GCT) [mean]",
        "DoubleSupportTime_LRmean_2minWalk",
        "DoubleSupportTime_LRstd_2minWalk",
        "Gait - Lower Limb - Foot Strike Angle L (degrees) [mean]",
        "Gait - Lower Limb - Foot Strike Angle R (degrees) [mean]",
        "FootStrikeAngle_LRmean_2minWalk",
        "FootStrikeAngle_LRstd_2minWalk",
        "Turn_Velocity_mean_2minWalk",
        "Steps_in_Turn_mean_2minWalk",
        "Gait - Lower Limb - Gait Speed L (m/s) [mean].1",
        "Gait - Lower Limb - Gait Speed R (m/s) [mean].1",
        "GaitSpeed_LRmean_1minDT",
        "GaitSpeed_LRstd_1minDT",
        "Gait - Lower Limb - Stride Length L (m) [mean].1",
        "Gait - Lower Limb - Stride Length R (m) [mean].1",
        "StrideLength_LRmean_1minDT",
        "StrideLength_LRstd_1minDT",
        "Gait - Lower Limb - Double Support L (%GCT) [mean].1",
        "Gait - Lower Limb - Double Support R (%GCT) [mean].1",
        "DoubleSupportTime_LRmean_1minDT",
        "DoubleSupportTime_LRstd_1minDT",
        "Gait - Lower Limb - Foot Strike Angle L (degrees) [mean].1",
        "Gait - Lower Limb - Foot Strike Angle R (degrees) [mean].1",
        "FootStrikeAngle_LRmean_1minDT",
        "FootStrikeAngle_LRstd_1minDT",
        "Turn_Velocity_mean_1minDT",
        "Steps_in_Turn_mean_1minDT",
        "GaitSpeed",
        "StrideLength",
        "DoubleSupportTime",
        "FootStrikeAngle",
        "TurnVelocity",
        "StepsInTurn",
        "Seated",
        "Longwalk",
        "Cog_DTC",
        "Dx_name"
       ],
       "description": "Group by:",
       "index": 47,
       "layout": "IPY_MODEL_c27dcc00e9ad4b4ca8f0f9e3bfee83e5",
       "style": "IPY_MODEL_dc65f604df03497f9b328d293cd1bebb"
      }
     },
     "2e363f469e9a40fa96dbebfef19d051b": {
      "model_module": "@jupyter-widgets/controls",
      "model_module_version": "1.0.0",
      "model_name": "SelectMultipleModel",
      "state": {
       "_options_labels": [
        "PD",
        "FGD",
        "Control"
       ],
       "description": "Select:",
       "index": [
        0,
        2
       ],
       "layout": "IPY_MODEL_4dd348e271274f5cb679cbbc46b597e7",
       "rows": 5,
       "style": "IPY_MODEL_5c22237cdf454c6d87b44c8e428ce9e1"
      }
     },
     "2ef50deaf2604965913c2a26448debe2": {
      "model_module": "@jupyter-widgets/output",
      "model_module_version": "1.0.0",
      "model_name": "OutputModel",
      "state": {
       "layout": "IPY_MODEL_7ab3f46c558740d7be4c1248f73c98f3",
       "outputs": [
        {
         "name": "stdout",
         "output_type": "stream",
         "text": "{'Longwalk', 'Cog_DTC'}\n('PD', 'Control')\nGrouping by:  ('PD', 'Control') | Plotting:  ('Cog_DTC', 'Longwalk')\nviolin and 2\n"
        },
        {
         "ename": "KeyError",
         "evalue": "'PD'",
         "output_type": "error",
         "traceback": [
          "\u001b[0;31m---------------------------------------------------------------------------\u001b[0m",
          "\u001b[0;31mKeyError\u001b[0m                                  Traceback (most recent call last)",
          "\u001b[0;32m~/anaconda3/lib/python3.6/site-packages/ipywidgets/widgets/interaction.py\u001b[0m in \u001b[0;36mupdate\u001b[0;34m(self, *args)\u001b[0m\n\u001b[1;32m    248\u001b[0m                     \u001b[0mvalue\u001b[0m \u001b[0;34m=\u001b[0m \u001b[0mwidget\u001b[0m\u001b[0;34m.\u001b[0m\u001b[0mget_interact_value\u001b[0m\u001b[0;34m(\u001b[0m\u001b[0;34m)\u001b[0m\u001b[0;34m\u001b[0m\u001b[0m\n\u001b[1;32m    249\u001b[0m                     \u001b[0mself\u001b[0m\u001b[0;34m.\u001b[0m\u001b[0mkwargs\u001b[0m\u001b[0;34m[\u001b[0m\u001b[0mwidget\u001b[0m\u001b[0;34m.\u001b[0m\u001b[0m_kwarg\u001b[0m\u001b[0;34m]\u001b[0m \u001b[0;34m=\u001b[0m \u001b[0mvalue\u001b[0m\u001b[0;34m\u001b[0m\u001b[0m\n\u001b[0;32m--> 250\u001b[0;31m                 \u001b[0mself\u001b[0m\u001b[0;34m.\u001b[0m\u001b[0mresult\u001b[0m \u001b[0;34m=\u001b[0m \u001b[0mself\u001b[0m\u001b[0;34m.\u001b[0m\u001b[0mf\u001b[0m\u001b[0;34m(\u001b[0m\u001b[0;34m**\u001b[0m\u001b[0mself\u001b[0m\u001b[0;34m.\u001b[0m\u001b[0mkwargs\u001b[0m\u001b[0;34m)\u001b[0m\u001b[0;34m\u001b[0m\u001b[0m\n\u001b[0m\u001b[1;32m    251\u001b[0m                 \u001b[0mshow_inline_matplotlib_plots\u001b[0m\u001b[0;34m(\u001b[0m\u001b[0;34m)\u001b[0m\u001b[0;34m\u001b[0m\u001b[0m\n\u001b[1;32m    252\u001b[0m                 \u001b[0;32mif\u001b[0m \u001b[0mself\u001b[0m\u001b[0;34m.\u001b[0m\u001b[0mauto_display\u001b[0m \u001b[0;32mand\u001b[0m \u001b[0mself\u001b[0m\u001b[0;34m.\u001b[0m\u001b[0mresult\u001b[0m \u001b[0;32mis\u001b[0m \u001b[0;32mnot\u001b[0m \u001b[0;32mNone\u001b[0m\u001b[0;34m:\u001b[0m\u001b[0;34m\u001b[0m\u001b[0m\n",
          "\u001b[0;32m<ipython-input-26-4fec69fbcaab>\u001b[0m in \u001b[0;36mcreate_graph\u001b[0;34m(plot_type, group_by, group, plot2)\u001b[0m\n\u001b[1;32m     26\u001b[0m         \u001b[0;32mif\u001b[0m \u001b[0;34m(\u001b[0m\u001b[0mlen\u001b[0m\u001b[0;34m(\u001b[0m\u001b[0mgroup_by\u001b[0m\u001b[0;34m)\u001b[0m \u001b[0;34m==\u001b[0m \u001b[0;36m2\u001b[0m\u001b[0;34m)\u001b[0m\u001b[0;34m:\u001b[0m \u001b[0;31m# hasn't been tested\u001b[0m\u001b[0;34m\u001b[0m\u001b[0m\n\u001b[1;32m     27\u001b[0m             \u001b[0;31m#sns.violinplot(x=group_by,y=plot2, hue=group_by, data=data, split=True)\u001b[0m\u001b[0;34m\u001b[0m\u001b[0;34m\u001b[0m\u001b[0m\n\u001b[0;32m---> 28\u001b[0;31m             \u001b[0mplot_graph\u001b[0m\u001b[0;34m(\u001b[0m\u001b[0mdata_rearranged\u001b[0m\u001b[0;34m,\u001b[0m \u001b[0mgroup_by\u001b[0m\u001b[0;34m,\u001b[0m \u001b[0;34m'violin'\u001b[0m\u001b[0;34m)\u001b[0m\u001b[0;34m\u001b[0m\u001b[0m\n\u001b[0m\u001b[1;32m     29\u001b[0m         \u001b[0;32melse\u001b[0m\u001b[0;34m:\u001b[0m\u001b[0;34m\u001b[0m\u001b[0m\n\u001b[1;32m     30\u001b[0m             \u001b[0mplot_graph\u001b[0m\u001b[0;34m(\u001b[0m\u001b[0mdata_rearranged\u001b[0m\u001b[0;34m,\u001b[0m \u001b[0mgroup_by\u001b[0m\u001b[0;34m,\u001b[0m \u001b[0;34m'violin'\u001b[0m\u001b[0;34m)\u001b[0m\u001b[0;34m\u001b[0m\u001b[0m\n",
          "\u001b[0;32m<ipython-input-25-955efe1f14a6>\u001b[0m in \u001b[0;36mplot_graph\u001b[0;34m(data, x, kind)\u001b[0m\n\u001b[1;32m      3\u001b[0m             \u001b[0mprint\u001b[0m\u001b[0;34m(\u001b[0m\u001b[0;34m'violin and 2'\u001b[0m\u001b[0;34m)\u001b[0m\u001b[0;34m\u001b[0m\u001b[0m\n\u001b[1;32m      4\u001b[0m     sns.factorplot(x=x, y='value', hue='Measure', col='Measure', size=5, aspect=1,\n\u001b[0;32m----> 5\u001b[0;31m                        kind=kind, data=data, sharey=False)\n\u001b[0m",
          "\u001b[0;32m~/anaconda3/lib/python3.6/site-packages/seaborn/categorical.py\u001b[0m in \u001b[0;36mfactorplot\u001b[0;34m(x, y, hue, data, row, col, col_wrap, estimator, ci, n_boot, units, order, hue_order, row_order, col_order, kind, size, aspect, orient, color, palette, legend, legend_out, sharex, sharey, margin_titles, facet_kws, **kwargs)\u001b[0m\n\u001b[1;32m   3489\u001b[0m     \u001b[0;31m# facets to ensure representation of all data in the final plot\u001b[0m\u001b[0;34m\u001b[0m\u001b[0;34m\u001b[0m\u001b[0m\n\u001b[1;32m   3490\u001b[0m     \u001b[0mp\u001b[0m \u001b[0;34m=\u001b[0m \u001b[0m_CategoricalPlotter\u001b[0m\u001b[0;34m(\u001b[0m\u001b[0;34m)\u001b[0m\u001b[0;34m\u001b[0m\u001b[0m\n\u001b[0;32m-> 3491\u001b[0;31m     \u001b[0mp\u001b[0m\u001b[0;34m.\u001b[0m\u001b[0mestablish_variables\u001b[0m\u001b[0;34m(\u001b[0m\u001b[0mx_\u001b[0m\u001b[0;34m,\u001b[0m \u001b[0my_\u001b[0m\u001b[0;34m,\u001b[0m \u001b[0mhue\u001b[0m\u001b[0;34m,\u001b[0m \u001b[0mdata\u001b[0m\u001b[0;34m,\u001b[0m \u001b[0morient\u001b[0m\u001b[0;34m,\u001b[0m \u001b[0morder\u001b[0m\u001b[0;34m,\u001b[0m \u001b[0mhue_order\u001b[0m\u001b[0;34m)\u001b[0m\u001b[0;34m\u001b[0m\u001b[0m\n\u001b[0m\u001b[1;32m   3492\u001b[0m     \u001b[0morder\u001b[0m \u001b[0;34m=\u001b[0m \u001b[0mp\u001b[0m\u001b[0;34m.\u001b[0m\u001b[0mgroup_names\u001b[0m\u001b[0;34m\u001b[0m\u001b[0m\n\u001b[1;32m   3493\u001b[0m     \u001b[0mhue_order\u001b[0m \u001b[0;34m=\u001b[0m \u001b[0mp\u001b[0m\u001b[0;34m.\u001b[0m\u001b[0mhue_names\u001b[0m\u001b[0;34m\u001b[0m\u001b[0m\n",
          "\u001b[0;32m~/anaconda3/lib/python3.6/site-packages/seaborn/categorical.py\u001b[0m in \u001b[0;36mestablish_variables\u001b[0;34m(self, x, y, hue, data, orient, order, hue_order, units)\u001b[0m\n\u001b[1;32m    201\u001b[0m                 \u001b[0;31m# Group the numeric data\u001b[0m\u001b[0;34m\u001b[0m\u001b[0;34m\u001b[0m\u001b[0m\n\u001b[1;32m    202\u001b[0m                 plot_data, value_label = self._group_longform(vals, groups,\n\u001b[0;32m--> 203\u001b[0;31m                                                               group_names)\n\u001b[0m\u001b[1;32m    204\u001b[0m \u001b[0;34m\u001b[0m\u001b[0m\n\u001b[1;32m    205\u001b[0m                 \u001b[0;31m# Now handle the hue levels for nested ordering\u001b[0m\u001b[0;34m\u001b[0m\u001b[0;34m\u001b[0m\u001b[0m\n",
          "\u001b[0;32m~/anaconda3/lib/python3.6/site-packages/seaborn/categorical.py\u001b[0m in \u001b[0;36m_group_longform\u001b[0;34m(self, vals, grouper, order)\u001b[0m\n\u001b[1;32m    243\u001b[0m \u001b[0;34m\u001b[0m\u001b[0m\n\u001b[1;32m    244\u001b[0m         \u001b[0;31m# Group the val data\u001b[0m\u001b[0;34m\u001b[0m\u001b[0;34m\u001b[0m\u001b[0m\n\u001b[0;32m--> 245\u001b[0;31m         \u001b[0mgrouped_vals\u001b[0m \u001b[0;34m=\u001b[0m \u001b[0mvals\u001b[0m\u001b[0;34m.\u001b[0m\u001b[0mgroupby\u001b[0m\u001b[0;34m(\u001b[0m\u001b[0mgrouper\u001b[0m\u001b[0;34m)\u001b[0m\u001b[0;34m\u001b[0m\u001b[0m\n\u001b[0m\u001b[1;32m    246\u001b[0m         \u001b[0mout_data\u001b[0m \u001b[0;34m=\u001b[0m \u001b[0;34m[\u001b[0m\u001b[0;34m]\u001b[0m\u001b[0;34m\u001b[0m\u001b[0m\n\u001b[1;32m    247\u001b[0m         \u001b[0;32mfor\u001b[0m \u001b[0mg\u001b[0m \u001b[0;32min\u001b[0m \u001b[0morder\u001b[0m\u001b[0;34m:\u001b[0m\u001b[0;34m\u001b[0m\u001b[0m\n",
          "\u001b[0;32m~/anaconda3/lib/python3.6/site-packages/pandas/core/generic.py\u001b[0m in \u001b[0;36mgroupby\u001b[0;34m(self, by, axis, level, as_index, sort, group_keys, squeeze, **kwargs)\u001b[0m\n\u001b[1;32m   5160\u001b[0m         return groupby(self, by=by, axis=axis, level=level, as_index=as_index,\n\u001b[1;32m   5161\u001b[0m                        \u001b[0msort\u001b[0m\u001b[0;34m=\u001b[0m\u001b[0msort\u001b[0m\u001b[0;34m,\u001b[0m \u001b[0mgroup_keys\u001b[0m\u001b[0;34m=\u001b[0m\u001b[0mgroup_keys\u001b[0m\u001b[0;34m,\u001b[0m \u001b[0msqueeze\u001b[0m\u001b[0;34m=\u001b[0m\u001b[0msqueeze\u001b[0m\u001b[0;34m,\u001b[0m\u001b[0;34m\u001b[0m\u001b[0m\n\u001b[0;32m-> 5162\u001b[0;31m                        **kwargs)\n\u001b[0m\u001b[1;32m   5163\u001b[0m \u001b[0;34m\u001b[0m\u001b[0m\n\u001b[1;32m   5164\u001b[0m     def asfreq(self, freq, method=None, how=None, normalize=False,\n",
          "\u001b[0;32m~/anaconda3/lib/python3.6/site-packages/pandas/core/groupby.py\u001b[0m in \u001b[0;36mgroupby\u001b[0;34m(obj, by, **kwds)\u001b[0m\n\u001b[1;32m   1846\u001b[0m         \u001b[0;32mraise\u001b[0m \u001b[0mTypeError\u001b[0m\u001b[0;34m(\u001b[0m\u001b[0;34m'invalid type: %s'\u001b[0m \u001b[0;34m%\u001b[0m \u001b[0mtype\u001b[0m\u001b[0;34m(\u001b[0m\u001b[0mobj\u001b[0m\u001b[0;34m)\u001b[0m\u001b[0;34m)\u001b[0m\u001b[0;34m\u001b[0m\u001b[0m\n\u001b[1;32m   1847\u001b[0m \u001b[0;34m\u001b[0m\u001b[0m\n\u001b[0;32m-> 1848\u001b[0;31m     \u001b[0;32mreturn\u001b[0m \u001b[0mklass\u001b[0m\u001b[0;34m(\u001b[0m\u001b[0mobj\u001b[0m\u001b[0;34m,\u001b[0m \u001b[0mby\u001b[0m\u001b[0;34m,\u001b[0m \u001b[0;34m**\u001b[0m\u001b[0mkwds\u001b[0m\u001b[0;34m)\u001b[0m\u001b[0;34m\u001b[0m\u001b[0m\n\u001b[0m\u001b[1;32m   1849\u001b[0m \u001b[0;34m\u001b[0m\u001b[0m\n\u001b[1;32m   1850\u001b[0m \u001b[0;34m\u001b[0m\u001b[0m\n",
          "\u001b[0;32m~/anaconda3/lib/python3.6/site-packages/pandas/core/groupby.py\u001b[0m in \u001b[0;36m__init__\u001b[0;34m(self, obj, keys, axis, level, grouper, exclusions, selection, as_index, sort, group_keys, squeeze, **kwargs)\u001b[0m\n\u001b[1;32m    514\u001b[0m                                                     \u001b[0mlevel\u001b[0m\u001b[0;34m=\u001b[0m\u001b[0mlevel\u001b[0m\u001b[0;34m,\u001b[0m\u001b[0;34m\u001b[0m\u001b[0m\n\u001b[1;32m    515\u001b[0m                                                     \u001b[0msort\u001b[0m\u001b[0;34m=\u001b[0m\u001b[0msort\u001b[0m\u001b[0;34m,\u001b[0m\u001b[0;34m\u001b[0m\u001b[0m\n\u001b[0;32m--> 516\u001b[0;31m                                                     mutated=self.mutated)\n\u001b[0m\u001b[1;32m    517\u001b[0m \u001b[0;34m\u001b[0m\u001b[0m\n\u001b[1;32m    518\u001b[0m         \u001b[0mself\u001b[0m\u001b[0;34m.\u001b[0m\u001b[0mobj\u001b[0m \u001b[0;34m=\u001b[0m \u001b[0mobj\u001b[0m\u001b[0;34m\u001b[0m\u001b[0m\n",
          "\u001b[0;32m~/anaconda3/lib/python3.6/site-packages/pandas/core/groupby.py\u001b[0m in \u001b[0;36m_get_grouper\u001b[0;34m(obj, key, axis, level, sort, mutated, validate)\u001b[0m\n\u001b[1;32m   2932\u001b[0m                 \u001b[0min_axis\u001b[0m\u001b[0;34m,\u001b[0m \u001b[0mname\u001b[0m\u001b[0;34m,\u001b[0m \u001b[0mlevel\u001b[0m\u001b[0;34m,\u001b[0m \u001b[0mgpr\u001b[0m \u001b[0;34m=\u001b[0m \u001b[0;32mFalse\u001b[0m\u001b[0;34m,\u001b[0m \u001b[0;32mNone\u001b[0m\u001b[0;34m,\u001b[0m \u001b[0mgpr\u001b[0m\u001b[0;34m,\u001b[0m \u001b[0;32mNone\u001b[0m\u001b[0;34m\u001b[0m\u001b[0m\n\u001b[1;32m   2933\u001b[0m             \u001b[0;32melse\u001b[0m\u001b[0;34m:\u001b[0m\u001b[0;34m\u001b[0m\u001b[0m\n\u001b[0;32m-> 2934\u001b[0;31m                 \u001b[0;32mraise\u001b[0m \u001b[0mKeyError\u001b[0m\u001b[0;34m(\u001b[0m\u001b[0mgpr\u001b[0m\u001b[0;34m)\u001b[0m\u001b[0;34m\u001b[0m\u001b[0m\n\u001b[0m\u001b[1;32m   2935\u001b[0m         \u001b[0;32melif\u001b[0m \u001b[0misinstance\u001b[0m\u001b[0;34m(\u001b[0m\u001b[0mgpr\u001b[0m\u001b[0;34m,\u001b[0m \u001b[0mGrouper\u001b[0m\u001b[0;34m)\u001b[0m \u001b[0;32mand\u001b[0m \u001b[0mgpr\u001b[0m\u001b[0;34m.\u001b[0m\u001b[0mkey\u001b[0m \u001b[0;32mis\u001b[0m \u001b[0;32mnot\u001b[0m \u001b[0;32mNone\u001b[0m\u001b[0;34m:\u001b[0m\u001b[0;34m\u001b[0m\u001b[0m\n\u001b[1;32m   2936\u001b[0m             \u001b[0;31m# Add key to exclusions\u001b[0m\u001b[0;34m\u001b[0m\u001b[0;34m\u001b[0m\u001b[0m\n",
          "\u001b[0;31mKeyError\u001b[0m: 'PD'"
         ]
        }
       ]
      }
     },
     "2f277b6a1f0a4e78b5050606ff6aebb9": {
      "model_module": "@jupyter-widgets/controls",
      "model_module_version": "1.0.0",
      "model_name": "DescriptionStyleModel",
      "state": {
       "description_width": ""
      }
     },
     "2fa5867844244adbb10c2d10083ab842": {
      "model_module": "@jupyter-widgets/controls",
      "model_module_version": "1.0.0",
      "model_name": "ToggleButtonsStyleModel",
      "state": {
       "_model_module": "@jupyter-widgets/controls",
       "button_width": ""
      }
     },
     "2fba96d14278413e805cc8d27575396c": {
      "model_module": "@jupyter-widgets/base",
      "model_module_version": "1.0.0",
      "model_name": "LayoutModel",
      "state": {
       "height": "800dpi"
      }
     },
     "318892c9f8f547d19b6af51318ea6ece": {
      "model_module": "@jupyter-widgets/base",
      "model_module_version": "1.0.0",
      "model_name": "LayoutModel",
      "state": {}
     },
     "324a61685dc646aab743e507515b9d93": {
      "model_module": "@jupyter-widgets/controls",
      "model_module_version": "1.0.0",
      "model_name": "DescriptionStyleModel",
      "state": {
       "description_width": ""
      }
     },
     "33a04c2e700540a1891d63d971b7eae6": {
      "model_module": "@jupyter-widgets/base",
      "model_module_version": "1.0.0",
      "model_name": "LayoutModel",
      "state": {}
     },
     "35eebeae0b4e4ecb89096357e489a09e": {
      "model_module": "@jupyter-widgets/base",
      "model_module_version": "1.0.0",
      "model_name": "LayoutModel",
      "state": {}
     },
     "37074114b444499aa53dd0bf2dfe6481": {
      "model_module": "@jupyter-widgets/controls",
      "model_module_version": "1.0.0",
      "model_name": "DescriptionStyleModel",
      "state": {
       "description_width": ""
      }
     },
     "374d482bdc50478aa5db95a09dbb60f8": {
      "model_module": "@jupyter-widgets/controls",
      "model_module_version": "1.0.0",
      "model_name": "DescriptionStyleModel",
      "state": {
       "description_width": ""
      }
     },
     "393abcd404ad4f228780896f2eb7b445": {
      "model_module": "@jupyter-widgets/base",
      "model_module_version": "1.0.0",
      "model_name": "LayoutModel",
      "state": {}
     },
     "3a67d42458cb44c7ba81ed31aa40c303": {
      "model_module": "@jupyter-widgets/controls",
      "model_module_version": "1.0.0",
      "model_name": "DescriptionStyleModel",
      "state": {
       "description_width": ""
      }
     },
     "3a90ecefa61a4f37b6dda3b938df7abd": {
      "model_module": "@jupyter-widgets/controls",
      "model_module_version": "1.0.0",
      "model_name": "ToggleButtonsModel",
      "state": {
       "_options_labels": [
        "boxplot",
        "swarmplot",
        "violinplot",
        "pairplot",
        "linear model"
       ],
       "button_style": "",
       "description": "Plot type:",
       "icons": [],
       "index": 0,
       "layout": "IPY_MODEL_0df194c16b4044ad816f3b5e8b62a8ac",
       "style": "IPY_MODEL_0d2ac8788a9947d4b0881150df6b3224",
       "tooltips": []
      }
     },
     "3c269f19fa18444eb4d7ce707f9b5c17": {
      "model_module": "@jupyter-widgets/controls",
      "model_module_version": "1.0.0",
      "model_name": "SelectMultipleModel",
      "state": {
       "_options_labels": [
        "SubjID",
        "Dx",
        "Gait - Lower Limb - Gait Speed L (m/s) [mean]",
        "Gait - Lower Limb - Gait Speed R (m/s) [mean]",
        "GaitSpeed_LRmean_2minWalk",
        "GaitSpeed_LRstd_2minWalk",
        "Gait - Lower Limb - Stride Length L (m) [mean]",
        "Gait - Lower Limb - Stride Length R (m) [mean]",
        "StrideLength_LRmean_2minWalk",
        "StrideLength_LRstd_2minWalk",
        "Gait - Lower Limb - Double Support L (%GCT) [mean]",
        "Gait - Lower Limb - Double Support R (%GCT) [mean]",
        "DoubleSupportTime_LRmean_2minWalk",
        "DoubleSupportTime_LRstd_2minWalk",
        "Gait - Lower Limb - Foot Strike Angle L (degrees) [mean]",
        "Gait - Lower Limb - Foot Strike Angle R (degrees) [mean]",
        "FootStrikeAngle_LRmean_2minWalk",
        "FootStrikeAngle_LRstd_2minWalk",
        "Turn_Velocity_mean_2minWalk",
        "Steps_in_Turn_mean_2minWalk",
        "Gait - Lower Limb - Gait Speed L (m/s) [mean].1",
        "Gait - Lower Limb - Gait Speed R (m/s) [mean].1",
        "GaitSpeed_LRmean_1minDT",
        "GaitSpeed_LRstd_1minDT",
        "Gait - Lower Limb - Stride Length L (m) [mean].1",
        "Gait - Lower Limb - Stride Length R (m) [mean].1",
        "StrideLength_LRmean_1minDT",
        "StrideLength_LRstd_1minDT",
        "Gait - Lower Limb - Double Support L (%GCT) [mean].1",
        "Gait - Lower Limb - Double Support R (%GCT) [mean].1",
        "DoubleSupportTime_LRmean_1minDT",
        "DoubleSupportTime_LRstd_1minDT",
        "Gait - Lower Limb - Foot Strike Angle L (degrees) [mean].1",
        "Gait - Lower Limb - Foot Strike Angle R (degrees) [mean].1",
        "FootStrikeAngle_LRmean_1minDT",
        "FootStrikeAngle_LRstd_1minDT",
        "Turn_Velocity_mean_1minDT",
        "Steps_in_Turn_mean_1minDT",
        "GaitSpeed",
        "StrideLength",
        "DoubleSupportTime",
        "FootStrikeAngle",
        "TurnVelocity",
        "StepsInTurn",
        "Seated",
        "Longwalk",
        "Cog_DTC",
        "Dx_name"
       ],
       "description": "Plot:",
       "index": [
        46,
        45
       ],
       "layout": "IPY_MODEL_7dcd0d4985144a129da3a6da7dca95e4",
       "rows": 5,
       "style": "IPY_MODEL_bfffe6127ec04b7ab601e7daad2aaa4e"
      }
     },
     "3c5084d88fe34e2dac6a518e54ffcff5": {
      "model_module": "@jupyter-widgets/controls",
      "model_module_version": "1.0.0",
      "model_name": "SelectMultipleModel",
      "state": {
       "_options_labels": [
        "SubjID",
        "Dx",
        "Gait - Lower Limb - Gait Speed L (m/s) [mean]",
        "Gait - Lower Limb - Gait Speed R (m/s) [mean]",
        "GaitSpeed_LRmean_2minWalk",
        "GaitSpeed_LRstd_2minWalk",
        "Gait - Lower Limb - Stride Length L (m) [mean]",
        "Gait - Lower Limb - Stride Length R (m) [mean]",
        "StrideLength_LRmean_2minWalk",
        "StrideLength_LRstd_2minWalk",
        "Gait - Lower Limb - Double Support L (%GCT) [mean]",
        "Gait - Lower Limb - Double Support R (%GCT) [mean]",
        "DoubleSupportTime_LRmean_2minWalk",
        "DoubleSupportTime_LRstd_2minWalk",
        "Gait - Lower Limb - Foot Strike Angle L (degrees) [mean]",
        "Gait - Lower Limb - Foot Strike Angle R (degrees) [mean]",
        "FootStrikeAngle_LRmean_2minWalk",
        "FootStrikeAngle_LRstd_2minWalk",
        "Turn_Velocity_mean_2minWalk",
        "Steps_in_Turn_mean_2minWalk",
        "Gait - Lower Limb - Gait Speed L (m/s) [mean].1",
        "Gait - Lower Limb - Gait Speed R (m/s) [mean].1",
        "GaitSpeed_LRmean_1minDT",
        "GaitSpeed_LRstd_1minDT",
        "Gait - Lower Limb - Stride Length L (m) [mean].1",
        "Gait - Lower Limb - Stride Length R (m) [mean].1",
        "StrideLength_LRmean_1minDT",
        "StrideLength_LRstd_1minDT",
        "Gait - Lower Limb - Double Support L (%GCT) [mean].1",
        "Gait - Lower Limb - Double Support R (%GCT) [mean].1",
        "DoubleSupportTime_LRmean_1minDT",
        "DoubleSupportTime_LRstd_1minDT",
        "Gait - Lower Limb - Foot Strike Angle L (degrees) [mean].1",
        "Gait - Lower Limb - Foot Strike Angle R (degrees) [mean].1",
        "FootStrikeAngle_LRmean_1minDT",
        "FootStrikeAngle_LRstd_1minDT",
        "Turn_Velocity_mean_1minDT",
        "Steps_in_Turn_mean_1minDT",
        "GaitSpeed",
        "StrideLength",
        "DoubleSupportTime",
        "FootStrikeAngle",
        "TurnVelocity",
        "StepsInTurn",
        "Seated",
        "Longwalk",
        "Cog_DTC",
        "Dx_name"
       ],
       "description": "Plot:",
       "index": [
        43,
        45,
        46
       ],
       "layout": "IPY_MODEL_0ead637cbd2746798c860d766479347f",
       "rows": 5,
       "style": "IPY_MODEL_5edd5dcffce348198e8d2b6a1c18a743"
      }
     },
     "3c5454dd1c0c4243be9801894405d8bb": {
      "model_module": "@jupyter-widgets/controls",
      "model_module_version": "1.0.0",
      "model_name": "SelectMultipleModel",
      "state": {
       "_options_labels": [
        "SubjID",
        "Dx",
        "Gait - Lower Limb - Gait Speed L (m/s) [mean]",
        "Gait - Lower Limb - Gait Speed R (m/s) [mean]",
        "GaitSpeed_LRmean_2minWalk",
        "GaitSpeed_LRstd_2minWalk",
        "Gait - Lower Limb - Stride Length L (m) [mean]",
        "Gait - Lower Limb - Stride Length R (m) [mean]",
        "StrideLength_LRmean_2minWalk",
        "StrideLength_LRstd_2minWalk",
        "Gait - Lower Limb - Double Support L (%GCT) [mean]",
        "Gait - Lower Limb - Double Support R (%GCT) [mean]",
        "DoubleSupportTime_LRmean_2minWalk",
        "DoubleSupportTime_LRstd_2minWalk",
        "Gait - Lower Limb - Foot Strike Angle L (degrees) [mean]",
        "Gait - Lower Limb - Foot Strike Angle R (degrees) [mean]",
        "FootStrikeAngle_LRmean_2minWalk",
        "FootStrikeAngle_LRstd_2minWalk",
        "Turn_Velocity_mean_2minWalk",
        "Steps_in_Turn_mean_2minWalk",
        "Gait - Lower Limb - Gait Speed L (m/s) [mean].1",
        "Gait - Lower Limb - Gait Speed R (m/s) [mean].1",
        "GaitSpeed_LRmean_1minDT",
        "GaitSpeed_LRstd_1minDT",
        "Gait - Lower Limb - Stride Length L (m) [mean].1",
        "Gait - Lower Limb - Stride Length R (m) [mean].1",
        "StrideLength_LRmean_1minDT",
        "StrideLength_LRstd_1minDT",
        "Gait - Lower Limb - Double Support L (%GCT) [mean].1",
        "Gait - Lower Limb - Double Support R (%GCT) [mean].1",
        "DoubleSupportTime_LRmean_1minDT",
        "DoubleSupportTime_LRstd_1minDT",
        "Gait - Lower Limb - Foot Strike Angle L (degrees) [mean].1",
        "Gait - Lower Limb - Foot Strike Angle R (degrees) [mean].1",
        "FootStrikeAngle_LRmean_1minDT",
        "FootStrikeAngle_LRstd_1minDT",
        "Turn_Velocity_mean_1minDT",
        "Steps_in_Turn_mean_1minDT",
        "GaitSpeed",
        "StrideLength",
        "DoubleSupportTime",
        "FootStrikeAngle",
        "TurnVelocity",
        "StepsInTurn",
        "Seated",
        "Longwalk",
        "Cog_DTC",
        "Dx_name"
       ],
       "description": "Plot:",
       "index": [
        46,
        45
       ],
       "layout": "IPY_MODEL_77a112483bed42d082af0a2bd7131743",
       "rows": 5,
       "style": "IPY_MODEL_1cec39ae135447bbbce54f14abfcfdef"
      }
     },
     "3d03524a11df43f3bb6000dabac0fdc7": {
      "model_module": "@jupyter-widgets/controls",
      "model_module_version": "1.0.0",
      "model_name": "VBoxModel",
      "state": {
       "_dom_classes": [
        "widget-interact"
       ],
       "children": [
        "IPY_MODEL_23927778c86e4786ac144bfd54e4f8ac",
        "IPY_MODEL_92f4329e2198478ea60d608a1f128be2",
        "IPY_MODEL_242ed4785c8443f5b579aaa42d81a64b",
        "IPY_MODEL_a249ba2c545642508cc53bb2d6af5979"
       ],
       "layout": "IPY_MODEL_5c80a578d3e740cb91f7cd275df3fc20"
      }
     },
     "3e6f059e787b48188e2a5d68a7e54e12": {
      "model_module": "@jupyter-widgets/controls",
      "model_module_version": "1.0.0",
      "model_name": "DescriptionStyleModel",
      "state": {
       "description_width": ""
      }
     },
     "3e75604a956845ce9a557fe4b0739c1d": {
      "model_module": "@jupyter-widgets/base",
      "model_module_version": "1.0.0",
      "model_name": "LayoutModel",
      "state": {
       "height": "300dpi"
      }
     },
     "3ee09cac8b104990b7b2bfb2d70f485b": {
      "model_module": "@jupyter-widgets/base",
      "model_module_version": "1.0.0",
      "model_name": "LayoutModel",
      "state": {}
     },
     "3fc6e224ab494837961ea0a4ddedc6d1": {
      "model_module": "@jupyter-widgets/controls",
      "model_module_version": "1.0.0",
      "model_name": "ToggleButtonsStyleModel",
      "state": {
       "_model_module": "@jupyter-widgets/controls",
       "button_width": ""
      }
     },
     "40194d57bdd9497dbafef577f691651d": {
      "model_module": "@jupyter-widgets/controls",
      "model_module_version": "1.0.0",
      "model_name": "SelectMultipleModel",
      "state": {
       "_options_labels": [
        "PD",
        "FGD",
        "Control"
       ],
       "description": "Select:",
       "index": [
        0,
        2
       ],
       "layout": "IPY_MODEL_5c6dae4d6231457aa6df174458ee78f5",
       "rows": 5,
       "style": "IPY_MODEL_458d55f2c9af42bfb750587b0c6c17b2"
      }
     },
     "40973af45f7743a19735286bcfebc48c": {
      "model_module": "@jupyter-widgets/output",
      "model_module_version": "1.0.0",
      "model_name": "OutputModel",
      "state": {
       "layout": "IPY_MODEL_742b3653c9a94d64b6e723d9c94224c0",
       "outputs": [
        {
         "name": "stdout",
         "output_type": "stream",
         "text": "{'Longwalk', 'Cog_DTC'}\nDx_name\nGrouping by:  Dx_name | Plotting:  ('Cog_DTC', 'Longwalk')\n"
        },
        {
         "data": {
          "image/png": "iVBORw0KGgoAAAANSUhEUgAAAjgAAAEYCAYAAABRMYxdAAAABHNCSVQICAgIfAhkiAAAAAlwSFlz\nAAALEgAACxIB0t1+/AAAADl0RVh0U29mdHdhcmUAbWF0cGxvdGxpYiB2ZXJzaW9uIDIuMS4yLCBo\ndHRwOi8vbWF0cGxvdGxpYi5vcmcvNQv5yAAAIABJREFUeJzs3Xmcm2d18P3f0T6LZl89i8d74jiO\nk0xsspYSAg6lcQIJJIESWtqU9klpy9NSeFp4CeVtS98+DdBCaSChaSAkIUBxgyGFhJCQxfGSeN/G\n47E9+74vGknX+4duOfJkZqyZ0a7z/XzmY+nWLelY1shH13Wdc4kxBqWUUkqpTGJLdgBKKaWUUrGm\nCY5SSimlMo4mOEoppZTKOJrgKKWUUirjaIKjlFJKqYyjCY5SSimlMo4mOEoppZTKOJrgKKWUUirj\naIKjlFJKqYzjSHYAM5WVlZmGhoZkh6GUWoQ9e/b0GmPKkx1HNPSzRqn0FO3nTMolOA0NDezevTvZ\nYSilFkFETic7hmjpZ41S6SnazxmdolJKKaVUxtEERymllFIZRxMcpZRSSmUcTXCUUkoplXE0wVFK\nKaVUxtEERymllFIZRxMcpZRSSmUcTXCUUkoplXE0wVFKKaVUxkm5TsZKJdNjO8/MedvdW+oTGIlS\n2Wu+38OZ9PdSzUVHcJRSSimVcTTBUUoppVTG0QRHKaWUUhlHExyllFJKZRxNcJRSSimVcTTBUUop\npVTG0TJxlbHmKjXVslKllMp8OoKjlFJKqYyjCY5SSimlMk5UCY6IbBWRYyLSJCKfnuV2t4g8Yd2+\nU0QarOMNIjIhIm9YP9+IbfhKKaWUUm91wTU4ImIHvgbcBLQCu0RkuzHmcMRpHwMGjDGrReRO4EvA\nB63bThpjNsU4bqWUUkqpOUUzgrMZaDLGNBtjfMDjwLYZ52wDHrEuPwXcKCISuzCVUkoppaIXTYJT\nA5yNuN5qHZv1HGOMHxgCSq3bVojI6yLyKxG5frYnEJF7RWS3iOzu6elZ0F9AKaWUUmqmaBKc2UZi\nTJTndAD1xpjLgU8Cj4lIwVtONOZBY0yjMaaxvLw8ipCUUkoppeYWTYLTCtRFXK8F2uc6R0QcQCHQ\nb4yZMsb0ARhj9gAngbVLDVoppZRSaj7RJDi7gDUiskJEXMCdwPYZ52wH7rEu3w48Z4wxIlJuLVJG\nRFYCa4Dm2ISulFJKKTW7C1ZRGWP8InIf8AxgBx42xhwSkS8Au40x24GHgEdFpAnoJ5QEAdwAfEFE\n/EAA+Lgxpj8efxGllFJKqbCotmowxuwAdsw49rmIy5PAHbPc7wfAD5YYo1JKKaXUgmgnY6WUUkpl\nHE1wlFIpY7Fd0yNurxeRURH5i0TFrJRKTZrgKKVSQkTX9JuB9cBdIrJ+xmnnuqYDDxDqmh7pAeCn\n8Y5VKZX6olqDo5RSCXCuazqAiIS7pkduC7MN+Lx1+SngX0VErKrNWwlVaY4lLmQVC8YYXjvVz9P7\nO1hemsvIpJ/KAk+yw1JpThMcpVSqmK1r+pa5zrEqPIeAUhGZAP6K0J55c05Pici9wL0A9fX1sYtc\nXdBjO8/MetznD/Kdnadp6h7FYRP8QYNN4I7GOi6rLUpwlCqTaIKjlEoVS+mafj/wgDFmdL5t8Iwx\nDwIPAjQ2Ns58bJVggaDhe6+d4WT3KO/ZUMXmFaVMTgd4fNdZntx1FgxcVqdJjlocXYOjlEoVi+6a\nTmik5x9FpAX4M+D/WP27VAp75lAnx7pGuGXTMq5bU47LYaMgx8lHr2mgviSXH+9rY2zKn+wwVZrS\nBEdllaGJaf7t+ZM8sesMrQPjyQ5HnW/RXdONMdcbYxqMMQ3Al4G/M8b8a6ICVwvXNTzJyyd72dxQ\nwpYVpefd5nLYuPXyGnz+IM8e7U5ShCrd6RSVyhrGGL6/5yzNPaE1qGX5Lp7+k+upKtTFjKlgiV3T\nVRoxxrDjQAcuh42b1lfOek5lgYerGkp47VQfb1tZQoVXf0/VwugIjsoa+1uHaO4Z4//57fX88I+v\nYdwX4E++t5fpQDDZoSmLMWaHMWatMWaVMeb/tY59zkpuMMZMGmPuMMasNsZsDldczXiMzxtj/inR\nsavoNXWPcqJ7lBsvqiTPPff37BsvrsRuE14+2ZfA6FSm0ARHZYUpf4AdBzqoKcrhI1c3cEV9Mf/w\n/o3sahng2y+dSnZ4SmWVl0724vU42LKyZN7z8t0ONiwrZN/ZQXx+/SKiFkYTHJUVTvWMMTLl513r\nQ98IAW65bBlvW1nCf75ymmBQC2qUSoTe0SmOd42yuaEEh+3C/wVdubyYKX+QQ+1DCYhOZRJNcFRW\naOkbwy5CQ1neecc/tGU5rQMT/OpET5IiUyq77Gzuwy7C5hXzj96ErSjLoyTPxZ7TA3GOTGUaTXBU\nVjjVO0ZNcQ5O+/lv+XdfUkVZvovvvno6SZEplT18/iB7zgxwSU0BXo8zqvuICFcuL6a5d4zBcV+c\nI1SZRBMclfF8/iBtgxM0lOa95TaXw8YHGut47mg3nUOTSYhOqexxvGuEyekgjcujG70J27CsEICj\nnSPxCEtlKE1wVMY7OzBO0EBDWe6st9+yaRlBAy/oNJVScXWgbYg8l50VZW/9sjGfsnwXJXkujmmC\noxZAExyV8Vp6xxBgecnsH6rrKr2U5rl4RUtRlYobnz/I0c5hLqkpPLfQP1oiwrpKL829o9rWQUVN\nExyV8Vr6xqgq9JDjss96u4hw9apSXmrqxRitplIqHo51jTAdMFxaU7io+6+r8jIdMOcadSp1IZrg\nqIzXPjhJbfHs01Nh164uo3tkip7RqQRFpVR2OdA2RJ7bseDpqbAVZXk47cKxLp2mUtHRBEdltAlf\ngInpAGX5rnnPu2ZVaC+ck/rtUKmYmw4EOdE1wsVVXmzz7PY+H6fdxqryfE5ogqOipAmOymh9Y6ER\nmZK8+ROc+pJcaopyaO4ZTURYSmWVN84OMuUPsrbSu6THWVmWR9+Yj+HJ6RhFpjKZJjgqo/WPhfpm\nXCjBCa/DOdU7putwlIqxF473YBNYVZ6/pMdZbrV6ON03HouwVIbTBEdltGgTHIANywoY9wUYmfTH\nOyylssoLx3uoLc6dc6F/tJYV5eC0Cy29OpWsLkwTHJXR+sZ85LsduB0X/mC9uLoAgA5t+KdUzPSP\n+djfNsSayqWN3gDYbUJdSS4tfZrgqAvTBEdltP4xX1SjNwAXWQlO59BEPENSKqv8uqkXY2BtxdLW\n34Q1lObROTTJ5HQgJo+nMpcmOCqj9Y/5KI0ywSnMcVKU46RjWEdwlIqVV0724vU4qCnOicnjNZTm\nYYAz/boOR81PExyVsfyBIMMT01GP4ABUFXp0TyqlYui1U/1c1VCy6PLwmepKcrAJOk2lLkgTHJWx\n+sd9GKJbYBxWXeihd3RK28ErFQO9o1Oc7BnjqoaFba45H7fDTmWBh7YBnUpW89MER2WscAVVtFNU\nAFWFOQQNdI9oR2Ollmp3Sz8Am1fELsEBqCnKoXVgQls6qHlpgqMy1rkS8Xx31PepLvAAutBYqVh4\n7dQAHqdt0ftPzaW2OJeJ6QAD49rwT81NExyVsfrHfLgcNvIW0HujJN+F0y5aKq5UDOxq6WdTXREu\nR2z/qwkvWG4d0IXGam6a4KiMNTwxTaHHiSxgcaNNhPJ8N7266aZSSzIyOc2h9iE2x3D9TVhlgRu7\nTWgb1JFWNbeoEhwR2Soix0SkSUQ+PcvtbhF5wrp9p4g0zLi9XkRGReQvYhO2Uhc2MuXH63Es+H4l\n+W76Rn1xiEip7LG/dYiggcY4JDgOm43qQl1orOZ3wQRHROzA14CbgfXAXSKyfsZpHwMGjDGrgQeA\nL824/QHgp0sPV6nojUz6yV9EglOW52Jg3EcgqAsYlVqsg21DADFffxNWU5RD2+AEQf09VXOIZgRn\nM9BkjGk2xviAx4FtM87ZBjxiXX4KuFGseQERuRVoBg7FJmSlojM66cfrXniCU5rvJmhgcFxHcZRa\nrANtQ9QU5VC8gCrGhagtzmHKH+SU9sNRc4gmwakBzkZcb7WOzXqOMcYPDAGlIpIH/BVw/9JDVSp6\no1N+fIEgXo9zwfcNl5X3jWmCo9RiHWofjtvoDYQ23oQ3R4qUmimaBGe2FZozxwTnOud+4AFjzOi8\nTyByr4jsFpHdPT09UYSk1Px6rD42i1mDU5ofSnB0obFSizM8Oc2p3jE21BTE7TnKvW7sIhztHInb\nc6j0Fs2nfytQF3G9Fmif45xWEXEAhUA/sAW4XUT+ESgCgiIyaYz518g7G2MeBB4EaGxs1AlVtWTd\n1n5SixnByXc7cDlsOoKj1CIdbh8GYEMcR3AcNhvlXjdHOobj9hwqvUWT4OwC1ojICqANuBO4e8Y5\n24F7gFeA24HnTKjF5PXhE0Tk88DozORGqXjosUZfFrPIWEQoy3PRpyM4Si1KeNoongkOhLZW0QRH\nzeWCU1TWmpr7gGeAI8CTxphDIvIFEbnFOu0hQmtumoBPAm8pJVcqkcJTVAWLWGQMWiqu1FIcbBui\nutBD2QK6iC9GVaGHruGpc13LlYoU1ae/MWYHsGPGsc9FXJ4E7rjAY3x+EfEptSjdI1PYRchZQBfj\nSGV5Lg63DxEIGuy22OyCrFS2ONA2xCXL4jt6A6EEB+BIxzDXri6L+/Op9KKdjFVG6hmZIt/jWFAX\n40haKq7U4oxO+WnuHYtrBVVYdWGokkqnqdRsNMFRGal7ZGpRFVRhWiqu1OIc6RjGGOJaQRWW73ZY\nC421kkq9lSY4KiP1jEwtqslfWLg52YCO4Ci1IAda49vBeKaLqrw6gqNmpQmOykg9I5PkL6JEPMzr\ncWAXYXB8OoZRKZX5DrYPUe51U1HgScjzra8uoKl7lOlAMCHPp9KHJjgq4/gDQfrGfEuaorKJUJDj\n0DU4Si3QwbahhI3eAKyt9OILBDndN56w51TpQRMclXH6xnwYs7guxpGKcl0MTugIjlLRmvAFaOoe\njXv/m0hrK70AnOjSdTjqfJrgqIxzbpsG9+KnqACKcpw6RaXUAhzuGCZoYMOy+C8wDltVkQfA8a55\ndwRSWUgTHJVxwgnOYroYRyrKdTE8MU0gqLuHKBWNQ+3WAuPaxI3g5Loc1JXkcLxbR3DU+TTBURkn\nXNqdt8gmf2HFuU4MoY0DlVIXdqB1iNI8F1UJWmActrbCq1NU6i00wVEZJ7wwOG8JZeIAhblO6/E0\nwUkUEdkqIsdEpElE3rLli4i4ReQJ6/adItJgHd8sIm9YP/tE5LZEx67gYPswG2oKF91gc7HWVHo5\n1TumlVTqPJrgqIwzMO7DYRPcjqW9vYtzQr1wtJIqMUTEDnwNuBlYD9wlIutnnPYxYMAYsxp4APiS\ndfwg0GiM2QRsBf5dRJaW4aoFmZwOcKJrJCEN/mZaW5nPdMDQ0juW8OdWqUsTHJVx+semKcp1Lvlb\n5LkRHK2kSpTNQJMxptkY4wMeB7bNOGcb8Ih1+SngRhERY8y4tTEwgAfQhVMJdqxzBH/QJLREPOxc\nJVW3LjRWb9IER2WcwXEfxbmuJT+O024jz+3QKarEqQHORlxvtY7Neo6V0AwBpQAiskVEDgEHgI9H\nJDzniMi9IrJbRHb39PTE4a+QvQ60hRYYJ2KTzZlWlecjAsd1HY6KoAmOyjgDMUpwIFwqrlNUCTLb\nkNvMkZg5zzHG7DTGXAJcBXxGRN6y0tUY86AxptEY01heXr7kgNWbDrUPUZTrpLY4J+HPneOyU1+S\nywktFVcRNMFRGWfAmqKKhaJc7YWTQK1AXcT1WqB9rnOsNTaFQH/kCcaYI8AYsCFukaq3ONA2xIZl\niV9gHLamwqsjOOo8muCojDMw7qMkLzYjOMW5LgYnfBijSzoSYBewRkRWiIgLuBPYPuOc7cA91uXb\ngeeMMca6jwNARJYD64CWxIStpvwBjnWOJLSD8UxrK/M51TuGz6+VVCpEExyVUYwxDI5PUxSjKarC\nHCfTAcO4LxCTx1Nzs9bM3Ac8AxwBnjTGHBKRL4jILdZpDwGlItIEfBIIl5JfB+wTkTeAHwF/bIzp\nTezfIHud6BplOmCSUkEVtrbSiz9oaOnTSioVomWUKqOM+QL4AkGKYzRFVayVVAlljNkB7Jhx7HMR\nlyeBO2a536PAo3EPUM0qvMA4GRVUYWsq84HQQuNwVZXKbjqCozLKgNXFuDhGU1SFudoLR6kLOdg2\nhNfjoL4kN2kxrCrPxyboQmN1jiY4KqOEFwTHqoqqOEe7GSt1IQeTvMAYwOO0s7w0jxO6J5WyaIKj\nMkq/NdISqymqHJcdp110BEepOUwHghzpHEnoBptzWV2Rr7uKq3M0wVEZJZyIxGqKSkQoynXpGhyl\n5nCiaxSfP8gly5K3wDhsbWU+LVpJpSya4KiMcm4NToymqEKPpb1wlJrLwfbkLzAOC1dSndI9qRRa\nRaUyTP/4NCKh8u5YKcxx0TYwFLPHUypTPLbzDNv3teF22Hj5ZB+vNvdf+E5xtKYiVD11vGuEdVVa\nSZXtdARHZZTBcR+FOU7sttgtdizOdTLmCzA5rb1wlJqpfXCS6sIcbElcYBy2sjwvVEmlm24qNMFR\nGaZ/LHb7UIWFR4PaBidi+rhKpbtA0NAxNEFN0Vu2/UqKcCVVk1ZSKTTBURlmcHw6ZhVUYeGuyG0D\nmuAoFal3dIrpgGFZUeI32JzLmop87YWjAE1wVIaJ5U7iYeGNO9t1BEep84RHNVMqwbH2pJoOaCVV\nttNFxiqjDIz5uKhq/nLVx3aeWdBjFnicCDpFpdRMbYMTuOw2yr3uZIdyzpoKa0+q3jHW6JYNWU1H\ncFRGGRifpiQvtlNUdptQkOPUBEepGdoHJ6gu9KTEAuOw1RWhPal0obHSBEdljMnpABPTgZjtJB6p\nKNepa3CUihAIGjoGJ1NqegpCe1KJ7kml0CkqlUEGxmPf5C+sKMdJ+5AmOEqFneodwxcIUpPkBGe2\nKefiXBe/ONL1lqmzu7fUJyoslQJ0BEdljIGxULfhWE9RQaiSqnNokkDQxPyxlUpHB9tCzS9TbQQH\noMLrpntkMtlhqCSLKsERka0ickxEmkTk07Pc7haRJ6zbd4pIg3V8s4i8Yf3sE5HbYhu+Um8K70MV\nrymq6YChZ2Qq5o+tVDo62DaEwyYptcA4rMLroXfEp19IstwFExwRsQNfA24G1gN3icj6Gad9DBgw\nxqwGHgC+ZB0/CDQaYzYBW4F/FxGdFlNx0R/nKSrQSiqlwg60DVFd6Ilp1/BYqShwEzCGfmtvOpWd\nohnB2Qw0GWOajTE+4HFg24xztgGPWJefAm4UETHGjBtj/NZxD6DptIqbAWtDzOI4TFEVWkmT9sJR\nKrTA+GDbEDXFuckOZVYV1qiSTlNlt2gSnBrgbMT1VuvYrOdYCc0QUAogIltE5BBwAPh4RMJzjojc\nKyK7RWR3T0/Pwv8WSgGD1re1opz4jeBogqMUnOwZZcwXoK449dbfAOemzbqGdUo5m0WT4Mw2/jhz\nJGbOc4wxO40xlwBXAZ8RkbdsWmKMedAY02iMaSwvL48iJKXeqn/cR77bgcsR+7XzHqedAo9Dp6iU\nAt44OwhATYomOG6HnaJcp47gZLlo/idoBeoirtcC7XOdY62xKQT6I08wxhwBxoANiw1WqfkMjk/H\nZXoqbFlRjo7gKAXsOzuI1+2gLD/1FhiHVXjdWhSQ5aJJcHYBa0RkhYi4gDuB7TPO2Q7cY12+HXjO\nGGOs+zgARGQ5sA5oiUnkSs0Qj53EI9UU5dA2qN8IldrfOsTGusKU6mA8U6XXQ8/IFEGjSz+z1QUT\nHGvNzH3AM8AR4EljzCER+YKI3GKd9hBQKiJNwCeBcCn5dcA+EXkD+BHwx8aY3lj/JZSCUJl4PErE\nw2qKdQRHqcnpAEc6htlYW5TsUOZVUeDGHzQMaCVV1oqqZNsYswPYMePY5yIuTwJ3zHK/R4FHlxij\nUlEZGJ9mRVle3B5/WVEOQxPTjE75yXdrtwOVnQ53DOMPGi6rLUrpMuwKb2i5Z9fwFKUpPJWm4kc7\nGauMMTAW3xGccMdWHcVR2WyftcD4srrCJEcyv3ItFc96muCojDAdCDIy5Y/zGpzQN0KtpFLZbM/p\nAaoLPVQXpmYFVZjHaacwx0m3LjTOWprgqIwwOB6/fajCaopCTc10BEdlK2MMu1sGuHJ5cbJDiUqF\n1033sI7gZCtNcFRGGIjjPlRh5V43DptogqOyVtvgBJ3DkzSmSYJTWeChe2RK96TKUprgqIwQrpSI\n5xSV3SZUFXpoG9AER2WnPacHAGhsKElyJNGpLPDgDxr6xnSaKhtpgqMyQjz3oYoUavanQ94qO+1u\nGSDPZeeiKm+yQ4lKVeGblVQq+2iCozLCQBx3Eo9UW5Sji4xV1tp9eoDL64tx2NPjv44KrxsBOof0\nS0k2So93qVIXkKgEZ1lRDp3Dkzqnr7LOyOQ0xzqH02aBMYDTbqM0302XLjTOStqtTKW1x3aeAeCV\npj6cduFHr7fF9fmWFeUQCBq6hifP9cVRKhvsbhkgaOCqNFl/E1ZV4KZdR3Cyko7gqIww5guQ64p/\nvr7M6oWjlVQq27zU1IvLYaOxIX1GcAAqCz30j/mY8geSHYpKME1wVEYY9/nJddnj/jw11qiNrsNR\n2ealk31cWV+Mxxn/37NYqioIfSnp1oXGWUcTHJURxn2BhCQ4b27XoEPeKnv0jU5xpGOYa1eXJjuU\nBQsnOJ26DifraIKjMkJoBCf+U1R5bgdFuU7aBsfj/lxKpYpXmvsAuGZ1WZIjWbjiPBcuu00TnCyk\nCY7KCIkawQFYVqi9cFR2eampD6/bwcaa1N5gczY2ESoK3HTpQuOsowmOSntBY5hI0CJjCDf70zU4\nKjsYY3ipqZctK0vSpv/NTFUFHjqHJzFG2ztkk/R8tyoVYdIXwEDCRnBqi7XZn8oeJ3vGONM/zm+s\nLU92KItWWeBh3BegR3cWzyqa4Ki0N+4LlX8mbIqqyMPIpJ/hyemEPF+2EJGtInJMRJpE5NOz3O4W\nkSes23eKSIN1/CYR2SMiB6w/35Ho2DPZs0e6AHjHxZVJjmTxwls2HO0cSXIkKpE0wVFpb8znB0IL\ngBMhXEmlm27GjojYga8BNwPrgbtEZP2M0z4GDBhjVgMPAF+yjvcCv22MuRS4B3g0MVFnh2ePdHNx\ndcG5FgnpqNKqpDqmCU5W0QRHpb1Ej+DUFecCcLZfK6liaDPQZIxpNsb4gMeBbTPO2QY8Yl1+CrhR\nRMQY87oxpt06fgjwiIg7IVFnuIExH7tP9/POiyuSHcqS5LsdeN0OHcHJMrpVg0p7byY4iXk715VY\nCY6O4MRSDXA24norsGWuc4wxfhEZAkoJjeCEvR943Rijiy0WKbz9CcDrZ0LbM/gD5rzj6aiy0MOx\nruFkh6ESSEdwVNobt6aoEjWCU5zrJM9l1xGc2JJZjs0seZn3HBG5hNC01R/O+SQi94rIbhHZ3dPT\ns6hAs8nhjmG8bgc1xek7PRVWVeDhRNco/kAw2aGoBNEER6W9cV8Am4DbkZi3s4hQV5JL64AmODHU\nCtRFXK8F2uc6R0QcQCHQb12vBX4EfMQYc3KuJzHGPGiMaTTGNJaXp29VUCJMTgc41jnChppCbDJb\nbpleKgs8TPmDtPTp72220ARHpb1xn588lwNJ4IdwbXEuZ/t1iiqGdgFrRGSFiLiAO4HtM87ZTmgR\nMcDtwHPGGCMiRcBPgM8YY15KWMQZ7kjHMP6gYWNt+jX3m021VUl1pEOnqbKFJjgq7Y1NBchJ0PRU\nWF1JDmcHxrVxWIwYY/zAfcAzwBHgSWPMIRH5gojcYp32EFAqIk3AJ4FwKfl9wGrgsyLyhvWT3qti\nU8D+1iGKcpzn1pylu4oCNy67jYNtQ8kORSWILjJWaW88gV2Mw+qKcxn3Begf81GarwU7sWCM2QHs\nmHHscxGXJ4E7ZrnfF4Evxj3ALDLu83Oie4RrV5dlxPQUgMNmY12VlwOa4GQNHcFRaW/c5yfPnegR\nnNC32jO60FhloP2tQwQNbKwtSnYoMbWhppCDbUM68polNMFRaS+RG22G1WupuMpQxhheO9XPskIP\ny6x1K5liQ00Bw5N+XT+XJXSKSqU1YwzjPn/Cp6hqrbJZLRVXqW6h/WvO9o/TOTzJrZtqErpwPxEu\ntXZDP9g+RH1pZqwtUnPTERyV1qb8QYImcT1wwvLcDkrzXFoqrjLOay39uB02LsuQ6qlI66q8OGyi\n63CyhCY4Kq0luotxpNoSLRVXmWXc52d/6xCX1RXhdib2S0MiuB121lZ6tZIqS+gUlUpriexiPHOo\nPxg0HNaeGiqDvH5mEH/QsGVFSbJDiZtLawr5n8OdGGMybgpOnU9HcFRaG5sKjeDkJXiKCqAkz8Xg\nuI9AUCsyVPoLLy6uK86hujD9t2aYy4baQgbGp2kb1NHXTBdVgiMiW0XkmIg0icinZ7ndLSJPWLfv\nFJEG6/hNIrJHRA5Yf74jtuGrbPfmCE7iByOLc10EDXQM6QelSn+n+sboGZ1i84rSZIcSVxuWFQDo\nNFUWuGCCIyJ24GvAzcB64C4RWT/jtI8BA8aY1cADhDa8g9Auv79tjLmUUIv1R2MVuFIQuQYn8SM4\nxXlOAF2HozLCa6f68Tht5yqNMtXF1QXYbcLBNp1eznTRjOBsBpqMMc3GGB/wOLBtxjnbgEesy08B\nN4qIGGNeN8aEN8w7BHhERNu+qpgZnfJjE/AkY4oq1wXAWa2kUmludMrPobZhrqgvxpWgTWuTxeO0\ns6YiXyupskA07+Qa4GzE9Vbr2KznWHvKDAEzxznfD7xujJma+QQicq+I7BaR3T09PdHGrhSjk37y\n3Y6ktJMvzHUiQKv2wlFpbu/pAQLGsLkhcxcXR9KOxtkhmgRntv85Zr4r5j1HRC4hNG31h7M9gTHm\nQWNMozGmsby8PIqQlAoZnQolOMngsNkozHFqN2OV1oLG8FpLPw2leVQUZFbn4rlcWlNI35iPzuHJ\nZIei4iiaBKcVqIu4Xgu0z3WOiDiAQqDful4L/Aj4iDHm5FIDVirS6JSffE/yuh0U57m0m7FKayd7\nRukf82V0afhMG6x1RgdadZrL7jIkAAAgAElEQVQqk0WT4OwC1ojIChFxAXcC22ecs53QImKA24Hn\njDFGRIqAnwCfMca8FKuglQoLjeA4k/b8xbkuXYOj0tprp/rJddm5xKouygbrqwuwCRxs14XGmeyC\nCY61puY+4BngCPCkMeaQiHxBRG6xTnsIKBWRJuCTQLiU/D5gNfBZEXnD+qmI+d9CZSVjzLk1OMlS\nnOeka3iKyelA0mJQarGGJ6Y50jHMlcuLcdgze3FxpByXnTUVXva3DiY7FBVHUf3PYIzZAeyYcexz\nEZcngTtmud8XgS8uMUalZjU0MU3AmKROUYUrqVoHJlhdkZ+0OJRajN2nBwgasmZxcaRNdUU8ox2N\nM1r2pOwq4/SOhgrykjqCo6XiKk0FjWFXSz+ry/Mpzc++7h2X1xcxOD5NS5/+7mYq3YtKpa2eER8A\n3iQvMgYtFVfpp6l7lKGJad5zaXWyQ0mYyP3kwhVUX/9lE5fXF7/l3Lu31CcsLhUfOoKj0lYqjOB4\nPQ5cDpuWiqu0s/fMADlOOxdXeZMdSlJUeN24HTYdfc1gmuCotNUzkvwExyZCXXEOp/vGkhaDUgs1\n4QtwuH2Yy+oKs2pxcSSbCDXFObrVSgbLzne2ygi9o1PYJFQRkUwNpXmc1nl8lUYOtA3hDxqumGVq\nJpvUF+fSMTSBzx9MdigqDjTBUWmrd3SKvCRt0xBpuZXgaNt3lS72nhmgwuumpign2aEkVV1JLkED\n7YM6ipOJNMFRaat31Ic3idNTYQ1luUxMB85NmSmVygbGfZzpH2dTXVHWl0fXleQCcEaLBDKSJjgq\nbfWOTiW1B07Y8tI8AC03VWnhoLWL9sbaoiRHknz5bgdl+W5adA1dRtIER6Wt3pGppC4wDmsoDX0L\n1A9JlQ72tw5RU5RDidXiINs1lOZyum+coE4xZxxNcFRaMsbQO+pLiQSnpigHh020kkqlvP4xH22D\nE1xqbTapQiOwOsWcmTTBUWlpeMKPLxBMiQTHYbdRW5yjU1Qq5R2w9l66tFYTnDAdgc1cyf/fQalF\n6BkNdSHN9yRvJ/Gwx3aeweWw8fqZgfM6pYJ2Q1Wp5UjnCDVFOee2GFFQkuci3+3gdN84W1aUJjsc\nFUM6gqPSUqvVObgoJ/kJDkBJnpu+UZ+WiquUNe7zc7Z/nLWVuilsJBGx1uHoCE6m0QRHpaU2q29F\nUW5qJDileS6m/EHGfIFkh6LUrJq6RzHA2srs3JphPstL8xgYn2Zw3JfsUFQMaYKj0lLbwAQOm1CQ\nIiM4pfmhIf/+UV2oqFLT8a5Rcpz2c71f1JtWlodaPTT36ihOJtEER6WltsEJqgo9Se9iHFaa5wag\nb0y/AarUEzSGE10jrK7IT5nfmVRSWeAh12WnuUcTnEyiCY5KS20DEynVZr4414mgCY5KTZ1Dk4xM\n+Vmn01OzsomwoiyP5t7RZIeiYkgTHJWW2gYnqClOnQTHYbdRlOukT6eoVAo63jUCwBpdYDynlWV5\nDI5P069fUjKGJjgq7UwHgnQNT1KbQiM4EJqm0hEclYqOdY2wrMiDNwXaKqSqleWh5K+5R0dxMoUm\nOCrtdA5NEjSk1AgOQEm+i75RTXBUapnwBazycJ2emk+F102e26ELjTOIJjgq7YR74NQUpVY1SGme\ni4npAOM+f7JDUeqcpp5RggbWVmiCMx8RYVV5Hie7R7WfVYbQBEelnXAPnFQbwQlXUukcvkolx7tG\n8DhtWh4ehTUVXkam/HQOTyY7FBUDmuCotNNmjeBUF3qSHMn5SqxeODpNpVKFOVce7sVu0/LwCwkv\nwj7epetwMoEmOCrttA2OU+5143Hakx3KeUqs/X36xrSSSqWGIx0jDE/6WafVU1Ep8DipLvScqzpT\n6U0THJV22gZTqwdOmMtho8Dj0CkqlTKeP94NwBpdYBy1NRVeTveNMTqla+nSnSY4Ku20DqRWD5xI\npflunaJaJBHZKiLHRKRJRD49y+1uEXnCun2niDRYx0tF5JciMioi/5rouFPZ88d6qC70UKDl4VFb\nW5lP0MArJ/uSHYpaIk1wVFoZ9/k50z+eshUhpXku7YWzCCJiB74G3AysB+4SkfUzTvsYMGCMWQ08\nAHzJOj4JfBb4iwSFmxaGJ6fZc3pAy8MXqL40F7fDxnNHu5IdiloiTXBUWjnWOYIxcFF1an5ol+a7\nGZ3yMzmtu4ov0GagyRjTbIzxAY8D22acsw14xLr8FHCjiIgxZswY82tCiY6yvHSil0DQaIKzQA6b\njbWVXn5+uJtgUMvF05kmOCqtHOkILf5bX12Q5EhmV54fKhXvGdGFxgtUA5yNuN5qHZv1HGOMHxgC\nShfyJCJyr4jsFpHdPT09Swg39f3qeA9ej4N6LQ9fsPXVBfSOTvH62YFkh6KWQBMclVaOdg6T73ak\n5CJjgHKvleDonlQLNVsN88yvz9GcMy9jzIPGmEZjTGN5eflC7ppWjDE8f6yH61aXaXn4Iqyr8uK0\nC/9zSKep0pkmOCqtHOkY5qIqL7YU/dAuyXNhEx3BWYRWoC7iei3QPtc5IuIACoH+hESXZo51jdA5\nPMnb12VuEhdPHqedq1eV8cyhTu1qnMY0wVFpwxjD0Y4RLk7R6SkAu00ozXNrgrNwu4A1IrJCRFzA\nncD2GedsB+6xLt8OPGf0f59ZPX8sNP32G2srkhxJ+nrX+kpa+sa16V8aiyrB0fJNlQpaByYYmfKn\n7ALjsHKvW6eoFshaU3Mf8AxwBHjSGHNIRL4gIrdYpz0ElIpIE/BJ4NxnkYi0AP8MfFREWmepwMoq\nzx/r5qIqL1Up1u07nbz7kirsNmH7vrZkh6IWyXGhEyLKN28iNES8S0S2G2MOR5x2rnxTRO4kVL75\nQd4s39xg/Sg1p8d2npn1+N1b6oHQ9BSQ0iM4EEpwjnWOENAKjAUxxuwAdsw49rmIy5PAHXPctyGu\nwaWRkclpdrcM8PvXr0x2KGmt3OvmutVl/Nfr7fzvm9al7LS4mls0IzhavqlSwpGOEURgXYqXvZbn\nuwkYw4D2w1FJ8FJTH/6g0fU3MXDb5TW0DU6w+7RWU6WjaBKchJRvKnUhrzb3sbbCS577ggOPSaWV\nVCqZfnW8B6/bwZXLi5MdStp71yWV5Lrs/Oh1naZKR9EkOHEv38ym3hRqcYYnp9nV0s87Lk79RZNl\n2gtHJYkxhl8d6+ba1WU47VpDslS5LgfvvqSKp/e3M+HT5p3pJprfgLiXb2ZLbwq1eC8e78UfNNx4\nUeonODkuO163QxMclXAnukdpH5rkN3R6KmbuvKqOkUm/LjZOQ9EkOFq+qZLu2aNdFOU6ubw+PYbd\ny71uukZ06ZlKrOePhXYP1/U3sbN5RQkXVXl55OXT2hMnzVwwwdHyTZVsgWCoK+vb15anTVfWqkIP\nXcOTWkmlEur5Yz2sq/RSXZianb7TkYjwO1cv53DHMHvP6GLjdBLVak0t31TJtPfMAP1jPt5xcWWy\nQ4laVYGH6YDhTP84K8rykh2OygJjU352tfTze9euSHYoGefWTTX8w0+P8vCvW7hyeUmyw1FR0lVo\nKuV9+6VTFHgcvCMN1t+Ehb9Bh3v3KBVvL57oZTpgePu69Pk9SRd5bgcfuXo5Ow52cLxrJNnhqChp\ngqNSWt/oFD892MmH37ac/BQvD49UUeBGgKOa4KgE+cWRLgpznDQ2pMc6tXTz+9etJNdp56vPnkh2\nKCpKmuColPZiUy9Om42PXtuQ7FAWxGm3UeZ1c7hDv+2p+AsEDc8d7ebt68q1PDxOivNcfPTaBn5y\noINjnfp7nQ70N0GlrMFxH3tPD/C+K2qo8KbfnjrVhR6OduoIjoq/N86G1qm9M43WqaWj379uJV63\ngy88fUgrqtKAJjgqZf3sUCcAf3LjmiRHsjhVBR5aByYYnpxOdigqw/38cDcOm2j/mzgrznPxl+9e\nx0tNffzkQEeyw1EXoAmOSkln+sfZ3zrE9WvKqClKz5LXamsnZx3OVvFkjOHnhzvZvKKEAo8z2eFk\nvLu3LGdDTQF/+/Rhhib0y0sqS59VmyprGGP4yf52vB4HN6xN32+kVVYl1eH2Ya5q0NJSFR9HO0c4\n2TPGR7U8PCHsNuHvbruU277+Mn/zXwf56p2b+N5rZy98R8vdW+rjGJ2KpAmOirnHdp6Z87Zofrn3\ntQ5xdmCC919Rg9thj2VoCVXgcVBZ4GbvmQHuuaYh2eGoDPX0/nZsAjdvqEp2KFljY20Rf/7ONfzT\n/xzn7Wn8JSzT6RSVSik+f5BnDnWyrNCTNtsyzEVEuHJ5MXtOa/dTFR/GGP57XwfXri47t8mrSow/\nevtqtqwo4a//6wBtAxPJDkfNQhMclVJ+3dTL0MQ079lYjU3SY1uG+VxRX0zrwARdw7ovlYq9A21D\nnOkf570bq5MdStax24SvfegKSvPcPPpqi67HSUGa4KiUMTwxzQvHe7hkWQEry/KTHU5MNFprb3QU\nR8XDj99ox2ET3n2JTk8lQ1m+m4c/ehVT/iCPvtKCzx9MdkgqgiY4Ki6GJqb54d5WHn2lhe/vPkt3\nFCMYPz/cRcAYtmbQh/X66gLcDhu7WzTBUbE1OR3gh3tbuWl9JUW5rmSHk7XWVXm586o6OoYmeXL3\nWYLaHydlaIKjYu541wj/8twJ9rUOMjgxzeGOYb763Al+friL4By7a7/a3MfeMwNcs7KU0gxaS+By\n2Listog9uguxirFnDnUyMD6tVTkpYF1VAe+5tJrDHcM8c7Az2eEoiyY4KqZOdI3wnVdPU+Bxct9v\nruFP3rGG//2udVxWW8Qvj3XzZ0+8wZQ/cN59BsZ8/Nnjb1CS50qrDTWjdcXyYg61DTHhC1z4ZKWi\n9NjOM9SX5HLtqrJkh6KAa1aVsmVFCS829fLaqf5kh6PQMnG1BDPLwacDQf7t+ZO4nXZ+99oGvFbT\nsXy3g9uvrKWywMP2fe2c7hvjq3ddzvLSPLpHJvnT771B39gU996wCrczfcvC57JlRQnf+NVJdp7q\n052eVUw0dY+w81Q/n9q6Dpst/RfjZwIR4b0blzEw7mP7vjaKc52sqfQmO6yspiM4KmaeO9pN5/Ak\nt19Rcy65CRMRblhbzjc+fAWnesd495df4Lavv8RN//wCe84M8Pfv25i2HYsv5OpVpeQ47fz8cFey\nQ1EZ4t+eb8bjtPGBxrpkh6Ii2G3CnVfVU+H18NhrZ+jU6smk0gRHxcTguI+Xmnq5vK6IdVUFc563\ndUM1O/70eu64sg6Pw07j8mJ2fOJ6br+yNoHRJpbHaeeGtWX84kiXbtCnlux03xj/9UYbH9qyXHvf\npCCP085Hrl6Oy2HjO6+e1qnpJNIpKhUTzx7txgDvXH/h3Yxri3P521s3xD+oFHLT+iqeOdTFgbYh\nNtYWJTsclca+/suT2G3CH96wMtmhqDkU5bq4e3M933yxmaf2tvLhLfVIBvT1Sjc6gqOWrHt4kr2n\nB7h6ZSnFWq46q3dcVIFN4Bc6TaWW4GjnME/tbeXuzfVUFHiSHY6ax/LSPG7eUM2RjmFePNGb7HCy\nkiY4asmeP96D027jN3RPljmV5LloXF7Czw516jSVWpRg0PCZHx6gMMfJn964JtnhqChcs6qUS2sK\neeZQJ809o8kOJ+togqOWpG90in1nB9m8ooQ8t854zue2K2o43jXKLm36pxbhOztP8/qZQf7mty6m\nOE9HStOBiPC+y2soy3fz+K6zDE/qdg6JpP8jqSX51fEe7DbhujXx68Ux3+7k6eTWTTX8w0+P8sjL\nLWxeURLzx5/rddJGcOlhvvf52f5xvvliM2sq8nXRaoLE6nPH7bRz95Z6vv58E0/uOssfXL8Su5b2\nJ4SO4KhFGxz38fqZQRobiimYURau3irHZeeDV9Xxs0OddAzp7sMqOkMT03x352m8HgcfaKzTxapp\nqLLAwy2X1dDcO8ZXnz2R7HCyhiY4atFePNGLwXDDGl17E60Pb1lO0Bj+4+WWZIei0kD/mI9vvtjM\n5HSQD79tuU4Dp7ErlxdzRX0RX33uBC836aLjRNAERy1Kz8gUu1r6uby+WDf6W4D60ly2XbaMb7/U\nwtn+8WSHo1LY6b4xHnzhJBO+AL933QqqCzOzEWY2ueWyGlaV5/OJx9+ge0SbAMabJjhqUb71YjOB\noNHKqUX41NaLsAn8w8+OJjsUlYL8gSDPHe3imy8247Db+IPrV1JfkpvssFQMuBw2vnb3FYxOTXPf\nd19nOhBMdkgZTRMctWDtgxP8x8stbKor0k6qi7CsKIc/vGEVP9nfwUtxGKruHplkd0s/Pz3Ywa9P\n9PDKyT4tTU8TRzuH+cqzJ/jFkW421BRy32+upqpQ+91kknVVXr70/o281tLP3z59ONnhZDSd0FUL\n9sDPj2NMdF2L1ew+/hur+O/97XzyyTf46Z/eQMkSy36NMRxuH+LFpl5O94WmvuwiBIxhx8FOrqgv\n4m/eu54r6otjEb6KsRNdIzzycgvHukYoz3fzu9c06EaNGWzbphoOtw/z7y80s7Isj49euyLZIWUk\nTXDUghzpCHVS/f3rVmjX4iXIcdn56p2X876vv8ynntrPg79z5aJ3hX61uY+/33GEfa1DFOc6uXlD\nFeurCyjOczHpC5DrdvAvz53gg//+CvffskHLxlNI68A4X/7FCX64txWn3cbNG6q4elUpDtv8g+uZ\n0johm31q60Wc6h3j/qcPU+718FsbqxP6/At5D6XrZ0bWJjjz/eOm6z9mvE0HgvzlU/soznXxv35z\nNTsOdC74MbLtg/lCf993XVLJ0/s7+MjDr/GeS0MfcPO9/yIfb2DMx08PdnCwfZjCHCfvv6KGTXXF\n5/XYyHU7uHtLPb+1sZpPfO91/s+PDtDSN8Znbr5Iy42TqHd0iq/9sonvvnoGBD523QoqvB6tksoi\ndpvw1bsu58Pf2smfPfE6Ipz7DFCxob9NKmpf+2UTB9uG+caHr9DKqRi5emUpvaM+ft3US57Lzg1R\nLNqenA7wwokefn2iFxF458UVXL+mHKd97m/9hTlOHv7oVdz/34d48IVmBsd9/N1tl+KY5z4q9kYm\np/nWi6f41ovNTEwH+EBjHZ+4cQ3LinKyLvlXoZ3HH/7dq/jdb+/ivsf28vfvu5QPXqVfsGMlqxKc\n031j/OJINyd7Rtl3dpACj5OqQg8XVxeQr9+c5vXc0S7+5bkmbt20jK0b9FtGrIgI791YzbjPzzOH\nuxicmOYDV9XNmqxMB4K82tzHs0e6GPMFuKy2kHdfUhV1smm3CfffcgnFuS6+8uwJhiam+cqdl+Nx\n2mP911Iz9I1O8Z+vnOY/X2lhYHya91xaxSdvWsfqivxkh6aSrMDj5D9/bzMf/84e/uoHB9jfOsRn\n37s+Kb+X41N+TvWN0T44Qd+Yj3FfAJ8/yPZ9beS7ndQW57CqIp/L64q4qMqb8l+QMv5/dX8gyM8O\ndfLwr0+x98wgENr40CbCie5RfP4gP36jjbWVXq5dXcbKsrwkR5x6Xj7Zyx99Zy/rqwv421s3JDuc\njGMT4QONdRTlOHnhRC/v/vIL/Pk713L9mjK8HicdQxM8c6iL7756mubeMRpK87jn0ipqixdeOiwi\n/PlNaynKdXL/fx/mdx7ayVfuvJxlRdpjJdaMMRzrGuG7r57h+3vOMjkd5MaLKvjEjWu4rK4o2eGp\nFJLndvDtj17FP/3Pcb7xq5O81NTL/ds2cMOasrhOJU/4ApzqHaO5d5RTvWN0Dk1iAAGKcp3kux24\nHDaCwdB6sVeb+xid8gOQ47RzWV0hV68s45rVpVxWW4TLkVoJT1QJjohsBb4C2IFvGWP+YcbtbuA/\ngSuBPuCDxpgW67bPAB8DAsAnjDHPxCz6eXQPT/KDvW08+koL7UOTLC/N5a/fczFbN1RRV5LLYzvP\nYIyha3iKfa2D7G7p56Ffn6KqwIPTbuO3NlZn/Xz4dCDI1395kn957gQryvJ45Pc249UtGeLCJsLW\nDdUsL83jleY+/uR7rwPgsAn+YKjE+9KaQn7nbcu5qMq75A+93712BaX5bj79g/3c/JUX+dTWddxx\nZV3SP6DS8bMmUiBoON41wjOHOnl6fwdN3aO47DZuvXwZf3D9Sq2MUnNy2G18+uaLuG51GZ/98UHu\nefg1NtUV8dFrGnjn+sqYzDJ0j0yy/+wQrzb3seNABx1WQuOwCctLc7nx4kpWledRU5Rz3uhMeF2g\nMYbWgQn2nhng9TOD7Grp58vPHueBX0Cuy85VDSVcs6qUa1aVsX5ZQdL33JIL9ccQETtwHLgJaAV2\nAXcZYw5HnPPHwEZjzMdF5E7gNmPMB0VkPfA9YDOwDPgFsNYYM+ducY2NjWb37t1R/wUCQcPopJ+h\niWmae0c51D7Mr0/08lpLP4Gg4W0rS/jYdSt5x0UV573YM+e7pwNB9p0d5KWTvXQNT+Fx2nj72go2\nryhhQ00hy0tzKcp14nZk7nC+PxCkd9TH0c5hXm3u5wd7W+kZmeLWTcu4/5YNFOaen9zomoH4+EBj\nLTtP9bO/dYiRyWmqi3J424oS1lR6F/Waz7do+VTvGH/5/X3sPj1AVYGH91xazXVrSlld7qWq0LPg\nhEdE9hhjGhccJKn/WWOMYcofZGo6yKQ/QN+oj87hCTqGJjndN86+s4McbBtizBdABDY3lPDey5Zx\n84aqqPpF6e9TdoimiGVyOsBTe1r55ovNnO4bx+WwcUV9EZvqiqkryWFZUQ7LCnPwehw47TacdkEQ\nxqf9jPsCjE356Rqeon1wgvbBCU72jHKgbYiu4Skg1HCwpiiHleV5rCzLp644Z97ppvliHhz38Wpz\nP6+c7OXlk32c6B4FIM9lZ3Wll7UV+aypzGdZUQ5l+W7KvW6Kcpy4nXbcDhsOmyz4C1u0nzPRpISb\ngSZjTLP1wI8D24DIDkXbgM9bl58C/lVCEW8DHjfGTAGnRKTJerxXov2LzOWfnjnGt186xdgsO+te\nVOXlD29YyfuvrGVVeXRz3E67jcaGEq5cXsyaSi/b97Xxy6M9/OxQ54zz5NywnSCIhIbzwv9AIqEf\n4Nzt4RzSELpgzJvHwowJ33r++W9ejrwt4nEi7h++5dx9Io7xlsd56/NN+QNYgwXYBH5zXQW/c/Vy\n3r6uYt7XTsWWw27j2tVlXLs6fju0h60oy+P7H7+aF0/08u2XTvGdnad5+KVT5273OG383W2X8r4r\nauMeCyn6WfO2v3uWwQkfU/7gW35vw1x2GxcvK+D2K2vZWFvEdWvKqCzQBn1qcTxOOx9+23Lu3lzP\nnjMD/OxgJ7ta+vnWi83nRnSj5XLYWF6SyzWrythQU8ilNYVsrC3kh3vbYhJrUa6LrRuq2LqhCgjN\nnrzS3Mfe0wOc6B7ll8d6+P6e1jnvbxNwO+zkuuzs+exNMYkpLJoEpwY4G3G9Fdgy1znGGL+IDAGl\n1vFXZ9y3ZuYTiMi9wL3W1SkRORhV9HM4DTwD/NVSHmRuZUAq75QWs/hOAQ/H4oHOlzWv32J9aP6b\nFxzfBR7vgt7/xQWdvnwJT5Xoz5pRETm2hHjPcwLYfuHTkv7+WoJ0jT2l4l7A72PM4j5BaEhzsRb4\nGbLouOVzUZ8a1edMNAnObGNHM1PIuc6J5r4YYx4EHgQQkd2LHeJOBI1vaTS+pUn1+JYooZ81yZDO\n/37pGrvGnVipFHc0E+ytQF3E9Vqgfa5zRMQBFAL9Ud5XKaVAP2uUUjEUTYKzC1gjIitExAXcyVtH\nYrcD91iXbweeM6EFINuBO0XELSIrgDXAa7EJXSmVYfSzRikVMxecorLmue8jtKzFDjxsjDkkIl8A\ndhtjtgMPAY9aC/v6CX0wYZ33JKFFgn7gf81X1WBJ2vBxlDS+pdH4libV41u0JHzWJEM6//ula+wa\nd2KlTNwXLBNXSimllEo3qdV2UCmllFIqBjTBUUoppVTGSWqCIyJ3iMghEQmKSOOM2z4jIk0ickxE\n3h1xfKt1rElEPp3AWJ8QkTesnxYRecM63iAiExG3fSNRMc2I7/Mi0hYRx3sibpv1tUxwfP+fiBwV\nkf0i8iMRKbKOp8TrZ8WSlPfWPPHUicgvReSI9Xvyp9bxOf+tVepKtffXXOZ535WIyM9F5IT1Z3Gy\nY52NiNhF5HURedq6vkJEdlpxP2EtYE8pIlIkIk9Zn5FHROTqNHq9/9x6nxwUke+JiCdlXnNjTNJ+\ngIuBdcDzQGPE8fXAPsANrABOElp0aLcurwRc1jnrkxD3/wU+Z11uAA4m83W04vg88BezHJ/1tUxC\nfO8CHNblLwFfSrHXLyXeWzNiqgausC57CW1jsH6uf2v9Sd2fVHx/zRPrXO+7fwQ+bR3/dPh3ONV+\ngE8CjwFPW9efBO60Ln8D+KNkxzhLzI8Av29ddgFF6fB6E2qmeQrIiXitP5oqr3lSR3CMMUeMMbN1\nEj3Xdt0YcwoIt10/18rdGOMDwq3cE0ZEBPgAoX1v0sFcr2VCGWP+xxjjt66+SqhPSSpJ+ntrJmNM\nhzFmr3V5BDjCLN15VVpIuffXXOZ5320j9B8x1p+3JifCuYlILfBbwLes6wK8g9C2HpCCcYtIAXAD\noQpBjDE+Y8wgafB6WxxAjtWXKhfoIEVe81RdgzNby/aaeY4n0vVAlzHmRMSxFdaQ6K9E5PoExxPp\nPmsK6OGI4cxUeM1m+j3gpxHXU+H1S8XX6RwRaQAuB3Zah2b7t1apK6XfX3OZ8b6rNMZ0QCgJAlJx\nk7ovA58Cgtb1UmAw4stVKr7uK4Ee4NvW5+C3RCSPNHi9jTFtwD8BZwglNkPAHlLkNY97giMiv7Dm\n5mb+zPftZUnt2Bcryljv4vzRmw6g3hhzOdbQqJWRx9wF4vs3YBWwyYrp/4bvNstDxaU3QDSvn4j8\nNaE+Jd+1DiXs9buAhL1OCyUi+cAPgD8zxgwz97+1Sl0p+/6ayyzvu5QmIu8Fuo0xeyIPz3Jqqr3u\nDuAK4N+sz8ExQlNSKXbcGaIAAAZTSURBVM/6crWN0PKHZUAecPMspyblNY9mL6olMca8cxF3m6/t\netzasV8oVmsI7n3AlRH3mQKmrMt7ROQksBbYHau4oo0vIs5vAk9bVxPWwj6K1+8e4L3AjcaanE3k\n63cBKdnqX0SchP6T+a4x5ocAxpiuiNsj/61V6krJ99dcZnvfAV0iUm2M6RCRaqA7eRHO6lrgFmvR\nvQcoIDSiUyQiDmtEIRVf91ag1RgTHp19ilCCk+qvN8A7gVPGmB4AEfkhcA0p8pqn6hTVXG3Xo2nl\nHk/vBI4aY87t/S4i5SJity6vtGJtTmBM4TiqI67eBoR3ZE+JFvYispXQBu+3GGPGI46nxOtH8t9b\nb2GtH3gIOGKM+eeI43P9W6vUlXLvr7nM9b7j/G0y7gF+nOjY5mOM+YwxptYY00Do9X3OGPMh4JeE\ntvWA1Iy7EzgrIuusQzcS6sid0q+35QzwNhHJtd434dhT4zVP8grs2whlr1NAF/BMxG1/Tajq4Bhw\nc8Tx9xBa1X8S+OsEx/sfwMdnHHs/cIhQVcRe4LeT9Fo+ChwA9hP6xai+0GuZ4PiaCK1BeMP6+UYq\nvX7Jfm/NEc91hIZ290e8bu+Z799af1L3J9XeX/PEOdf7rhR4Fjhh/VmS7Fjn+Tu8nTerqFYS+lLX\nBHwfcCc7vlni3URo1Ho/8F9Acbq83sD9wFFCX7QeJVSxmxKvuW7VoJRSSqmMk6pTVEoppZRSi6YJ\njlJKKaUyjiY4SimllMo4muAopZRSKuNogqOUUkqpjKMJjlJKqaQQkdFkxzAbEfm8iPyFdfl5EWlM\ndkxq4eLeyVilLxGpItQJ9CpCvYpaCLVtPx6Dx36e0K7FU4R2z/0F8DeEdl1+1jqtCggQ2qcFQhsW\nlsQrJqWUUplDR3DUrKyulD8CnjfGrDLGrAf+D1AZw6f5kDFmI7CRULLyY2NMnzFmkzFmE/AN4IGI\n69MJiEkplUQislxEnrU2k31WROqt4/8hIl8VkZdFpFlEbreO20Tk6yJySESeFpEdInK7iGy2tg5A\nRLaJyISIuETEIyLN1vE/EJFdIrJPRH4gIrnzxGUTkUdE5IuJeB3U0mmCo/7/9u4nxKoyjOP490fF\nRBgIZVGL0J2BwyxkEGkyXAatbOEiXEjlKiratKigRVGozCJCclFIIlHSn1UQhtY4KBVETVRg7RIK\nWlTgon/2c/G8Ny+Dx/E6N71z+33gMpf3HM55z+I+87zve855umwF/rL9Sq/B9hfAvKQ9rYjmV5K2\nQ3eQuZQT2f6TqgB8h6SpQftk+/jlXGBEjKSXgdfb4OcQ8FLfttuoNy3fB7zY2rYBa4FJ4CFgc2v/\nnKqEDnA39abdaWATVR0d4B3b07angG+BBzv6dG3ryynbTy/n4uLKyRJVdNlAlb1fbBv1WvEp4Gbg\nM0lzVKG7tVSQuYUKFq9d6slsn5X0JbCeKtswSJ8iYnxspuIM1Kv/d/dte8/2P8A3knoztzPA4db+\nk6RjALb/lvS9pDup5e1ZYAu1DN4bFG1oMzKrgVXABx192g+8Zfv5oVxhXBGZwYlBzQBv2D7rqmr9\nMTUq+jfIuIrHHbuMY2uI/YyI8dBfT+iPvu9a9PdCjgP3UsvbH1JxagaYa9sPAI/YnqRqKl3fcZwT\nwFZJXdtjBCXBiS5fAxsv0N4VTJaVnLSK4pPUzM+gfYqI8XGCqgYO8AAwv8T+88D9bZn8VqrQZs8c\n8Dhw0vbPVAHL9VQsAbgR+FHSde1cXV4F3gcOS8rKxwqRBCe6HAUmJD3ca5A0DfwCbJd0jaQ11JTv\np1w8yFxUCy4vAD/YXhi0T5LuGeC6ImJ03CDpdN/nCeBRYKekBWAH8NgSx3gbOE3dY7Ofur/mt7bt\nE+ohhN6MzQKw4PNVpp9p+xyhKmJ3sj1L3ddzUFL+d64AqSYenSTdTj2SvRH4nfZINrCLmvY18Jzt\nN9sPfh+V8JwCJoBZ20c6jv0R5x8Tn6Cmj5+y/WvfPs8CZ2zvXapPtr8b0mVHxAojaZXtM5JuogZc\nd7Wl8vgfS4ITQ5MgExFXQxswrabeqbXb9oGr2qEYCUlwYmgSZCIiYlQkwYn/lKR3gXWLmp+03fU4\nZkRExLIlwYmIiIixkzvBIyIiYuwkwYmIiIixkwQnIiIixk4SnIiIiBg75wBiU8B99uxvxAAAAABJ\nRU5ErkJggg==\n",
          "text/plain": "<matplotlib.figure.Figure at 0x1a1342a780>"
         },
         "metadata": {},
         "output_type": "display_data"
        },
        {
         "data": {
          "image/png": "iVBORw0KGgoAAAANSUhEUgAAAsgAAAFgCAYAAACmDI9oAAAABHNCSVQICAgIfAhkiAAAAAlwSFlz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\n/9dGKkrb2AkfAAAAAElFTkSuQmCC\n",
          "text/plain": "<matplotlib.figure.Figure at 0x1a13446908>"
         },
         "metadata": {},
         "output_type": "display_data"
        }
       ]
      }
     },
     "40a2baf7c8f14c00ae42ba8f4b4b88d8": {
      "model_module": "@jupyter-widgets/base",
      "model_module_version": "1.0.0",
      "model_name": "LayoutModel",
      "state": {}
     },
     "4291f1e01fdf4e2886e82e24b6f4b341": {
      "model_module": "@jupyter-widgets/controls",
      "model_module_version": "1.0.0",
      "model_name": "DropdownModel",
      "state": {
       "_options_labels": [
        "SubjID",
        "Dx",
        "Gait - Lower Limb - Gait Speed L (m/s) [mean]",
        "Gait - Lower Limb - Gait Speed R (m/s) [mean]",
        "GaitSpeed_LRmean_2minWalk",
        "GaitSpeed_LRstd_2minWalk",
        "Gait - Lower Limb - Stride Length L (m) [mean]",
        "Gait - Lower Limb - Stride Length R (m) [mean]",
        "StrideLength_LRmean_2minWalk",
        "StrideLength_LRstd_2minWalk",
        "Gait - Lower Limb - Double Support L (%GCT) [mean]",
        "Gait - Lower Limb - Double Support R (%GCT) [mean]",
        "DoubleSupportTime_LRmean_2minWalk",
        "DoubleSupportTime_LRstd_2minWalk",
        "Gait - Lower Limb - Foot Strike Angle L (degrees) [mean]",
        "Gait - Lower Limb - Foot Strike Angle R (degrees) [mean]",
        "FootStrikeAngle_LRmean_2minWalk",
        "FootStrikeAngle_LRstd_2minWalk",
        "Turn_Velocity_mean_2minWalk",
        "Steps_in_Turn_mean_2minWalk",
        "Gait - Lower Limb - Gait Speed L (m/s) [mean].1",
        "Gait - Lower Limb - Gait Speed R (m/s) [mean].1",
        "GaitSpeed_LRmean_1minDT",
        "GaitSpeed_LRstd_1minDT",
        "Gait - Lower Limb - Stride Length L (m) [mean].1",
        "Gait - Lower Limb - Stride Length R (m) [mean].1",
        "StrideLength_LRmean_1minDT",
        "StrideLength_LRstd_1minDT",
        "Gait - Lower Limb - Double Support L (%GCT) [mean].1",
        "Gait - Lower Limb - Double Support R (%GCT) [mean].1",
        "DoubleSupportTime_LRmean_1minDT",
        "DoubleSupportTime_LRstd_1minDT",
        "Gait - Lower Limb - Foot Strike Angle L (degrees) [mean].1",
        "Gait - Lower Limb - Foot Strike Angle R (degrees) [mean].1",
        "FootStrikeAngle_LRmean_1minDT",
        "FootStrikeAngle_LRstd_1minDT",
        "Turn_Velocity_mean_1minDT",
        "Steps_in_Turn_mean_1minDT",
        "GaitSpeed",
        "StrideLength",
        "DoubleSupportTime",
        "FootStrikeAngle",
        "TurnVelocity",
        "StepsInTurn",
        "Seated",
        "Longwalk",
        "Cog_DTC",
        "Dx_name"
       ],
       "description": "Group by:",
       "index": 47,
       "layout": "IPY_MODEL_82f66a49647d4cf98ee0eb6c7e879421",
       "style": "IPY_MODEL_4398e3dbf5a74a089cc20f8db249dc39"
      }
     },
     "4344e8a9d8e94a2b867ef7b694af8a7d": {
      "model_module": "@jupyter-widgets/base",
      "model_module_version": "1.0.0",
      "model_name": "LayoutModel",
      "state": {}
     },
     "4398e3dbf5a74a089cc20f8db249dc39": {
      "model_module": "@jupyter-widgets/controls",
      "model_module_version": "1.0.0",
      "model_name": "DescriptionStyleModel",
      "state": {
       "description_width": ""
      }
     },
     "457639d0cd134a308fc88e7bbd829c3e": {
      "model_module": "@jupyter-widgets/controls",
      "model_module_version": "1.0.0",
      "model_name": "DescriptionStyleModel",
      "state": {
       "description_width": ""
      }
     },
     "458d55f2c9af42bfb750587b0c6c17b2": {
      "model_module": "@jupyter-widgets/controls",
      "model_module_version": "1.0.0",
      "model_name": "DescriptionStyleModel",
      "state": {
       "description_width": ""
      }
     },
     "46a176562a7140b68c6c537ee586dcd5": {
      "model_module": "@jupyter-widgets/base",
      "model_module_version": "1.0.0",
      "model_name": "LayoutModel",
      "state": {}
     },
     "4759ea3257c64d57bfdc19d7b2214a14": {
      "model_module": "@jupyter-widgets/controls",
      "model_module_version": "1.0.0",
      "model_name": "SelectMultipleModel",
      "state": {
       "_options_labels": [
        "SubjID",
        "Dx",
        "Gait - Lower Limb - Gait Speed L (m/s) [mean]",
        "Gait - Lower Limb - Gait Speed R (m/s) [mean]",
        "GaitSpeed_LRmean_2minWalk",
        "GaitSpeed_LRstd_2minWalk",
        "Gait - Lower Limb - Stride Length L (m) [mean]",
        "Gait - Lower Limb - Stride Length R (m) [mean]",
        "StrideLength_LRmean_2minWalk",
        "StrideLength_LRstd_2minWalk",
        "Gait - Lower Limb - Double Support L (%GCT) [mean]",
        "Gait - Lower Limb - Double Support R (%GCT) [mean]",
        "DoubleSupportTime_LRmean_2minWalk",
        "DoubleSupportTime_LRstd_2minWalk",
        "Gait - Lower Limb - Foot Strike Angle L (degrees) [mean]",
        "Gait - Lower Limb - Foot Strike Angle R (degrees) [mean]",
        "FootStrikeAngle_LRmean_2minWalk",
        "FootStrikeAngle_LRstd_2minWalk",
        "Turn_Velocity_mean_2minWalk",
        "Steps_in_Turn_mean_2minWalk",
        "Gait - Lower Limb - Gait Speed L (m/s) [mean].1",
        "Gait - Lower Limb - Gait Speed R (m/s) [mean].1",
        "GaitSpeed_LRmean_1minDT",
        "GaitSpeed_LRstd_1minDT",
        "Gait - Lower Limb - Stride Length L (m) [mean].1",
        "Gait - Lower Limb - Stride Length R (m) [mean].1",
        "StrideLength_LRmean_1minDT",
        "StrideLength_LRstd_1minDT",
        "Gait - Lower Limb - Double Support L (%GCT) [mean].1",
        "Gait - Lower Limb - Double Support R (%GCT) [mean].1",
        "DoubleSupportTime_LRmean_1minDT",
        "DoubleSupportTime_LRstd_1minDT",
        "Gait - Lower Limb - Foot Strike Angle L (degrees) [mean].1",
        "Gait - Lower Limb - Foot Strike Angle R (degrees) [mean].1",
        "FootStrikeAngle_LRmean_1minDT",
        "FootStrikeAngle_LRstd_1minDT",
        "Turn_Velocity_mean_1minDT",
        "Steps_in_Turn_mean_1minDT",
        "GaitSpeed",
        "StrideLength",
        "DoubleSupportTime",
        "FootStrikeAngle",
        "TurnVelocity",
        "StepsInTurn",
        "Seated",
        "Longwalk",
        "Cog_DTC",
        "Dx_name"
       ],
       "description": "Plot:",
       "index": [
        46,
        45
       ],
       "layout": "IPY_MODEL_a348116ab2704198a562cc9118a14d98",
       "rows": 5,
       "style": "IPY_MODEL_ad7472cc613349d7affefcae8888895e"
      }
     },
     "4769266deba04f9e975cf5c97a1a5426": {
      "model_module": "@jupyter-widgets/controls",
      "model_module_version": "1.0.0",
      "model_name": "SelectMultipleModel",
      "state": {
       "_options_labels": [
        "SubjID",
        "Dx",
        "Gait - Lower Limb - Gait Speed L (m/s) [mean]",
        "Gait - Lower Limb - Gait Speed R (m/s) [mean]",
        "GaitSpeed_LRmean_2minWalk",
        "GaitSpeed_LRstd_2minWalk",
        "Gait - Lower Limb - Stride Length L (m) [mean]",
        "Gait - Lower Limb - Stride Length R (m) [mean]",
        "StrideLength_LRmean_2minWalk",
        "StrideLength_LRstd_2minWalk",
        "Gait - Lower Limb - Double Support L (%GCT) [mean]",
        "Gait - Lower Limb - Double Support R (%GCT) [mean]",
        "DoubleSupportTime_LRmean_2minWalk",
        "DoubleSupportTime_LRstd_2minWalk",
        "Gait - Lower Limb - Foot Strike Angle L (degrees) [mean]",
        "Gait - Lower Limb - Foot Strike Angle R (degrees) [mean]",
        "FootStrikeAngle_LRmean_2minWalk",
        "FootStrikeAngle_LRstd_2minWalk",
        "Turn_Velocity_mean_2minWalk",
        "Steps_in_Turn_mean_2minWalk",
        "Gait - Lower Limb - Gait Speed L (m/s) [mean].1",
        "Gait - Lower Limb - Gait Speed R (m/s) [mean].1",
        "GaitSpeed_LRmean_1minDT",
        "GaitSpeed_LRstd_1minDT",
        "Gait - Lower Limb - Stride Length L (m) [mean].1",
        "Gait - Lower Limb - Stride Length R (m) [mean].1",
        "StrideLength_LRmean_1minDT",
        "StrideLength_LRstd_1minDT",
        "Gait - Lower Limb - Double Support L (%GCT) [mean].1",
        "Gait - Lower Limb - Double Support R (%GCT) [mean].1",
        "DoubleSupportTime_LRmean_1minDT",
        "DoubleSupportTime_LRstd_1minDT",
        "Gait - Lower Limb - Foot Strike Angle L (degrees) [mean].1",
        "Gait - Lower Limb - Foot Strike Angle R (degrees) [mean].1",
        "FootStrikeAngle_LRmean_1minDT",
        "FootStrikeAngle_LRstd_1minDT",
        "Turn_Velocity_mean_1minDT",
        "Steps_in_Turn_mean_1minDT",
        "GaitSpeed",
        "StrideLength",
        "DoubleSupportTime",
        "FootStrikeAngle",
        "TurnVelocity",
        "StepsInTurn",
        "Seated",
        "Longwalk",
        "Cog_DTC",
        "Dx_name"
       ],
       "description": "Plot:",
       "index": [
        46,
        45
       ],
       "layout": "IPY_MODEL_4cbcda0e4be14f4aa8848fd1b426b5a3",
       "rows": 5,
       "style": "IPY_MODEL_c0eebbd629ad4f928c9cb9ea0a5160cc"
      }
     },
     "48a13ee0caf54094a3a3dcec374a44ac": {
      "model_module": "@jupyter-widgets/controls",
      "model_module_version": "1.0.0",
      "model_name": "SelectMultipleModel",
      "state": {
       "_options_labels": [
        "PD",
        "FGD",
        "Control"
       ],
       "description": "Select:",
       "index": [
        0,
        2
       ],
       "layout": "IPY_MODEL_0382316e24b845e3be51412e750f5be5",
       "rows": 5,
       "style": "IPY_MODEL_37074114b444499aa53dd0bf2dfe6481"
      }
     },
     "4907259e5f8848069c912ab4865f59b6": {
      "model_module": "@jupyter-widgets/controls",
      "model_module_version": "1.0.0",
      "model_name": "ToggleButtonsModel",
      "state": {
       "_options_labels": [
        "boxplot",
        "swarmplot",
        "violinplot",
        "pairplot",
        "linear model"
       ],
       "button_style": "",
       "description": "Plot type:",
       "icons": [],
       "index": 0,
       "layout": "IPY_MODEL_9a33c2747c4a44d393737c6fa1961547",
       "style": "IPY_MODEL_bf7b04df8bdc48518a5e650da9016e84",
       "tooltips": []
      }
     },
     "49318452bb0a48c29b148ac2b2ef3e7d": {
      "model_module": "@jupyter-widgets/controls",
      "model_module_version": "1.0.0",
      "model_name": "DescriptionStyleModel",
      "state": {
       "description_width": ""
      }
     },
     "49599a4d3c3b458196aab61402e0666e": {
      "model_module": "@jupyter-widgets/controls",
      "model_module_version": "1.0.0",
      "model_name": "SelectMultipleModel",
      "state": {
       "_options_labels": [
        "PD",
        "FGD",
        "Control"
       ],
       "description": "Select:",
       "index": [
        0,
        2
       ],
       "layout": "IPY_MODEL_1af1b9f993374c24951a28be96bf2b67",
       "rows": 5,
       "style": "IPY_MODEL_9102fb8757bc46d5be058852f3f6c927"
      }
     },
     "49ef77672e2f409393b96d9e309d2753": {
      "model_module": "@jupyter-widgets/controls",
      "model_module_version": "1.0.0",
      "model_name": "DescriptionStyleModel",
      "state": {
       "description_width": ""
      }
     },
     "4a2ae91a520d43dd9a4f02cbd2483f72": {
      "model_module": "@jupyter-widgets/controls",
      "model_module_version": "1.0.0",
      "model_name": "DescriptionStyleModel",
      "state": {
       "description_width": ""
      }
     },
     "4a4bde94e9b44a2f8ee99aa1041a055e": {
      "model_module": "@jupyter-widgets/controls",
      "model_module_version": "1.0.0",
      "model_name": "DropdownModel",
      "state": {
       "_options_labels": [
        "SubjID",
        "Dx",
        "Gait - Lower Limb - Gait Speed L (m/s) [mean]",
        "Gait - Lower Limb - Gait Speed R (m/s) [mean]",
        "GaitSpeed_LRmean_2minWalk",
        "GaitSpeed_LRstd_2minWalk",
        "Gait - Lower Limb - Stride Length L (m) [mean]",
        "Gait - Lower Limb - Stride Length R (m) [mean]",
        "StrideLength_LRmean_2minWalk",
        "StrideLength_LRstd_2minWalk",
        "Gait - Lower Limb - Double Support L (%GCT) [mean]",
        "Gait - Lower Limb - Double Support R (%GCT) [mean]",
        "DoubleSupportTime_LRmean_2minWalk",
        "DoubleSupportTime_LRstd_2minWalk",
        "Gait - Lower Limb - Foot Strike Angle L (degrees) [mean]",
        "Gait - Lower Limb - Foot Strike Angle R (degrees) [mean]",
        "FootStrikeAngle_LRmean_2minWalk",
        "FootStrikeAngle_LRstd_2minWalk",
        "Turn_Velocity_mean_2minWalk",
        "Steps_in_Turn_mean_2minWalk",
        "Gait - Lower Limb - Gait Speed L (m/s) [mean].1",
        "Gait - Lower Limb - Gait Speed R (m/s) [mean].1",
        "GaitSpeed_LRmean_1minDT",
        "GaitSpeed_LRstd_1minDT",
        "Gait - Lower Limb - Stride Length L (m) [mean].1",
        "Gait - Lower Limb - Stride Length R (m) [mean].1",
        "StrideLength_LRmean_1minDT",
        "StrideLength_LRstd_1minDT",
        "Gait - Lower Limb - Double Support L (%GCT) [mean].1",
        "Gait - Lower Limb - Double Support R (%GCT) [mean].1",
        "DoubleSupportTime_LRmean_1minDT",
        "DoubleSupportTime_LRstd_1minDT",
        "Gait - Lower Limb - Foot Strike Angle L (degrees) [mean].1",
        "Gait - Lower Limb - Foot Strike Angle R (degrees) [mean].1",
        "FootStrikeAngle_LRmean_1minDT",
        "FootStrikeAngle_LRstd_1minDT",
        "Turn_Velocity_mean_1minDT",
        "Steps_in_Turn_mean_1minDT",
        "GaitSpeed",
        "StrideLength",
        "DoubleSupportTime",
        "FootStrikeAngle",
        "TurnVelocity",
        "StepsInTurn",
        "Seated",
        "Longwalk",
        "Cog_DTC",
        "Dx_name"
       ],
       "description": "Group by:",
       "index": 47,
       "layout": "IPY_MODEL_192d46e847e242b6b4eafe173c5dddd4",
       "style": "IPY_MODEL_457639d0cd134a308fc88e7bbd829c3e"
      }
     },
     "4a68aeb406214a4abb418832260e5ea9": {
      "model_module": "@jupyter-widgets/base",
      "model_module_version": "1.0.0",
      "model_name": "LayoutModel",
      "state": {}
     },
     "4b006d62953a49a39eaee1e2401e009d": {
      "model_module": "@jupyter-widgets/controls",
      "model_module_version": "1.0.0",
      "model_name": "DropdownModel",
      "state": {
       "_options_labels": [
        "SubjID",
        "Dx",
        "Gait - Lower Limb - Gait Speed L (m/s) [mean]",
        "Gait - Lower Limb - Gait Speed R (m/s) [mean]",
        "GaitSpeed_LRmean_2minWalk",
        "GaitSpeed_LRstd_2minWalk",
        "Gait - Lower Limb - Stride Length L (m) [mean]",
        "Gait - Lower Limb - Stride Length R (m) [mean]",
        "StrideLength_LRmean_2minWalk",
        "StrideLength_LRstd_2minWalk",
        "Gait - Lower Limb - Double Support L (%GCT) [mean]",
        "Gait - Lower Limb - Double Support R (%GCT) [mean]",
        "DoubleSupportTime_LRmean_2minWalk",
        "DoubleSupportTime_LRstd_2minWalk",
        "Gait - Lower Limb - Foot Strike Angle L (degrees) [mean]",
        "Gait - Lower Limb - Foot Strike Angle R (degrees) [mean]",
        "FootStrikeAngle_LRmean_2minWalk",
        "FootStrikeAngle_LRstd_2minWalk",
        "Turn_Velocity_mean_2minWalk",
        "Steps_in_Turn_mean_2minWalk",
        "Gait - Lower Limb - Gait Speed L (m/s) [mean].1",
        "Gait - Lower Limb - Gait Speed R (m/s) [mean].1",
        "GaitSpeed_LRmean_1minDT",
        "GaitSpeed_LRstd_1minDT",
        "Gait - Lower Limb - Stride Length L (m) [mean].1",
        "Gait - Lower Limb - Stride Length R (m) [mean].1",
        "StrideLength_LRmean_1minDT",
        "StrideLength_LRstd_1minDT",
        "Gait - Lower Limb - Double Support L (%GCT) [mean].1",
        "Gait - Lower Limb - Double Support R (%GCT) [mean].1",
        "DoubleSupportTime_LRmean_1minDT",
        "DoubleSupportTime_LRstd_1minDT",
        "Gait - Lower Limb - Foot Strike Angle L (degrees) [mean].1",
        "Gait - Lower Limb - Foot Strike Angle R (degrees) [mean].1",
        "FootStrikeAngle_LRmean_1minDT",
        "FootStrikeAngle_LRstd_1minDT",
        "Turn_Velocity_mean_1minDT",
        "Steps_in_Turn_mean_1minDT",
        "GaitSpeed",
        "StrideLength",
        "DoubleSupportTime",
        "FootStrikeAngle",
        "TurnVelocity",
        "StepsInTurn",
        "Seated",
        "Longwalk",
        "Cog_DTC",
        "Dx_name"
       ],
       "description": "Group by:",
       "index": 47,
       "layout": "IPY_MODEL_97abe544028c4e83979bee1dd315acd4",
       "style": "IPY_MODEL_70e8b13a68da4a48939813c51dadec3b"
      }
     },
     "4b11e171776d4a44a1f998baf15f58a2": {
      "model_module": "@jupyter-widgets/controls",
      "model_module_version": "1.0.0",
      "model_name": "DescriptionStyleModel",
      "state": {
       "description_width": ""
      }
     },
     "4bfb7cd7a3b343189f82ce02171f3bb0": {
      "model_module": "@jupyter-widgets/base",
      "model_module_version": "1.0.0",
      "model_name": "LayoutModel",
      "state": {}
     },
     "4c73e0f4ff5344ea8bb37c509414ea34": {
      "model_module": "@jupyter-widgets/output",
      "model_module_version": "1.0.0",
      "model_name": "OutputModel",
      "state": {
       "layout": "IPY_MODEL_69c19db92de542e18a5f6f8dde6abf68",
       "outputs": [
        {
         "name": "stdout",
         "output_type": "stream",
         "text": "{'Longwalk', 'Cog_DTC'}\n('PD', 'Control')\nGrouping by:  ('PD', 'Control') | Plotting:  ('Cog_DTC', 'Longwalk')\n"
        },
        {
         "ename": "KeyError",
         "evalue": "'PD'",
         "output_type": "error",
         "traceback": [
          "\u001b[0;31m---------------------------------------------------------------------------\u001b[0m",
          "\u001b[0;31mKeyError\u001b[0m                                  Traceback (most recent call last)",
          "\u001b[0;32m~/anaconda3/lib/python3.6/site-packages/ipywidgets/widgets/interaction.py\u001b[0m in \u001b[0;36mupdate\u001b[0;34m(self, *args)\u001b[0m\n\u001b[1;32m    248\u001b[0m                     \u001b[0mvalue\u001b[0m \u001b[0;34m=\u001b[0m \u001b[0mwidget\u001b[0m\u001b[0;34m.\u001b[0m\u001b[0mget_interact_value\u001b[0m\u001b[0;34m(\u001b[0m\u001b[0;34m)\u001b[0m\u001b[0;34m\u001b[0m\u001b[0m\n\u001b[1;32m    249\u001b[0m                     \u001b[0mself\u001b[0m\u001b[0;34m.\u001b[0m\u001b[0mkwargs\u001b[0m\u001b[0;34m[\u001b[0m\u001b[0mwidget\u001b[0m\u001b[0;34m.\u001b[0m\u001b[0m_kwarg\u001b[0m\u001b[0;34m]\u001b[0m \u001b[0;34m=\u001b[0m \u001b[0mvalue\u001b[0m\u001b[0;34m\u001b[0m\u001b[0m\n\u001b[0;32m--> 250\u001b[0;31m                 \u001b[0mself\u001b[0m\u001b[0;34m.\u001b[0m\u001b[0mresult\u001b[0m \u001b[0;34m=\u001b[0m \u001b[0mself\u001b[0m\u001b[0;34m.\u001b[0m\u001b[0mf\u001b[0m\u001b[0;34m(\u001b[0m\u001b[0;34m**\u001b[0m\u001b[0mself\u001b[0m\u001b[0;34m.\u001b[0m\u001b[0mkwargs\u001b[0m\u001b[0;34m)\u001b[0m\u001b[0;34m\u001b[0m\u001b[0m\n\u001b[0m\u001b[1;32m    251\u001b[0m                 \u001b[0mshow_inline_matplotlib_plots\u001b[0m\u001b[0;34m(\u001b[0m\u001b[0;34m)\u001b[0m\u001b[0;34m\u001b[0m\u001b[0m\n\u001b[1;32m    252\u001b[0m                 \u001b[0;32mif\u001b[0m \u001b[0mself\u001b[0m\u001b[0;34m.\u001b[0m\u001b[0mauto_display\u001b[0m \u001b[0;32mand\u001b[0m \u001b[0mself\u001b[0m\u001b[0;34m.\u001b[0m\u001b[0mresult\u001b[0m \u001b[0;32mis\u001b[0m \u001b[0;32mnot\u001b[0m \u001b[0;32mNone\u001b[0m\u001b[0;34m:\u001b[0m\u001b[0;34m\u001b[0m\u001b[0m\n",
          "\u001b[0;32m<ipython-input-22-4fec69fbcaab>\u001b[0m in \u001b[0;36mcreate_graph\u001b[0;34m(plot_type, group_by, group, plot2)\u001b[0m\n\u001b[1;32m     26\u001b[0m         \u001b[0;32mif\u001b[0m \u001b[0;34m(\u001b[0m\u001b[0mlen\u001b[0m\u001b[0;34m(\u001b[0m\u001b[0mgroup_by\u001b[0m\u001b[0;34m)\u001b[0m \u001b[0;34m==\u001b[0m \u001b[0;36m2\u001b[0m\u001b[0;34m)\u001b[0m\u001b[0;34m:\u001b[0m \u001b[0;31m# hasn't been tested\u001b[0m\u001b[0;34m\u001b[0m\u001b[0m\n\u001b[1;32m     27\u001b[0m             \u001b[0;31m#sns.violinplot(x=group_by,y=plot2, hue=group_by, data=data, split=True)\u001b[0m\u001b[0;34m\u001b[0m\u001b[0;34m\u001b[0m\u001b[0m\n\u001b[0;32m---> 28\u001b[0;31m             \u001b[0mplot_graph\u001b[0m\u001b[0;34m(\u001b[0m\u001b[0mdata_rearranged\u001b[0m\u001b[0;34m,\u001b[0m \u001b[0mgroup_by\u001b[0m\u001b[0;34m,\u001b[0m \u001b[0;34m'violin'\u001b[0m\u001b[0;34m)\u001b[0m\u001b[0;34m\u001b[0m\u001b[0m\n\u001b[0m\u001b[1;32m     29\u001b[0m         \u001b[0;32melse\u001b[0m\u001b[0;34m:\u001b[0m\u001b[0;34m\u001b[0m\u001b[0m\n\u001b[1;32m     30\u001b[0m             \u001b[0mplot_graph\u001b[0m\u001b[0;34m(\u001b[0m\u001b[0mdata_rearranged\u001b[0m\u001b[0;34m,\u001b[0m \u001b[0mgroup_by\u001b[0m\u001b[0;34m,\u001b[0m \u001b[0;34m'violin'\u001b[0m\u001b[0;34m)\u001b[0m\u001b[0;34m\u001b[0m\u001b[0m\n",
          "\u001b[0;32m<ipython-input-4-b9b103128e56>\u001b[0m in \u001b[0;36mplot_graph\u001b[0;34m(data, x, kind)\u001b[0m\n\u001b[1;32m      1\u001b[0m \u001b[0;32mdef\u001b[0m \u001b[0mplot_graph\u001b[0m\u001b[0;34m(\u001b[0m\u001b[0mdata\u001b[0m\u001b[0;34m,\u001b[0m \u001b[0mx\u001b[0m\u001b[0;34m,\u001b[0m \u001b[0mkind\u001b[0m\u001b[0;34m)\u001b[0m\u001b[0;34m:\u001b[0m\u001b[0;34m\u001b[0m\u001b[0m\n\u001b[1;32m      2\u001b[0m     sns.factorplot(x=x, y='value', hue='Measure', col='Measure', size=5, aspect=1,\n\u001b[0;32m----> 3\u001b[0;31m                        kind=kind, data=data, sharey=False)\n\u001b[0m",
          "\u001b[0;32m~/anaconda3/lib/python3.6/site-packages/seaborn/categorical.py\u001b[0m in \u001b[0;36mfactorplot\u001b[0;34m(x, y, hue, data, row, col, col_wrap, estimator, ci, n_boot, units, order, hue_order, row_order, col_order, kind, size, aspect, orient, color, palette, legend, legend_out, sharex, sharey, margin_titles, facet_kws, **kwargs)\u001b[0m\n\u001b[1;32m   3489\u001b[0m     \u001b[0;31m# facets to ensure representation of all data in the final plot\u001b[0m\u001b[0;34m\u001b[0m\u001b[0;34m\u001b[0m\u001b[0m\n\u001b[1;32m   3490\u001b[0m     \u001b[0mp\u001b[0m \u001b[0;34m=\u001b[0m \u001b[0m_CategoricalPlotter\u001b[0m\u001b[0;34m(\u001b[0m\u001b[0;34m)\u001b[0m\u001b[0;34m\u001b[0m\u001b[0m\n\u001b[0;32m-> 3491\u001b[0;31m     \u001b[0mp\u001b[0m\u001b[0;34m.\u001b[0m\u001b[0mestablish_variables\u001b[0m\u001b[0;34m(\u001b[0m\u001b[0mx_\u001b[0m\u001b[0;34m,\u001b[0m \u001b[0my_\u001b[0m\u001b[0;34m,\u001b[0m \u001b[0mhue\u001b[0m\u001b[0;34m,\u001b[0m \u001b[0mdata\u001b[0m\u001b[0;34m,\u001b[0m \u001b[0morient\u001b[0m\u001b[0;34m,\u001b[0m \u001b[0morder\u001b[0m\u001b[0;34m,\u001b[0m \u001b[0mhue_order\u001b[0m\u001b[0;34m)\u001b[0m\u001b[0;34m\u001b[0m\u001b[0m\n\u001b[0m\u001b[1;32m   3492\u001b[0m     \u001b[0morder\u001b[0m \u001b[0;34m=\u001b[0m \u001b[0mp\u001b[0m\u001b[0;34m.\u001b[0m\u001b[0mgroup_names\u001b[0m\u001b[0;34m\u001b[0m\u001b[0m\n\u001b[1;32m   3493\u001b[0m     \u001b[0mhue_order\u001b[0m \u001b[0;34m=\u001b[0m \u001b[0mp\u001b[0m\u001b[0;34m.\u001b[0m\u001b[0mhue_names\u001b[0m\u001b[0;34m\u001b[0m\u001b[0m\n",
          "\u001b[0;32m~/anaconda3/lib/python3.6/site-packages/seaborn/categorical.py\u001b[0m in \u001b[0;36mestablish_variables\u001b[0;34m(self, x, y, hue, data, orient, order, hue_order, units)\u001b[0m\n\u001b[1;32m    201\u001b[0m                 \u001b[0;31m# Group the numeric data\u001b[0m\u001b[0;34m\u001b[0m\u001b[0;34m\u001b[0m\u001b[0m\n\u001b[1;32m    202\u001b[0m                 plot_data, value_label = self._group_longform(vals, groups,\n\u001b[0;32m--> 203\u001b[0;31m                                                               group_names)\n\u001b[0m\u001b[1;32m    204\u001b[0m \u001b[0;34m\u001b[0m\u001b[0m\n\u001b[1;32m    205\u001b[0m                 \u001b[0;31m# Now handle the hue levels for nested ordering\u001b[0m\u001b[0;34m\u001b[0m\u001b[0;34m\u001b[0m\u001b[0m\n",
          "\u001b[0;32m~/anaconda3/lib/python3.6/site-packages/seaborn/categorical.py\u001b[0m in \u001b[0;36m_group_longform\u001b[0;34m(self, vals, grouper, order)\u001b[0m\n\u001b[1;32m    243\u001b[0m \u001b[0;34m\u001b[0m\u001b[0m\n\u001b[1;32m    244\u001b[0m         \u001b[0;31m# Group the val data\u001b[0m\u001b[0;34m\u001b[0m\u001b[0;34m\u001b[0m\u001b[0m\n\u001b[0;32m--> 245\u001b[0;31m         \u001b[0mgrouped_vals\u001b[0m \u001b[0;34m=\u001b[0m \u001b[0mvals\u001b[0m\u001b[0;34m.\u001b[0m\u001b[0mgroupby\u001b[0m\u001b[0;34m(\u001b[0m\u001b[0mgrouper\u001b[0m\u001b[0;34m)\u001b[0m\u001b[0;34m\u001b[0m\u001b[0m\n\u001b[0m\u001b[1;32m    246\u001b[0m         \u001b[0mout_data\u001b[0m \u001b[0;34m=\u001b[0m \u001b[0;34m[\u001b[0m\u001b[0;34m]\u001b[0m\u001b[0;34m\u001b[0m\u001b[0m\n\u001b[1;32m    247\u001b[0m         \u001b[0;32mfor\u001b[0m \u001b[0mg\u001b[0m \u001b[0;32min\u001b[0m \u001b[0morder\u001b[0m\u001b[0;34m:\u001b[0m\u001b[0;34m\u001b[0m\u001b[0m\n",
          "\u001b[0;32m~/anaconda3/lib/python3.6/site-packages/pandas/core/generic.py\u001b[0m in \u001b[0;36mgroupby\u001b[0;34m(self, by, axis, level, as_index, sort, group_keys, squeeze, **kwargs)\u001b[0m\n\u001b[1;32m   5160\u001b[0m         return groupby(self, by=by, axis=axis, level=level, as_index=as_index,\n\u001b[1;32m   5161\u001b[0m                        \u001b[0msort\u001b[0m\u001b[0;34m=\u001b[0m\u001b[0msort\u001b[0m\u001b[0;34m,\u001b[0m \u001b[0mgroup_keys\u001b[0m\u001b[0;34m=\u001b[0m\u001b[0mgroup_keys\u001b[0m\u001b[0;34m,\u001b[0m \u001b[0msqueeze\u001b[0m\u001b[0;34m=\u001b[0m\u001b[0msqueeze\u001b[0m\u001b[0;34m,\u001b[0m\u001b[0;34m\u001b[0m\u001b[0m\n\u001b[0;32m-> 5162\u001b[0;31m                        **kwargs)\n\u001b[0m\u001b[1;32m   5163\u001b[0m \u001b[0;34m\u001b[0m\u001b[0m\n\u001b[1;32m   5164\u001b[0m     def asfreq(self, freq, method=None, how=None, normalize=False,\n",
          "\u001b[0;32m~/anaconda3/lib/python3.6/site-packages/pandas/core/groupby.py\u001b[0m in \u001b[0;36mgroupby\u001b[0;34m(obj, by, **kwds)\u001b[0m\n\u001b[1;32m   1846\u001b[0m         \u001b[0;32mraise\u001b[0m \u001b[0mTypeError\u001b[0m\u001b[0;34m(\u001b[0m\u001b[0;34m'invalid type: %s'\u001b[0m \u001b[0;34m%\u001b[0m \u001b[0mtype\u001b[0m\u001b[0;34m(\u001b[0m\u001b[0mobj\u001b[0m\u001b[0;34m)\u001b[0m\u001b[0;34m)\u001b[0m\u001b[0;34m\u001b[0m\u001b[0m\n\u001b[1;32m   1847\u001b[0m \u001b[0;34m\u001b[0m\u001b[0m\n\u001b[0;32m-> 1848\u001b[0;31m     \u001b[0;32mreturn\u001b[0m \u001b[0mklass\u001b[0m\u001b[0;34m(\u001b[0m\u001b[0mobj\u001b[0m\u001b[0;34m,\u001b[0m \u001b[0mby\u001b[0m\u001b[0;34m,\u001b[0m \u001b[0;34m**\u001b[0m\u001b[0mkwds\u001b[0m\u001b[0;34m)\u001b[0m\u001b[0;34m\u001b[0m\u001b[0m\n\u001b[0m\u001b[1;32m   1849\u001b[0m \u001b[0;34m\u001b[0m\u001b[0m\n\u001b[1;32m   1850\u001b[0m \u001b[0;34m\u001b[0m\u001b[0m\n",
          "\u001b[0;32m~/anaconda3/lib/python3.6/site-packages/pandas/core/groupby.py\u001b[0m in \u001b[0;36m__init__\u001b[0;34m(self, obj, keys, axis, level, grouper, exclusions, selection, as_index, sort, group_keys, squeeze, **kwargs)\u001b[0m\n\u001b[1;32m    514\u001b[0m                                                     \u001b[0mlevel\u001b[0m\u001b[0;34m=\u001b[0m\u001b[0mlevel\u001b[0m\u001b[0;34m,\u001b[0m\u001b[0;34m\u001b[0m\u001b[0m\n\u001b[1;32m    515\u001b[0m                                                     \u001b[0msort\u001b[0m\u001b[0;34m=\u001b[0m\u001b[0msort\u001b[0m\u001b[0;34m,\u001b[0m\u001b[0;34m\u001b[0m\u001b[0m\n\u001b[0;32m--> 516\u001b[0;31m                                                     mutated=self.mutated)\n\u001b[0m\u001b[1;32m    517\u001b[0m \u001b[0;34m\u001b[0m\u001b[0m\n\u001b[1;32m    518\u001b[0m         \u001b[0mself\u001b[0m\u001b[0;34m.\u001b[0m\u001b[0mobj\u001b[0m \u001b[0;34m=\u001b[0m \u001b[0mobj\u001b[0m\u001b[0;34m\u001b[0m\u001b[0m\n",
          "\u001b[0;32m~/anaconda3/lib/python3.6/site-packages/pandas/core/groupby.py\u001b[0m in \u001b[0;36m_get_grouper\u001b[0;34m(obj, key, axis, level, sort, mutated, validate)\u001b[0m\n\u001b[1;32m   2932\u001b[0m                 \u001b[0min_axis\u001b[0m\u001b[0;34m,\u001b[0m \u001b[0mname\u001b[0m\u001b[0;34m,\u001b[0m \u001b[0mlevel\u001b[0m\u001b[0;34m,\u001b[0m \u001b[0mgpr\u001b[0m \u001b[0;34m=\u001b[0m \u001b[0;32mFalse\u001b[0m\u001b[0;34m,\u001b[0m \u001b[0;32mNone\u001b[0m\u001b[0;34m,\u001b[0m \u001b[0mgpr\u001b[0m\u001b[0;34m,\u001b[0m \u001b[0;32mNone\u001b[0m\u001b[0;34m\u001b[0m\u001b[0m\n\u001b[1;32m   2933\u001b[0m             \u001b[0;32melse\u001b[0m\u001b[0;34m:\u001b[0m\u001b[0;34m\u001b[0m\u001b[0m\n\u001b[0;32m-> 2934\u001b[0;31m                 \u001b[0;32mraise\u001b[0m \u001b[0mKeyError\u001b[0m\u001b[0;34m(\u001b[0m\u001b[0mgpr\u001b[0m\u001b[0;34m)\u001b[0m\u001b[0;34m\u001b[0m\u001b[0m\n\u001b[0m\u001b[1;32m   2935\u001b[0m         \u001b[0;32melif\u001b[0m \u001b[0misinstance\u001b[0m\u001b[0;34m(\u001b[0m\u001b[0mgpr\u001b[0m\u001b[0;34m,\u001b[0m \u001b[0mGrouper\u001b[0m\u001b[0;34m)\u001b[0m \u001b[0;32mand\u001b[0m \u001b[0mgpr\u001b[0m\u001b[0;34m.\u001b[0m\u001b[0mkey\u001b[0m \u001b[0;32mis\u001b[0m \u001b[0;32mnot\u001b[0m \u001b[0;32mNone\u001b[0m\u001b[0;34m:\u001b[0m\u001b[0;34m\u001b[0m\u001b[0m\n\u001b[1;32m   2936\u001b[0m             \u001b[0;31m# Add key to exclusions\u001b[0m\u001b[0;34m\u001b[0m\u001b[0;34m\u001b[0m\u001b[0m\n",
          "\u001b[0;31mKeyError\u001b[0m: 'PD'"
         ]
        }
       ]
      }
     },
     "4ca1d12340864181b295093b865dc5c2": {
      "model_module": "@jupyter-widgets/base",
      "model_module_version": "1.0.0",
      "model_name": "LayoutModel",
      "state": {}
     },
     "4cbcda0e4be14f4aa8848fd1b426b5a3": {
      "model_module": "@jupyter-widgets/base",
      "model_module_version": "1.0.0",
      "model_name": "LayoutModel",
      "state": {}
     },
     "4cc60a87b34d4aabb593061b4a54ce0b": {
      "model_module": "@jupyter-widgets/output",
      "model_module_version": "1.0.0",
      "model_name": "OutputModel",
      "state": {
       "layout": "IPY_MODEL_3e75604a956845ce9a557fe4b0739c1d",
       "outputs": [
        {
         "name": "stdout",
         "output_type": "stream",
         "text": "{'Longwalk', 'Cog_DTC'}\nDx_name\nGrouping by:  Dx_name | Plotting:  ('Cog_DTC', 'Longwalk')\n"
        },
        {
         "data": {
          "image/png": "iVBORw0KGgoAAAANSUhEUgAAAjgAAAEYCAYAAABRMYxdAAAABHNCSVQICAgIfAhkiAAAAAlwSFlz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\nRU5ErkJggg==\n",
          "text/plain": "<matplotlib.figure.Figure at 0x1a131e65f8>"
         },
         "metadata": {},
         "output_type": "display_data"
        },
        {
         "data": {
          "image/png": "iVBORw0KGgoAAAANSUhEUgAAAsgAAAFgCAYAAACmDI9oAAAABHNCSVQICAgIfAhkiAAAAAlwSFlz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\n/9dGKkrb2AkfAAAAAElFTkSuQmCC\n",
          "text/plain": "<matplotlib.figure.Figure at 0x1a128f2470>"
         },
         "metadata": {},
         "output_type": "display_data"
        }
       ]
      }
     },
     "4dc803bd401349f0973543d8b7c37d2f": {
      "model_module": "@jupyter-widgets/base",
      "model_module_version": "1.0.0",
      "model_name": "LayoutModel",
      "state": {}
     },
     "4dd348e271274f5cb679cbbc46b597e7": {
      "model_module": "@jupyter-widgets/base",
      "model_module_version": "1.0.0",
      "model_name": "LayoutModel",
      "state": {}
     },
     "4e5591d7898a4d9c99f5d0de0a8f9955": {
      "model_module": "@jupyter-widgets/base",
      "model_module_version": "1.0.0",
      "model_name": "LayoutModel",
      "state": {}
     },
     "4eb4715398f64c26b0ae09b4131b9f8d": {
      "model_module": "@jupyter-widgets/controls",
      "model_module_version": "1.0.0",
      "model_name": "ToggleButtonsStyleModel",
      "state": {
       "_model_module": "@jupyter-widgets/controls",
       "button_width": ""
      }
     },
     "4f40b026c248450391183e56132be2d8": {
      "model_module": "@jupyter-widgets/controls",
      "model_module_version": "1.0.0",
      "model_name": "SelectMultipleModel",
      "state": {
       "_options_labels": [
        "SubjID",
        "Dx",
        "Gait - Lower Limb - Gait Speed L (m/s) [mean]",
        "Gait - Lower Limb - Gait Speed R (m/s) [mean]",
        "GaitSpeed_LRmean_2minWalk",
        "GaitSpeed_LRstd_2minWalk",
        "Gait - Lower Limb - Stride Length L (m) [mean]",
        "Gait - Lower Limb - Stride Length R (m) [mean]",
        "StrideLength_LRmean_2minWalk",
        "StrideLength_LRstd_2minWalk",
        "Gait - Lower Limb - Double Support L (%GCT) [mean]",
        "Gait - Lower Limb - Double Support R (%GCT) [mean]",
        "DoubleSupportTime_LRmean_2minWalk",
        "DoubleSupportTime_LRstd_2minWalk",
        "Gait - Lower Limb - Foot Strike Angle L (degrees) [mean]",
        "Gait - Lower Limb - Foot Strike Angle R (degrees) [mean]",
        "FootStrikeAngle_LRmean_2minWalk",
        "FootStrikeAngle_LRstd_2minWalk",
        "Turn_Velocity_mean_2minWalk",
        "Steps_in_Turn_mean_2minWalk",
        "Gait - Lower Limb - Gait Speed L (m/s) [mean].1",
        "Gait - Lower Limb - Gait Speed R (m/s) [mean].1",
        "GaitSpeed_LRmean_1minDT",
        "GaitSpeed_LRstd_1minDT",
        "Gait - Lower Limb - Stride Length L (m) [mean].1",
        "Gait - Lower Limb - Stride Length R (m) [mean].1",
        "StrideLength_LRmean_1minDT",
        "StrideLength_LRstd_1minDT",
        "Gait - Lower Limb - Double Support L (%GCT) [mean].1",
        "Gait - Lower Limb - Double Support R (%GCT) [mean].1",
        "DoubleSupportTime_LRmean_1minDT",
        "DoubleSupportTime_LRstd_1minDT",
        "Gait - Lower Limb - Foot Strike Angle L (degrees) [mean].1",
        "Gait - Lower Limb - Foot Strike Angle R (degrees) [mean].1",
        "FootStrikeAngle_LRmean_1minDT",
        "FootStrikeAngle_LRstd_1minDT",
        "Turn_Velocity_mean_1minDT",
        "Steps_in_Turn_mean_1minDT",
        "GaitSpeed",
        "StrideLength",
        "DoubleSupportTime",
        "FootStrikeAngle",
        "TurnVelocity",
        "StepsInTurn",
        "Seated",
        "Longwalk",
        "Cog_DTC",
        "Dx_name"
       ],
       "description": "Plot:",
       "index": [
        46,
        45
       ],
       "layout": "IPY_MODEL_82fb14216d9c4dc69feaf8eac2b3517c",
       "rows": 5,
       "style": "IPY_MODEL_72572e18f6084272838748cbcf13a04d"
      }
     },
     "50d6c2ed460e41e685a46b3a4c5c8d06": {
      "model_module": "@jupyter-widgets/base",
      "model_module_version": "1.0.0",
      "model_name": "LayoutModel",
      "state": {}
     },
     "521664ff98ce45d49e0e3462e79cca9e": {
      "model_module": "@jupyter-widgets/base",
      "model_module_version": "1.0.0",
      "model_name": "LayoutModel",
      "state": {}
     },
     "53bfb06a07fe454aaf92c4cb77453a0c": {
      "model_module": "@jupyter-widgets/controls",
      "model_module_version": "1.0.0",
      "model_name": "VBoxModel",
      "state": {
       "_dom_classes": [
        "widget-interact"
       ],
       "children": [
        "IPY_MODEL_3a90ecefa61a4f37b6dda3b938df7abd",
        "IPY_MODEL_23b33fece37b44cb9e86a11786a4fb77",
        "IPY_MODEL_651edf3332df4c2bb7d04d8dc2d5ec5d",
        "IPY_MODEL_181b0115a3a84ccc8c62b0602d1cefc5"
       ],
       "layout": "IPY_MODEL_521664ff98ce45d49e0e3462e79cca9e"
      }
     },
     "546ab481253c4a30b1ef5c1a8b21f92b": {
      "model_module": "@jupyter-widgets/controls",
      "model_module_version": "1.0.0",
      "model_name": "DescriptionStyleModel",
      "state": {
       "description_width": ""
      }
     },
     "55d4f2e8d240452c8324c6d8a2398c18": {
      "model_module": "@jupyter-widgets/controls",
      "model_module_version": "1.0.0",
      "model_name": "DescriptionStyleModel",
      "state": {
       "description_width": ""
      }
     },
     "5755b1466ee84818ad3f366dfda83187": {
      "model_module": "@jupyter-widgets/controls",
      "model_module_version": "1.0.0",
      "model_name": "SelectMultipleModel",
      "state": {
       "_options_labels": [
        "PD",
        "FGD",
        "Control"
       ],
       "description": "Select:",
       "index": [],
       "layout": "IPY_MODEL_f4b3e5a0798f4a2e8d4ed1e58221bb2c",
       "rows": 5,
       "style": "IPY_MODEL_3a67d42458cb44c7ba81ed31aa40c303"
      }
     },
     "57df98f32fa74b3897d486c71ffdcac5": {
      "model_module": "@jupyter-widgets/controls",
      "model_module_version": "1.0.0",
      "model_name": "SelectMultipleModel",
      "state": {
       "_options_labels": [
        "PD",
        "FGD",
        "Control"
       ],
       "description": "Select:",
       "index": [],
       "layout": "IPY_MODEL_f7b667a0fb6946f490e25f6b69bfdc0b",
       "rows": 5,
       "style": "IPY_MODEL_124afef7c72a4776bf687575f5764daf"
      }
     },
     "5a2b44cf4d4946329f2b93e1e8febcdd": {
      "model_module": "@jupyter-widgets/controls",
      "model_module_version": "1.0.0",
      "model_name": "ToggleButtonsModel",
      "state": {
       "_options_labels": [
        "boxplot",
        "swarmplot",
        "violinplot",
        "pairplot",
        "linear model"
       ],
       "button_style": "",
       "description": "Plot type:",
       "icons": [],
       "index": 0,
       "layout": "IPY_MODEL_1283d49bff844f26ae7508abcd7b4675",
       "style": "IPY_MODEL_2fa5867844244adbb10c2d10083ab842",
       "tooltips": []
      }
     },
     "5b78490f9ab642a0b0e4a1f65e149a40": {
      "model_module": "@jupyter-widgets/base",
      "model_module_version": "1.0.0",
      "model_name": "LayoutModel",
      "state": {}
     },
     "5c22237cdf454c6d87b44c8e428ce9e1": {
      "model_module": "@jupyter-widgets/controls",
      "model_module_version": "1.0.0",
      "model_name": "DescriptionStyleModel",
      "state": {
       "description_width": ""
      }
     },
     "5c6dae4d6231457aa6df174458ee78f5": {
      "model_module": "@jupyter-widgets/base",
      "model_module_version": "1.0.0",
      "model_name": "LayoutModel",
      "state": {}
     },
     "5c80a578d3e740cb91f7cd275df3fc20": {
      "model_module": "@jupyter-widgets/base",
      "model_module_version": "1.0.0",
      "model_name": "LayoutModel",
      "state": {}
     },
     "5cf978b1f77849aeaffaddbee344d5e6": {
      "model_module": "@jupyter-widgets/base",
      "model_module_version": "1.0.0",
      "model_name": "LayoutModel",
      "state": {}
     },
     "5d11735e4b6b44dca28ff197b677f762": {
      "model_module": "@jupyter-widgets/base",
      "model_module_version": "1.0.0",
      "model_name": "LayoutModel",
      "state": {}
     },
     "5edd5dcffce348198e8d2b6a1c18a743": {
      "model_module": "@jupyter-widgets/controls",
      "model_module_version": "1.0.0",
      "model_name": "DescriptionStyleModel",
      "state": {
       "description_width": ""
      }
     },
     "5f3ccc7caaa24581b0313a9d3c77bc44": {
      "model_module": "@jupyter-widgets/controls",
      "model_module_version": "1.0.0",
      "model_name": "VBoxModel",
      "state": {
       "children": [
        "IPY_MODEL_ec8ff0bfffca406a89f984571672b12d",
        "IPY_MODEL_6ec8178fcc034de7a52dd3b6bc7f1edf"
       ],
       "layout": "IPY_MODEL_4ca1d12340864181b295093b865dc5c2"
      }
     },
     "60e0a8a7f6cc4881b4c3801014306f55": {
      "model_module": "@jupyter-widgets/controls",
      "model_module_version": "1.0.0",
      "model_name": "CheckboxModel",
      "state": {
       "description": "FGD",
       "disabled": false,
       "layout": "IPY_MODEL_0a3bdf0002e54324bbb09436e14614cd",
       "style": "IPY_MODEL_24d6e152191f4be58872d114e4a4bd73",
       "value": false
      }
     },
     "6213ca9755d84569b4236384e6a00d60": {
      "model_module": "@jupyter-widgets/base",
      "model_module_version": "1.0.0",
      "model_name": "LayoutModel",
      "state": {}
     },
     "637de4c595a249daa91e8879cee635c8": {
      "model_module": "@jupyter-widgets/controls",
      "model_module_version": "1.0.0",
      "model_name": "VBoxModel",
      "state": {
       "_dom_classes": [
        "widget-interact"
       ],
       "children": [
        "IPY_MODEL_95e0ddcb1b194117b9361bd0f85e1c25",
        "IPY_MODEL_227fb171f6a44fc6a13b3151b5a08dfa",
        "IPY_MODEL_da90d80ea92a4c68a99f17cac1fd9dfb",
        "IPY_MODEL_aab8be12887542eb94966461a43669dd"
       ],
       "layout": "IPY_MODEL_db0581c8d4474c8d91269a256b4cb6ee"
      }
     },
     "6494e23fadea4f8bb2c664256d9927be": {
      "model_module": "@jupyter-widgets/controls",
      "model_module_version": "1.0.0",
      "model_name": "SelectMultipleModel",
      "state": {
       "_options_labels": [
        "PD",
        "FGD",
        "Control"
       ],
       "description": "Select:",
       "index": [],
       "layout": "IPY_MODEL_deae2495a77145819408c49e18d6c33b",
       "rows": 5,
       "style": "IPY_MODEL_67029e8970f4426694552cbeed70efe1"
      }
     },
     "64f79893ef4a485195b27aae2fc61184": {
      "model_module": "@jupyter-widgets/controls",
      "model_module_version": "1.0.0",
      "model_name": "SelectMultipleModel",
      "state": {
       "_options_labels": [
        "PD",
        "FGD",
        "Control"
       ],
       "description": "Select:",
       "index": [
        0,
        2
       ],
       "layout": "IPY_MODEL_a41cf068962342b18e8400e9008246d0",
       "rows": 5,
       "style": "IPY_MODEL_2f277b6a1f0a4e78b5050606ff6aebb9"
      }
     },
     "651edf3332df4c2bb7d04d8dc2d5ec5d": {
      "model_module": "@jupyter-widgets/controls",
      "model_module_version": "1.0.0",
      "model_name": "SelectMultipleModel",
      "state": {
       "_options_labels": [
        "SubjID",
        "Dx",
        "Gait - Lower Limb - Gait Speed L (m/s) [mean]",
        "Gait - Lower Limb - Gait Speed R (m/s) [mean]",
        "GaitSpeed_LRmean_2minWalk",
        "GaitSpeed_LRstd_2minWalk",
        "Gait - Lower Limb - Stride Length L (m) [mean]",
        "Gait - Lower Limb - Stride Length R (m) [mean]",
        "StrideLength_LRmean_2minWalk",
        "StrideLength_LRstd_2minWalk",
        "Gait - Lower Limb - Double Support L (%GCT) [mean]",
        "Gait - Lower Limb - Double Support R (%GCT) [mean]",
        "DoubleSupportTime_LRmean_2minWalk",
        "DoubleSupportTime_LRstd_2minWalk",
        "Gait - Lower Limb - Foot Strike Angle L (degrees) [mean]",
        "Gait - Lower Limb - Foot Strike Angle R (degrees) [mean]",
        "FootStrikeAngle_LRmean_2minWalk",
        "FootStrikeAngle_LRstd_2minWalk",
        "Turn_Velocity_mean_2minWalk",
        "Steps_in_Turn_mean_2minWalk",
        "Gait - Lower Limb - Gait Speed L (m/s) [mean].1",
        "Gait - Lower Limb - Gait Speed R (m/s) [mean].1",
        "GaitSpeed_LRmean_1minDT",
        "GaitSpeed_LRstd_1minDT",
        "Gait - Lower Limb - Stride Length L (m) [mean].1",
        "Gait - Lower Limb - Stride Length R (m) [mean].1",
        "StrideLength_LRmean_1minDT",
        "StrideLength_LRstd_1minDT",
        "Gait - Lower Limb - Double Support L (%GCT) [mean].1",
        "Gait - Lower Limb - Double Support R (%GCT) [mean].1",
        "DoubleSupportTime_LRmean_1minDT",
        "DoubleSupportTime_LRstd_1minDT",
        "Gait - Lower Limb - Foot Strike Angle L (degrees) [mean].1",
        "Gait - Lower Limb - Foot Strike Angle R (degrees) [mean].1",
        "FootStrikeAngle_LRmean_1minDT",
        "FootStrikeAngle_LRstd_1minDT",
        "Turn_Velocity_mean_1minDT",
        "Steps_in_Turn_mean_1minDT",
        "GaitSpeed",
        "StrideLength",
        "DoubleSupportTime",
        "FootStrikeAngle",
        "TurnVelocity",
        "StepsInTurn",
        "Seated",
        "Longwalk",
        "Cog_DTC",
        "Dx_name"
       ],
       "description": "Plot:",
       "index": [
        46,
        45
       ],
       "layout": "IPY_MODEL_0c89047f90b64a3786ccadd3c27a654f",
       "rows": 5,
       "style": "IPY_MODEL_546ab481253c4a30b1ef5c1a8b21f92b"
      }
     },
     "67029e8970f4426694552cbeed70efe1": {
      "model_module": "@jupyter-widgets/controls",
      "model_module_version": "1.0.0",
      "model_name": "DescriptionStyleModel",
      "state": {
       "description_width": ""
      }
     },
     "67a20f83ab284f3d902c9d8c8e3d2c86": {
      "model_module": "@jupyter-widgets/controls",
      "model_module_version": "1.0.0",
      "model_name": "DescriptionStyleModel",
      "state": {
       "description_width": ""
      }
     },
     "68158d8952a546e69c2eca71fa439f67": {
      "model_module": "@jupyter-widgets/controls",
      "model_module_version": "1.0.0",
      "model_name": "VBoxModel",
      "state": {
       "_dom_classes": [
        "widget-interact"
       ],
       "children": [
        "IPY_MODEL_7cd64aba8d5d49f28f128fd7e56e95b6",
        "IPY_MODEL_60e0a8a7f6cc4881b4c3801014306f55",
        "IPY_MODEL_fc7724bd28604436bf298d86f534d732",
        "IPY_MODEL_d71e3548713745979e59a70c107c54c0"
       ],
       "layout": "IPY_MODEL_5d11735e4b6b44dca28ff197b677f762"
      }
     },
     "68dc0c8aee74472bb5e1da61dde6d822": {
      "model_module": "@jupyter-widgets/controls",
      "model_module_version": "1.0.0",
      "model_name": "CheckboxModel",
      "state": {
       "description": "Control",
       "disabled": false,
       "layout": "IPY_MODEL_ff5db0a1ede44e269d733dcf111fe47e",
       "style": "IPY_MODEL_49ef77672e2f409393b96d9e309d2753",
       "value": false
      }
     },
     "697c207de5fb4585a5f1e178f6614a57": {
      "model_module": "@jupyter-widgets/controls",
      "model_module_version": "1.0.0",
      "model_name": "ToggleButtonsModel",
      "state": {
       "_options_labels": [
        "boxplot",
        "swarmplot",
        "violinplot",
        "pairplot",
        "linear model"
       ],
       "button_style": "",
       "description": "Plot type:",
       "icons": [],
       "index": 0,
       "layout": "IPY_MODEL_796b1a22391244898381d6bd36ebdd39",
       "style": "IPY_MODEL_d1db8d22d1014e51b35c9c2cdffaa132",
       "tooltips": []
      }
     },
     "69c19db92de542e18a5f6f8dde6abf68": {
      "model_module": "@jupyter-widgets/base",
      "model_module_version": "1.0.0",
      "model_name": "LayoutModel",
      "state": {
       "height": "800dpi"
      }
     },
     "6a16ab938206476bbfae4cf0e21a6c32": {
      "model_module": "@jupyter-widgets/controls",
      "model_module_version": "1.0.0",
      "model_name": "ToggleButtonsStyleModel",
      "state": {
       "_model_module": "@jupyter-widgets/controls",
       "button_width": ""
      }
     },
     "6a49a6b95266454da51737afccf9cefa": {
      "model_module": "@jupyter-widgets/controls",
      "model_module_version": "1.0.0",
      "model_name": "VBoxModel",
      "state": {
       "_dom_classes": [
        "widget-interact"
       ],
       "children": [
        "IPY_MODEL_4907259e5f8848069c912ab4865f59b6",
        "IPY_MODEL_4a4bde94e9b44a2f8ee99aa1041a055e",
        "IPY_MODEL_1b1d49f8c2bb492dad94daa1c6c41fbd",
        "IPY_MODEL_40973af45f7743a19735286bcfebc48c"
       ],
       "layout": "IPY_MODEL_ef80532683df4817813a04894514564d"
      }
     },
     "6b7e8c4c13fe470a9d7a59ae7f1dcc19": {
      "model_module": "@jupyter-widgets/base",
      "model_module_version": "1.0.0",
      "model_name": "LayoutModel",
      "state": {}
     },
     "6dbd986d6c6344d1822f236da0b70c0a": {
      "model_module": "@jupyter-widgets/controls",
      "model_module_version": "1.0.0",
      "model_name": "ToggleButtonsModel",
      "state": {
       "_options_labels": [
        "boxplot",
        "swarmplot",
        "violinplot",
        "pairplot",
        "linear model"
       ],
       "button_style": "",
       "description": "Plot type:",
       "icons": [],
       "index": 0,
       "layout": "IPY_MODEL_f82238673cd74195a9cd8d30d5ea5e3d",
       "style": "IPY_MODEL_6a16ab938206476bbfae4cf0e21a6c32",
       "tooltips": []
      }
     },
     "6e6501fa5a544e7db9fe57bb1e317211": {
      "model_module": "@jupyter-widgets/controls",
      "model_module_version": "1.0.0",
      "model_name": "ToggleButtonsStyleModel",
      "state": {
       "_model_module": "@jupyter-widgets/controls",
       "button_width": ""
      }
     },
     "6ec8178fcc034de7a52dd3b6bc7f1edf": {
      "model_module": "@jupyter-widgets/controls",
      "model_module_version": "1.0.0",
      "model_name": "VBoxModel",
      "state": {
       "children": [
        "IPY_MODEL_d3ff4b4f696d4c6d9058f3c46e369178",
        "IPY_MODEL_b65c826a18434f419b76af01fe5fc856",
        "IPY_MODEL_68dc0c8aee74472bb5e1da61dde6d822"
       ],
       "layout": "IPY_MODEL_a9e95db408834ed1970e487eb5cb5973"
      }
     },
     "70e8b13a68da4a48939813c51dadec3b": {
      "model_module": "@jupyter-widgets/controls",
      "model_module_version": "1.0.0",
      "model_name": "DescriptionStyleModel",
      "state": {
       "description_width": ""
      }
     },
     "715f9850a32a44149b507a6cee5ec804": {
      "model_module": "@jupyter-widgets/controls",
      "model_module_version": "1.0.0",
      "model_name": "ToggleButtonsStyleModel",
      "state": {
       "_model_module": "@jupyter-widgets/controls",
       "button_width": ""
      }
     },
     "7244f101bb12413da2c6fa7f66bff294": {
      "model_module": "@jupyter-widgets/controls",
      "model_module_version": "1.0.0",
      "model_name": "SelectMultipleModel",
      "state": {
       "_options_labels": [
        "PD",
        "FGD",
        "Control"
       ],
       "description": "Select:",
       "index": [],
       "layout": "IPY_MODEL_7e5e5175419c4a68b5c126a5eb01cefc",
       "rows": 5,
       "style": "IPY_MODEL_8d82ffc20fea4a4ba262fdf0b15a58cb"
      }
     },
     "72572e18f6084272838748cbcf13a04d": {
      "model_module": "@jupyter-widgets/controls",
      "model_module_version": "1.0.0",
      "model_name": "DescriptionStyleModel",
      "state": {
       "description_width": ""
      }
     },
     "72a50efdd97c472fa62eecf6c88c8c4e": {
      "model_module": "@jupyter-widgets/base",
      "model_module_version": "1.0.0",
      "model_name": "LayoutModel",
      "state": {}
     },
     "7305b193f4004204998dcdb6a8d59ebd": {
      "model_module": "@jupyter-widgets/controls",
      "model_module_version": "1.0.0",
      "model_name": "VBoxModel",
      "state": {
       "_dom_classes": [
        "widget-interact"
       ],
       "children": [
        "IPY_MODEL_92c32b266f784873918c3bc4a5ba0e66",
        "IPY_MODEL_4b006d62953a49a39eaee1e2401e009d",
        "IPY_MODEL_a76e603342844fd2880484f18b54f3cf",
        "IPY_MODEL_4f40b026c248450391183e56132be2d8",
        "IPY_MODEL_c07e0b64fb9645a69f7576f6393ec86a"
       ],
       "layout": "IPY_MODEL_35eebeae0b4e4ecb89096357e489a09e"
      }
     },
     "742b3653c9a94d64b6e723d9c94224c0": {
      "model_module": "@jupyter-widgets/base",
      "model_module_version": "1.0.0",
      "model_name": "LayoutModel",
      "state": {
       "height": "300dpi"
      }
     },
     "74e3d4803cc0404dafe762bfa035adf5": {
      "model_module": "@jupyter-widgets/controls",
      "model_module_version": "1.0.0",
      "model_name": "VBoxModel",
      "state": {
       "_dom_classes": [
        "widget-interact"
       ],
       "children": [
        "IPY_MODEL_e03aff0604ca4898870fdd4f193ba35b",
        "IPY_MODEL_00ae012350c5462fb5f0e84ae925fcdf",
        "IPY_MODEL_40194d57bdd9497dbafef577f691651d",
        "IPY_MODEL_bfb349765a224e8f8d31daf1134359f0",
        "IPY_MODEL_c50c9685f1464764921f8b057b18757c"
       ],
       "layout": "IPY_MODEL_21382a5ff6864def9524880b1ee3e4cd"
      }
     },
     "767e058c2ae44a2494af7a4773b0ca1f": {
      "model_module": "@jupyter-widgets/controls",
      "model_module_version": "1.0.0",
      "model_name": "ToggleButtonsStyleModel",
      "state": {
       "_model_module": "@jupyter-widgets/controls",
       "button_width": ""
      }
     },
     "7754e9ad7cdb40ea8989a458ee6e91a6": {
      "model_module": "@jupyter-widgets/controls",
      "model_module_version": "1.0.0",
      "model_name": "CheckboxModel",
      "state": {
       "description": "Control",
       "disabled": false,
       "layout": "IPY_MODEL_e7603ff409124604bfe96fb02b3e3a6c",
       "style": "IPY_MODEL_91def635bd804977bf2328921fac2dff",
       "value": false
      }
     },
     "77a112483bed42d082af0a2bd7131743": {
      "model_module": "@jupyter-widgets/base",
      "model_module_version": "1.0.0",
      "model_name": "LayoutModel",
      "state": {}
     },
     "78a18b6f8dad4d09aac89a95da08467b": {
      "model_module": "@jupyter-widgets/controls",
      "model_module_version": "1.0.0",
      "model_name": "ToggleButtonsModel",
      "state": {
       "_options_labels": [
        "boxplot",
        "swarmplot",
        "violinplot",
        "pairplot",
        "linear model"
       ],
       "button_style": "",
       "description": "Plot type:",
       "icons": [],
       "index": 0,
       "layout": "IPY_MODEL_1789194ee9d147aab762c8d09bfdc455",
       "style": "IPY_MODEL_bce68e9efc1c4a49b2b9d2df2942323a",
       "tooltips": []
      }
     },
     "7940335fa6364093a4b93eb7d0f08d20": {
      "model_module": "@jupyter-widgets/controls",
      "model_module_version": "1.0.0",
      "model_name": "DescriptionStyleModel",
      "state": {
       "description_width": ""
      }
     },
     "796b1a22391244898381d6bd36ebdd39": {
      "model_module": "@jupyter-widgets/base",
      "model_module_version": "1.0.0",
      "model_name": "LayoutModel",
      "state": {}
     },
     "7ab3f46c558740d7be4c1248f73c98f3": {
      "model_module": "@jupyter-widgets/base",
      "model_module_version": "1.0.0",
      "model_name": "LayoutModel",
      "state": {
       "height": "800dpi"
      }
     },
     "7c67a09480864b2ca172accf8d5e0219": {
      "model_module": "@jupyter-widgets/controls",
      "model_module_version": "1.0.0",
      "model_name": "DescriptionStyleModel",
      "state": {
       "description_width": ""
      }
     },
     "7cd64aba8d5d49f28f128fd7e56e95b6": {
      "model_module": "@jupyter-widgets/controls",
      "model_module_version": "1.0.0",
      "model_name": "CheckboxModel",
      "state": {
       "description": "PD",
       "disabled": false,
       "layout": "IPY_MODEL_3ee09cac8b104990b7b2bfb2d70f485b",
       "style": "IPY_MODEL_49318452bb0a48c29b148ac2b2ef3e7d",
       "value": false
      }
     },
     "7ce64d9941ba47ab96517fdaa9afa924": {
      "model_module": "@jupyter-widgets/controls",
      "model_module_version": "1.0.0",
      "model_name": "ToggleButtonsStyleModel",
      "state": {
       "_model_module": "@jupyter-widgets/controls",
       "button_width": ""
      }
     },
     "7dcd0d4985144a129da3a6da7dca95e4": {
      "model_module": "@jupyter-widgets/base",
      "model_module_version": "1.0.0",
      "model_name": "LayoutModel",
      "state": {}
     },
     "7e1c5203037d4021b89849a7b96bb6c8": {
      "model_module": "@jupyter-widgets/controls",
      "model_module_version": "1.0.0",
      "model_name": "VBoxModel",
      "state": {
       "_dom_classes": [
        "widget-interact"
       ],
       "children": [
        "IPY_MODEL_0e66965572bb467fb47cf09c847f28da",
        "IPY_MODEL_2d9f594dfac14853898077a9804c3748",
        "IPY_MODEL_4769266deba04f9e975cf5c97a1a5426",
        "IPY_MODEL_cfdff45526de497bbc263e4b3c000c03"
       ],
       "layout": "IPY_MODEL_ad6835002eef4a2bbff00bd77ec57b59"
      }
     },
     "7e5e5175419c4a68b5c126a5eb01cefc": {
      "model_module": "@jupyter-widgets/base",
      "model_module_version": "1.0.0",
      "model_name": "LayoutModel",
      "state": {}
     },
     "7e89b2b5b23d4bf9ad280e919e7ddc64": {
      "model_module": "@jupyter-widgets/output",
      "model_module_version": "1.0.0",
      "model_name": "OutputModel",
      "state": {
       "layout": "IPY_MODEL_187b113e123845619a1d701c46e565cd",
       "outputs": [
        {
         "name": "stdout",
         "output_type": "stream",
         "text": "{'Longwalk', 'Cog_DTC'}\n()\nDx_name\nGrouping by:  Dx_name | Plotting:  ('Cog_DTC', 'Longwalk')\n"
        },
        {
         "data": {
          "image/png": "iVBORw0KGgoAAAANSUhEUgAAAjgAAAEYCAYAAABRMYxdAAAABHNCSVQICAgIfAhkiAAAAAlwSFlz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\nRU5ErkJggg==\n",
          "text/plain": "<matplotlib.figure.Figure at 0x1a128e3b38>"
         },
         "metadata": {},
         "output_type": "display_data"
        },
        {
         "data": {
          "image/png": "iVBORw0KGgoAAAANSUhEUgAAAsgAAAFgCAYAAACmDI9oAAAABHNCSVQICAgIfAhkiAAAAAlwSFlz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\n/9dGKkrb2AkfAAAAAElFTkSuQmCC\n",
          "text/plain": "<matplotlib.figure.Figure at 0x1a12649ba8>"
         },
         "metadata": {},
         "output_type": "display_data"
        }
       ]
      }
     },
     "7ec7f3797dda4067944ddbf6df443a0e": {
      "model_module": "@jupyter-widgets/controls",
      "model_module_version": "1.0.0",
      "model_name": "DescriptionStyleModel",
      "state": {
       "description_width": ""
      }
     },
     "7f5f4264ad8642cb8d691e349ec4ae0c": {
      "model_module": "@jupyter-widgets/controls",
      "model_module_version": "1.0.0",
      "model_name": "DescriptionStyleModel",
      "state": {
       "description_width": ""
      }
     },
     "816cbc4741b6449d907818523761ad22": {
      "model_module": "@jupyter-widgets/controls",
      "model_module_version": "1.0.0",
      "model_name": "DropdownModel",
      "state": {
       "_options_labels": [
        "SubjID",
        "Dx",
        "Gait - Lower Limb - Gait Speed L (m/s) [mean]",
        "Gait - Lower Limb - Gait Speed R (m/s) [mean]",
        "GaitSpeed_LRmean_2minWalk",
        "GaitSpeed_LRstd_2minWalk",
        "Gait - Lower Limb - Stride Length L (m) [mean]",
        "Gait - Lower Limb - Stride Length R (m) [mean]",
        "StrideLength_LRmean_2minWalk",
        "StrideLength_LRstd_2minWalk",
        "Gait - Lower Limb - Double Support L (%GCT) [mean]",
        "Gait - Lower Limb - Double Support R (%GCT) [mean]",
        "DoubleSupportTime_LRmean_2minWalk",
        "DoubleSupportTime_LRstd_2minWalk",
        "Gait - Lower Limb - Foot Strike Angle L (degrees) [mean]",
        "Gait - Lower Limb - Foot Strike Angle R (degrees) [mean]",
        "FootStrikeAngle_LRmean_2minWalk",
        "FootStrikeAngle_LRstd_2minWalk",
        "Turn_Velocity_mean_2minWalk",
        "Steps_in_Turn_mean_2minWalk",
        "Gait - Lower Limb - Gait Speed L (m/s) [mean].1",
        "Gait - Lower Limb - Gait Speed R (m/s) [mean].1",
        "GaitSpeed_LRmean_1minDT",
        "GaitSpeed_LRstd_1minDT",
        "Gait - Lower Limb - Stride Length L (m) [mean].1",
        "Gait - Lower Limb - Stride Length R (m) [mean].1",
        "StrideLength_LRmean_1minDT",
        "StrideLength_LRstd_1minDT",
        "Gait - Lower Limb - Double Support L (%GCT) [mean].1",
        "Gait - Lower Limb - Double Support R (%GCT) [mean].1",
        "DoubleSupportTime_LRmean_1minDT",
        "DoubleSupportTime_LRstd_1minDT",
        "Gait - Lower Limb - Foot Strike Angle L (degrees) [mean].1",
        "Gait - Lower Limb - Foot Strike Angle R (degrees) [mean].1",
        "FootStrikeAngle_LRmean_1minDT",
        "FootStrikeAngle_LRstd_1minDT",
        "Turn_Velocity_mean_1minDT",
        "Steps_in_Turn_mean_1minDT",
        "GaitSpeed",
        "StrideLength",
        "DoubleSupportTime",
        "FootStrikeAngle",
        "TurnVelocity",
        "StepsInTurn",
        "Seated",
        "Longwalk",
        "Cog_DTC",
        "Dx_name"
       ],
       "description": "Group by:",
       "index": 47,
       "layout": "IPY_MODEL_5cf978b1f77849aeaffaddbee344d5e6",
       "style": "IPY_MODEL_ad2947cbaca44dce8c93183aa7b654b2"
      }
     },
     "8228e238558146019351030f00c841c1": {
      "model_module": "@jupyter-widgets/base",
      "model_module_version": "1.0.0",
      "model_name": "LayoutModel",
      "state": {}
     },
     "8252b902e44d4e2f9fbc153b86b7db76": {
      "model_module": "@jupyter-widgets/controls",
      "model_module_version": "1.0.0",
      "model_name": "VBoxModel",
      "state": {
       "_dom_classes": [
        "widget-interact"
       ],
       "children": [
        "IPY_MODEL_697c207de5fb4585a5f1e178f6614a57",
        "IPY_MODEL_4b006d62953a49a39eaee1e2401e009d",
        "IPY_MODEL_17250d7f7c2f40dab2f2b46b673b5830",
        "IPY_MODEL_f8513944382947fd9a8acf667a99e533",
        "IPY_MODEL_2aaa938d8c364cbba6ed700f038faf49"
       ],
       "layout": "IPY_MODEL_4a68aeb406214a4abb418832260e5ea9"
      }
     },
     "82a737624fe74328a62e5c3982b7d29a": {
      "model_module": "@jupyter-widgets/base",
      "model_module_version": "1.0.0",
      "model_name": "LayoutModel",
      "state": {
       "height": "300dpi"
      }
     },
     "82f66a49647d4cf98ee0eb6c7e879421": {
      "model_module": "@jupyter-widgets/base",
      "model_module_version": "1.0.0",
      "model_name": "LayoutModel",
      "state": {}
     },
     "82fb14216d9c4dc69feaf8eac2b3517c": {
      "model_module": "@jupyter-widgets/base",
      "model_module_version": "1.0.0",
      "model_name": "LayoutModel",
      "state": {}
     },
     "83bc94e815ba432fbd7e7893046910cb": {
      "model_module": "@jupyter-widgets/controls",
      "model_module_version": "1.0.0",
      "model_name": "VBoxModel",
      "state": {
       "_dom_classes": [
        "widget-interact"
       ],
       "children": [
        "IPY_MODEL_a84f28c19ab4481ea43ac2ccfb0fa2d2",
        "IPY_MODEL_4291f1e01fdf4e2886e82e24b6f4b341",
        "IPY_MODEL_64f79893ef4a485195b27aae2fc61184",
        "IPY_MODEL_4759ea3257c64d57bfdc19d7b2214a14",
        "IPY_MODEL_2ef50deaf2604965913c2a26448debe2"
       ],
       "layout": "IPY_MODEL_4e5591d7898a4d9c99f5d0de0a8f9955"
      }
     },
     "85994bd1196043e287e66b84cd582c4e": {
      "model_module": "@jupyter-widgets/controls",
      "model_module_version": "1.0.0",
      "model_name": "DescriptionStyleModel",
      "state": {
       "description_width": ""
      }
     },
     "87bb6ec6ce204ff9afae36e0b27077eb": {
      "model_module": "@jupyter-widgets/controls",
      "model_module_version": "1.0.0",
      "model_name": "SelectMultipleModel",
      "state": {
       "_options_labels": [
        "PD",
        "FGD",
        "Control"
       ],
       "description": "Select:",
       "index": [],
       "layout": "IPY_MODEL_27b35f614dae4d1893cbc7c0a8c0e207",
       "rows": 5,
       "style": "IPY_MODEL_7ec7f3797dda4067944ddbf6df443a0e"
      }
     },
     "884dd9fa76cc4da593c16746e9feee71": {
      "model_module": "@jupyter-widgets/base",
      "model_module_version": "1.0.0",
      "model_name": "LayoutModel",
      "state": {}
     },
     "8b8de56854544455b60a508857acffac": {
      "model_module": "@jupyter-widgets/base",
      "model_module_version": "1.0.0",
      "model_name": "LayoutModel",
      "state": {}
     },
     "8b963ce7ef334d068c4677d7a6b49aab": {
      "model_module": "@jupyter-widgets/base",
      "model_module_version": "1.0.0",
      "model_name": "LayoutModel",
      "state": {
       "height": "1200dpi"
      }
     },
     "8c04bc378f534184955c3f9014aae01b": {
      "model_module": "@jupyter-widgets/controls",
      "model_module_version": "1.0.0",
      "model_name": "DescriptionStyleModel",
      "state": {
       "description_width": ""
      }
     },
     "8d82ffc20fea4a4ba262fdf0b15a58cb": {
      "model_module": "@jupyter-widgets/controls",
      "model_module_version": "1.0.0",
      "model_name": "DescriptionStyleModel",
      "state": {
       "description_width": ""
      }
     },
     "8d928eeff943401b8afae37126c665e2": {
      "model_module": "@jupyter-widgets/controls",
      "model_module_version": "1.0.0",
      "model_name": "ToggleButtonsStyleModel",
      "state": {
       "_model_module": "@jupyter-widgets/controls",
       "button_width": ""
      }
     },
     "8e0f7c78fc2849358939eb4107a0769a": {
      "model_module": "@jupyter-widgets/base",
      "model_module_version": "1.0.0",
      "model_name": "LayoutModel",
      "state": {}
     },
     "8e455697d54a4208a40b0bd0d4f7298f": {
      "model_module": "@jupyter-widgets/controls",
      "model_module_version": "1.0.0",
      "model_name": "ToggleButtonsStyleModel",
      "state": {
       "_model_module": "@jupyter-widgets/controls",
       "button_width": ""
      }
     },
     "8e69e378e6ce407db140f85f344145d2": {
      "model_module": "@jupyter-widgets/base",
      "model_module_version": "1.0.0",
      "model_name": "LayoutModel",
      "state": {}
     },
     "8e7f97386fba4e3c9f055b536bb628f4": {
      "model_module": "@jupyter-widgets/base",
      "model_module_version": "1.0.0",
      "model_name": "LayoutModel",
      "state": {
       "height": "800dpi"
      }
     },
     "8faf41a99a37490abee51d8be48b986e": {
      "model_module": "@jupyter-widgets/controls",
      "model_module_version": "1.0.0",
      "model_name": "DescriptionStyleModel",
      "state": {
       "description_width": ""
      }
     },
     "90444afff0b344a2b11a6d0ad683066d": {
      "model_module": "@jupyter-widgets/base",
      "model_module_version": "1.0.0",
      "model_name": "LayoutModel",
      "state": {}
     },
     "9102fb8757bc46d5be058852f3f6c927": {
      "model_module": "@jupyter-widgets/controls",
      "model_module_version": "1.0.0",
      "model_name": "DescriptionStyleModel",
      "state": {
       "description_width": ""
      }
     },
     "91def635bd804977bf2328921fac2dff": {
      "model_module": "@jupyter-widgets/controls",
      "model_module_version": "1.0.0",
      "model_name": "DescriptionStyleModel",
      "state": {
       "description_width": ""
      }
     },
     "92c32b266f784873918c3bc4a5ba0e66": {
      "model_module": "@jupyter-widgets/controls",
      "model_module_version": "1.0.0",
      "model_name": "ToggleButtonsModel",
      "state": {
       "_options_labels": [
        "boxplot",
        "swarmplot",
        "violinplot",
        "pairplot",
        "linear model"
       ],
       "button_style": "",
       "description": "Plot type:",
       "icons": [],
       "index": 0,
       "layout": "IPY_MODEL_40a2baf7c8f14c00ae42ba8f4b4b88d8",
       "style": "IPY_MODEL_7ce64d9941ba47ab96517fdaa9afa924",
       "tooltips": []
      }
     },
     "92f4329e2198478ea60d608a1f128be2": {
      "model_module": "@jupyter-widgets/controls",
      "model_module_version": "1.0.0",
      "model_name": "DropdownModel",
      "state": {
       "_options_labels": [
        "SubjID",
        "Dx",
        "Gait - Lower Limb - Gait Speed L (m/s) [mean]",
        "Gait - Lower Limb - Gait Speed R (m/s) [mean]",
        "GaitSpeed_LRmean_2minWalk",
        "GaitSpeed_LRstd_2minWalk",
        "Gait - Lower Limb - Stride Length L (m) [mean]",
        "Gait - Lower Limb - Stride Length R (m) [mean]",
        "StrideLength_LRmean_2minWalk",
        "StrideLength_LRstd_2minWalk",
        "Gait - Lower Limb - Double Support L (%GCT) [mean]",
        "Gait - Lower Limb - Double Support R (%GCT) [mean]",
        "DoubleSupportTime_LRmean_2minWalk",
        "DoubleSupportTime_LRstd_2minWalk",
        "Gait - Lower Limb - Foot Strike Angle L (degrees) [mean]",
        "Gait - Lower Limb - Foot Strike Angle R (degrees) [mean]",
        "FootStrikeAngle_LRmean_2minWalk",
        "FootStrikeAngle_LRstd_2minWalk",
        "Turn_Velocity_mean_2minWalk",
        "Steps_in_Turn_mean_2minWalk",
        "Gait - Lower Limb - Gait Speed L (m/s) [mean].1",
        "Gait - Lower Limb - Gait Speed R (m/s) [mean].1",
        "GaitSpeed_LRmean_1minDT",
        "GaitSpeed_LRstd_1minDT",
        "Gait - Lower Limb - Stride Length L (m) [mean].1",
        "Gait - Lower Limb - Stride Length R (m) [mean].1",
        "StrideLength_LRmean_1minDT",
        "StrideLength_LRstd_1minDT",
        "Gait - Lower Limb - Double Support L (%GCT) [mean].1",
        "Gait - Lower Limb - Double Support R (%GCT) [mean].1",
        "DoubleSupportTime_LRmean_1minDT",
        "DoubleSupportTime_LRstd_1minDT",
        "Gait - Lower Limb - Foot Strike Angle L (degrees) [mean].1",
        "Gait - Lower Limb - Foot Strike Angle R (degrees) [mean].1",
        "FootStrikeAngle_LRmean_1minDT",
        "FootStrikeAngle_LRstd_1minDT",
        "Turn_Velocity_mean_1minDT",
        "Steps_in_Turn_mean_1minDT",
        "GaitSpeed",
        "StrideLength",
        "DoubleSupportTime",
        "FootStrikeAngle",
        "TurnVelocity",
        "StepsInTurn",
        "Seated",
        "Longwalk",
        "Cog_DTC",
        "Dx_name"
       ],
       "description": "Group by:",
       "index": 47,
       "layout": "IPY_MODEL_46a176562a7140b68c6c537ee586dcd5",
       "style": "IPY_MODEL_d6967598aad14a44a986361c1b8b7c01"
      }
     },
     "9322596e8d5c4be59205c21438acb053": {
      "model_module": "@jupyter-widgets/controls",
      "model_module_version": "1.0.0",
      "model_name": "DropdownModel",
      "state": {
       "_options_labels": [
        "SubjID",
        "Dx",
        "Gait - Lower Limb - Gait Speed L (m/s) [mean]",
        "Gait - Lower Limb - Gait Speed R (m/s) [mean]",
        "GaitSpeed_LRmean_2minWalk",
        "GaitSpeed_LRstd_2minWalk",
        "Gait - Lower Limb - Stride Length L (m) [mean]",
        "Gait - Lower Limb - Stride Length R (m) [mean]",
        "StrideLength_LRmean_2minWalk",
        "StrideLength_LRstd_2minWalk",
        "Gait - Lower Limb - Double Support L (%GCT) [mean]",
        "Gait - Lower Limb - Double Support R (%GCT) [mean]",
        "DoubleSupportTime_LRmean_2minWalk",
        "DoubleSupportTime_LRstd_2minWalk",
        "Gait - Lower Limb - Foot Strike Angle L (degrees) [mean]",
        "Gait - Lower Limb - Foot Strike Angle R (degrees) [mean]",
        "FootStrikeAngle_LRmean_2minWalk",
        "FootStrikeAngle_LRstd_2minWalk",
        "Turn_Velocity_mean_2minWalk",
        "Steps_in_Turn_mean_2minWalk",
        "Gait - Lower Limb - Gait Speed L (m/s) [mean].1",
        "Gait - Lower Limb - Gait Speed R (m/s) [mean].1",
        "GaitSpeed_LRmean_1minDT",
        "GaitSpeed_LRstd_1minDT",
        "Gait - Lower Limb - Stride Length L (m) [mean].1",
        "Gait - Lower Limb - Stride Length R (m) [mean].1",
        "StrideLength_LRmean_1minDT",
        "StrideLength_LRstd_1minDT",
        "Gait - Lower Limb - Double Support L (%GCT) [mean].1",
        "Gait - Lower Limb - Double Support R (%GCT) [mean].1",
        "DoubleSupportTime_LRmean_1minDT",
        "DoubleSupportTime_LRstd_1minDT",
        "Gait - Lower Limb - Foot Strike Angle L (degrees) [mean].1",
        "Gait - Lower Limb - Foot Strike Angle R (degrees) [mean].1",
        "FootStrikeAngle_LRmean_1minDT",
        "FootStrikeAngle_LRstd_1minDT",
        "Turn_Velocity_mean_1minDT",
        "Steps_in_Turn_mean_1minDT",
        "GaitSpeed",
        "StrideLength",
        "DoubleSupportTime",
        "FootStrikeAngle",
        "TurnVelocity",
        "StepsInTurn",
        "Seated",
        "Longwalk",
        "Cog_DTC",
        "Dx_name"
       ],
       "description": "Group by:",
       "index": 47,
       "layout": "IPY_MODEL_bb594861f8fa421db5e02f388f6e6b9a",
       "style": "IPY_MODEL_e53ed66ce79643e8bb2906218a1bc657"
      }
     },
     "95e0ddcb1b194117b9361bd0f85e1c25": {
      "model_module": "@jupyter-widgets/controls",
      "model_module_version": "1.0.0",
      "model_name": "ToggleButtonsModel",
      "state": {
       "_options_labels": [
        "boxplot",
        "swarmplot",
        "violinplot",
        "pairplot",
        "linear model"
       ],
       "button_style": "",
       "description": "Plot type:",
       "icons": [],
       "index": 0,
       "layout": "IPY_MODEL_edd707fe1d05403db0af3daa7a67bfe4",
       "style": "IPY_MODEL_767e058c2ae44a2494af7a4773b0ca1f",
       "tooltips": []
      }
     },
     "97abe544028c4e83979bee1dd315acd4": {
      "model_module": "@jupyter-widgets/base",
      "model_module_version": "1.0.0",
      "model_name": "LayoutModel",
      "state": {}
     },
     "9a33c2747c4a44d393737c6fa1961547": {
      "model_module": "@jupyter-widgets/base",
      "model_module_version": "1.0.0",
      "model_name": "LayoutModel",
      "state": {}
     },
     "9ce501c42aea4cd99dc548bb222a1d27": {
      "model_module": "@jupyter-widgets/base",
      "model_module_version": "1.0.0",
      "model_name": "LayoutModel",
      "state": {}
     },
     "9daf99ab15eb4e06b743cf695c3652c6": {
      "model_module": "@jupyter-widgets/base",
      "model_module_version": "1.0.0",
      "model_name": "LayoutModel",
      "state": {}
     },
     "a249ba2c545642508cc53bb2d6af5979": {
      "model_module": "@jupyter-widgets/output",
      "model_module_version": "1.0.0",
      "model_name": "OutputModel",
      "state": {
       "layout": "IPY_MODEL_f14823f6cf774fe8837c41720ce78710",
       "outputs": [
        {
         "name": "stdout",
         "output_type": "stream",
         "text": "{'Longwalk', 'Cog_DTC'}\nDx_name\nGrouping by:  Dx_name | Plotting:  ('Cog_DTC', 'Longwalk')\n"
        },
        {
         "data": {
          "image/png": "iVBORw0KGgoAAAANSUhEUgAAAjgAAAEYCAYAAABRMYxdAAAABHNCSVQICAgIfAhkiAAAAAlwSFlz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\nRU5ErkJggg==\n",
          "text/plain": "<matplotlib.figure.Figure at 0x1a1235a5c0>"
         },
         "metadata": {},
         "output_type": "display_data"
        },
        {
         "data": {
          "image/png": "iVBORw0KGgoAAAANSUhEUgAAAsgAAAFgCAYAAACmDI9oAAAABHNCSVQICAgIfAhkiAAAAAlwSFlz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\n/9dGKkrb2AkfAAAAAElFTkSuQmCC\n",
          "text/plain": "<matplotlib.figure.Figure at 0x1a132875c0>"
         },
         "metadata": {},
         "output_type": "display_data"
        }
       ]
      }
     },
     "a2944b54a3bd456aba488a635a1bf171": {
      "model_module": "@jupyter-widgets/base",
      "model_module_version": "1.0.0",
      "model_name": "LayoutModel",
      "state": {}
     },
     "a348116ab2704198a562cc9118a14d98": {
      "model_module": "@jupyter-widgets/base",
      "model_module_version": "1.0.0",
      "model_name": "LayoutModel",
      "state": {}
     },
     "a41cf068962342b18e8400e9008246d0": {
      "model_module": "@jupyter-widgets/base",
      "model_module_version": "1.0.0",
      "model_name": "LayoutModel",
      "state": {}
     },
     "a48c0c7dcabc453c8b4c4b9183e32bdc": {
      "model_module": "@jupyter-widgets/controls",
      "model_module_version": "1.0.0",
      "model_name": "SelectMultipleModel",
      "state": {
       "_options_labels": [
        "SubjID",
        "Dx",
        "Gait - Lower Limb - Gait Speed L (m/s) [mean]",
        "Gait - Lower Limb - Gait Speed R (m/s) [mean]",
        "GaitSpeed_LRmean_2minWalk",
        "GaitSpeed_LRstd_2minWalk",
        "Gait - Lower Limb - Stride Length L (m) [mean]",
        "Gait - Lower Limb - Stride Length R (m) [mean]",
        "StrideLength_LRmean_2minWalk",
        "StrideLength_LRstd_2minWalk",
        "Gait - Lower Limb - Double Support L (%GCT) [mean]",
        "Gait - Lower Limb - Double Support R (%GCT) [mean]",
        "DoubleSupportTime_LRmean_2minWalk",
        "DoubleSupportTime_LRstd_2minWalk",
        "Gait - Lower Limb - Foot Strike Angle L (degrees) [mean]",
        "Gait - Lower Limb - Foot Strike Angle R (degrees) [mean]",
        "FootStrikeAngle_LRmean_2minWalk",
        "FootStrikeAngle_LRstd_2minWalk",
        "Turn_Velocity_mean_2minWalk",
        "Steps_in_Turn_mean_2minWalk",
        "Gait - Lower Limb - Gait Speed L (m/s) [mean].1",
        "Gait - Lower Limb - Gait Speed R (m/s) [mean].1",
        "GaitSpeed_LRmean_1minDT",
        "GaitSpeed_LRstd_1minDT",
        "Gait - Lower Limb - Stride Length L (m) [mean].1",
        "Gait - Lower Limb - Stride Length R (m) [mean].1",
        "StrideLength_LRmean_1minDT",
        "StrideLength_LRstd_1minDT",
        "Gait - Lower Limb - Double Support L (%GCT) [mean].1",
        "Gait - Lower Limb - Double Support R (%GCT) [mean].1",
        "DoubleSupportTime_LRmean_1minDT",
        "DoubleSupportTime_LRstd_1minDT",
        "Gait - Lower Limb - Foot Strike Angle L (degrees) [mean].1",
        "Gait - Lower Limb - Foot Strike Angle R (degrees) [mean].1",
        "FootStrikeAngle_LRmean_1minDT",
        "FootStrikeAngle_LRstd_1minDT",
        "Turn_Velocity_mean_1minDT",
        "Steps_in_Turn_mean_1minDT",
        "GaitSpeed",
        "StrideLength",
        "DoubleSupportTime",
        "FootStrikeAngle",
        "TurnVelocity",
        "StepsInTurn",
        "Seated",
        "Longwalk",
        "Cog_DTC",
        "Dx_name"
       ],
       "description": "Plot:",
       "index": [
        46,
        45
       ],
       "layout": "IPY_MODEL_9daf99ab15eb4e06b743cf695c3652c6",
       "rows": 5,
       "style": "IPY_MODEL_55d4f2e8d240452c8324c6d8a2398c18"
      }
     },
     "a617867eccbb43648988e47935d2d514": {
      "model_module": "@jupyter-widgets/controls",
      "model_module_version": "1.0.0",
      "model_name": "VBoxModel",
      "state": {
       "_dom_classes": [
        "widget-interact"
       ],
       "children": [
        "IPY_MODEL_2bf18074452b4a9fa3d4c76d4f632e76",
        "IPY_MODEL_d0bba15e7bff4173b3d67d0160733dbc",
        "IPY_MODEL_2e363f469e9a40fa96dbebfef19d051b",
        "IPY_MODEL_3c5454dd1c0c4243be9801894405d8bb",
        "IPY_MODEL_fca720ef77f449228049ab510486df22"
       ],
       "layout": "IPY_MODEL_8228e238558146019351030f00c841c1"
      }
     },
     "a76e603342844fd2880484f18b54f3cf": {
      "model_module": "@jupyter-widgets/controls",
      "model_module_version": "1.0.0",
      "model_name": "SelectMultipleModel",
      "state": {
       "_options_labels": [
        "PD",
        "FGD",
        "Control"
       ],
       "description": "Select:",
       "index": [],
       "layout": "IPY_MODEL_4bfb7cd7a3b343189f82ce02171f3bb0",
       "rows": 5,
       "style": "IPY_MODEL_b35e695fa501461d81e4182fa62ed405"
      }
     },
     "a84f28c19ab4481ea43ac2ccfb0fa2d2": {
      "model_module": "@jupyter-widgets/controls",
      "model_module_version": "1.0.0",
      "model_name": "ToggleButtonsModel",
      "state": {
       "_options_labels": [
        "boxplot",
        "swarmplot",
        "violinplot",
        "pairplot",
        "linear model"
       ],
       "button_style": "",
       "description": "Plot type:",
       "icons": [],
       "index": 2,
       "layout": "IPY_MODEL_2cd171440077477f99fb6af7f5fba0c7",
       "style": "IPY_MODEL_3fc6e224ab494837961ea0a4ddedc6d1",
       "tooltips": []
      }
     },
     "a9e95db408834ed1970e487eb5cb5973": {
      "model_module": "@jupyter-widgets/base",
      "model_module_version": "1.0.0",
      "model_name": "LayoutModel",
      "state": {
       "overflow": "scroll"
      }
     },
     "aaae874d9f774022922c7f237f3d920e": {
      "model_module": "@jupyter-widgets/base",
      "model_module_version": "1.0.0",
      "model_name": "LayoutModel",
      "state": {}
     },
     "aab8be12887542eb94966461a43669dd": {
      "model_module": "@jupyter-widgets/output",
      "model_module_version": "1.0.0",
      "model_name": "OutputModel",
      "state": {
       "layout": "IPY_MODEL_df8855743bf14738912afeacf4458e46",
       "outputs": [
        {
         "name": "stdout",
         "output_type": "stream",
         "text": "{'Longwalk', 'Cog_DTC'}\nDx_name\nGrouping by:  Dx_name | Plotting:  ('Cog_DTC', 'Longwalk')\n"
        },
        {
         "data": {
          "image/png": "iVBORw0KGgoAAAANSUhEUgAAAjgAAAEYCAYAAABRMYxdAAAABHNCSVQICAgIfAhkiAAAAAlwSFlz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\nRU5ErkJggg==\n",
          "text/plain": "<matplotlib.figure.Figure at 0x1a131b9940>"
         },
         "metadata": {},
         "output_type": "display_data"
        },
        {
         "data": {
          "image/png": "iVBORw0KGgoAAAANSUhEUgAAAsgAAAFgCAYAAACmDI9oAAAABHNCSVQICAgIfAhkiAAAAAlwSFlz\nAAALEgAACxIB0t1+/AAAADl0RVh0U29mdHdhcmUAbWF0cGxvdGxpYiB2ZXJzaW9uIDIuMS4yLCBo\ndHRwOi8vbWF0cGxvdGxpYi5vcmcvNQv5yAAAIABJREFUeJzt3X2YXWV56P/vnYliIOLLGCgdiBEn\nWlEUaKD4WpXEM1oFPcXjS48ZLZehHkxiWn8tYq9T21oPHnvUJNranEqZ+POI+FbBEwcTBN9+FYyA\nhDdlhAAZAsTxBTAxOJP798deA4swM9lJ9uy1Z+/v57r2NWs961nPvvfsmWfuefaznhWZiSRJkqSa\nWVUHIEmSJLUSE2RJkiSpxARZkiRJKjFBliRJkkpMkCVJkqQSE2RJkiSpxARZkqQZKCIyIj5T2p8d\nETsi4mtVxtVIEXFhRJxZdRx7i4gFEXFDsf32iPhE1TGpsUyQ1RSd0JEDRMR7I+KWiLghIn4UEUsb\n2Pbbi+/ZtRFxa0RcFhEvKo59MiKui4ibImJXsX3d+B+W6YxLUmV+DTwvIuYU+0uA4SoCiYjZVTyv\nNF1MkNUsbd+RR8SfUXtdp2Tm84CXAdHgp/l8Zp6YmQuB84EvR8RzMvOczDwBeA3w08w8oXh8sUlx\nSarG14E/KrbfAnxu/EBEHBYRF0TED4p/rM8oyhdExHci4priMf6P9lER8e3in+sbIuKlRfmDpTbP\njIgLi+0LI+KjEXEF8OHJnq/RouYjRYxbIuJNRfnLI+LKiPhiMSDw2YiI4thrirLvRsSa8cGZ4vwn\nF22OjA8eRMRnImLxZN+rKWL7o4j4j4h42nS8djWPCbKaqd078vOA/5aZ9wNk5q8yc6B4/tOK59lS\nPO8hRfmEnXY9MvMKYB2w7EDjkjTjXQS8OSKeADwfuKp07P3ANzPzZOAVwEci4jDgPmBJZp4EvAlY\nU9R/K3BZ8c/2C4Dr6nj+ZwGLM/Mvpni+h0XEE0ufcO39OK7O1/yfgfEYFxfPc1Rx7ETgPcBxwLHA\ni4vvzb8Ar87MlwDzSm19D3gx8FzgNuClRfmpwPeZ/Hv1GBHxBuBc4DWZ+bM6X4talB+JqJkuAv57\nkQQ+H7iARzqj8Y71TyPiycDVEbGJRzqn30TEQmpJ9SIe6cj/ISK6gEPreP7xjnwsIj400fNl5q/H\nK0fEE4HvTNLWWzPzpr3qPjEzf7p3xaJzvhA4LTN/EhHrgXdFxKeoddovy8zbI+Jze59bh2uAsyc7\nOFVckma+zLw+IhZQG3TYsNfhVwGnR8R7i/0nAPOBu4FPRMQJwBi1vhHgB8AFEfE44N8zs54E+QuZ\nObaP57u5FO8D1JLbg/ES4HPF894bEd8CTgbuB67OzG0AEXEdsAB4ELgtM28vzv8cjwwsfIfap2p3\nAP8MLIuIHuDnmflgRDyJib9Xe3sFtb9NrxofjNDMZoKspmnzjjyAnOTYs4HbM/Mnxf4AcA5wJZN3\n2vXa11SJqeKS1B4uAf4ReDnQXSoP4I8z88flyhHxAeBeaiOws4DfAGTmtyPiZdQ+6ftMRHwkM9fz\n6D7kCXs9969L2xM+317PXffAwxSm6vd2l7bHqOU5U9X/NrX+eD61gZo3AGeWYlzFBN+rCdxGbcT6\nWcDmqcPXTOAUCzXbeEe+92jpeMc6Pnd2fmbezKM7p0XA46HWkVP7r3+YWkc+ftHZ/nbkez/fIxX2\n46PAYsTg1xFx7ASvebLOuRHzgE+klNTvbR9xSWoPFwB/l5lb9iq/DFhemod7YlH+JGB7Zu4B3gZ0\nFcefDtyXmf8b+DRwUlH/3oh4TkTMopZATmay53tYZj5Q6nf3ftSTHEMtqX1TRHRFxDxqfwuunqL+\nLcCxxQAN1KZKjMdzF/A0YGFm3gZ8F3gvjyTIE36vJnAHtakf6yPiuXW+DrUwE2Q1Wzt35P8D+GRE\nHF60eXhELKPWOS+IiN6i3tuAbzFFp12PiPhDaiPO/3sfVSeLS1IbyMxtmbl6gkN/DzwOuD5qS5L9\nfVH+T0B/RHyf2ojn+ODBy4HrIuJa4I+B8TbPBb4GfBPYPkUokz3fwfqXiNhWPP4D+ApwPfCjIqa/\nzMx7Jjs5M3cB/w0YjIjvUht0+VWpylXA+Cd83wF6qCXKMPn3aqLn+THwJ8AXIuKZ+/8y1Uoi009f\nNf0i4sHMnLtX2cuB92bma6O2usXHgRdRG1ndWpQvBL4E7ASuAJZn5tyI6Af+H+C31OaXLS3m8Z4J\nfBi4C7gBmJuZby8u1vtaZn6xeO4Jn+8gX2MUMZ1VxPVb4H9l5v8bEadRGzmfTW16yLsyc3dEvA74\nCPAzaiMgR2bmn0zS/tuLusPU5lzfTu2fje+V6iwoXufz6onrYF6vJM0UETG3mFMcwCeBWzPzY1XH\npdZlgixVyE5bkqZfRKwC+qlN07sWeGdm7qw2KrUyE2SpQnbakiS1HhNkqcVExDuAlXsVfy8zz6ki\nHkmSOo0JsiRJklTSFusg9/X15eDgYNVhSFIjtcTtwO1fJbWZuvrWtljm7Wc/846OkjQd7F8ldaK2\nSJAlSZKkRjFBliRJkkpMkCVJkqQSE2RJkiSpxARZkiRJKjFBliRJkkpMkCVJkqQSE2RJkiSpxAT5\nIIyMjLBixQpGRkaqDkWS1GT+DZDalwnyQVi3bh3XX38969atqzoUSVKTDQwMsGXLFtavX191KJIa\nzAT5AI2MjLBx40YANm7c6AiCJHWQkZERBgcHyUwGBwf9GyC1GRPkA7Ru3Tr27NkDwJ49exxFlqQO\nMjAw8PDfgLGxMUeRpTZjgnyALr/88in3JUnta9OmTYyOjgIwOjr68CeKktqDCfIByswp9yVJ7Wvx\n4sXMnj0bgNmzZ7NkyZKKI5LUSCbIB+i000571P7ixYsrikSS1Gz9/f3MmlX7E9rV1cXSpUsrjkhS\nI5kgH6Czzz774c5x1qxZLFu2rOKIJEnN0t3dTV9fHxFBX18f3d3dVYckqYFMkA9Qd3f3w6PGS5Ys\nsXOUpA7T39/P8ccf7+ix1IZmVx3ATHb22Wdzzz33OHosSR2ou7ubNWvWVB2GpGlggnwQ7BwlSZLa\nj1MsJEmSpBITZEmSJKnEBFmSJEkqMUGWJEmSSkyQJUmSpBJXsdCMsnbtWoaGhvZZb3h4GICenp59\n1u3t7WX58uUHHZskSWoPJshqS7t27ao6BEmSNEOZIGtGqXekd+XKlQCsXr16OsORJEltyDnIktRm\nIuLZEXFd6XF/RLwnIp4aERsj4tbi61OqjlWSWpEJsiS1mcz8cWaekJknAL8P7AS+ApwLXJ6ZC4HL\ni31J0l5MkCWpvZ0G/DQz7wDOAAaK8gHg9ZVFJUktzARZktrbm4HPFdtHZuZ2gOLrEROdEBHLImJz\nRGzesWNHk8KUpNZhgixJbSoiHg+cDnxhf87LzHWZuSgzF82bN296gpOkFmaCLEnt69XANZl5b7F/\nb0QcBVB8va+yyCSphZkgS1L7eguPTK8AuAToL7b7ga82PSJJmgFMkCWpDUXEocAS4Mul4vOBJRFx\na3Hs/Cpik6RW541CJKkNZeZOoHuvshFqq1pIkqbgCLIkSZJUYoIsSZIklZggS5IkSSWVJcgRcUxE\nXBERN0fEjRGxsih/akRsjIhbi69PqSpGSZIkdZ4qR5BHgb/IzOcApwLnRMRxwLnA5Zm5ELi82Jck\nSZKaorIEOTO3Z+Y1xfYDwM1AD3AGMFBUGwBeX02EkiRJ6kQtMQc5IhYAJwJXAUdm5naoJdHAEZOc\nsywiNkfE5h07djQrVEmSJLW5yhPkiJgLfAl4T2beX+95mbkuMxdl5qJ58+ZNX4CSJEnqKJUmyBHx\nOGrJ8Wczc/xuT/dGxFHF8aOA+6qKT5IkSZ2nylUsAvg0cHNmfrR06BKgv9juB77a7NgkSZLUuaq8\n1fSLgbcBWyLiuqLsPOB84OKIOAu4E3hjRfFJkiSpA1WWIGfmd4GY5PBpzYxFkiRJGlflCHLLWrt2\nLUNDQ/usNzw8DEBPT88+6/b29rJ8+fKDjk2SJEnTywT5IOzatavqECRJktRgJsgTqHekd+XKlQCs\nXr16OsORJElSE1W+DrIkSZLUSkyQJUmSpBITZEmSJKnEBFmSJEkqMUGWJEmSSkyQJUmSpBITZEmS\nJKnEBFmSJEkqMUGWJEmSSkyQJUmSpBITZEmSJKnEBFmSJEkqMUGWJEmSSkyQJakNRcSTI+KLEXFL\nRNwcES+MiKdGxMaIuLX4+pSq45SkVjS76gAktYe1a9cyNDS0z3rDw8MA9PT01NVub28vy5cvP6jY\nOtRqYDAzz4yIxwOHAucBl2fm+RFxLnAu8FdVBilJrcgRZElNtWvXLnbt2lV1GG0tIg4HXgZ8GiAz\nH8rMXwJnAANFtQHg9dVEKEmtzRFkSQ1R7yjvypUrAVi9evV0htPpjgV2AP8WES8AfgisBI7MzO0A\nmbk9Io6Y6OSIWAYsA5g/f35zIpakFuIIsiS1n9nAScA/Z+aJwK+pTaeoS2auy8xFmblo3rx50xWj\nJLUsE2RJaj/bgG2ZeVWx/0VqCfO9EXEUQPH1vorik6SWZoIsSW0mM+8B7oqIZxdFpwE3AZcA/UVZ\nP/DVCsKTpJbnHGRJak/Lgc8WK1jcBryD2qDIxRFxFnAn8MYK45OklmWCLEltKDOvAxZNcOi0Zsci\nSTONCbJaQr1r6NZrvK3xFRMaxTV5JUlqfybIaglDQ0Ncd8PNjB361Ia0N+uhBOCHt93bkPYAunb+\nvGFtSZKk1mWCrJYxduhT2fV7r6k6jEnNuWVD1SFIkqQmcBULSZIkqcQEWZIkSSoxQZYkSZJKOmoO\n8kxYKcFVEiRJkqrVUQlyq6+U4CoJkiRJ1euoBBlae6UEV0mQJEmqnnOQJUmSpBITZEmSJKmkZRPk\niOiLiB9HxFBEnFt1PJIkSeoMLZkgR0QX8Eng1cBxwFsi4rhqo5IkSdLBGBkZYcWKFYyMjFQdypRa\n9SK9U4ChzLwNICIuAs4Abqo0KqkDzYTlEcElEiVpJhgYGGDLli2sX7+eVatWVR3OpFo1Qe4B7irt\nbwP+oFwhIpYBywDmz5/fvMikDtPqyyOCSyRK0kwwMjLC4OAgmcng4CBLly6lu7u76rAm1KoJckxQ\nlo/ayVwHrANYtGhRTlD/MYaHh+na+auWXU6ta+cIw8OjVYchPUYrL48ILpEoSTPBwMAAe/bsAWBs\nbKylR5Fbcg4ytRHjY0r7RwN3VxSLJEmSDtKmTZsYHa0NBI6OjrJx48aKI5pcq44g/wBYGBHPAIaB\nNwNvPdhGe3p6uGf37JYdCZtzywZ6eo6sOgxJkqSGW7x4MRs2bGB0dJTZs2ezZMmSqkOaVEuOIGfm\nKPBu4DLgZuDizLyx2qgkSZJ0oPr7+5k1q5Z6dnV1sXTp0oojmlyrjiCTmRsAJxZKkpqq3pVbhoeH\ngdqnk/viKisSdHd309fXx6WXXkpfX1/LXqAHLZwgq7O0+gWU4EWUkh5t165dVYcgzTj9/f1s3bq1\npUePwQRZkqRHqXekd3wt79WrV09nOFJb6e7uZs2aNVWHsU8myGoJrX4BJXgRpSRJnaIlL9KTJEmS\nqmKCLEmSJJU4xULSlLyAUpLUaRxBliRJkkocQZY0JS+glCR1GhNkSWpDEbEVeAAYA0Yzc1FEPBX4\nPLAA2Ar8l8z8RVUxSlKrcoqFJLWvV2TmCZm5qNg/F7g8MxcClxf7kqS9dNwIctfOnzfsYqNZv7kf\ngD1POLwh7XXt/Dngx8SSps0ZwMuL7QHgSuCvqgpGklpVRyXIvb29DW1vaOiBWrvHNiqpPbLhMUrq\nWAl8IyIS+JfMXAccmZnbATJze0QcMdGJEbEMWAYwf/78ZsUrSS2joxLkem8fWi9vM6pO0cqfvICf\nvkzixZl5d5EEb4yIW+o9sUim1wEsWrQopytASWpVHZUgS9p/rf/JC/jpy2Nl5t3F1/si4ivAKcC9\nEXFUMXp8FHBfpUFKUosyQZY0JT95mXki4jBgVmY+UGy/Cvg74BKgHzi/+PrV6qKUpNZlgixJ7edI\n4CsRAbV+/v9k5mBE/AC4OCLOAu4E3lhhjJLUskyQJanNZOZtwAsmKB8BTmt+RJI0s7gOsiRJklRi\ngixJkiSVmCBLkiRJJSbIkiRJUokJsiRJklRigixJkiSVmCBLkiRJJSbIkiRJUok3CpEkSdJBWbt2\nLUNDQ/usNzw8DEBPT88+6/b29rJ8+fKDju1AmCCrZXTt/DlzbtnQkLZm/eZ+APY84fCGtAe1+Gp3\n8JUkSQdi165dVYdQFxNktYTe3t6Gtjc09ECt3WMbmdAe2fA4JUlqB/WO9K5cuRKA1atXT2c4B80E\nWS2h0R+hzJRfQEmS1Hq8SE+SJEkqMUGWJEmSSkyQJUmSpBITZEmSJKnEi/QmUO9afuN1xi8Im0qV\na/lJkiSpfibIB2HOnDlVhyC1jOn4xxL851KS1HwmyBPwj7E0ffzHUpLU6kyQJTWE/1hKktpFJQly\nRHwEeB3wEPBT4B2Z+cvi2PuAs4AxYEVmXlZFjGpNzg+XJEnTrapVLDYCz8vM5wM/Ad4HEBHHAW8G\nngv0Af8UEV0VxagZbM6cOX6UL0mSDkglI8iZ+Y3S7veBM4vtM4CLMnM3cHtEDAGnAP/R5BDVohzp\nlSRJ060V1kH+U+DrxXYPcFfp2Lai7DEiYllEbI6IzTt27JjmECVJktQp9pkgR8SREfHpiPh6sX9c\nRJxVx3mbIuKGCR5nlOq8HxgFPjteNEFTOVH7mbkuMxdl5qJ58+btKxxJkiSpLvVMsbgQ+Dfg/cX+\nT4DPA5+e6qTMXDzV8YjoB14LnJaZ40nwNuCYUrWjgbvriFGSJElqiHqmWDwtMy8G9gBk5ii1FSYO\nWET0AX8FnJ6ZO0uHLgHeHBGHRMQzgIXA1QfzXJIkSdL+qCdB/nVEdFNMdYiIU4FfHeTzfgJ4IrAx\nIq6LiE8BZOaNwMXATcAgcE5mHlQyPp1GRkZYsWIFIyMjVYciSZKkBqknQf5zaiO7z4yI7wHrgYNa\nSiAzezPzmMw8oXj8WenYP2TmMzPz2Zn59anaqdrAwABbtmxh/fr1VYciSY8REV0RcW1EfK3Yf0ZE\nXBURt0bE5yPi8VXHKEmtaJ8JcmZeA/wh8CLgbOC5mXn9dAfW6kZGRhgcHCQzGRwcdBRZUitaCdxc\n2v8w8LHMXAj8gtpNmSRJe6lnFYulwFuB3wdOAt5SlHW0gYEB9uzZA8DY2JijyJJaSkQcDfwR8K/F\nfgCvBL5YVBkAXl9NdJLU2uqZYnFy6fFS4APA6dMY04ywadMmRkdHARgdHWXjxo0VRyRJj/Jx4C8p\nLrAGuoFfFhdag+vMS9Kk6plisbz0eCdwItDx89YWL17M7Nm1VfJmz57NkiVLKo5Imhm8uHX6RcRr\ngfsy84fl4gmqus68JE3gQO6kt5Pa8msdrb+/n1mzat++rq4uli7t+FknUl28uLUpXgycHhFbgYuo\nTa34OPDkiBhf/9515iVpEvXMQb40Ii4pHl8Dfgx8dfpDa23d3d286EUvAuCFL3wh3d3dFUcktT4v\nbm2OzHxfZh6dmQuANwPfzMw/Aa4Aziyq9WNfLkkTqudOev9Y2h4F7sjMbdMUz4wyNDT0qK+SpjYw\nMMDYWG1p89HRUdavX8+qVasqjqqj/BVwUUR8ELiWfdwRVZI6VT1zkL9VenzP5LhmaGiIbdtq34pt\n27aZJEt12LRp08MJ8tjYmBe3NkFmXpmZry22b8vMU4q16N+Ymburjk+SWtGkI8gR8QATX8ARQGbm\n4dMW1QzwwQ9+8DH7F154YTXBSDPES17yEr7xjW88vP/Sl760wmgkSfuydu3ahg4Cjre1cuXKhrXZ\n29vL8uUHdQ+7x5g0Qc7MJzb0mdrM1q1bp9yX9Fi1pXglSTPF0NAQt954LfPnjjWkvcf/tjZ5Yfcd\nmxvS3p0PdjWknb3VMwcZgIg4AnjC+H5m3jktEc0QCxYseFRSvGDBgspikWaK73znO4/Zf9/73ldR\nNJKkesyfO8Z5J91fdRgT+tA10zOhoZ5VLE6PiFuB24FvAVuBr09LNDPIX//1X0+5L+mxXD9ckjQT\n1LMO8t8DpwI/ycxnAKcB35vWqGaA3t5e5s6dC8DcuXPp7e2tOCKp9bl+uCRpJqgnQf5tZo4AsyJi\nVmZeAZwwzXG1vJGREXbvrl0Avnv3btdzlerQ3d1NX18fEUFfX5/rh0uSWlI9CfIvI2Iu8B3gsxGx\nmtp6yB1tYGCAzNoiH5npXcGkOp1++ukceuihvO51r6s6FEmSJlRPgvxt4MnASmAQ+CnQ8X/ZNm3a\nxOho7f+E0dFR13OV6nTJJZewc+dOLr300qpDkSRpQvUkyAFcBlwJzAU+X0y56GhebCTtP281LUma\nCeq5k97fZuZzgXOA3wW+FRGbpj2yFtff38+ePXsA2LNnjxcbSXUYGBh4+PdmbGzMqUmSpJZUzwjy\nuPuAe4AR4IjpCUdSO3NqkiRpJtjnjUIi4l3Am4B5wBeBd2bmTdMdWKsbGBh4+K5gEcH69etZtWpV\nxVFJrW3x4sVs2LCB0dFRpyap6Tr1lrntpN73cHh4GICenp591vV7ronUcye9pwPvyczrpjuYmWTT\npk2MjdVuuzg2NsbGjRtNkKV96O/vZ3BwEHAdZDVfp94ytxPt2rWr6hA0w+0zQc7Mc5sRyEzjSJi0\n/8bXQb700ktdB1mV6MRb5raTekd6x0f1V69ePZ3hqI3tzxxklXhHMOnA9Pf3c/zxx/s7I0lqWfVM\nsdAEHAmTDkx3dzdr1qypOgxJUh2Gh4f59QNdLfsJxx0PdHFYMee8kUyQD0J/fz9bt251JEySJKmN\nmCAfBEfCJElSO+vp6WH36PaWnrt/SB2rlewv5yBLkiRJJSbIkiRJUokJsiRJklRigixJkiSVmCBL\nkiRJJSbIkiRJUokJsiRJklRigixJkiSVmCBLkiRJJSbIkiRJUkmlCXJEvDciMiKeVuxHRKyJiKGI\nuD4iTqoyPkmaiSLiCRFxdUT8KCJujIi/LcqfERFXRcStEfH5iHh81bFKUiuqLEGOiGOAJcCdpeJX\nAwuLxzLgnysITZJmut3AKzPzBcAJQF9EnAp8GPhYZi4EfgGcVWGMktSyZlf43B8D/hL4aqnsDGB9\nZibw/Yh4ckQclZnbK4lQkmagog99sNh9XPFI4JXAW4vyAeADdNBAxPDwML9+oIsPXXN41aFM6I4H\nujhseLjqMKTHuPPBxv3e3LuzNjZ75KF7GtLenQ92sbAhLT1aJQlyRJwODGfmjyKifKgHuKu0v60o\ne0yCHBHLqI0yM3/+/OkLVpJmoIjoAn4I9AKfBH4K/DIzR4sq4/3rROfav0oCoLe3t6HtPTQ0BMAh\nT29MuwtpfIwwjQlyRGwCfmeCQ+8HzgNeNdFpE5TlRO1n5jpgHcCiRYsmrCNJnSozx4ATIuLJwFeA\n50xUbZJz27J/7enpYffods476f6qQ5nQh645nEN6JvyfRarM8uXLG9reypUrAVi9enVD2220aUuQ\nM3PxROURcTzwDGB89Pho4JqIOIXaiMYxpepHA3dPV4yS1O4y85cRcSVwKvDkiJhdjCLbv0rSJJp+\nkV5mbsnMIzJzQWYuoJYUn5SZ9wCXAEuL1SxOBX7l/GNJ2j8RMa8YOSYi5gCLgZuBK4Azi2r9PPoa\nEElSocqL9CayAXgNMATsBN5RbTiSNCMdBQwU85BnARdn5tci4ibgooj4IHAt8Okqg5SkVlV5glyM\nIo9vJ3BOddFI0syXmdcDJ05QfhtwSvMjkqSZxTvpSZIkSSUmyJIkSVKJCbIkSZJUYoIsSZIklZgg\nS5IkSSUmyJIkSVJJ5cu8SZKkzrZ27VqGhoYa1t54W+O3NW6E3t7eht92Wa3LBFmSJFVqaGiIW2+8\nlvlzxxrS3uN/W/uAfPcdmxvS3p0PdjWkHc0cJsiSJKly8+eOcd5J91cdxoQ+dM3hVYegJnMOsiRJ\nklRigixJkiSVOMVCkiRVanh4mF8/0NWyUxnueKCLw4aHqw5DTeQIsiRJklTiCLIkSapUT08Pu0e3\nt/RFeof09FQdhprIEWRJkiSpxARZkiRJKjFBliRJkkpMkCVJkqQSE2RJkiSpxFUsJEkd484HG7fW\n7r07a2NMRx66pyHt3flgFwsb0pKkg2WCLEnqCL29vQ1t76GhIQAOeXpj2l1I42OUdGBMkCVJHWH5\n8uUNbW/lypUArF69uqHtSqqeCbIkSZIOytq1axkqPlWZynid8X8wp9Lb29vwf2zrZYIsSZKkppgz\nZ07VIdTFBFmSJEkHpaqR3uniMm+SJElSiQmyJEmSVGKCLEmSJJWYIEtSm4mIYyLiioi4OSJujIiV\nRflTI2JjRNxafH1K1bFKUisyQZak9jMK/EVmPgc4FTgnIo4DzgUuz8yFwOXFviRpLybIktRmMnN7\nZl5TbD8A3Az0AGcAA0W1AeD11UQoSa3NBFmS2lhELABOBK4CjszM7VBLooEjJjlnWURsjojNO3bs\naFaoktQyTJAlqU1FxFzgS8B7MvP+es/LzHWZuSgzF82bN2/6ApSkFmWCLEltKCIeRy05/mxmfrko\nvjcijiqOHwXcV1V8ktTKTJAlqc1ERACfBm7OzI+WDl0C9Bfb/cBXmx2bJM0E3mpaktrPi4G3AVsi\n4rqi7DzgfODiiDgLuBN4Y0XxSVJLM0GWpDaTmd8FYpLDpzUzFkmaiSqbYhERyyPix8Ui9v+zVP6+\niBgqjv2nquKTJElSZ6pkBDkiXkFtPc7nZ+buiDiiKD8OeDPwXOB3gU0R8azMHKsiTkmSJHWeqkaQ\n3wWcn5m7ATJz/ErqM4CLMnN3Zt4ODAGnVBSjJEmSOlBVCfKzgJdGxFUR8a2IOLko7wHuKtXbVpQ9\nhgvZS5IkaTpM2xSLiNgE/M4Eh95fPO9TgFOBk6ldVX0sE19UkhO1n5nrgHUAixYtmrCOJEmStL+m\nLUHOzMWTHYuIdwFfzswEro6IPcDTqI0YH1OqejRw93TFKEmSJO2tqikW/w68EiAingU8HvgZtUXs\n3xwRh0TEM4CFwNUVxShJkqQIqhkrAAAM0klEQVQOVNU6yBcAF0TEDcBDQH8xmnxjRFwM3ASMAue4\ngoUkSZKaqZIEOTMfAv7rJMf+AfiH5kYkSZIk1VR2oxBJkiSpFZkgS5IkSSUmyJIkSVKJCbIkSZKa\nYmRkhBUrVjAyMlJ1KFMyQZYkSVJTDAwMsGXLFtavX191KFMyQZYkSdK0GxkZYXBwkMxkcHCwpUeR\nq1oHWZIk6WF3PtjFh645vCFt3buzNv535KF7GtLenQ92sbAhLXW2gYEB9uypvSdjY2OsX7+eVatW\nVRzVxEyQJUlSpXp7exva3kNDQwAc8vTGtLuQxsfYiTZt2sTo6CgAo6OjbNy40QRZkiRpIsuXL29o\neytXrgRg9erVDW1XB2fx4sVceumlZCYRwZIlS6oOaVLOQZYkSdK0O/3008lMADKT173udRVHNDlH\nkCVJKlm7di1DxUf0UxmvMz5aOZXe3t6Gj5JKM80ll1xCRDw8gnzppZe27BQLR5AlSToAc+bMYc6c\nOVWHIc0YmzZtetQI8saNGyuOaHKOIEuSVOJIrzQ9Fi9ezIYNGxgdHWX27NnOQZYkSVJn6+/vZ9as\nWurZ1dXF0qVLK45ocibIkiRJmnbd3d309fUREfT19dHd3V11SJNyioUkSZKaor+/n61bt7b06DGY\nIEuSJKlJuru7WbNmTdVh7JNTLCRJkqQSE2RJkiSpxARZktpMRFwQEfdFxA2lsqdGxMaIuLX4+pQq\nY5SkVmaCLEnt50Kgb6+yc4HLM3MhcHmxL0magAmyJLWZzPw28PO9is8ABortAeD1TQ1KkmYQE2RJ\n6gxHZuZ2gOLrEZNVjIhlEbE5Ijbv2LGjaQFKUqswQZYkPUpmrsvMRZm5aN68eVWHI0lNZ4IsSZ3h\n3og4CqD4el/F8UhSyzJBlqTOcAnQX2z3A1+tMBZJamkmyJLUZiLic8B/AM+OiG0RcRZwPrAkIm4F\nlhT7kqQJeKtpSWozmfmWSQ6d1tRAJGmGcgRZkiRJKjFBliRJkkpMkCVJkqQSE2RJkiSpxARZkiRJ\nKjFBliRJkkpMkCVJkqQSE2RJkiSppJIEOSJOiIjvR8R1EbE5Ik4pyiMi1kTEUERcHxEnVRGfJEmS\nOldVI8j/E/jbzDwB+O/FPsCrgYXFYxnwz9WEJ0mSpE5VVYKcwOHF9pOAu4vtM4D1WfN94MkRcVQV\nAUqSJKkzza7oed8DXBYR/0gtSX9RUd4D3FWqt60o2753AxGxjNooM/Pnz5/WYCVJktQ5pi1BjohN\nwO9McOj9wGnAqsz8UkT8F+DTwGIgJqifE7WfmeuAdQCLFi2asI4kSZK0v6YtQc7MxZMdi4j1wMpi\n9wvAvxbb24BjSlWP5pHpF5IkSdK0q2oO8t3AHxbbrwRuLbYvAZYWq1mcCvwqMx8zvUKSJEmaLlXN\nQX4nsDoiZgO/oZhLDGwAXgMMATuBd1QTniRJkjpVJSPImfndzPz9zHxBZv5BZv6wKM/MPCczn5mZ\nx2fm5iri08w3MjLCihUrGBkZqToUSZI0w3gnPbWlgYEBtmzZwvr166sORZIkzTAmyGo7IyMjDA4O\nkpkMDg46iixJkvZLVXOQpWkzMDDAnj17ABgbG2P9+vWsWrWq4qgkSQdr7dq1DA0N7bPeeJ2VK1fu\noyb09vayfPnyg45N7cURZLWdTZs2MTo6CsDo6CgbN26sOCJJUjPNmTOHOXPmVB2GZjBHkNV2Fi9e\nzIYNGxgdHWX27NksWbKk6pAkSQ3gSK+axRFktZ3+/n5mzar9aHd1dbF06dKKI5IkSTOJCbLaTnd3\nN319fUQEfX19dHd3Vx2SJEmaQZxiobbU39/P1q1bHT2WJEn7zQRZbam7u5s1a9ZUHYYkSZqBnGIh\nSZIklZggS1IHiYi+iPhxRAxFxLlVxyNJrcgEWZI6RER0AZ8EXg0cB7wlIo6rNipJaj0myJLUOU4B\nhjLztsx8CLgIOKPimCSp5ZggS1Ln6AHuKu1vK8okSSUmyJLUOWKCsnxMpYhlEbE5Ijbv2LGjCWFJ\nUmsxQZakzrENOKa0fzRw996VMnNdZi7KzEXz5s1rWnCS1Coi8zGDBzNOROwA7qg6jgZ6GvCzqoPQ\nhHxvWle7vTc/y8y+RjYYEbOBnwCnAcPAD4C3ZuaNU5zTTv1ru/2MtBPfm9bWTu9PXX1rW9woJDPb\naogjIjZn5qKq49Bj+d60Lt+bfcvM0Yh4N3AZ0AVcMFVyXJzTNv2rPyOty/emtXXi+9MWCbIkqT6Z\nuQHYUHUcktTKnIMsSZIklZggt6Z1VQegSfnetC7fG+2LPyOty/emtXXc+9MWF+lJkiRJjeIIsiRJ\nklRigixJkiSVmCBXKCLGIuK6iLghIr4QEYfuVX5jRPwoIv48InyvplHpez7+WFCUnxIRV0bErRFx\nTUT834g4vjj2gYgYLurfGhFfjojjqnwdM1lE/E5EXBQRP42ImyJiQ0Q86wDaec/479J+nndlRHTU\nMkbtyr61tdi/Vsu+9cDYMVRrV2aekJnPAx4C/myv8ucCS4DXAH9TVZAdYvx7Pv7YGhFHAhcD52Xm\nwsw8CfgfwDNL532sqL8Q+DzwzYhom3VjmyUiAvgKcGVmPjMzjwPOA448gObeA0zYiUdE14FHqRnE\nvrW12L9WxL71wJkgt47vAL17F2bmfcAy4N3FD7qa593AQGb+f+MFmfndzPz3iSpn5ueBbwBvbVJ8\n7eQVwG8z81PjBZl5HfDdiPhIMRK4JSLeBBARLy9GJb4YEbdExGejZgXwu8AVEXFFUffBiPi7iLgK\neGFEnBYR1xbtXRARh1TwetU89q2tyf61OexbD5AJcguI2u1fXw1smeh4Zt5G7b06oplxdZg5pY//\nvlKUPRe4Zj/buQb4vcaG1hGeB/xwgvL/DJwAvABYDHwkIo4qjp1IbUTjOOBY4MWZuQa4G3hFZr6i\nqHcYcENm/gGwGbgQeFNmHk/tZknvmpZXpMrZt7YM+9fq2LceIBPkas2JiOuo/WDdCXx6irqOcEyv\n8keAb5ioQkRcFRE3R8TqKdrxfWqslwCfy8yxzLwX+BZwcnHs6szclpl7gOuABZO0MQZ8qdh+NnB7\nZv6k2B8AXjYtkatK9q2txf619di37oO3mq7Wrsw8YV+VIuJYaj+I901/SCq5ETgJ+CpAZv5BRJwJ\nvHaKc06k9kdZ++dG4MwJyqf6g7i7tD3G5P3ZbzJzrI721D7sW1uf/Wtz2LceIEeQW1xxQcKngE+k\nd3Vptk8Cb4+IF5XKJr2CNyL+GHgV8LnpDqwNfRM4JCLeOV4QEScDvwDeFBFdxe/Cy4Cr99HWA8AT\nJzl2C7AgIsbnpL6N2siJOox9a+XsX5vDvvUAOYLcmsY/HnwcMAp8BvhotSF1nsy8p7hw4cMR0UNt\nlOlnwN+Vqq2KiP9KMRcLeGVm7mh+tDNbZmZEvAH4eEScC/wG2EptHtxc4EdAAn9ZvC9TzUNcB3w9\nIraX5sqNP89vIuIdwBeK+ak/oJYkqTPYt7YI+9fmsG89cN5qWpIkSSpxioUkSZJUYoIsSZIklZgg\nS5IkSSUmyJIkSVKJCbIkSZJUYoIsSZIklbgOstpSRIwBW3hkvdMB4OPFrTMlSQfAvlWdwgRZ7erh\nW81GxBHA/wGeBPxNpVFJ0sxm36qO4BQLtb3MvA9YBrw7av48Ii4AiIjjI+KGiJjwFqcR8YGIuCAi\nroyI2yJiRenYv0fEDyPixohYVip/MCI+XBzbFBGnlM4/vajTFREfiYgfRMT1EXH29H4XJKmx7FvV\nzkyQ1REy8zZqP+9HAB8Heovbb/4bcHZm7pzi9N8D/hNwCvA3EfG4ovxPM/P3gUXAiojoLsoPA64s\njj0AfBBYAryBR26jehbwq8w8GTgZeGdEPKMxr1aSmsO+Ve3KKRbqJAGQmXsi4u3A9cC/ZOb39nHe\n/83M3cDuiLgPOBLYRq3jfkNR5xhgITACPAQMFuVbgN2Z+duI2AIsKMpfBTw/Is4s9p9UnH/7wb1E\nSWo6+1a1HRNkdYSIOBYYA+4rihYCDwK/W8fpu0vbY8DsiHg5sBh4YWbujIgrgScUdX6bmVls7xk/\nv/jjMf47F8DyzLzswF6RJFXPvlXtyikWansRMQ/4FPCJzMyIeBKwGngZ0F0aadgfTwJ+UXTgvwec\nup/nXwa8a/wjxYh4VkQcdgBxSFIl7FvVzhxBVruaExHX8chSRJ8BPloc+xjwT5n5k4g4C7giIr5d\nXHBSr0HgzyLieuDHwPf3M75/pfaR4DUREcAO4PX72YYkNZt9qzpCPPJphSRJkiSnWEiSJEklTrGQ\ngIh4B7Byr+LvZeY5VcQjSe3AvlUzlVMsJEmSpBKnWEiSJEklJsiSJElSiQmyJEmSVGKCLEmSJJX8\n/9dGKkrb2AkfAAAAAElFTkSuQmCC\n",
          "text/plain": "<matplotlib.figure.Figure at 0x1a133c2b70>"
         },
         "metadata": {},
         "output_type": "display_data"
        }
       ]
      }
     },
     "ab3fe2d3bd3d4252a5b49605745698e8": {
      "model_module": "@jupyter-widgets/controls",
      "model_module_version": "1.0.0",
      "model_name": "DescriptionStyleModel",
      "state": {
       "description_width": ""
      }
     },
     "ac04f416f14545d0afad8ff6b88f2fb1": {
      "model_module": "@jupyter-widgets/controls",
      "model_module_version": "1.0.0",
      "model_name": "DescriptionStyleModel",
      "state": {
       "description_width": ""
      }
     },
     "ac58825b087a44bc98a80be683675c12": {
      "model_module": "@jupyter-widgets/controls",
      "model_module_version": "1.0.0",
      "model_name": "DropdownModel",
      "state": {
       "_options_labels": [
        "SubjID",
        "Dx",
        "Gait - Lower Limb - Gait Speed L (m/s) [mean]",
        "Gait - Lower Limb - Gait Speed R (m/s) [mean]",
        "GaitSpeed_LRmean_2minWalk",
        "GaitSpeed_LRstd_2minWalk",
        "Gait - Lower Limb - Stride Length L (m) [mean]",
        "Gait - Lower Limb - Stride Length R (m) [mean]",
        "StrideLength_LRmean_2minWalk",
        "StrideLength_LRstd_2minWalk",
        "Gait - Lower Limb - Double Support L (%GCT) [mean]",
        "Gait - Lower Limb - Double Support R (%GCT) [mean]",
        "DoubleSupportTime_LRmean_2minWalk",
        "DoubleSupportTime_LRstd_2minWalk",
        "Gait - Lower Limb - Foot Strike Angle L (degrees) [mean]",
        "Gait - Lower Limb - Foot Strike Angle R (degrees) [mean]",
        "FootStrikeAngle_LRmean_2minWalk",
        "FootStrikeAngle_LRstd_2minWalk",
        "Turn_Velocity_mean_2minWalk",
        "Steps_in_Turn_mean_2minWalk",
        "Gait - Lower Limb - Gait Speed L (m/s) [mean].1",
        "Gait - Lower Limb - Gait Speed R (m/s) [mean].1",
        "GaitSpeed_LRmean_1minDT",
        "GaitSpeed_LRstd_1minDT",
        "Gait - Lower Limb - Stride Length L (m) [mean].1",
        "Gait - Lower Limb - Stride Length R (m) [mean].1",
        "StrideLength_LRmean_1minDT",
        "StrideLength_LRstd_1minDT",
        "Gait - Lower Limb - Double Support L (%GCT) [mean].1",
        "Gait - Lower Limb - Double Support R (%GCT) [mean].1",
        "DoubleSupportTime_LRmean_1minDT",
        "DoubleSupportTime_LRstd_1minDT",
        "Gait - Lower Limb - Foot Strike Angle L (degrees) [mean].1",
        "Gait - Lower Limb - Foot Strike Angle R (degrees) [mean].1",
        "FootStrikeAngle_LRmean_1minDT",
        "FootStrikeAngle_LRstd_1minDT",
        "Turn_Velocity_mean_1minDT",
        "Steps_in_Turn_mean_1minDT",
        "GaitSpeed",
        "StrideLength",
        "DoubleSupportTime",
        "FootStrikeAngle",
        "TurnVelocity",
        "StepsInTurn",
        "Seated",
        "Longwalk",
        "Cog_DTC",
        "Dx_name"
       ],
       "description": "Group by:",
       "index": 47,
       "layout": "IPY_MODEL_bba735d1f0e249e19db7112714073315",
       "style": "IPY_MODEL_007dd5fc048f42ac9055c48912458d95"
      }
     },
     "ad2947cbaca44dce8c93183aa7b654b2": {
      "model_module": "@jupyter-widgets/controls",
      "model_module_version": "1.0.0",
      "model_name": "DescriptionStyleModel",
      "state": {
       "description_width": ""
      }
     },
     "ad6835002eef4a2bbff00bd77ec57b59": {
      "model_module": "@jupyter-widgets/base",
      "model_module_version": "1.0.0",
      "model_name": "LayoutModel",
      "state": {}
     },
     "ad7472cc613349d7affefcae8888895e": {
      "model_module": "@jupyter-widgets/controls",
      "model_module_version": "1.0.0",
      "model_name": "DescriptionStyleModel",
      "state": {
       "description_width": ""
      }
     },
     "ae4a7ece8b4f463494ca50cc5203ccf5": {
      "model_module": "@jupyter-widgets/base",
      "model_module_version": "1.0.0",
      "model_name": "LayoutModel",
      "state": {}
     },
     "af2d8f61f4bd464e9a4ac9cedf59080b": {
      "model_module": "@jupyter-widgets/controls",
      "model_module_version": "1.0.0",
      "model_name": "DescriptionStyleModel",
      "state": {
       "description_width": ""
      }
     },
     "af54e3c36c1543e4828df7b0bb25d6e8": {
      "model_module": "@jupyter-widgets/controls",
      "model_module_version": "1.0.0",
      "model_name": "SelectMultipleModel",
      "state": {
       "_options_labels": [
        "PD",
        "FGD",
        "Control"
       ],
       "description": "Select:",
       "index": [],
       "layout": "IPY_MODEL_02ffecc9481143e1a9b2e936a3b7dc1b",
       "rows": 5,
       "style": "IPY_MODEL_374d482bdc50478aa5db95a09dbb60f8"
      }
     },
     "b294fa0db634419d8810861aa87d8d6b": {
      "model_module": "@jupyter-widgets/controls",
      "model_module_version": "1.0.0",
      "model_name": "DescriptionStyleModel",
      "state": {
       "description_width": ""
      }
     },
     "b35e695fa501461d81e4182fa62ed405": {
      "model_module": "@jupyter-widgets/controls",
      "model_module_version": "1.0.0",
      "model_name": "DescriptionStyleModel",
      "state": {
       "description_width": ""
      }
     },
     "b65c826a18434f419b76af01fe5fc856": {
      "model_module": "@jupyter-widgets/controls",
      "model_module_version": "1.0.0",
      "model_name": "CheckboxModel",
      "state": {
       "description": "PD",
       "disabled": false,
       "layout": "IPY_MODEL_f8b6f2c2fc5d44f3917b07f1c99fbe7f",
       "style": "IPY_MODEL_df78c4fa832e4f7f9002442ae34c1ae3",
       "value": false
      }
     },
     "b899e49aa2b74db49792b486767e3f81": {
      "model_module": "@jupyter-widgets/base",
      "model_module_version": "1.0.0",
      "model_name": "LayoutModel",
      "state": {}
     },
     "b8ac74ad754e413e90edea3fa72f418b": {
      "model_module": "@jupyter-widgets/base",
      "model_module_version": "1.0.0",
      "model_name": "LayoutModel",
      "state": {}
     },
     "b917a9adc8e542319ff9922ef0827713": {
      "model_module": "@jupyter-widgets/controls",
      "model_module_version": "1.0.0",
      "model_name": "DescriptionStyleModel",
      "state": {
       "description_width": ""
      }
     },
     "badb33eb8fc64528a86005ea612bc8cf": {
      "model_module": "@jupyter-widgets/base",
      "model_module_version": "1.0.0",
      "model_name": "LayoutModel",
      "state": {
       "height": "800dpi"
      }
     },
     "bb594861f8fa421db5e02f388f6e6b9a": {
      "model_module": "@jupyter-widgets/base",
      "model_module_version": "1.0.0",
      "model_name": "LayoutModel",
      "state": {}
     },
     "bba735d1f0e249e19db7112714073315": {
      "model_module": "@jupyter-widgets/base",
      "model_module_version": "1.0.0",
      "model_name": "LayoutModel",
      "state": {}
     },
     "bce68e9efc1c4a49b2b9d2df2942323a": {
      "model_module": "@jupyter-widgets/controls",
      "model_module_version": "1.0.0",
      "model_name": "ToggleButtonsStyleModel",
      "state": {
       "_model_module": "@jupyter-widgets/controls",
       "button_width": ""
      }
     },
     "bd05e583d8b84993bac1769f0aa50f03": {
      "model_module": "@jupyter-widgets/base",
      "model_module_version": "1.0.0",
      "model_name": "LayoutModel",
      "state": {}
     },
     "bf7b04df8bdc48518a5e650da9016e84": {
      "model_module": "@jupyter-widgets/controls",
      "model_module_version": "1.0.0",
      "model_name": "ToggleButtonsStyleModel",
      "state": {
       "_model_module": "@jupyter-widgets/controls",
       "button_width": ""
      }
     },
     "bfb06cc4052941b7822f3ce64a3f7469": {
      "model_module": "@jupyter-widgets/base",
      "model_module_version": "1.0.0",
      "model_name": "LayoutModel",
      "state": {}
     },
     "bfb349765a224e8f8d31daf1134359f0": {
      "model_module": "@jupyter-widgets/controls",
      "model_module_version": "1.0.0",
      "model_name": "SelectMultipleModel",
      "state": {
       "_options_labels": [
        "SubjID",
        "Dx",
        "Gait - Lower Limb - Gait Speed L (m/s) [mean]",
        "Gait - Lower Limb - Gait Speed R (m/s) [mean]",
        "GaitSpeed_LRmean_2minWalk",
        "GaitSpeed_LRstd_2minWalk",
        "Gait - Lower Limb - Stride Length L (m) [mean]",
        "Gait - Lower Limb - Stride Length R (m) [mean]",
        "StrideLength_LRmean_2minWalk",
        "StrideLength_LRstd_2minWalk",
        "Gait - Lower Limb - Double Support L (%GCT) [mean]",
        "Gait - Lower Limb - Double Support R (%GCT) [mean]",
        "DoubleSupportTime_LRmean_2minWalk",
        "DoubleSupportTime_LRstd_2minWalk",
        "Gait - Lower Limb - Foot Strike Angle L (degrees) [mean]",
        "Gait - Lower Limb - Foot Strike Angle R (degrees) [mean]",
        "FootStrikeAngle_LRmean_2minWalk",
        "FootStrikeAngle_LRstd_2minWalk",
        "Turn_Velocity_mean_2minWalk",
        "Steps_in_Turn_mean_2minWalk",
        "Gait - Lower Limb - Gait Speed L (m/s) [mean].1",
        "Gait - Lower Limb - Gait Speed R (m/s) [mean].1",
        "GaitSpeed_LRmean_1minDT",
        "GaitSpeed_LRstd_1minDT",
        "Gait - Lower Limb - Stride Length L (m) [mean].1",
        "Gait - Lower Limb - Stride Length R (m) [mean].1",
        "StrideLength_LRmean_1minDT",
        "StrideLength_LRstd_1minDT",
        "Gait - Lower Limb - Double Support L (%GCT) [mean].1",
        "Gait - Lower Limb - Double Support R (%GCT) [mean].1",
        "DoubleSupportTime_LRmean_1minDT",
        "DoubleSupportTime_LRstd_1minDT",
        "Gait - Lower Limb - Foot Strike Angle L (degrees) [mean].1",
        "Gait - Lower Limb - Foot Strike Angle R (degrees) [mean].1",
        "FootStrikeAngle_LRmean_1minDT",
        "FootStrikeAngle_LRstd_1minDT",
        "Turn_Velocity_mean_1minDT",
        "Steps_in_Turn_mean_1minDT",
        "GaitSpeed",
        "StrideLength",
        "DoubleSupportTime",
        "FootStrikeAngle",
        "TurnVelocity",
        "StepsInTurn",
        "Seated",
        "Longwalk",
        "Cog_DTC",
        "Dx_name"
       ],
       "description": "Plot:",
       "index": [
        46,
        45
       ],
       "layout": "IPY_MODEL_08e33e8d2fb34e3e853397ce9dfa7682",
       "rows": 5,
       "style": "IPY_MODEL_df4d27f2e7e644f7a79a35926fd3d713"
      }
     },
     "bfffe6127ec04b7ab601e7daad2aaa4e": {
      "model_module": "@jupyter-widgets/controls",
      "model_module_version": "1.0.0",
      "model_name": "DescriptionStyleModel",
      "state": {
       "description_width": ""
      }
     },
     "c07e0b64fb9645a69f7576f6393ec86a": {
      "model_module": "@jupyter-widgets/output",
      "model_module_version": "1.0.0",
      "model_name": "OutputModel",
      "state": {
       "layout": "IPY_MODEL_8b963ce7ef334d068c4677d7a6b49aab",
       "outputs": [
        {
         "name": "stdout",
         "output_type": "stream",
         "text": "{'Longwalk', 'Cog_DTC'}\n()\nDx_name\nGrouping by:  Dx_name | Plotting:  ('Cog_DTC', 'Longwalk')\n"
        },
        {
         "data": {
          "image/png": "iVBORw0KGgoAAAANSUhEUgAAAjgAAAEYCAYAAABRMYxdAAAABHNCSVQICAgIfAhkiAAAAAlwSFlz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\nRU5ErkJggg==\n",
          "text/plain": "<matplotlib.figure.Figure at 0x1a121a2f60>"
         },
         "metadata": {},
         "output_type": "display_data"
        },
        {
         "data": {
          "image/png": "iVBORw0KGgoAAAANSUhEUgAAAsgAAAFgCAYAAACmDI9oAAAABHNCSVQICAgIfAhkiAAAAAlwSFlz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\n/9dGKkrb2AkfAAAAAElFTkSuQmCC\n",
          "text/plain": "<matplotlib.figure.Figure at 0x1a1323c550>"
         },
         "metadata": {},
         "output_type": "display_data"
        }
       ]
      }
     },
     "c0e43206ea3346db8072c4596e29873d": {
      "model_module": "@jupyter-widgets/base",
      "model_module_version": "1.0.0",
      "model_name": "LayoutModel",
      "state": {}
     },
     "c0eebbd629ad4f928c9cb9ea0a5160cc": {
      "model_module": "@jupyter-widgets/controls",
      "model_module_version": "1.0.0",
      "model_name": "DescriptionStyleModel",
      "state": {
       "description_width": ""
      }
     },
     "c1510dd178bb4e449441ed8d001596a0": {
      "model_module": "@jupyter-widgets/controls",
      "model_module_version": "1.0.0",
      "model_name": "DescriptionStyleModel",
      "state": {
       "description_width": ""
      }
     },
     "c27dcc00e9ad4b4ca8f0f9e3bfee83e5": {
      "model_module": "@jupyter-widgets/base",
      "model_module_version": "1.0.0",
      "model_name": "LayoutModel",
      "state": {}
     },
     "c3c7cb5b635743dba107c69f2511c61e": {
      "model_module": "@jupyter-widgets/controls",
      "model_module_version": "1.0.0",
      "model_name": "VBoxModel",
      "state": {
       "_dom_classes": [
        "widget-interact"
       ],
       "children": [
        "IPY_MODEL_78a18b6f8dad4d09aac89a95da08467b",
        "IPY_MODEL_ac58825b087a44bc98a80be683675c12",
        "IPY_MODEL_dc5b5151243d4b1bbb61c8d33d6e8caf",
        "IPY_MODEL_4cc60a87b34d4aabb593061b4a54ce0b"
       ],
       "layout": "IPY_MODEL_6213ca9755d84569b4236384e6a00d60"
      }
     },
     "c4b21d4649b54389837349744be5aca0": {
      "model_module": "@jupyter-widgets/base",
      "model_module_version": "1.0.0",
      "model_name": "LayoutModel",
      "state": {}
     },
     "c4fa5e88ae534e6a872050d469d2e0a4": {
      "model_module": "@jupyter-widgets/controls",
      "model_module_version": "1.0.0",
      "model_name": "VBoxModel",
      "state": {
       "_dom_classes": [
        "widget-interact"
       ],
       "children": [
        "IPY_MODEL_d0384c645c4045b3840925bbdb188b05",
        "IPY_MODEL_9322596e8d5c4be59205c21438acb053",
        "IPY_MODEL_48a13ee0caf54094a3a3dcec374a44ac",
        "IPY_MODEL_0f4f726346f3426780169cca083ab6c3",
        "IPY_MODEL_4c73e0f4ff5344ea8bb37c509414ea34"
       ],
       "layout": "IPY_MODEL_5b78490f9ab642a0b0e4a1f65e149a40"
      }
     },
     "c50c9685f1464764921f8b057b18757c": {
      "model_module": "@jupyter-widgets/output",
      "model_module_version": "1.0.0",
      "model_name": "OutputModel",
      "state": {
       "layout": "IPY_MODEL_01a4f41af43e4181a500d1f3255e6f50",
       "outputs": [
        {
         "name": "stdout",
         "output_type": "stream",
         "text": "{'Longwalk', 'Cog_DTC'}\n('PD', 'Control')\nGrouping by:  ('PD', 'Control') | Plotting:  ('Cog_DTC', 'Longwalk')\n"
        },
        {
         "ename": "ValueError",
         "evalue": "Neither the `x` nor `y` variable appears to be numeric.",
         "output_type": "error",
         "traceback": [
          "\u001b[0;31m---------------------------------------------------------------------------\u001b[0m",
          "\u001b[0;31mValueError\u001b[0m                                Traceback (most recent call last)",
          "\u001b[0;32m~/anaconda3/lib/python3.6/site-packages/ipywidgets/widgets/interaction.py\u001b[0m in \u001b[0;36mupdate\u001b[0;34m(self, *args)\u001b[0m\n\u001b[1;32m    248\u001b[0m                     \u001b[0mvalue\u001b[0m \u001b[0;34m=\u001b[0m \u001b[0mwidget\u001b[0m\u001b[0;34m.\u001b[0m\u001b[0mget_interact_value\u001b[0m\u001b[0;34m(\u001b[0m\u001b[0;34m)\u001b[0m\u001b[0;34m\u001b[0m\u001b[0m\n\u001b[1;32m    249\u001b[0m                     \u001b[0mself\u001b[0m\u001b[0;34m.\u001b[0m\u001b[0mkwargs\u001b[0m\u001b[0;34m[\u001b[0m\u001b[0mwidget\u001b[0m\u001b[0;34m.\u001b[0m\u001b[0m_kwarg\u001b[0m\u001b[0;34m]\u001b[0m \u001b[0;34m=\u001b[0m \u001b[0mvalue\u001b[0m\u001b[0;34m\u001b[0m\u001b[0m\n\u001b[0;32m--> 250\u001b[0;31m                 \u001b[0mself\u001b[0m\u001b[0;34m.\u001b[0m\u001b[0mresult\u001b[0m \u001b[0;34m=\u001b[0m \u001b[0mself\u001b[0m\u001b[0;34m.\u001b[0m\u001b[0mf\u001b[0m\u001b[0;34m(\u001b[0m\u001b[0;34m**\u001b[0m\u001b[0mself\u001b[0m\u001b[0;34m.\u001b[0m\u001b[0mkwargs\u001b[0m\u001b[0;34m)\u001b[0m\u001b[0;34m\u001b[0m\u001b[0m\n\u001b[0m\u001b[1;32m    251\u001b[0m                 \u001b[0mshow_inline_matplotlib_plots\u001b[0m\u001b[0;34m(\u001b[0m\u001b[0;34m)\u001b[0m\u001b[0;34m\u001b[0m\u001b[0m\n\u001b[1;32m    252\u001b[0m                 \u001b[0;32mif\u001b[0m \u001b[0mself\u001b[0m\u001b[0;34m.\u001b[0m\u001b[0mauto_display\u001b[0m \u001b[0;32mand\u001b[0m \u001b[0mself\u001b[0m\u001b[0;34m.\u001b[0m\u001b[0mresult\u001b[0m \u001b[0;32mis\u001b[0m \u001b[0;32mnot\u001b[0m \u001b[0;32mNone\u001b[0m\u001b[0;34m:\u001b[0m\u001b[0;34m\u001b[0m\u001b[0m\n",
          "\u001b[0;32m<ipython-input-15-d5edd27a106e>\u001b[0m in \u001b[0;36mcreate_graph\u001b[0;34m(plot_type, group_by, group, plot2)\u001b[0m\n\u001b[1;32m     25\u001b[0m         \u001b[0mplot_hist\u001b[0m\u001b[0;34m(\u001b[0m\u001b[0mplot2\u001b[0m\u001b[0;34m)\u001b[0m\u001b[0;34m\u001b[0m\u001b[0m\n\u001b[1;32m     26\u001b[0m         \u001b[0;32mif\u001b[0m \u001b[0;34m(\u001b[0m\u001b[0mlen\u001b[0m\u001b[0;34m(\u001b[0m\u001b[0mgroup_by\u001b[0m\u001b[0;34m)\u001b[0m \u001b[0;34m==\u001b[0m \u001b[0;36m2\u001b[0m\u001b[0;34m)\u001b[0m\u001b[0;34m:\u001b[0m \u001b[0;31m# hasn't been tested\u001b[0m\u001b[0;34m\u001b[0m\u001b[0m\n\u001b[0;32m---> 27\u001b[0;31m             \u001b[0msns\u001b[0m\u001b[0;34m.\u001b[0m\u001b[0mviolinplot\u001b[0m\u001b[0;34m(\u001b[0m\u001b[0mx\u001b[0m\u001b[0;34m=\u001b[0m\u001b[0mgroup_by\u001b[0m\u001b[0;34m,\u001b[0m\u001b[0my\u001b[0m\u001b[0;34m=\u001b[0m\u001b[0mplot2\u001b[0m\u001b[0;34m,\u001b[0m \u001b[0mhue\u001b[0m\u001b[0;34m=\u001b[0m\u001b[0mgroup_by\u001b[0m\u001b[0;34m,\u001b[0m \u001b[0mdata\u001b[0m\u001b[0;34m=\u001b[0m\u001b[0mdata\u001b[0m\u001b[0;34m,\u001b[0m \u001b[0msplit\u001b[0m\u001b[0;34m=\u001b[0m\u001b[0;32mTrue\u001b[0m\u001b[0;34m)\u001b[0m\u001b[0;34m\u001b[0m\u001b[0m\n\u001b[0m\u001b[1;32m     28\u001b[0m         \u001b[0;32melse\u001b[0m\u001b[0;34m:\u001b[0m\u001b[0;34m\u001b[0m\u001b[0m\n\u001b[1;32m     29\u001b[0m             \u001b[0mplot_graph\u001b[0m\u001b[0;34m(\u001b[0m\u001b[0mdata_rearranged\u001b[0m\u001b[0;34m,\u001b[0m \u001b[0mgroup_by\u001b[0m\u001b[0;34m,\u001b[0m \u001b[0;34m'violin'\u001b[0m\u001b[0;34m)\u001b[0m\u001b[0;34m\u001b[0m\u001b[0m\n",
          "\u001b[0;32m~/anaconda3/lib/python3.6/site-packages/seaborn/categorical.py\u001b[0m in \u001b[0;36mviolinplot\u001b[0;34m(x, y, hue, data, order, hue_order, bw, cut, scale, scale_hue, gridsize, width, inner, split, dodge, orient, linewidth, color, palette, saturation, ax, **kwargs)\u001b[0m\n\u001b[1;32m   2362\u001b[0m                              \u001b[0mbw\u001b[0m\u001b[0;34m,\u001b[0m \u001b[0mcut\u001b[0m\u001b[0;34m,\u001b[0m \u001b[0mscale\u001b[0m\u001b[0;34m,\u001b[0m \u001b[0mscale_hue\u001b[0m\u001b[0;34m,\u001b[0m \u001b[0mgridsize\u001b[0m\u001b[0;34m,\u001b[0m\u001b[0;34m\u001b[0m\u001b[0m\n\u001b[1;32m   2363\u001b[0m                              \u001b[0mwidth\u001b[0m\u001b[0;34m,\u001b[0m \u001b[0minner\u001b[0m\u001b[0;34m,\u001b[0m \u001b[0msplit\u001b[0m\u001b[0;34m,\u001b[0m \u001b[0mdodge\u001b[0m\u001b[0;34m,\u001b[0m \u001b[0morient\u001b[0m\u001b[0;34m,\u001b[0m \u001b[0mlinewidth\u001b[0m\u001b[0;34m,\u001b[0m\u001b[0;34m\u001b[0m\u001b[0m\n\u001b[0;32m-> 2364\u001b[0;31m                              color, palette, saturation)\n\u001b[0m\u001b[1;32m   2365\u001b[0m \u001b[0;34m\u001b[0m\u001b[0m\n\u001b[1;32m   2366\u001b[0m     \u001b[0;32mif\u001b[0m \u001b[0max\u001b[0m \u001b[0;32mis\u001b[0m \u001b[0;32mNone\u001b[0m\u001b[0;34m:\u001b[0m\u001b[0;34m\u001b[0m\u001b[0m\n",
          "\u001b[0;32m~/anaconda3/lib/python3.6/site-packages/seaborn/categorical.py\u001b[0m in \u001b[0;36m__init__\u001b[0;34m(self, x, y, hue, data, order, hue_order, bw, cut, scale, scale_hue, gridsize, width, inner, split, dodge, orient, linewidth, color, palette, saturation)\u001b[0m\n\u001b[1;32m    555\u001b[0m                  color, palette, saturation):\n\u001b[1;32m    556\u001b[0m \u001b[0;34m\u001b[0m\u001b[0m\n\u001b[0;32m--> 557\u001b[0;31m         \u001b[0mself\u001b[0m\u001b[0;34m.\u001b[0m\u001b[0mestablish_variables\u001b[0m\u001b[0;34m(\u001b[0m\u001b[0mx\u001b[0m\u001b[0;34m,\u001b[0m \u001b[0my\u001b[0m\u001b[0;34m,\u001b[0m \u001b[0mhue\u001b[0m\u001b[0;34m,\u001b[0m \u001b[0mdata\u001b[0m\u001b[0;34m,\u001b[0m \u001b[0morient\u001b[0m\u001b[0;34m,\u001b[0m \u001b[0morder\u001b[0m\u001b[0;34m,\u001b[0m \u001b[0mhue_order\u001b[0m\u001b[0;34m)\u001b[0m\u001b[0;34m\u001b[0m\u001b[0m\n\u001b[0m\u001b[1;32m    558\u001b[0m         \u001b[0mself\u001b[0m\u001b[0;34m.\u001b[0m\u001b[0mestablish_colors\u001b[0m\u001b[0;34m(\u001b[0m\u001b[0mcolor\u001b[0m\u001b[0;34m,\u001b[0m \u001b[0mpalette\u001b[0m\u001b[0;34m,\u001b[0m \u001b[0msaturation\u001b[0m\u001b[0;34m)\u001b[0m\u001b[0;34m\u001b[0m\u001b[0m\n\u001b[1;32m    559\u001b[0m         \u001b[0mself\u001b[0m\u001b[0;34m.\u001b[0m\u001b[0mestimate_densities\u001b[0m\u001b[0;34m(\u001b[0m\u001b[0mbw\u001b[0m\u001b[0;34m,\u001b[0m \u001b[0mcut\u001b[0m\u001b[0;34m,\u001b[0m \u001b[0mscale\u001b[0m\u001b[0;34m,\u001b[0m \u001b[0mscale_hue\u001b[0m\u001b[0;34m,\u001b[0m \u001b[0mgridsize\u001b[0m\u001b[0;34m)\u001b[0m\u001b[0;34m\u001b[0m\u001b[0m\n",
          "\u001b[0;32m~/anaconda3/lib/python3.6/site-packages/seaborn/categorical.py\u001b[0m in \u001b[0;36mestablish_variables\u001b[0;34m(self, x, y, hue, data, orient, order, hue_order, units)\u001b[0m\n\u001b[1;32m    152\u001b[0m \u001b[0;34m\u001b[0m\u001b[0m\n\u001b[1;32m    153\u001b[0m             \u001b[0;31m# Figure out the plotting orientation\u001b[0m\u001b[0;34m\u001b[0m\u001b[0;34m\u001b[0m\u001b[0m\n\u001b[0;32m--> 154\u001b[0;31m             \u001b[0morient\u001b[0m \u001b[0;34m=\u001b[0m \u001b[0mself\u001b[0m\u001b[0;34m.\u001b[0m\u001b[0minfer_orient\u001b[0m\u001b[0;34m(\u001b[0m\u001b[0mx\u001b[0m\u001b[0;34m,\u001b[0m \u001b[0my\u001b[0m\u001b[0;34m,\u001b[0m \u001b[0morient\u001b[0m\u001b[0;34m)\u001b[0m\u001b[0;34m\u001b[0m\u001b[0m\n\u001b[0m\u001b[1;32m    155\u001b[0m \u001b[0;34m\u001b[0m\u001b[0m\n\u001b[1;32m    156\u001b[0m             \u001b[0;31m# Option 2a:\u001b[0m\u001b[0;34m\u001b[0m\u001b[0;34m\u001b[0m\u001b[0m\n",
          "\u001b[0;32m~/anaconda3/lib/python3.6/site-packages/seaborn/categorical.py\u001b[0m in \u001b[0;36minfer_orient\u001b[0;34m(self, x, y, orient)\u001b[0m\n\u001b[1;32m    355\u001b[0m         \u001b[0;32melif\u001b[0m \u001b[0mis_not_numeric\u001b[0m\u001b[0;34m(\u001b[0m\u001b[0my\u001b[0m\u001b[0;34m)\u001b[0m\u001b[0;34m:\u001b[0m\u001b[0;34m\u001b[0m\u001b[0m\n\u001b[1;32m    356\u001b[0m             \u001b[0;32mif\u001b[0m \u001b[0mis_not_numeric\u001b[0m\u001b[0;34m(\u001b[0m\u001b[0mx\u001b[0m\u001b[0;34m)\u001b[0m\u001b[0;34m:\u001b[0m\u001b[0;34m\u001b[0m\u001b[0m\n\u001b[0;32m--> 357\u001b[0;31m                 \u001b[0;32mraise\u001b[0m \u001b[0mValueError\u001b[0m\u001b[0;34m(\u001b[0m\u001b[0mno_numeric\u001b[0m\u001b[0;34m)\u001b[0m\u001b[0;34m\u001b[0m\u001b[0m\n\u001b[0m\u001b[1;32m    358\u001b[0m             \u001b[0;32melse\u001b[0m\u001b[0;34m:\u001b[0m\u001b[0;34m\u001b[0m\u001b[0m\n\u001b[1;32m    359\u001b[0m                 \u001b[0;32mreturn\u001b[0m \u001b[0;34m\"h\"\u001b[0m\u001b[0;34m\u001b[0m\u001b[0m\n",
          "\u001b[0;31mValueError\u001b[0m: Neither the `x` nor `y` variable appears to be numeric."
         ]
        }
       ]
      }
     },
     "ca5354426ec642ccb0fe024983681852": {
      "model_module": "@jupyter-widgets/controls",
      "model_module_version": "1.0.0",
      "model_name": "VBoxModel",
      "state": {
       "_dom_classes": [
        "widget-interact"
       ],
       "children": [
        "IPY_MODEL_6dbd986d6c6344d1822f236da0b70c0a",
        "IPY_MODEL_4b006d62953a49a39eaee1e2401e009d",
        "IPY_MODEL_ec75153653154f1fa09bf1a5eb78ef60",
        "IPY_MODEL_3c269f19fa18444eb4d7ce707f9b5c17",
        "IPY_MODEL_ce013740a30f4e078cc68546c685c3ca"
       ],
       "layout": "IPY_MODEL_8e0f7c78fc2849358939eb4107a0769a"
      }
     },
     "cc867083f68a4fc5a99e2032f0643d1e": {
      "model_module": "@jupyter-widgets/controls",
      "model_module_version": "1.0.0",
      "model_name": "CheckboxModel",
      "state": {
       "description": "PD",
       "disabled": false,
       "layout": "IPY_MODEL_f707e4e470e948028cb6affb61cf662a",
       "style": "IPY_MODEL_7f5f4264ad8642cb8d691e349ec4ae0c",
       "value": false
      }
     },
     "ce013740a30f4e078cc68546c685c3ca": {
      "model_module": "@jupyter-widgets/output",
      "model_module_version": "1.0.0",
      "model_name": "OutputModel",
      "state": {
       "layout": "IPY_MODEL_1e02b7c2586140b0b17417957e3e302e",
       "outputs": [
        {
         "name": "stdout",
         "output_type": "stream",
         "text": "{'Longwalk', 'Cog_DTC'}\n()\nDx_name\nGrouping by:  Dx_name | Plotting:  ('Cog_DTC', 'Longwalk')\n"
        },
        {
         "data": {
          "image/png": "iVBORw0KGgoAAAANSUhEUgAAAjgAAAEYCAYAAABRMYxdAAAABHNCSVQICAgIfAhkiAAAAAlwSFlz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\nRU5ErkJggg==\n",
          "text/plain": "<matplotlib.figure.Figure at 0x1a1233ebe0>"
         },
         "metadata": {},
         "output_type": "display_data"
        },
        {
         "data": {
          "image/png": "iVBORw0KGgoAAAANSUhEUgAAAsgAAAFgCAYAAACmDI9oAAAABHNCSVQICAgIfAhkiAAAAAlwSFlz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\n/9dGKkrb2AkfAAAAAElFTkSuQmCC\n",
          "text/plain": "<matplotlib.figure.Figure at 0x1a132f8f28>"
         },
         "metadata": {},
         "output_type": "display_data"
        }
       ]
      }
     },
     "cfdff45526de497bbc263e4b3c000c03": {
      "model_module": "@jupyter-widgets/output",
      "model_module_version": "1.0.0",
      "model_name": "OutputModel",
      "state": {
       "layout": "IPY_MODEL_13d65717b3c14a8e8dd55e2e9def3235",
       "outputs": [
        {
         "name": "stdout",
         "output_type": "stream",
         "text": "{'Longwalk', 'Cog_DTC'}\nDx_name\nGrouping by:  Dx_name | Plotting:  ('Cog_DTC', 'Longwalk')\n"
        },
        {
         "data": {
          "image/png": "iVBORw0KGgoAAAANSUhEUgAAAjgAAAEYCAYAAABRMYxdAAAABHNCSVQICAgIfAhkiAAAAAlwSFlz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\nRU5ErkJggg==\n",
          "text/plain": "<matplotlib.figure.Figure at 0x1a1327e0b8>"
         },
         "metadata": {},
         "output_type": "display_data"
        },
        {
         "data": {
          "image/png": "iVBORw0KGgoAAAANSUhEUgAAAsgAAAFgCAYAAACmDI9oAAAABHNCSVQICAgIfAhkiAAAAAlwSFlz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\n/9dGKkrb2AkfAAAAAElFTkSuQmCC\n",
          "text/plain": "<matplotlib.figure.Figure at 0x1a12419b38>"
         },
         "metadata": {},
         "output_type": "display_data"
        }
       ]
      }
     },
     "d0384c645c4045b3840925bbdb188b05": {
      "model_module": "@jupyter-widgets/controls",
      "model_module_version": "1.0.0",
      "model_name": "ToggleButtonsModel",
      "state": {
       "_options_labels": [
        "boxplot",
        "swarmplot",
        "violinplot",
        "pairplot",
        "linear model"
       ],
       "button_style": "",
       "description": "Plot type:",
       "icons": [],
       "index": 2,
       "layout": "IPY_MODEL_d8d740aa299f4dc1ba60b77dab1d4020",
       "style": "IPY_MODEL_6e6501fa5a544e7db9fe57bb1e317211",
       "tooltips": []
      }
     },
     "d0bba15e7bff4173b3d67d0160733dbc": {
      "model_module": "@jupyter-widgets/controls",
      "model_module_version": "1.0.0",
      "model_name": "DropdownModel",
      "state": {
       "_options_labels": [
        "SubjID",
        "Dx",
        "Gait - Lower Limb - Gait Speed L (m/s) [mean]",
        "Gait - Lower Limb - Gait Speed R (m/s) [mean]",
        "GaitSpeed_LRmean_2minWalk",
        "GaitSpeed_LRstd_2minWalk",
        "Gait - Lower Limb - Stride Length L (m) [mean]",
        "Gait - Lower Limb - Stride Length R (m) [mean]",
        "StrideLength_LRmean_2minWalk",
        "StrideLength_LRstd_2minWalk",
        "Gait - Lower Limb - Double Support L (%GCT) [mean]",
        "Gait - Lower Limb - Double Support R (%GCT) [mean]",
        "DoubleSupportTime_LRmean_2minWalk",
        "DoubleSupportTime_LRstd_2minWalk",
        "Gait - Lower Limb - Foot Strike Angle L (degrees) [mean]",
        "Gait - Lower Limb - Foot Strike Angle R (degrees) [mean]",
        "FootStrikeAngle_LRmean_2minWalk",
        "FootStrikeAngle_LRstd_2minWalk",
        "Turn_Velocity_mean_2minWalk",
        "Steps_in_Turn_mean_2minWalk",
        "Gait - Lower Limb - Gait Speed L (m/s) [mean].1",
        "Gait - Lower Limb - Gait Speed R (m/s) [mean].1",
        "GaitSpeed_LRmean_1minDT",
        "GaitSpeed_LRstd_1minDT",
        "Gait - Lower Limb - Stride Length L (m) [mean].1",
        "Gait - Lower Limb - Stride Length R (m) [mean].1",
        "StrideLength_LRmean_1minDT",
        "StrideLength_LRstd_1minDT",
        "Gait - Lower Limb - Double Support L (%GCT) [mean].1",
        "Gait - Lower Limb - Double Support R (%GCT) [mean].1",
        "DoubleSupportTime_LRmean_1minDT",
        "DoubleSupportTime_LRstd_1minDT",
        "Gait - Lower Limb - Foot Strike Angle L (degrees) [mean].1",
        "Gait - Lower Limb - Foot Strike Angle R (degrees) [mean].1",
        "FootStrikeAngle_LRmean_1minDT",
        "FootStrikeAngle_LRstd_1minDT",
        "Turn_Velocity_mean_1minDT",
        "Steps_in_Turn_mean_1minDT",
        "GaitSpeed",
        "StrideLength",
        "DoubleSupportTime",
        "FootStrikeAngle",
        "TurnVelocity",
        "StepsInTurn",
        "Seated",
        "Longwalk",
        "Cog_DTC",
        "Dx_name"
       ],
       "description": "Group by:",
       "index": 47,
       "layout": "IPY_MODEL_0888eddec24546cab6bcfca37e6228ce",
       "style": "IPY_MODEL_8c04bc378f534184955c3f9014aae01b"
      }
     },
     "d1db8d22d1014e51b35c9c2cdffaa132": {
      "model_module": "@jupyter-widgets/controls",
      "model_module_version": "1.0.0",
      "model_name": "ToggleButtonsStyleModel",
      "state": {
       "_model_module": "@jupyter-widgets/controls",
       "button_width": ""
      }
     },
     "d3ff4b4f696d4c6d9058f3c46e369178": {
      "model_module": "@jupyter-widgets/controls",
      "model_module_version": "1.0.0",
      "model_name": "CheckboxModel",
      "state": {
       "description": "FGD",
       "disabled": false,
       "layout": "IPY_MODEL_a2944b54a3bd456aba488a635a1bf171",
       "style": "IPY_MODEL_b294fa0db634419d8810861aa87d8d6b",
       "value": false
      }
     },
     "d6967598aad14a44a986361c1b8b7c01": {
      "model_module": "@jupyter-widgets/controls",
      "model_module_version": "1.0.0",
      "model_name": "DescriptionStyleModel",
      "state": {
       "description_width": ""
      }
     },
     "d6aab7fccae341adb8221e18bb1a2af8": {
      "model_module": "@jupyter-widgets/controls",
      "model_module_version": "1.0.0",
      "model_name": "VBoxModel",
      "state": {
       "_dom_classes": [
        "widget-interact"
       ],
       "children": [
        "IPY_MODEL_5a2b44cf4d4946329f2b93e1e8febcdd",
        "IPY_MODEL_4b006d62953a49a39eaee1e2401e009d",
        "IPY_MODEL_7244f101bb12413da2c6fa7f66bff294",
        "IPY_MODEL_a48c0c7dcabc453c8b4c4b9183e32bdc",
        "IPY_MODEL_7e89b2b5b23d4bf9ad280e919e7ddc64"
       ],
       "layout": "IPY_MODEL_dfd4bcb52007454a8bfa04a3abd3f65e"
      }
     },
     "d6d4274e368949aabb67eea0cb45ebbc": {
      "model_module": "@jupyter-widgets/base",
      "model_module_version": "1.0.0",
      "model_name": "LayoutModel",
      "state": {}
     },
     "d71e3548713745979e59a70c107c54c0": {
      "model_module": "@jupyter-widgets/output",
      "model_module_version": "1.0.0",
      "model_name": "OutputModel",
      "state": {
       "layout": "IPY_MODEL_c4b21d4649b54389837349744be5aca0",
       "outputs": [
        {
         "name": "stdout",
         "output_type": "stream",
         "text": "<generator object updatePlot.<locals>.<genexpr> at 0x1a1228bfc0>\n"
        }
       ]
      }
     },
     "d8d740aa299f4dc1ba60b77dab1d4020": {
      "model_module": "@jupyter-widgets/base",
      "model_module_version": "1.0.0",
      "model_name": "LayoutModel",
      "state": {}
     },
     "da90d80ea92a4c68a99f17cac1fd9dfb": {
      "model_module": "@jupyter-widgets/controls",
      "model_module_version": "1.0.0",
      "model_name": "SelectMultipleModel",
      "state": {
       "_options_labels": [
        "SubjID",
        "Dx",
        "Gait - Lower Limb - Gait Speed L (m/s) [mean]",
        "Gait - Lower Limb - Gait Speed R (m/s) [mean]",
        "GaitSpeed_LRmean_2minWalk",
        "GaitSpeed_LRstd_2minWalk",
        "Gait - Lower Limb - Stride Length L (m) [mean]",
        "Gait - Lower Limb - Stride Length R (m) [mean]",
        "StrideLength_LRmean_2minWalk",
        "StrideLength_LRstd_2minWalk",
        "Gait - Lower Limb - Double Support L (%GCT) [mean]",
        "Gait - Lower Limb - Double Support R (%GCT) [mean]",
        "DoubleSupportTime_LRmean_2minWalk",
        "DoubleSupportTime_LRstd_2minWalk",
        "Gait - Lower Limb - Foot Strike Angle L (degrees) [mean]",
        "Gait - Lower Limb - Foot Strike Angle R (degrees) [mean]",
        "FootStrikeAngle_LRmean_2minWalk",
        "FootStrikeAngle_LRstd_2minWalk",
        "Turn_Velocity_mean_2minWalk",
        "Steps_in_Turn_mean_2minWalk",
        "Gait - Lower Limb - Gait Speed L (m/s) [mean].1",
        "Gait - Lower Limb - Gait Speed R (m/s) [mean].1",
        "GaitSpeed_LRmean_1minDT",
        "GaitSpeed_LRstd_1minDT",
        "Gait - Lower Limb - Stride Length L (m) [mean].1",
        "Gait - Lower Limb - Stride Length R (m) [mean].1",
        "StrideLength_LRmean_1minDT",
        "StrideLength_LRstd_1minDT",
        "Gait - Lower Limb - Double Support L (%GCT) [mean].1",
        "Gait - Lower Limb - Double Support R (%GCT) [mean].1",
        "DoubleSupportTime_LRmean_1minDT",
        "DoubleSupportTime_LRstd_1minDT",
        "Gait - Lower Limb - Foot Strike Angle L (degrees) [mean].1",
        "Gait - Lower Limb - Foot Strike Angle R (degrees) [mean].1",
        "FootStrikeAngle_LRmean_1minDT",
        "FootStrikeAngle_LRstd_1minDT",
        "Turn_Velocity_mean_1minDT",
        "Steps_in_Turn_mean_1minDT",
        "GaitSpeed",
        "StrideLength",
        "DoubleSupportTime",
        "FootStrikeAngle",
        "TurnVelocity",
        "StepsInTurn",
        "Seated",
        "Longwalk",
        "Cog_DTC",
        "Dx_name"
       ],
       "description": "Plot:",
       "index": [
        46,
        45
       ],
       "layout": "IPY_MODEL_ae4a7ece8b4f463494ca50cc5203ccf5",
       "rows": 5,
       "style": "IPY_MODEL_c1510dd178bb4e449441ed8d001596a0"
      }
     },
     "db0581c8d4474c8d91269a256b4cb6ee": {
      "model_module": "@jupyter-widgets/base",
      "model_module_version": "1.0.0",
      "model_name": "LayoutModel",
      "state": {}
     },
     "dc5b5151243d4b1bbb61c8d33d6e8caf": {
      "model_module": "@jupyter-widgets/controls",
      "model_module_version": "1.0.0",
      "model_name": "SelectMultipleModel",
      "state": {
       "_options_labels": [
        "SubjID",
        "Dx",
        "Gait - Lower Limb - Gait Speed L (m/s) [mean]",
        "Gait - Lower Limb - Gait Speed R (m/s) [mean]",
        "GaitSpeed_LRmean_2minWalk",
        "GaitSpeed_LRstd_2minWalk",
        "Gait - Lower Limb - Stride Length L (m) [mean]",
        "Gait - Lower Limb - Stride Length R (m) [mean]",
        "StrideLength_LRmean_2minWalk",
        "StrideLength_LRstd_2minWalk",
        "Gait - Lower Limb - Double Support L (%GCT) [mean]",
        "Gait - Lower Limb - Double Support R (%GCT) [mean]",
        "DoubleSupportTime_LRmean_2minWalk",
        "DoubleSupportTime_LRstd_2minWalk",
        "Gait - Lower Limb - Foot Strike Angle L (degrees) [mean]",
        "Gait - Lower Limb - Foot Strike Angle R (degrees) [mean]",
        "FootStrikeAngle_LRmean_2minWalk",
        "FootStrikeAngle_LRstd_2minWalk",
        "Turn_Velocity_mean_2minWalk",
        "Steps_in_Turn_mean_2minWalk",
        "Gait - Lower Limb - Gait Speed L (m/s) [mean].1",
        "Gait - Lower Limb - Gait Speed R (m/s) [mean].1",
        "GaitSpeed_LRmean_1minDT",
        "GaitSpeed_LRstd_1minDT",
        "Gait - Lower Limb - Stride Length L (m) [mean].1",
        "Gait - Lower Limb - Stride Length R (m) [mean].1",
        "StrideLength_LRmean_1minDT",
        "StrideLength_LRstd_1minDT",
        "Gait - Lower Limb - Double Support L (%GCT) [mean].1",
        "Gait - Lower Limb - Double Support R (%GCT) [mean].1",
        "DoubleSupportTime_LRmean_1minDT",
        "DoubleSupportTime_LRstd_1minDT",
        "Gait - Lower Limb - Foot Strike Angle L (degrees) [mean].1",
        "Gait - Lower Limb - Foot Strike Angle R (degrees) [mean].1",
        "FootStrikeAngle_LRmean_1minDT",
        "FootStrikeAngle_LRstd_1minDT",
        "Turn_Velocity_mean_1minDT",
        "Steps_in_Turn_mean_1minDT",
        "GaitSpeed",
        "StrideLength",
        "DoubleSupportTime",
        "FootStrikeAngle",
        "TurnVelocity",
        "StepsInTurn",
        "Seated",
        "Longwalk",
        "Cog_DTC",
        "Dx_name"
       ],
       "description": "Plot:",
       "index": [
        46,
        45
       ],
       "layout": "IPY_MODEL_4344e8a9d8e94a2b867ef7b694af8a7d",
       "rows": 5,
       "style": "IPY_MODEL_7c67a09480864b2ca172accf8d5e0219"
      }
     },
     "dc65f604df03497f9b328d293cd1bebb": {
      "model_module": "@jupyter-widgets/controls",
      "model_module_version": "1.0.0",
      "model_name": "DescriptionStyleModel",
      "state": {
       "description_width": ""
      }
     },
     "dd7682d0b1124e17a46d5556d758d29b": {
      "model_module": "@jupyter-widgets/controls",
      "model_module_version": "1.0.0",
      "model_name": "DescriptionStyleModel",
      "state": {
       "description_width": ""
      }
     },
     "deae2495a77145819408c49e18d6c33b": {
      "model_module": "@jupyter-widgets/base",
      "model_module_version": "1.0.0",
      "model_name": "LayoutModel",
      "state": {}
     },
     "df4d27f2e7e644f7a79a35926fd3d713": {
      "model_module": "@jupyter-widgets/controls",
      "model_module_version": "1.0.0",
      "model_name": "DescriptionStyleModel",
      "state": {
       "description_width": ""
      }
     },
     "df78c4fa832e4f7f9002442ae34c1ae3": {
      "model_module": "@jupyter-widgets/controls",
      "model_module_version": "1.0.0",
      "model_name": "DescriptionStyleModel",
      "state": {
       "description_width": ""
      }
     },
     "df8855743bf14738912afeacf4458e46": {
      "model_module": "@jupyter-widgets/base",
      "model_module_version": "1.0.0",
      "model_name": "LayoutModel",
      "state": {
       "height": "300dpi"
      }
     },
     "dfd4bcb52007454a8bfa04a3abd3f65e": {
      "model_module": "@jupyter-widgets/base",
      "model_module_version": "1.0.0",
      "model_name": "LayoutModel",
      "state": {}
     },
     "e03aff0604ca4898870fdd4f193ba35b": {
      "model_module": "@jupyter-widgets/controls",
      "model_module_version": "1.0.0",
      "model_name": "ToggleButtonsModel",
      "state": {
       "_options_labels": [
        "boxplot",
        "swarmplot",
        "violinplot",
        "pairplot",
        "linear model"
       ],
       "button_style": "",
       "description": "Plot type:",
       "icons": [],
       "index": 2,
       "layout": "IPY_MODEL_4dc803bd401349f0973543d8b7c37d2f",
       "style": "IPY_MODEL_28c983351a8b492fa4c2bf834af2ed79",
       "tooltips": []
      }
     },
     "e1ac2ff7579143148c227755ac3c8fdc": {
      "model_module": "@jupyter-widgets/controls",
      "model_module_version": "1.0.0",
      "model_name": "DescriptionStyleModel",
      "state": {
       "description_width": ""
      }
     },
     "e3421431c370427e8dc5a7d94e1e5818": {
      "model_module": "@jupyter-widgets/controls",
      "model_module_version": "1.0.0",
      "model_name": "VBoxModel",
      "state": {
       "_dom_classes": [
        "widget-interact"
       ],
       "children": [
        "IPY_MODEL_eb74597f7db74207a03d348c66afe636",
        "IPY_MODEL_0461df71617c4a1aaabd9fb6eb301226",
        "IPY_MODEL_49599a4d3c3b458196aab61402e0666e",
        "IPY_MODEL_3c5084d88fe34e2dac6a518e54ffcff5",
        "IPY_MODEL_2364ecf2b82f419b874ccb8c1341bb65"
       ],
       "layout": "IPY_MODEL_c0e43206ea3346db8072c4596e29873d"
      }
     },
     "e53ed66ce79643e8bb2906218a1bc657": {
      "model_module": "@jupyter-widgets/controls",
      "model_module_version": "1.0.0",
      "model_name": "DescriptionStyleModel",
      "state": {
       "description_width": ""
      }
     },
     "e7603ff409124604bfe96fb02b3e3a6c": {
      "model_module": "@jupyter-widgets/base",
      "model_module_version": "1.0.0",
      "model_name": "LayoutModel",
      "state": {}
     },
     "eb74597f7db74207a03d348c66afe636": {
      "model_module": "@jupyter-widgets/controls",
      "model_module_version": "1.0.0",
      "model_name": "ToggleButtonsModel",
      "state": {
       "_options_labels": [
        "boxplot",
        "swarmplot",
        "violinplot",
        "pairplot",
        "linear model"
       ],
       "button_style": "",
       "description": "Plot type:",
       "icons": [],
       "index": 2,
       "layout": "IPY_MODEL_b899e49aa2b74db49792b486767e3f81",
       "style": "IPY_MODEL_715f9850a32a44149b507a6cee5ec804",
       "tooltips": []
      }
     },
     "eb97c05f092d458fb0bf70d53d24fdf0": {
      "model_module": "@jupyter-widgets/controls",
      "model_module_version": "1.0.0",
      "model_name": "DescriptionStyleModel",
      "state": {
       "description_width": ""
      }
     },
     "ec75153653154f1fa09bf1a5eb78ef60": {
      "model_module": "@jupyter-widgets/controls",
      "model_module_version": "1.0.0",
      "model_name": "SelectMultipleModel",
      "state": {
       "_options_labels": [
        "PD",
        "FGD",
        "Control"
       ],
       "description": "Select:",
       "index": [],
       "layout": "IPY_MODEL_8b8de56854544455b60a508857acffac",
       "rows": 5,
       "style": "IPY_MODEL_324a61685dc646aab743e507515b9d93"
      }
     },
     "ec8ff0bfffca406a89f984571672b12d": {
      "model_module": "@jupyter-widgets/controls",
      "model_module_version": "1.0.0",
      "model_name": "TextModel",
      "state": {
       "layout": "IPY_MODEL_318892c9f8f547d19b6af51318ea6ece",
       "style": "IPY_MODEL_8faf41a99a37490abee51d8be48b986e"
      }
     },
     "eca000a92683405d8ea329f91d05fddb": {
      "model_module": "@jupyter-widgets/controls",
      "model_module_version": "1.0.0",
      "model_name": "DropdownModel",
      "state": {
       "_options_labels": [
        "SubjID",
        "Dx",
        "Gait - Lower Limb - Gait Speed L (m/s) [mean]",
        "Gait - Lower Limb - Gait Speed R (m/s) [mean]",
        "GaitSpeed_LRmean_2minWalk",
        "GaitSpeed_LRstd_2minWalk",
        "Gait - Lower Limb - Stride Length L (m) [mean]",
        "Gait - Lower Limb - Stride Length R (m) [mean]",
        "StrideLength_LRmean_2minWalk",
        "StrideLength_LRstd_2minWalk",
        "Gait - Lower Limb - Double Support L (%GCT) [mean]",
        "Gait - Lower Limb - Double Support R (%GCT) [mean]",
        "DoubleSupportTime_LRmean_2minWalk",
        "DoubleSupportTime_LRstd_2minWalk",
        "Gait - Lower Limb - Foot Strike Angle L (degrees) [mean]",
        "Gait - Lower Limb - Foot Strike Angle R (degrees) [mean]",
        "FootStrikeAngle_LRmean_2minWalk",
        "FootStrikeAngle_LRstd_2minWalk",
        "Turn_Velocity_mean_2minWalk",
        "Steps_in_Turn_mean_2minWalk",
        "Gait - Lower Limb - Gait Speed L (m/s) [mean].1",
        "Gait - Lower Limb - Gait Speed R (m/s) [mean].1",
        "GaitSpeed_LRmean_1minDT",
        "GaitSpeed_LRstd_1minDT",
        "Gait - Lower Limb - Stride Length L (m) [mean].1",
        "Gait - Lower Limb - Stride Length R (m) [mean].1",
        "StrideLength_LRmean_1minDT",
        "StrideLength_LRstd_1minDT",
        "Gait - Lower Limb - Double Support L (%GCT) [mean].1",
        "Gait - Lower Limb - Double Support R (%GCT) [mean].1",
        "DoubleSupportTime_LRmean_1minDT",
        "DoubleSupportTime_LRstd_1minDT",
        "Gait - Lower Limb - Foot Strike Angle L (degrees) [mean].1",
        "Gait - Lower Limb - Foot Strike Angle R (degrees) [mean].1",
        "FootStrikeAngle_LRmean_1minDT",
        "FootStrikeAngle_LRstd_1minDT",
        "Turn_Velocity_mean_1minDT",
        "Steps_in_Turn_mean_1minDT",
        "GaitSpeed",
        "StrideLength",
        "DoubleSupportTime",
        "FootStrikeAngle",
        "TurnVelocity",
        "StepsInTurn",
        "Seated",
        "Longwalk",
        "Cog_DTC",
        "Dx_name"
       ],
       "description": "Group by:",
       "index": 47,
       "layout": "IPY_MODEL_b8ac74ad754e413e90edea3fa72f418b",
       "style": "IPY_MODEL_dd7682d0b1124e17a46d5556d758d29b"
      }
     },
     "ecc363f759854b53a1c20f369f4009d1": {
      "model_module": "@jupyter-widgets/controls",
      "model_module_version": "1.0.0",
      "model_name": "ToggleButtonsModel",
      "state": {
       "_options_labels": [
        "boxplot",
        "swarmplot",
        "violinplot",
        "pairplot",
        "linear model"
       ],
       "button_style": "",
       "description": "Plot type:",
       "icons": [],
       "index": 0,
       "layout": "IPY_MODEL_8e69e378e6ce407db140f85f344145d2",
       "style": "IPY_MODEL_26a0011b363940158e5b80e02687e52c",
       "tooltips": []
      }
     },
     "edd707fe1d05403db0af3daa7a67bfe4": {
      "model_module": "@jupyter-widgets/base",
      "model_module_version": "1.0.0",
      "model_name": "LayoutModel",
      "state": {}
     },
     "ef80532683df4817813a04894514564d": {
      "model_module": "@jupyter-widgets/base",
      "model_module_version": "1.0.0",
      "model_name": "LayoutModel",
      "state": {}
     },
     "f13085916f8c4e699bcfa12230a44674": {
      "model_module": "@jupyter-widgets/controls",
      "model_module_version": "1.0.0",
      "model_name": "CheckboxModel",
      "state": {
       "description": "FGD",
       "disabled": false,
       "layout": "IPY_MODEL_f6b24f1d47ed40ca8ed3bcdd5dcb108a",
       "style": "IPY_MODEL_ac04f416f14545d0afad8ff6b88f2fb1",
       "value": false
      }
     },
     "f14823f6cf774fe8837c41720ce78710": {
      "model_module": "@jupyter-widgets/base",
      "model_module_version": "1.0.0",
      "model_name": "LayoutModel",
      "state": {
       "height": "300dpi"
      }
     },
     "f3055ad2474442df98ff4fe22750959d": {
      "model_module": "@jupyter-widgets/output",
      "model_module_version": "1.0.0",
      "model_name": "OutputModel",
      "state": {
       "layout": "IPY_MODEL_2fba96d14278413e805cc8d27575396c",
       "outputs": [
        {
         "name": "stdout",
         "output_type": "stream",
         "text": "{'Longwalk', 'Cog_DTC'}\n()\nDx_name\nGrouping by:  Dx_name | Plotting:  ('Cog_DTC', 'Longwalk')\n"
        },
        {
         "data": {
          "image/png": "iVBORw0KGgoAAAANSUhEUgAAAjgAAAEYCAYAAABRMYxdAAAABHNCSVQICAgIfAhkiAAAAAlwSFlz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\nRU5ErkJggg==\n",
          "text/plain": "<matplotlib.figure.Figure at 0x1a133c7940>"
         },
         "metadata": {},
         "output_type": "display_data"
        },
        {
         "data": {
          "image/png": "iVBORw0KGgoAAAANSUhEUgAAAsgAAAFgCAYAAACmDI9oAAAABHNCSVQICAgIfAhkiAAAAAlwSFlz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\n/9dGKkrb2AkfAAAAAElFTkSuQmCC\n",
          "text/plain": "<matplotlib.figure.Figure at 0x1a131b0c18>"
         },
         "metadata": {},
         "output_type": "display_data"
        }
       ]
      }
     },
     "f4b3e5a0798f4a2e8d4ed1e58221bb2c": {
      "model_module": "@jupyter-widgets/base",
      "model_module_version": "1.0.0",
      "model_name": "LayoutModel",
      "state": {}
     },
     "f5058266bcc84b1d9b83baa459b27cc3": {
      "model_module": "@jupyter-widgets/base",
      "model_module_version": "1.0.0",
      "model_name": "LayoutModel",
      "state": {}
     },
     "f541ccdfb7b74925a319a7d10bbe4f6b": {
      "model_module": "@jupyter-widgets/base",
      "model_module_version": "1.0.0",
      "model_name": "LayoutModel",
      "state": {}
     },
     "f6b24f1d47ed40ca8ed3bcdd5dcb108a": {
      "model_module": "@jupyter-widgets/base",
      "model_module_version": "1.0.0",
      "model_name": "LayoutModel",
      "state": {}
     },
     "f707e4e470e948028cb6affb61cf662a": {
      "model_module": "@jupyter-widgets/base",
      "model_module_version": "1.0.0",
      "model_name": "LayoutModel",
      "state": {}
     },
     "f7b667a0fb6946f490e25f6b69bfdc0b": {
      "model_module": "@jupyter-widgets/base",
      "model_module_version": "1.0.0",
      "model_name": "LayoutModel",
      "state": {}
     },
     "f82238673cd74195a9cd8d30d5ea5e3d": {
      "model_module": "@jupyter-widgets/base",
      "model_module_version": "1.0.0",
      "model_name": "LayoutModel",
      "state": {}
     },
     "f8513944382947fd9a8acf667a99e533": {
      "model_module": "@jupyter-widgets/controls",
      "model_module_version": "1.0.0",
      "model_name": "SelectMultipleModel",
      "state": {
       "_options_labels": [
        "SubjID",
        "Dx",
        "Gait - Lower Limb - Gait Speed L (m/s) [mean]",
        "Gait - Lower Limb - Gait Speed R (m/s) [mean]",
        "GaitSpeed_LRmean_2minWalk",
        "GaitSpeed_LRstd_2minWalk",
        "Gait - Lower Limb - Stride Length L (m) [mean]",
        "Gait - Lower Limb - Stride Length R (m) [mean]",
        "StrideLength_LRmean_2minWalk",
        "StrideLength_LRstd_2minWalk",
        "Gait - Lower Limb - Double Support L (%GCT) [mean]",
        "Gait - Lower Limb - Double Support R (%GCT) [mean]",
        "DoubleSupportTime_LRmean_2minWalk",
        "DoubleSupportTime_LRstd_2minWalk",
        "Gait - Lower Limb - Foot Strike Angle L (degrees) [mean]",
        "Gait - Lower Limb - Foot Strike Angle R (degrees) [mean]",
        "FootStrikeAngle_LRmean_2minWalk",
        "FootStrikeAngle_LRstd_2minWalk",
        "Turn_Velocity_mean_2minWalk",
        "Steps_in_Turn_mean_2minWalk",
        "Gait - Lower Limb - Gait Speed L (m/s) [mean].1",
        "Gait - Lower Limb - Gait Speed R (m/s) [mean].1",
        "GaitSpeed_LRmean_1minDT",
        "GaitSpeed_LRstd_1minDT",
        "Gait - Lower Limb - Stride Length L (m) [mean].1",
        "Gait - Lower Limb - Stride Length R (m) [mean].1",
        "StrideLength_LRmean_1minDT",
        "StrideLength_LRstd_1minDT",
        "Gait - Lower Limb - Double Support L (%GCT) [mean].1",
        "Gait - Lower Limb - Double Support R (%GCT) [mean].1",
        "DoubleSupportTime_LRmean_1minDT",
        "DoubleSupportTime_LRstd_1minDT",
        "Gait - Lower Limb - Foot Strike Angle L (degrees) [mean].1",
        "Gait - Lower Limb - Foot Strike Angle R (degrees) [mean].1",
        "FootStrikeAngle_LRmean_1minDT",
        "FootStrikeAngle_LRstd_1minDT",
        "Turn_Velocity_mean_1minDT",
        "Steps_in_Turn_mean_1minDT",
        "GaitSpeed",
        "StrideLength",
        "DoubleSupportTime",
        "FootStrikeAngle",
        "TurnVelocity",
        "StepsInTurn",
        "Seated",
        "Longwalk",
        "Cog_DTC",
        "Dx_name"
       ],
       "description": "Plot:",
       "index": [
        46,
        45
       ],
       "layout": "IPY_MODEL_0935e03769984393b21aeda69dfb95aa",
       "rows": 5,
       "style": "IPY_MODEL_24826e094db148d497eefeb002bd2a4a"
      }
     },
     "f8b6f2c2fc5d44f3917b07f1c99fbe7f": {
      "model_module": "@jupyter-widgets/base",
      "model_module_version": "1.0.0",
      "model_name": "LayoutModel",
      "state": {}
     },
     "fb48cb62d6e94f268c4fe87e680c3d69": {
      "model_module": "@jupyter-widgets/base",
      "model_module_version": "1.0.0",
      "model_name": "LayoutModel",
      "state": {}
     },
     "fc7724bd28604436bf298d86f534d732": {
      "model_module": "@jupyter-widgets/controls",
      "model_module_version": "1.0.0",
      "model_name": "CheckboxModel",
      "state": {
       "description": "Control",
       "disabled": false,
       "layout": "IPY_MODEL_02e3cbc4d5cc42cb857571877b828cf6",
       "style": "IPY_MODEL_7940335fa6364093a4b93eb7d0f08d20",
       "value": false
      }
     },
     "fca720ef77f449228049ab510486df22": {
      "model_module": "@jupyter-widgets/output",
      "model_module_version": "1.0.0",
      "model_name": "OutputModel",
      "state": {
       "layout": "IPY_MODEL_8e7f97386fba4e3c9f055b536bb628f4",
       "outputs": [
        {
         "name": "stdout",
         "output_type": "stream",
         "text": "{'Longwalk', 'Cog_DTC'}\n('PD', 'Control')\nGrouping by:  ('PD', 'Control') | Plotting:  ('Cog_DTC', 'Longwalk')\n"
        },
        {
         "ename": "ValueError",
         "evalue": "Neither the `x` nor `y` variable appears to be numeric.",
         "output_type": "error",
         "traceback": [
          "\u001b[0;31m---------------------------------------------------------------------------\u001b[0m",
          "\u001b[0;31mValueError\u001b[0m                                Traceback (most recent call last)",
          "\u001b[0;32m~/anaconda3/lib/python3.6/site-packages/ipywidgets/widgets/interaction.py\u001b[0m in \u001b[0;36mupdate\u001b[0;34m(self, *args)\u001b[0m\n\u001b[1;32m    248\u001b[0m                     \u001b[0mvalue\u001b[0m \u001b[0;34m=\u001b[0m \u001b[0mwidget\u001b[0m\u001b[0;34m.\u001b[0m\u001b[0mget_interact_value\u001b[0m\u001b[0;34m(\u001b[0m\u001b[0;34m)\u001b[0m\u001b[0;34m\u001b[0m\u001b[0m\n\u001b[1;32m    249\u001b[0m                     \u001b[0mself\u001b[0m\u001b[0;34m.\u001b[0m\u001b[0mkwargs\u001b[0m\u001b[0;34m[\u001b[0m\u001b[0mwidget\u001b[0m\u001b[0;34m.\u001b[0m\u001b[0m_kwarg\u001b[0m\u001b[0;34m]\u001b[0m \u001b[0;34m=\u001b[0m \u001b[0mvalue\u001b[0m\u001b[0;34m\u001b[0m\u001b[0m\n\u001b[0;32m--> 250\u001b[0;31m                 \u001b[0mself\u001b[0m\u001b[0;34m.\u001b[0m\u001b[0mresult\u001b[0m \u001b[0;34m=\u001b[0m \u001b[0mself\u001b[0m\u001b[0;34m.\u001b[0m\u001b[0mf\u001b[0m\u001b[0;34m(\u001b[0m\u001b[0;34m**\u001b[0m\u001b[0mself\u001b[0m\u001b[0;34m.\u001b[0m\u001b[0mkwargs\u001b[0m\u001b[0;34m)\u001b[0m\u001b[0;34m\u001b[0m\u001b[0m\n\u001b[0m\u001b[1;32m    251\u001b[0m                 \u001b[0mshow_inline_matplotlib_plots\u001b[0m\u001b[0;34m(\u001b[0m\u001b[0;34m)\u001b[0m\u001b[0;34m\u001b[0m\u001b[0m\n\u001b[1;32m    252\u001b[0m                 \u001b[0;32mif\u001b[0m \u001b[0mself\u001b[0m\u001b[0;34m.\u001b[0m\u001b[0mauto_display\u001b[0m \u001b[0;32mand\u001b[0m \u001b[0mself\u001b[0m\u001b[0;34m.\u001b[0m\u001b[0mresult\u001b[0m \u001b[0;32mis\u001b[0m \u001b[0;32mnot\u001b[0m \u001b[0;32mNone\u001b[0m\u001b[0;34m:\u001b[0m\u001b[0;34m\u001b[0m\u001b[0m\n",
          "\u001b[0;32m<ipython-input-19-d5edd27a106e>\u001b[0m in \u001b[0;36mcreate_graph\u001b[0;34m(plot_type, group_by, group, plot2)\u001b[0m\n\u001b[1;32m     25\u001b[0m         \u001b[0mplot_hist\u001b[0m\u001b[0;34m(\u001b[0m\u001b[0mplot2\u001b[0m\u001b[0;34m)\u001b[0m\u001b[0;34m\u001b[0m\u001b[0m\n\u001b[1;32m     26\u001b[0m         \u001b[0;32mif\u001b[0m \u001b[0;34m(\u001b[0m\u001b[0mlen\u001b[0m\u001b[0;34m(\u001b[0m\u001b[0mgroup_by\u001b[0m\u001b[0;34m)\u001b[0m \u001b[0;34m==\u001b[0m \u001b[0;36m2\u001b[0m\u001b[0;34m)\u001b[0m\u001b[0;34m:\u001b[0m \u001b[0;31m# hasn't been tested\u001b[0m\u001b[0;34m\u001b[0m\u001b[0m\n\u001b[0;32m---> 27\u001b[0;31m             \u001b[0msns\u001b[0m\u001b[0;34m.\u001b[0m\u001b[0mviolinplot\u001b[0m\u001b[0;34m(\u001b[0m\u001b[0mx\u001b[0m\u001b[0;34m=\u001b[0m\u001b[0mgroup_by\u001b[0m\u001b[0;34m,\u001b[0m\u001b[0my\u001b[0m\u001b[0;34m=\u001b[0m\u001b[0mplot2\u001b[0m\u001b[0;34m,\u001b[0m \u001b[0mhue\u001b[0m\u001b[0;34m=\u001b[0m\u001b[0mgroup_by\u001b[0m\u001b[0;34m,\u001b[0m \u001b[0mdata\u001b[0m\u001b[0;34m=\u001b[0m\u001b[0mdata\u001b[0m\u001b[0;34m,\u001b[0m \u001b[0msplit\u001b[0m\u001b[0;34m=\u001b[0m\u001b[0;32mTrue\u001b[0m\u001b[0;34m)\u001b[0m\u001b[0;34m\u001b[0m\u001b[0m\n\u001b[0m\u001b[1;32m     28\u001b[0m         \u001b[0;32melse\u001b[0m\u001b[0;34m:\u001b[0m\u001b[0;34m\u001b[0m\u001b[0m\n\u001b[1;32m     29\u001b[0m             \u001b[0mplot_graph\u001b[0m\u001b[0;34m(\u001b[0m\u001b[0mdata_rearranged\u001b[0m\u001b[0;34m,\u001b[0m \u001b[0mgroup_by\u001b[0m\u001b[0;34m,\u001b[0m \u001b[0;34m'violin'\u001b[0m\u001b[0;34m)\u001b[0m\u001b[0;34m\u001b[0m\u001b[0m\n",
          "\u001b[0;32m~/anaconda3/lib/python3.6/site-packages/seaborn/categorical.py\u001b[0m in \u001b[0;36mviolinplot\u001b[0;34m(x, y, hue, data, order, hue_order, bw, cut, scale, scale_hue, gridsize, width, inner, split, dodge, orient, linewidth, color, palette, saturation, ax, **kwargs)\u001b[0m\n\u001b[1;32m   2362\u001b[0m                              \u001b[0mbw\u001b[0m\u001b[0;34m,\u001b[0m \u001b[0mcut\u001b[0m\u001b[0;34m,\u001b[0m \u001b[0mscale\u001b[0m\u001b[0;34m,\u001b[0m \u001b[0mscale_hue\u001b[0m\u001b[0;34m,\u001b[0m \u001b[0mgridsize\u001b[0m\u001b[0;34m,\u001b[0m\u001b[0;34m\u001b[0m\u001b[0m\n\u001b[1;32m   2363\u001b[0m                              \u001b[0mwidth\u001b[0m\u001b[0;34m,\u001b[0m \u001b[0minner\u001b[0m\u001b[0;34m,\u001b[0m \u001b[0msplit\u001b[0m\u001b[0;34m,\u001b[0m \u001b[0mdodge\u001b[0m\u001b[0;34m,\u001b[0m \u001b[0morient\u001b[0m\u001b[0;34m,\u001b[0m \u001b[0mlinewidth\u001b[0m\u001b[0;34m,\u001b[0m\u001b[0;34m\u001b[0m\u001b[0m\n\u001b[0;32m-> 2364\u001b[0;31m                              color, palette, saturation)\n\u001b[0m\u001b[1;32m   2365\u001b[0m \u001b[0;34m\u001b[0m\u001b[0m\n\u001b[1;32m   2366\u001b[0m     \u001b[0;32mif\u001b[0m \u001b[0max\u001b[0m \u001b[0;32mis\u001b[0m \u001b[0;32mNone\u001b[0m\u001b[0;34m:\u001b[0m\u001b[0;34m\u001b[0m\u001b[0m\n",
          "\u001b[0;32m~/anaconda3/lib/python3.6/site-packages/seaborn/categorical.py\u001b[0m in \u001b[0;36m__init__\u001b[0;34m(self, x, y, hue, data, order, hue_order, bw, cut, scale, scale_hue, gridsize, width, inner, split, dodge, orient, linewidth, color, palette, saturation)\u001b[0m\n\u001b[1;32m    555\u001b[0m                  color, palette, saturation):\n\u001b[1;32m    556\u001b[0m \u001b[0;34m\u001b[0m\u001b[0m\n\u001b[0;32m--> 557\u001b[0;31m         \u001b[0mself\u001b[0m\u001b[0;34m.\u001b[0m\u001b[0mestablish_variables\u001b[0m\u001b[0;34m(\u001b[0m\u001b[0mx\u001b[0m\u001b[0;34m,\u001b[0m \u001b[0my\u001b[0m\u001b[0;34m,\u001b[0m \u001b[0mhue\u001b[0m\u001b[0;34m,\u001b[0m \u001b[0mdata\u001b[0m\u001b[0;34m,\u001b[0m \u001b[0morient\u001b[0m\u001b[0;34m,\u001b[0m \u001b[0morder\u001b[0m\u001b[0;34m,\u001b[0m \u001b[0mhue_order\u001b[0m\u001b[0;34m)\u001b[0m\u001b[0;34m\u001b[0m\u001b[0m\n\u001b[0m\u001b[1;32m    558\u001b[0m         \u001b[0mself\u001b[0m\u001b[0;34m.\u001b[0m\u001b[0mestablish_colors\u001b[0m\u001b[0;34m(\u001b[0m\u001b[0mcolor\u001b[0m\u001b[0;34m,\u001b[0m \u001b[0mpalette\u001b[0m\u001b[0;34m,\u001b[0m \u001b[0msaturation\u001b[0m\u001b[0;34m)\u001b[0m\u001b[0;34m\u001b[0m\u001b[0m\n\u001b[1;32m    559\u001b[0m         \u001b[0mself\u001b[0m\u001b[0;34m.\u001b[0m\u001b[0mestimate_densities\u001b[0m\u001b[0;34m(\u001b[0m\u001b[0mbw\u001b[0m\u001b[0;34m,\u001b[0m \u001b[0mcut\u001b[0m\u001b[0;34m,\u001b[0m \u001b[0mscale\u001b[0m\u001b[0;34m,\u001b[0m \u001b[0mscale_hue\u001b[0m\u001b[0;34m,\u001b[0m \u001b[0mgridsize\u001b[0m\u001b[0;34m)\u001b[0m\u001b[0;34m\u001b[0m\u001b[0m\n",
          "\u001b[0;32m~/anaconda3/lib/python3.6/site-packages/seaborn/categorical.py\u001b[0m in \u001b[0;36mestablish_variables\u001b[0;34m(self, x, y, hue, data, orient, order, hue_order, units)\u001b[0m\n\u001b[1;32m    152\u001b[0m \u001b[0;34m\u001b[0m\u001b[0m\n\u001b[1;32m    153\u001b[0m             \u001b[0;31m# Figure out the plotting orientation\u001b[0m\u001b[0;34m\u001b[0m\u001b[0;34m\u001b[0m\u001b[0m\n\u001b[0;32m--> 154\u001b[0;31m             \u001b[0morient\u001b[0m \u001b[0;34m=\u001b[0m \u001b[0mself\u001b[0m\u001b[0;34m.\u001b[0m\u001b[0minfer_orient\u001b[0m\u001b[0;34m(\u001b[0m\u001b[0mx\u001b[0m\u001b[0;34m,\u001b[0m \u001b[0my\u001b[0m\u001b[0;34m,\u001b[0m \u001b[0morient\u001b[0m\u001b[0;34m)\u001b[0m\u001b[0;34m\u001b[0m\u001b[0m\n\u001b[0m\u001b[1;32m    155\u001b[0m \u001b[0;34m\u001b[0m\u001b[0m\n\u001b[1;32m    156\u001b[0m             \u001b[0;31m# Option 2a:\u001b[0m\u001b[0;34m\u001b[0m\u001b[0;34m\u001b[0m\u001b[0m\n",
          "\u001b[0;32m~/anaconda3/lib/python3.6/site-packages/seaborn/categorical.py\u001b[0m in \u001b[0;36minfer_orient\u001b[0;34m(self, x, y, orient)\u001b[0m\n\u001b[1;32m    355\u001b[0m         \u001b[0;32melif\u001b[0m \u001b[0mis_not_numeric\u001b[0m\u001b[0;34m(\u001b[0m\u001b[0my\u001b[0m\u001b[0;34m)\u001b[0m\u001b[0;34m:\u001b[0m\u001b[0;34m\u001b[0m\u001b[0m\n\u001b[1;32m    356\u001b[0m             \u001b[0;32mif\u001b[0m \u001b[0mis_not_numeric\u001b[0m\u001b[0;34m(\u001b[0m\u001b[0mx\u001b[0m\u001b[0;34m)\u001b[0m\u001b[0;34m:\u001b[0m\u001b[0;34m\u001b[0m\u001b[0m\n\u001b[0;32m--> 357\u001b[0;31m                 \u001b[0;32mraise\u001b[0m \u001b[0mValueError\u001b[0m\u001b[0;34m(\u001b[0m\u001b[0mno_numeric\u001b[0m\u001b[0;34m)\u001b[0m\u001b[0;34m\u001b[0m\u001b[0m\n\u001b[0m\u001b[1;32m    358\u001b[0m             \u001b[0;32melse\u001b[0m\u001b[0;34m:\u001b[0m\u001b[0;34m\u001b[0m\u001b[0m\n\u001b[1;32m    359\u001b[0m                 \u001b[0;32mreturn\u001b[0m \u001b[0;34m\"h\"\u001b[0m\u001b[0;34m\u001b[0m\u001b[0m\n",
          "\u001b[0;31mValueError\u001b[0m: Neither the `x` nor `y` variable appears to be numeric."
         ]
        }
       ]
      }
     },
     "ff5db0a1ede44e269d733dcf111fe47e": {
      "model_module": "@jupyter-widgets/base",
      "model_module_version": "1.0.0",
      "model_name": "LayoutModel",
      "state": {}
     }
    },
    "version_major": 2,
    "version_minor": 0
   }
  }
 },
 "nbformat": 4,
 "nbformat_minor": 2
}
